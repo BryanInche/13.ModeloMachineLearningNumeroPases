{
 "cells": [
  {
   "cell_type": "markdown",
   "metadata": {},
   "source": [
    "# Modelamiento de Modelos de Machine Learning "
   ]
  },
  {
   "cell_type": "markdown",
   "metadata": {},
   "source": [
    "Librerias a utilizar en la creacion de modelos"
   ]
  },
  {
   "cell_type": "code",
   "execution_count": 1,
   "metadata": {},
   "outputs": [],
   "source": [
    "import pandas as pd\n",
    "from sklearn.model_selection import train_test_split\n",
    "from sklearn.linear_model import LinearRegression\n",
    "from sklearn import metrics\n",
    "import statsmodels.api as sm\n",
    "import matplotlib.pyplot as plt\n",
    "import seaborn as sns\n",
    "import numpy as np\n",
    "from sklearn.ensemble import RandomForestRegressor\n",
    "from sklearn.metrics import mean_squared_error, r2_score\n",
    "import xgboost as xgb\n",
    "from sklearn.model_selection import GridSearchCV\n",
    "from sklearn.svm import SVR\n",
    "\n",
    "import streamlit as st\n",
    "import joblib"
   ]
  },
  {
   "cell_type": "code",
   "execution_count": 2,
   "metadata": {},
   "outputs": [
    {
     "name": "stdout",
     "output_type": "stream",
     "text": [
      "WARNING:tensorflow:From c:\\Users\\BryanInche-MS4M\\anaconda3\\Lib\\site-packages\\keras\\src\\losses.py:2976: The name tf.losses.sparse_softmax_cross_entropy is deprecated. Please use tf.compat.v1.losses.sparse_softmax_cross_entropy instead.\n",
      "\n"
     ]
    }
   ],
   "source": [
    "import tensorflow as tf\n",
    "#Librerias para redes neuronales(secuencial)\n",
    "from tensorflow.keras.models import Sequential\n",
    "#Capa completamente conectada\n",
    "from tensorflow.keras.layers import Dense, Normalization\n",
    "#Optimizador\n",
    "from tensorflow.keras.optimizers import Adam\n",
    "from sklearn.preprocessing import StandardScaler"
   ]
  },
  {
   "cell_type": "markdown",
   "metadata": {},
   "source": [
    "### 1. Leer y unificar las Fuente de Datos"
   ]
  },
  {
   "cell_type": "code",
   "execution_count": 65,
   "metadata": {},
   "outputs": [
    {
     "name": "stderr",
     "output_type": "stream",
     "text": [
      "C:\\Users\\BryanInche-MS4M\\AppData\\Local\\Temp\\ipykernel_24468\\3478214580.py:4: FutureWarning: The argument 'date_parser' is deprecated and will be removed in a future version. Please use 'date_format' instead, or read your data in as 'object' dtype and then call 'to_datetime'.\n",
      "  datos_turno1 = pd.read_csv('datos_turno1_listo_para_analisis.csv', parse_dates=['tiempo_llegada_camion','tiempo_esperando_camion_en_locacion',\n",
      "C:\\Users\\BryanInche-MS4M\\AppData\\Local\\Temp\\ipykernel_24468\\3478214580.py:12: FutureWarning: The argument 'date_parser' is deprecated and will be removed in a future version. Please use 'date_format' instead, or read your data in as 'object' dtype and then call 'to_datetime'.\n",
      "  datos_turno2 = pd.read_csv('datos_turno2_listo_para_analisis.csv', parse_dates=['tiempo_llegada_camion','tiempo_esperando_camion_en_locacion',\n"
     ]
    }
   ],
   "source": [
    "import pandas as pd\n",
    "\n",
    "# Cargar datos (asegúrate de tener la ruta correcta al archivo CSV)\n",
    "datos_turno1 = pd.read_csv('datos_turno1_listo_para_analisis.csv', parse_dates=['tiempo_llegada_camion','tiempo_esperando_camion_en_locacion',\n",
    "                 'tiempo_cuadra_camion', 'tiempo_cuadrado_camion', 'tiempo_cargar_al_camion', 'tiempo_acarreo_camion', \n",
    "                 'tiempo_cola_camion_en_zonadescarga', 'tiempo_retroceso_para_descargar',\n",
    "                 'tiempo_listo_para_descargar', 'tiempo_descarga_camion', 'tiempo_viajando_vacio_locacion','tiempo_inicio_carga_carguio',\n",
    "                 'tiempo_esperando_carguio','tiempo_previous_esperando_pala',\n",
    "                  'tiempo_inicio_cambio_estado_camion','tiempo_inicio_cambio_estado_pala'], date_parser=lambda x: pd.to_datetime(x, format='%Y-%m-%d %H:%M:%S.%f%z'))\n",
    "\n",
    "# Cargar datos (asegúrate de tener la ruta correcta al archivo CSV)\n",
    "datos_turno2 = pd.read_csv('datos_turno2_listo_para_analisis.csv', parse_dates=['tiempo_llegada_camion','tiempo_esperando_camion_en_locacion',\n",
    "                 'tiempo_cuadra_camion', 'tiempo_cuadrado_camion', 'tiempo_cargar_al_camion', 'tiempo_acarreo_camion', \n",
    "                 'tiempo_cola_camion_en_zonadescarga', 'tiempo_retroceso_para_descargar',\n",
    "                 'tiempo_listo_para_descargar', 'tiempo_descarga_camion', 'tiempo_viajando_vacio_locacion','tiempo_inicio_carga_carguio',\n",
    "                 'tiempo_esperando_carguio','tiempo_previous_esperando_pala',\n",
    "                 'tiempo_inicio_cambio_estado_camion','tiempo_inicio_cambio_estado_pala'], date_parser=lambda x: pd.to_datetime(x, format='%Y-%m-%d %H:%M:%S.%f%z'))"
   ]
  },
  {
   "cell_type": "code",
   "execution_count": 42,
   "metadata": {},
   "outputs": [],
   "source": [
    "# Crear una nueva columna que indique si las fechas son iguales hasta minutos\n",
    "#datos_turno1['comparacion'] = datos_turno1['tiempo_cuadrado_camion'].dt.floor('min') == datos_turno1['tiempo_inicio_carga_carguio'].dt.floor('min')\n",
    "\n",
    "# Mostrar el resultado\n",
    "#print(datos_turno1[['tiempo_cuadrado_camion', 'tiempo_inicio_carga_carguio', 'comparacion']])"
   ]
  },
  {
   "cell_type": "code",
   "execution_count": 3,
   "metadata": {},
   "outputs": [],
   "source": [
    "#Configuramos pandas para que podamos vizualizar todas las columnas y filas la estadistica descriptiva de todas las variables\n",
    "pd.set_option('display.max_columns', None)\n",
    "pd.set_option('display.expand_frame_repr', False)\n",
    "pd.set_option('display.max_colwidth', None)\n",
    "pd.set_option('display.max_rows', None)\n",
    "pd.set_option('display.width', None)\n",
    "#Configuramos pandas para que lanze valores con una precision de hasta 6 decimales\n",
    "pd.set_option('display.float_format', '{:.6f}'.format)"
   ]
  },
  {
   "cell_type": "code",
   "execution_count": 67,
   "metadata": {},
   "outputs": [],
   "source": [
    "# 1. Recoleccion de fuentes de datos\n",
    "datos_turno1 = datos_turno1[['tonelaje_inicial_poligono_creado',\n",
    "'radiohexagonocuchara_equipocarguio',\n",
    "'capacidad_en_volumen_equipo_carguio_m3',\n",
    "'capacidad_en_peso_equipo_carguio',\n",
    "'capacidad_en_peso_equipo_acarreo',\n",
    "'tiempo_estimado_duracion_estado_pala',\n",
    "'radio_locacion_metros',\n",
    "'tiempo_ready_llegada_esperando',\n",
    "'tiempo_ready_esperando_cuadra',\n",
    "'tonelaje_camion_antes_cargaestabilizada',\n",
    "'angulo_giro_promedio_pases', 'tonelaje_segun_computadora',\n",
    "'id_equipo_camion', 'id_equipo_carguio',\n",
    "'densidad_inicial_poligono_creado_tn/m3','numero_pases_carguio', 'productividad_operativa_acarreo_tn_h',\n",
    "'tiempo_llegada_camion',\n",
    "'tiempo_ready_cuadra_cuadrado',\n",
    "'tiempo_ready_cuadrado_cargado',\n",
    "'tiempo_ready_carga_acarreo',\n",
    "'tiempo_ready_acarreo_cola',\n",
    " 'tiempo_ready_cola_retro',\n",
    " 'tiempo_ready_retro_listo',\n",
    " 'tiempo_ready_listo_descarga',\n",
    " 'tiempo_ready_descarga_viajandovacio',\n",
    " 'tiempo_ready_cargando_pala',\n",
    " 'tiempo_ready_esperando_pala',\n",
    "'productividad_operativa_carguio_tn_h',\n",
    "'al_termino_cargar_en_espera_cuadrado_cuadrandose',\n",
    "'factor',\n",
    "'capacidad_en_volumen_equipo_acarreo_m3']]\n",
    "\n",
    "datos_turno2 = datos_turno2[['tonelaje_inicial_poligono_creado',\n",
    "'radiohexagonocuchara_equipocarguio',\n",
    "'capacidad_en_volumen_equipo_carguio_m3',\n",
    "'capacidad_en_peso_equipo_carguio',\n",
    "'capacidad_en_peso_equipo_acarreo',\n",
    "'tiempo_estimado_duracion_estado_pala',\n",
    "'radio_locacion_metros',\n",
    "'tiempo_ready_llegada_esperando',\n",
    "'tiempo_ready_esperando_cuadra',\n",
    "'tonelaje_camion_antes_cargaestabilizada',\n",
    "'angulo_giro_promedio_pases', 'tonelaje_segun_computadora',\n",
    "'id_equipo_camion', 'id_equipo_carguio',\n",
    "'densidad_inicial_poligono_creado_tn/m3','numero_pases_carguio', 'productividad_operativa_acarreo_tn_h',\n",
    "'tiempo_llegada_camion',\n",
    "'tiempo_ready_cuadra_cuadrado',\n",
    "'tiempo_ready_cuadrado_cargado',\n",
    "'tiempo_ready_carga_acarreo',\n",
    "'tiempo_ready_acarreo_cola',\n",
    " 'tiempo_ready_cola_retro',\n",
    " 'tiempo_ready_retro_listo',\n",
    " 'tiempo_ready_listo_descarga',\n",
    " 'tiempo_ready_descarga_viajandovacio',\n",
    " 'tiempo_ready_cargando_pala',\n",
    " 'tiempo_ready_esperando_pala',\n",
    "'productividad_operativa_carguio_tn_h',\n",
    "'al_termino_cargar_en_espera_cuadrado_cuadrandose',\n",
    "'factor',\n",
    "'capacidad_en_volumen_equipo_acarreo_m3']]\n",
    "\n",
    "# 2. Limpieza y preprocesamiento de datos\n",
    "\n",
    "#- Redondeamos el valor del tonelaje inicial, a un solo decimal\n",
    "datos_turno1['tonelaje_inicial_poligono_creado'] = datos_turno1['tonelaje_inicial_poligono_creado'].round(1)\n",
    "datos_turno2['tonelaje_inicial_poligono_creado'] = datos_turno2['tonelaje_inicial_poligono_creado'].round(1)\n",
    "\n",
    "#- Convertimos de float a int64 la variable id_equipo_carguio\n",
    "datos_turno1['id_equipo_carguio'] = datos_turno1['id_equipo_carguio'].round(0).astype('int64')\n",
    "datos_turno2['id_equipo_carguio'] = datos_turno2['id_equipo_carguio'].round(0).astype('int64')\n",
    "\n",
    "#- Concatenar dataframes verticalmente\n",
    "df_resultado = pd.concat([datos_turno1, datos_turno2], ignore_index=True)\n",
    "\n",
    "#- Guardamos el df en un archivo csv\n",
    "df_resultado.to_csv('datos_modelo_qwin1_vf.csv', index=False)"
   ]
  },
  {
   "cell_type": "markdown",
   "metadata": {},
   "source": [
    "Cargamos los datos que utilizaremos para los distintos experimentos del modelo de Ml y Dl"
   ]
  },
  {
   "cell_type": "code",
   "execution_count": 75,
   "metadata": {},
   "outputs": [
    {
     "name": "stderr",
     "output_type": "stream",
     "text": [
      "C:\\Users\\BryanInche-MS4M\\AppData\\Local\\Temp\\ipykernel_24468\\700419467.py:1: FutureWarning: The argument 'date_parser' is deprecated and will be removed in a future version. Please use 'date_format' instead, or read your data in as 'object' dtype and then call 'to_datetime'.\n",
      "  datos = pd.read_csv('datos_modelo_qwin1_vf.csv', parse_dates=['tiempo_llegada_camion'], date_parser=lambda x: pd.to_datetime(x, format='%Y-%m-%d %H:%M:%S.%f%z'))\n"
     ]
    },
    {
     "data": {
      "text/html": [
       "<div>\n",
       "<style scoped>\n",
       "    .dataframe tbody tr th:only-of-type {\n",
       "        vertical-align: middle;\n",
       "    }\n",
       "\n",
       "    .dataframe tbody tr th {\n",
       "        vertical-align: top;\n",
       "    }\n",
       "\n",
       "    .dataframe thead th {\n",
       "        text-align: right;\n",
       "    }\n",
       "</style>\n",
       "<table border=\"1\" class=\"dataframe\">\n",
       "  <thead>\n",
       "    <tr style=\"text-align: right;\">\n",
       "      <th></th>\n",
       "      <th>tonelaje_inicial_poligono_creado</th>\n",
       "      <th>radiohexagonocuchara_equipocarguio</th>\n",
       "      <th>capacidad_en_volumen_equipo_carguio_m3</th>\n",
       "      <th>capacidad_en_peso_equipo_carguio</th>\n",
       "      <th>capacidad_en_peso_equipo_acarreo</th>\n",
       "      <th>tiempo_estimado_duracion_estado_pala</th>\n",
       "      <th>radio_locacion_metros</th>\n",
       "      <th>tiempo_ready_llegada_esperando</th>\n",
       "      <th>tiempo_ready_esperando_cuadra</th>\n",
       "      <th>tonelaje_camion_antes_cargaestabilizada</th>\n",
       "      <th>angulo_giro_promedio_pases</th>\n",
       "      <th>tonelaje_segun_computadora</th>\n",
       "      <th>id_equipo_camion</th>\n",
       "      <th>id_equipo_carguio</th>\n",
       "      <th>densidad_inicial_poligono_creado_tn/m3</th>\n",
       "      <th>numero_pases_carguio</th>\n",
       "      <th>productividad_operativa_acarreo_tn_h</th>\n",
       "      <th>tiempo_llegada_camion</th>\n",
       "      <th>tiempo_ready_cuadra_cuadrado</th>\n",
       "      <th>tiempo_ready_cuadrado_cargado</th>\n",
       "      <th>tiempo_ready_carga_acarreo</th>\n",
       "      <th>tiempo_ready_acarreo_cola</th>\n",
       "      <th>tiempo_ready_cola_retro</th>\n",
       "      <th>tiempo_ready_retro_listo</th>\n",
       "      <th>tiempo_ready_listo_descarga</th>\n",
       "      <th>tiempo_ready_descarga_viajandovacio</th>\n",
       "      <th>tiempo_ready_cargando_pala</th>\n",
       "      <th>tiempo_ready_esperando_pala</th>\n",
       "      <th>productividad_operativa_carguio_tn_h</th>\n",
       "      <th>al_termino_cargar_en_espera_cuadrado_cuadrandose</th>\n",
       "      <th>factor</th>\n",
       "      <th>capacidad_en_volumen_equipo_acarreo_m3</th>\n",
       "    </tr>\n",
       "  </thead>\n",
       "  <tbody>\n",
       "    <tr>\n",
       "      <th>0</th>\n",
       "      <td>2242926.000000</td>\n",
       "      <td>680.000000</td>\n",
       "      <td>23.000000</td>\n",
       "      <td>39.158333</td>\n",
       "      <td>229.000000</td>\n",
       "      <td>0.000000</td>\n",
       "      <td>45.000000</td>\n",
       "      <td>0.000000</td>\n",
       "      <td>6.000000</td>\n",
       "      <td>225.800000</td>\n",
       "      <td>0.000000</td>\n",
       "      <td>235.800000</td>\n",
       "      <td>42</td>\n",
       "      <td>74</td>\n",
       "      <td>1.916910</td>\n",
       "      <td>0</td>\n",
       "      <td>1487.645018</td>\n",
       "      <td>2022-01-01 07:01:58.086000-05:00</td>\n",
       "      <td>14.001000</td>\n",
       "      <td>44.008000</td>\n",
       "      <td>160.560000</td>\n",
       "      <td>236.034000</td>\n",
       "      <td>16.001000</td>\n",
       "      <td>12.002000</td>\n",
       "      <td>46.004000</td>\n",
       "      <td>36.010000</td>\n",
       "      <td>160.560000</td>\n",
       "      <td>229.177000</td>\n",
       "      <td>2178.084195</td>\n",
       "      <td>False</td>\n",
       "      <td>1042</td>\n",
       "      <td>129.000000</td>\n",
       "    </tr>\n",
       "  </tbody>\n",
       "</table>\n",
       "</div>"
      ],
      "text/plain": [
       "   tonelaje_inicial_poligono_creado  radiohexagonocuchara_equipocarguio  capacidad_en_volumen_equipo_carguio_m3  capacidad_en_peso_equipo_carguio  capacidad_en_peso_equipo_acarreo  tiempo_estimado_duracion_estado_pala  radio_locacion_metros  tiempo_ready_llegada_esperando  tiempo_ready_esperando_cuadra  tonelaje_camion_antes_cargaestabilizada  angulo_giro_promedio_pases  tonelaje_segun_computadora  id_equipo_camion  id_equipo_carguio  densidad_inicial_poligono_creado_tn/m3  numero_pases_carguio  productividad_operativa_acarreo_tn_h            tiempo_llegada_camion  tiempo_ready_cuadra_cuadrado  tiempo_ready_cuadrado_cargado  tiempo_ready_carga_acarreo  tiempo_ready_acarreo_cola  tiempo_ready_cola_retro  tiempo_ready_retro_listo  tiempo_ready_listo_descarga  tiempo_ready_descarga_viajandovacio  tiempo_ready_cargando_pala  tiempo_ready_esperando_pala  productividad_operativa_carguio_tn_h  al_termino_cargar_en_espera_cuadrado_cuadrandose  factor  capacidad_en_volumen_equipo_acarreo_m3\n",
       "0                    2242926.000000                          680.000000                               23.000000                         39.158333                        229.000000                              0.000000              45.000000                        0.000000                       6.000000                               225.800000                    0.000000                  235.800000                42                 74                                1.916910                     0                           1487.645018 2022-01-01 07:01:58.086000-05:00                     14.001000                      44.008000                  160.560000                 236.034000                16.001000                 12.002000                    46.004000                            36.010000                  160.560000                   229.177000                           2178.084195                                             False    1042                              129.000000"
      ]
     },
     "execution_count": 75,
     "metadata": {},
     "output_type": "execute_result"
    }
   ],
   "source": [
    "datos = pd.read_csv('datos_modelo_qwin1_vf.csv', parse_dates=['tiempo_llegada_camion'], date_parser=lambda x: pd.to_datetime(x, format='%Y-%m-%d %H:%M:%S.%f%z'))\n",
    "datos.head(1)"
   ]
  },
  {
   "cell_type": "markdown",
   "metadata": {},
   "source": [
    "### 3. Seleccion de Variables"
   ]
  },
  {
   "cell_type": "markdown",
   "metadata": {},
   "source": [
    "3.1 Seleccion con StatModels, para regresion lineal (variables significativas estadisticamente)"
   ]
  },
  {
   "cell_type": "code",
   "execution_count": 48,
   "metadata": {},
   "outputs": [
    {
     "name": "stdout",
     "output_type": "stream",
     "text": [
      "                             OLS Regression Results                             \n",
      "================================================================================\n",
      "Dep. Variable:     numero_pases_carguio   R-squared:                       0.576\n",
      "Model:                              OLS   Adj. R-squared:                  0.576\n",
      "Method:                   Least Squares   F-statistic:                 7.227e+04\n",
      "Date:                  Tue, 30 Jan 2024   Prob (F-statistic):               0.00\n",
      "Time:                          16:04:49   Log-Likelihood:            -1.3676e+06\n",
      "No. Observations:                743993   AIC:                         2.735e+06\n",
      "Df Residuals:                    743978   BIC:                         2.736e+06\n",
      "Df Model:                            14                                         \n",
      "Covariance Type:              nonrobust                                         \n",
      "===========================================================================================================\n",
      "                                              coef    std err          t      P>|t|      [0.025      0.975]\n",
      "-----------------------------------------------------------------------------------------------------------\n",
      "tonelaje_inicial_poligono_creado         8.182e-09   3.51e-09      2.331      0.020     1.3e-09    1.51e-08\n",
      "radiohexagonocuchara_equipocarguio          0.0050   4.51e-05    111.427      0.000       0.005       0.005\n",
      "capacidad_en_volumen_equipo_carguio_m3     -0.6688      0.079     -8.496      0.000      -0.823      -0.515\n",
      "capacidad_en_peso_equipo_carguio            0.5077      0.054      9.443      0.000       0.402       0.613\n",
      "capacidad_en_peso_equipo_acarreo            0.0125      0.001      9.723      0.000       0.010       0.015\n",
      "tiempo_estimado_duracion_estado_pala        0.0002   5.67e-06     37.500      0.000       0.000       0.000\n",
      "radio_locacion_metros                       0.0022      0.000     13.875      0.000       0.002       0.002\n",
      "tiempo_ready_llegada_esperando              0.0001   9.56e-06     11.638      0.000    9.25e-05       0.000\n",
      "tiempo_ready_esperando_cuadra              -0.0004   2.06e-05    -19.231      0.000      -0.000      -0.000\n",
      "tonelaje_camion_antes_cargaestabilizada     0.0054   7.52e-05     71.648      0.000       0.005       0.006\n",
      "angulo_giro_promedio_pases                  0.0016      0.000     15.366      0.000       0.001       0.002\n",
      "tonelaje_segun_computadora                  0.0029      0.000     28.192      0.000       0.003       0.003\n",
      "id_equipo_camion                           -0.0020      0.000     -8.908      0.000      -0.002      -0.002\n",
      "id_equipo_carguio                          -0.0850      0.002    -36.954      0.000      -0.090      -0.081\n",
      "densidad_inicial_poligono_creado_tn/m3      0.0440      0.004     10.449      0.000       0.036       0.052\n",
      "==============================================================================\n",
      "Omnibus:                    97406.331   Durbin-Watson:                   1.917\n",
      "Prob(Omnibus):                  0.000   Jarque-Bera (JB):           287724.403\n",
      "Skew:                          -0.702   Prob(JB):                         0.00\n",
      "Kurtosis:                       5.704   Cond. No.                     3.29e+08\n",
      "==============================================================================\n",
      "\n",
      "Notes:\n",
      "[1] Standard Errors assume that the covariance matrix of the errors is correctly specified.\n",
      "[2] The condition number is large, 3.29e+08. This might indicate that there are\n",
      "strong multicollinearity or other numerical problems.\n"
     ]
    }
   ],
   "source": [
    "import pandas as pd\n",
    "import statsmodels.api as sm\n",
    "\n",
    "# Supongamos que datos es tu DataFrame y has seleccionado tus características (X) y variable objetivo (y)\n",
    "X = datos[['tonelaje_inicial_poligono_creado','radiohexagonocuchara_equipocarguio',\n",
    "'capacidad_en_volumen_equipo_carguio_m3',\n",
    "'capacidad_en_peso_equipo_carguio',\n",
    "'capacidad_en_peso_equipo_acarreo',\n",
    "'tiempo_estimado_duracion_estado_pala',\n",
    "'radio_locacion_metros',\n",
    "'tiempo_ready_llegada_esperando',\n",
    "'tiempo_ready_esperando_cuadra',\n",
    "'tonelaje_camion_antes_cargaestabilizada',\n",
    "'angulo_giro_promedio_pases', 'tonelaje_segun_computadora',\n",
    "'id_equipo_camion', 'id_equipo_carguio',\n",
    "'densidad_inicial_poligono_creado_tn/m3']]  # Reemplaza 'feature1', 'feature2', 'feature3' con tus nombres de características\n",
    "y = datos['numero_pases_carguio'] # Reemplaza 'variable_objetivo' con el nombre de tu variable objetivo\n",
    "\n",
    "# Añadir constante a las características (intercepto)\n",
    "X = sm.add_constant(X)\n",
    "\n",
    "# Crear el modelo de regresión lineal con statsmodels\n",
    "modelo = sm.OLS(y, X).fit()\n",
    "\n",
    "# Imprimir un resumen estadistico del modelo\n",
    "print(modelo.summary())"
   ]
  },
  {
   "cell_type": "markdown",
   "metadata": {},
   "source": [
    "- El aumento de una unidad en 'radiohexagonocuchara_equipocarguio' se asocia, en promedio, con un aumento estimado de 0.0050 unidades en el 'Numero de pases' (y), manteniendo constantes todas las demás variables en el modelo.\n",
    "\n",
    "- El aumento de una unidad en 'capacidad_en_volumen_equipo_carguio_m3' se asocia, en promedio, con una disminución estimada de 0.6688 unidades  en el 'Numero de pases' (y), manteniendo constantes todas las demás variables en el modelo."
   ]
  },
  {
   "cell_type": "markdown",
   "metadata": {},
   "source": [
    "## Seccion: de Modelos con Valores Atipicos"
   ]
  },
  {
   "cell_type": "markdown",
   "metadata": {},
   "source": [
    "### 3. Modelos de ML y DL con Valores atipicos"
   ]
  },
  {
   "cell_type": "markdown",
   "metadata": {},
   "source": [
    "Variables general, con las Productividades, para que podamos medir el impacto del modelo"
   ]
  },
  {
   "cell_type": "code",
   "execution_count": 6,
   "metadata": {},
   "outputs": [],
   "source": [
    "# Supongamos que datos es tu DataFrame y has seleccionado tus características (X) y variable objetivo (y)\n",
    "X_gen = datos[['tonelaje_inicial_poligono_creado','radiohexagonocuchara_equipocarguio',\n",
    "'capacidad_en_volumen_equipo_carguio_m3',\n",
    "'capacidad_en_peso_equipo_carguio',\n",
    "'capacidad_en_peso_equipo_acarreo',\n",
    "'tiempo_estimado_duracion_estado_pala',\n",
    "'radio_locacion_metros',\n",
    "'tiempo_ready_llegada_esperando',\n",
    "'tiempo_ready_esperando_cuadra',\n",
    "'tonelaje_camion_antes_cargaestabilizada',\n",
    "'angulo_giro_promedio_pases', 'tonelaje_segun_computadora',\n",
    "'id_equipo_camion', 'id_equipo_carguio',\n",
    "'densidad_inicial_poligono_creado_tn/m3', 'productividad_operativa_acarreo_tn_h',\n",
    "'tiempo_ready_cuadra_cuadrado',\n",
    "'tiempo_ready_cuadrado_cargado',\n",
    "'tiempo_ready_carga_acarreo',\n",
    "'tiempo_ready_acarreo_cola',\n",
    " 'tiempo_ready_cola_retro',\n",
    " 'tiempo_ready_retro_listo',\n",
    " 'tiempo_ready_listo_descarga',\n",
    " 'tiempo_ready_descarga_viajandovacio',\n",
    " 'tiempo_ready_cargando_pala',\n",
    " 'tiempo_ready_esperando_pala',\n",
    "'productividad_operativa_carguio_tn_h']]  # Reemplaza 'feature1', 'feature2', 'feature3' con tus nombres de características\n",
    "y_gen = datos['numero_pases_carguio'] # Reemplaza 'variable_objetivo' con el nombre de tu variable objetivo"
   ]
  },
  {
   "cell_type": "code",
   "execution_count": 7,
   "metadata": {},
   "outputs": [],
   "source": [
    "# Dividir el conjunto de datos en entrenamiento y prueba\n",
    "X_train_gen, X_test_gen, y_train_gen, y_test_gen = train_test_split(X_gen, y_gen, test_size=0.2, random_state=42)"
   ]
  },
  {
   "cell_type": "markdown",
   "metadata": {},
   "source": [
    "Hacemos la division entre las variables que seran independientes, y la variable target(dependiente) para los Modelos"
   ]
  },
  {
   "cell_type": "markdown",
   "metadata": {},
   "source": [
    "Variable Utilizadas en el modelo"
   ]
  },
  {
   "cell_type": "code",
   "execution_count": 8,
   "metadata": {},
   "outputs": [],
   "source": [
    "# Supongamos que datos es tu DataFrame y has seleccionado tus características (X) y variable objetivo (y)\n",
    "X = datos[['tonelaje_inicial_poligono_creado',\n",
    "'radiohexagonocuchara_equipocarguio',\n",
    "'capacidad_en_volumen_equipo_carguio_m3',\n",
    "#'capacidad_en_peso_equipo_carguio',\n",
    "#'capacidad_en_peso_equipo_acarreo',\n",
    "'tiempo_estimado_duracion_estado_pala',\n",
    "'radio_locacion_metros',\n",
    "'tiempo_ready_llegada_esperando',\n",
    "'tiempo_ready_esperando_cuadra',\n",
    "'tonelaje_camion_antes_cargaestabilizada',\n",
    "'angulo_giro_promedio_pases',\n",
    "'tonelaje_segun_computadora',\n",
    "#'id_equipo_camion', 'id_equipo_carguio',\n",
    "'densidad_inicial_poligono_creado_tn/m3']]  # Reemplaza 'feature1', 'feature2', 'feature3' con tus nombres de características\n",
    "y = datos['numero_pases_carguio'] # Reemplaza 'variable_objetivo' con el nombre de tu variable objetivo"
   ]
  },
  {
   "cell_type": "markdown",
   "metadata": {},
   "source": [
    "3.1 Regresion Lineal"
   ]
  },
  {
   "cell_type": "code",
   "execution_count": 9,
   "metadata": {},
   "outputs": [
    {
     "name": "stdout",
     "output_type": "stream",
     "text": [
      "Error Absoluto Medio: 1.0690596038951874\n",
      "Error Cuadrático Medio: 2.4710985960927156\n",
      "Raíz del Error Cuadrático Medio: 1.571972835672651\n",
      "Coeficiente de Determinación (R^2): 0.5471974258685701\n"
     ]
    }
   ],
   "source": [
    "# Dividir el conjunto de datos en entrenamiento y prueba\n",
    "X_train_rl, X_test_rl, y_train_rl, y_test_rl = train_test_split(X, y, test_size=0.2, random_state=42)\n",
    "\n",
    "# Crear el modelo de regresión lineal múltiple\n",
    "modelo_rl = LinearRegression()\n",
    "\n",
    "# Entrenar el modelo\n",
    "modelo_rl.fit(X_train_rl, y_train_rl)\n",
    "\n",
    "# Realizar predicciones en el conjunto de prueba\n",
    "y_pred_rl = modelo_rl.predict(X_test_rl)\n",
    "\n",
    "# Redondear los valores de y_pred al entero más cercano\n",
    "y_pred_rl = np.round(y_pred_rl).astype('int64')\n",
    "\n",
    "# Medir el rendimiento del modelo\n",
    "error_absoluto_medio_rl = metrics.mean_absolute_error(y_test_rl, y_pred_rl)\n",
    "error_cuadratico_medio_rl = metrics.mean_squared_error(y_test_rl, y_pred_rl)\n",
    "raiz_error_cuadratico_medio_rl = metrics.mean_squared_error(y_test_rl, y_pred_rl, squared=False)\n",
    "coeficiente_de_determinacion_rl = metrics.r2_score(y_test_rl, y_pred_rl)\n",
    "\n",
    "# Imprimir métricas de rendimiento\n",
    "print(f'Error Absoluto Medio: {error_absoluto_medio_rl}')\n",
    "print(f'Error Cuadrático Medio: {error_cuadratico_medio_rl}')\n",
    "print(f'Raíz del Error Cuadrático Medio: {raiz_error_cuadratico_medio_rl}')\n",
    "print(f'Coeficiente de Determinación (R^2): {coeficiente_de_determinacion_rl}')"
   ]
  },
  {
   "cell_type": "markdown",
   "metadata": {},
   "source": [
    "Un RMSE de 1.52 significa que, en promedio, las predicciones tienen un error de alrededor de 1.52 unidades  de nuemro de pases."
   ]
  },
  {
   "cell_type": "markdown",
   "metadata": {},
   "source": [
    "Crear un gráfico de valores reales vs predichos"
   ]
  },
  {
   "cell_type": "code",
   "execution_count": 10,
   "metadata": {},
   "outputs": [
    {
     "data": {
      "text/plain": [
       "[<matplotlib.lines.Line2D at 0x276b7178950>]"
      ]
     },
     "execution_count": 10,
     "metadata": {},
     "output_type": "execute_result"
    },
    {
     "data": {
      "image/png": "[encoded data removed]",
      "text/plain": [
       "<Figure size 640x480 with 1 Axes>"
      ]
     },
     "metadata": {},
     "output_type": "display_data"
    }
   ],
   "source": [
    "# Visualizar las predicciones\n",
    "plt.scatter(y_test_rl, y_pred_rl)\n",
    "plt.xlabel('Real [Pases]')\n",
    "plt.ylabel('Prediccion [Pases]')\n",
    "lims = [0, 20]\n",
    "plt.xlim(lims)\n",
    "plt.ylim(lims)\n",
    "plt.plot(lims, lims)"
   ]
  },
  {
   "cell_type": "markdown",
   "metadata": {},
   "source": [
    "3.2 Arbol de decision Regressor"
   ]
  },
  {
   "cell_type": "code",
   "execution_count": 11,
   "metadata": {},
   "outputs": [
    {
     "name": "stdout",
     "output_type": "stream",
     "text": [
      "Error Absoluto Medio: 0.9135478061008474\n",
      "Error Cuadrático Medio: 1.9104227850993623\n",
      "Raíz del Error Cuadrático Medio: 1.3821804459256983\n"
     ]
    }
   ],
   "source": [
    "from sklearn.tree import DecisionTreeRegressor\n",
    "from sklearn.model_selection import train_test_split\n",
    "from sklearn.metrics import mean_squared_error\n",
    "import matplotlib.pyplot as plt\n",
    "\n",
    "# Supongamos que X es tu conjunto de características y y es tu variable objetivo (Número de Pases)\n",
    "# Asegúrate de tener definidas estas variables antes de ejecutar el código\n",
    "\n",
    "# Dividir el conjunto de datos en entrenamiento y prueba\n",
    "X_train_dt, X_test_dt, y_train_dt, y_test_dt = train_test_split(X, y, test_size=0.2, random_state=42)\n",
    "\n",
    "# Crear el modelo de árbol de decisión para regresión\n",
    "model_arbol = DecisionTreeRegressor(max_depth=5,random_state=42)\n",
    "\n",
    "# Entrenar el modelo\n",
    "model_arbol.fit(X_train_dt, y_train_dt)\n",
    "\n",
    "# Realizar predicciones en el conjunto de prueba\n",
    "y_pred_dt = model_arbol.predict(X_test_dt)\n",
    "\n",
    "# Redondear los valores de y_pred al entero más cercano\n",
    "y_pred_dt = np.round(y_pred_dt).astype('int64')\n",
    "\n",
    "# Visualizar el árbol de decisión (opcional)\n",
    "# Nota: Necesitarás tener instalada la biblioteca graphviz y pydotplus para esto\n",
    "# from sklearn.tree import export_graphviz\n",
    "# import pydotplus\n",
    "# dot_data = export_graphviz(modelo_arbol, out_file=None, feature_names=X.columns, filled=True, rounded=True)\n",
    "# graph = pydotplus.graph_from_dot_data(dot_data)\n",
    "# graph.write_png('arbol_decision.png')\n",
    "\n",
    "# Medir el rendimiento del modelo\n",
    "error_absoluto_medio_dt = metrics.mean_absolute_error(y_test_dt, y_pred_dt)\n",
    "error_cuadratico_medio_dt = metrics.mean_squared_error(y_test_dt, y_pred_dt)\n",
    "raiz_error_cuadratico_medio_dt = metrics.mean_squared_error(y_test_dt, y_pred_dt, squared=False)\n",
    "\n",
    "# Imprimir métricas de rendimiento\n",
    "print(f'Error Absoluto Medio: {error_absoluto_medio_dt}')\n",
    "print(f'Error Cuadrático Medio: {error_cuadratico_medio_dt}')\n",
    "print(f'Raíz del Error Cuadrático Medio: {raiz_error_cuadratico_medio_dt}')"
   ]
  },
  {
   "cell_type": "markdown",
   "metadata": {},
   "source": [
    "Extraer mediante el metodo de envoltura las \"Variables mas importantes para el modelo\""
   ]
  },
  {
   "cell_type": "code",
   "execution_count": 12,
   "metadata": {},
   "outputs": [
    {
     "name": "stdout",
     "output_type": "stream",
     "text": [
      "                                    Feature  Importance\n",
      "8                angulo_giro_promedio_pases    0.890953\n",
      "1        radiohexagonocuchara_equipocarguio    0.087662\n",
      "10   densidad_inicial_poligono_creado_tn/m3    0.013155\n",
      "6             tiempo_ready_esperando_cuadra    0.006435\n",
      "0          tonelaje_inicial_poligono_creado    0.001474\n",
      "2    capacidad_en_volumen_equipo_carguio_m3    0.000162\n",
      "4                     radio_locacion_metros    0.000158\n",
      "9                tonelaje_segun_computadora    0.000001\n",
      "3      tiempo_estimado_duracion_estado_pala    0.000000\n",
      "5            tiempo_ready_llegada_esperando    0.000000\n",
      "7   tonelaje_camion_antes_cargaestabilizada    0.000000\n"
     ]
    }
   ],
   "source": [
    "# Obtener las importancias de las características\n",
    "feature_importances_dt = model_arbol.feature_importances_\n",
    "\n",
    "# Crear un DataFrame para mostrar las importancias de las características junto con sus nombres\n",
    "feature_importance_df_dt = pd.DataFrame({\n",
    "    'Feature': X.columns,\n",
    "    'Importance': feature_importances_dt\n",
    "})\n",
    "\n",
    "# Ordenar el DataFrame por importancia en orden descendente\n",
    "feature_importance_df_dt = feature_importance_df_dt.sort_values(by='Importance', ascending=False)\n",
    "\n",
    "# Mostrar las 10 características más importantes\n",
    "print(feature_importance_df_dt.head(15))"
   ]
  },
  {
   "cell_type": "markdown",
   "metadata": {},
   "source": [
    "3.3 Random Forest "
   ]
  },
  {
   "cell_type": "markdown",
   "metadata": {},
   "source": [
    "Construye cada árbol de forma independiente y paralela. Cada árbol no tiene conocimiento de la existencia de otros árboles."
   ]
  },
  {
   "cell_type": "code",
   "execution_count": 13,
   "metadata": {},
   "outputs": [
    {
     "name": "stdout",
     "output_type": "stream",
     "text": [
      "Error Absoluto Medio: 0.910886497893131\n",
      "Error Cuadrático Medio: 1.903070585151782\n",
      "Raíz del Error Cuadrático Medio: 1.3795182438633358\n"
     ]
    }
   ],
   "source": [
    "# Importar librerías necesarias\n",
    "import numpy as np\n",
    "import pandas as pd\n",
    "from sklearn.model_selection import train_test_split\n",
    "from sklearn.ensemble import RandomForestRegressor\n",
    "from sklearn.metrics import mean_squared_error, r2_score\n",
    "import matplotlib.pyplot as plt\n",
    "\n",
    "# Supongamos que tienes un DataFrame llamado df con tus datos, y la columna objetivo es 'target'\n",
    "# Asegúrate de tener las características adecuadas para entrenar el modelo\n",
    "\n",
    "# Dividir el conjunto de datos en entrenamiento y prueba\n",
    "# Dividir el conjunto de datos en entrenamiento y prueba\n",
    "X_train_rf, X_test_rf, y_train_rf, y_test_rf = train_test_split(X, y, test_size=0.2, random_state=42)\n",
    "\n",
    "# Crear el modelo de Random Forest\n",
    "model_rf = RandomForestRegressor(n_estimators=20, max_depth=5 ,random_state=42)\n",
    "\n",
    "# Entrenar el modelo\n",
    "model_rf.fit(X_train_rf, y_train_rf)\n",
    "\n",
    "# Realizar predicciones en el conjunto de prueba\n",
    "y_pred_rf = model_rf.predict(X_test_rf)\n",
    "\n",
    "# Redondear los valores de y_pred al entero más cercano\n",
    "y_pred_rf = np.round(y_pred_rf).astype('int64')\n",
    "\n",
    "# Medir el rendimiento del modelo\n",
    "error_absoluto_medio_rf = metrics.mean_absolute_error(y_test_rf, y_pred_rf)\n",
    "error_cuadratico_medio_rf = metrics.mean_squared_error(y_test_rf, y_pred_rf)\n",
    "raiz_error_cuadratico_medio_rf = metrics.mean_squared_error(y_test_rf, y_pred_rf, squared=False)\n",
    "\n",
    "# Imprimir métricas de rendimiento\n",
    "print(f'Error Absoluto Medio: {error_absoluto_medio_rf}')\n",
    "print(f'Error Cuadrático Medio: {error_cuadratico_medio_rf}')\n",
    "print(f'Raíz del Error Cuadrático Medio: {raiz_error_cuadratico_medio_rf}')"
   ]
  },
  {
   "cell_type": "markdown",
   "metadata": {},
   "source": [
    "Extraer mediante el metodo de envoltura las \"Variables mas importantes para el modelo\""
   ]
  },
  {
   "cell_type": "code",
   "execution_count": 14,
   "metadata": {},
   "outputs": [
    {
     "name": "stdout",
     "output_type": "stream",
     "text": [
      "                                    Feature  Importance\n",
      "8                angulo_giro_promedio_pases    0.890684\n",
      "1        radiohexagonocuchara_equipocarguio    0.087352\n",
      "10   densidad_inicial_poligono_creado_tn/m3    0.012972\n",
      "6             tiempo_ready_esperando_cuadra    0.006484\n",
      "0          tonelaje_inicial_poligono_creado    0.001607\n",
      "7   tonelaje_camion_antes_cargaestabilizada    0.000678\n",
      "4                     radio_locacion_metros    0.000154\n",
      "2    capacidad_en_volumen_equipo_carguio_m3    0.000051\n",
      "9                tonelaje_segun_computadora    0.000012\n",
      "5            tiempo_ready_llegada_esperando    0.000004\n",
      "3      tiempo_estimado_duracion_estado_pala    0.000002\n"
     ]
    }
   ],
   "source": [
    "# Obtener las importancias de las características\n",
    "feature_importances_rf = model_rf.feature_importances_\n",
    "\n",
    "# Crear un DataFrame para mostrar las importancias de las características junto con sus nombres\n",
    "feature_importance_df_rf = pd.DataFrame({\n",
    "    'Feature': X.columns,\n",
    "    'Importance': feature_importances_rf\n",
    "})\n",
    "\n",
    "# Ordenar el DataFrame por importancia en orden descendente\n",
    "feature_importance_df_rf = feature_importance_df_rf.sort_values(by='Importance', ascending=False)\n",
    "\n",
    "# Mostrar las 10 características más importantes\n",
    "print(feature_importance_df_rf.head(15))"
   ]
  },
  {
   "cell_type": "markdown",
   "metadata": {},
   "source": [
    "3.4 SVM (Support Vector Machine)"
   ]
  },
  {
   "cell_type": "code",
   "execution_count": null,
   "metadata": {},
   "outputs": [],
   "source": [
    "from sklearn.svm import SVR\n",
    "\n",
    "# Dividir el conjunto de datos en entrenamiento y prueba\n",
    "X_train_svm, X_test_svm, y_train_svm, y_test_svm = train_test_split(X, y, test_size=0.2, random_state=42)\n",
    "\n",
    "# Crear y entrenar el modelo de SVM Regressor\n",
    "model_svm = SVR(kernel='linear')  # Puedes ajustar los hiperparámetros según sea necesario\n",
    "model_svm.fit(X_train_svm, y_train_svm)\n",
    "\n",
    "# Realizar predicciones en el conjunto de prueba con SVM Regressor\n",
    "y_pred_svm = model_svm.predict(X_test_svm)\n",
    "y_pred_svm = np.round(y_pred_svm).astype('int64')\n",
    "\n",
    "# Medir el rendimiento del modelo de SVM Regressor\n",
    "error_absoluto_medio_svm = metrics.mean_absolute_error(y_test_svm, y_pred_svm)\n",
    "error_cuadratico_medio_svm = metrics.mean_squared_error(y_test_svm, y_pred_svm)\n",
    "raiz_error_cuadratico_medio_svm = metrics.mean_squared_error(y_test_svm, y_pred_svm, squared=False)\n",
    "\n",
    "# Imprimir métricas de rendimiento de SVM Regressor\n",
    "print(\"\\nMétricas de rendimiento para SVM Regressor:\")\n",
    "print(f'Error Absoluto Medio: {error_absoluto_medio_svm}')\n",
    "print(f'Error Cuadrático Medio: {error_cuadratico_medio_svm}')\n",
    "print(f'Raíz del Error Cuadrático Medio: {raiz_error_cuadratico_medio_svm}')"
   ]
  },
  {
   "cell_type": "markdown",
   "metadata": {},
   "source": [
    "3.5 XGBoost: "
   ]
  },
  {
   "cell_type": "markdown",
   "metadata": {},
   "source": [
    "Construye árboles de manera secuencial. Cada árbol se entrena para corregir los errores de los árboles anteriores."
   ]
  },
  {
   "cell_type": "code",
   "execution_count": 15,
   "metadata": {},
   "outputs": [
    {
     "name": "stdout",
     "output_type": "stream",
     "text": [
      "Error Absoluto Medio: 0.8673109362294101\n",
      "Error Cuadrático Medio: 1.7641986841309418\n",
      "Raíz del Error Cuadrático Medio: 1.3282314121157284\n"
     ]
    }
   ],
   "source": [
    "# Instalar las bibliotecas necesarias\n",
    "# pip install xgboost scikit-learn matplotlib\n",
    "import numpy as np\n",
    "import pandas as pd\n",
    "from sklearn.model_selection import train_test_split\n",
    "import xgboost as xgb\n",
    "import matplotlib.pyplot as plt\n",
    "\n",
    "# Supongamos que tienes un DataFrame llamado df con tus datos, y la columna objetivo es 'target'\n",
    "# Asegúrate de tener las características adecuadas para entrenar el modelo\n",
    "\n",
    "# Dividir el conjunto de datos en entrenamiento y prueba\n",
    "X_train_xgb, X_test_xgb, y_train_xgb, y_test_xgb = train_test_split(X, y, test_size=0.2, random_state=42)\n",
    "\n",
    "# Crear el modelo de XGBoost\n",
    "model_xgb = xgb.XGBRegressor(\n",
    "    n_estimators=20,  # Número de árboles\n",
    "    max_depth=5,  # Profundidad máxima de los árboles\n",
    "    random_state=42\n",
    ")\n",
    "\n",
    "# Entrenar el modelo\n",
    "model_xgb.fit(X_train_xgb, y_train_xgb)\n",
    "\n",
    "# Realizar predicciones en el conjunto de prueba\n",
    "y_pred_xgb = model_xgb.predict(X_test_xgb)\n",
    "\n",
    "# Redondear los valores de y_pred al entero más cercano\n",
    "y_pred_xgb = np.round(y_pred_xgb).astype('int64')\n",
    "\n",
    "# Medir el rendimiento del modelo\n",
    "error_absoluto_medio_xgb = metrics.mean_absolute_error(y_test_xgb, y_pred_xgb)\n",
    "error_cuadratico_medio_xgb = metrics.mean_squared_error(y_test_xgb, y_pred_xgb)\n",
    "raiz_error_cuadratico_medio_xgb = metrics.mean_squared_error(y_test_xgb, y_pred_xgb, squared=False)\n",
    "\n",
    "# Imprimir métricas de rendimiento\n",
    "print(f'Error Absoluto Medio: {error_absoluto_medio_xgb}')\n",
    "print(f'Error Cuadrático Medio: {error_cuadratico_medio_xgb}')\n",
    "print(f'Raíz del Error Cuadrático Medio: {raiz_error_cuadratico_medio_xgb}')"
   ]
  },
  {
   "cell_type": "markdown",
   "metadata": {},
   "source": [
    "Extraer mediante el metodo de envoltura las \"Variables mas importantes para el modelo\""
   ]
  },
  {
   "cell_type": "code",
   "execution_count": 16,
   "metadata": {},
   "outputs": [
    {
     "name": "stdout",
     "output_type": "stream",
     "text": [
      "                                    Feature  Importance\n",
      "8                angulo_giro_promedio_pases    0.693857\n",
      "1        radiohexagonocuchara_equipocarguio    0.234301\n",
      "7   tonelaje_camion_antes_cargaestabilizada    0.015582\n",
      "10   densidad_inicial_poligono_creado_tn/m3    0.015534\n",
      "6             tiempo_ready_esperando_cuadra    0.014090\n",
      "3      tiempo_estimado_duracion_estado_pala    0.006328\n",
      "9                tonelaje_segun_computadora    0.006077\n",
      "4                     radio_locacion_metros    0.005397\n",
      "0          tonelaje_inicial_poligono_creado    0.005074\n",
      "5            tiempo_ready_llegada_esperando    0.002309\n",
      "2    capacidad_en_volumen_equipo_carguio_m3    0.001453\n"
     ]
    }
   ],
   "source": [
    "# Obtener las importancias de las características\n",
    "feature_importances_xgb = model_xgb.feature_importances_\n",
    "\n",
    "# Crear un DataFrame para mostrar las importancias de las características junto con sus nombres\n",
    "feature_importance_df_xgb = pd.DataFrame({\n",
    "    'Feature': X.columns,\n",
    "    'Importance': feature_importances_xgb\n",
    "})\n",
    "\n",
    "# Ordenar el DataFrame por importancia en orden descendente\n",
    "feature_importance_df_xgb = feature_importance_df_xgb.sort_values(by='Importance', ascending=False)\n",
    "\n",
    "# Mostrar las 10 características más importantes\n",
    "print(feature_importance_df_xgb.head(15))"
   ]
  },
  {
   "cell_type": "markdown",
   "metadata": {},
   "source": [
    "3.6 Red Neuronal"
   ]
  },
  {
   "cell_type": "code",
   "execution_count": 17,
   "metadata": {},
   "outputs": [],
   "source": [
    "# Aseguramos que los resultados sean \"reproducibles\" en cada ejecucion de tensorflow(pesos iniciales aleatorios)\n",
    "import tensorflow as tf\n",
    "import numpy as np\n",
    "\n",
    "np.random.seed(42)\n",
    "tf.random.set_seed(42)"
   ]
  },
  {
   "cell_type": "markdown",
   "metadata": {},
   "source": [
    "3.6.1 Red Neuronal Recurrente"
   ]
  },
  {
   "cell_type": "code",
   "execution_count": 35,
   "metadata": {},
   "outputs": [
    {
     "data": {
      "text/plain": [
       "\"\\nfrom sklearn.preprocessing import StandardScaler\\n\\n# Suponiendo que tienes tus datos X e y definidos antes de esta sección\\n\\n# Normalizar los datos\\nscaler = StandardScaler()\\nX_normalized = scaler.fit_transform(X)\\n\\n# Dividir los datos en conjuntos de entrenamiento y prueba\\nX_train_rnn, X_test_rnn, y_train_rnn, y_test_rnn = train_test_split(X_normalized, y, test_size=0.2, random_state=42)\\n\\n# Crear el modelo de la red neuronal\\nmodel_rnn = Sequential()\\nmodel_rnn.add(Dense(30, input_dim=15, activation='relu')) #input_dim : numero de variables inputs\\nmodel_rnn.add(Dense(60,activation='relu'))\\nmodel_rnn.add(Dense(30,activation='relu'))\\nmodel_rnn.add(Dense(1, activation='linear'))\\n\\n\\n# Compilar el modelo con la metrica de error, y el optimizador\\nmodel_rnn.compile(loss='mean_squared_error', optimizer='adam')\\n\\n# Entrenar el modelo\\nmodel_rnn.fit(X_train_rnn, y_train_rnn, epochs=10, batch_size=5, verbose=1)\\n\\n# Hacer predicciones en el conjunto de prueba\\ny_pred_rnn = model_rnn.predict(X_test_rnn)\\n\\n# Calcular el error cuadrático medio en el conjunto de prueba\\nmse = mean_squared_error(y_test_rnn, y_pred_rnn)\\n# Calcular la raíz cuadrada del error cuadrático medio\\nrmse = np.sqrt(mse)\\n\\nprint(f'Raíz del Error Cuadrático Medio en el conjunto de prueba: {rmse}')\\n\""
      ]
     },
     "execution_count": 35,
     "metadata": {},
     "output_type": "execute_result"
    }
   ],
   "source": [
    "'''\n",
    "from sklearn.preprocessing import StandardScaler\n",
    "\n",
    "# Suponiendo que tienes tus datos X e y definidos antes de esta sección\n",
    "\n",
    "# Normalizar los datos\n",
    "scaler = StandardScaler()\n",
    "X_normalized = scaler.fit_transform(X)\n",
    "\n",
    "# Dividir los datos en conjuntos de entrenamiento y prueba\n",
    "X_train_rnn, X_test_rnn, y_train_rnn, y_test_rnn = train_test_split(X_normalized, y, test_size=0.2, random_state=42)\n",
    "\n",
    "# Crear el modelo de la red neuronal\n",
    "model_rnn = Sequential()\n",
    "model_rnn.add(Dense(30, input_dim=15, activation='relu')) #input_dim : numero de variables inputs\n",
    "model_rnn.add(Dense(60,activation='relu'))\n",
    "model_rnn.add(Dense(30,activation='relu'))\n",
    "model_rnn.add(Dense(1, activation='linear'))\n",
    "\n",
    "\n",
    "# Compilar el modelo con la metrica de error, y el optimizador\n",
    "model_rnn.compile(loss='mean_squared_error', optimizer='adam')\n",
    "\n",
    "# Entrenar el modelo\n",
    "model_rnn.fit(X_train_rnn, y_train_rnn, epochs=10, batch_size=5, verbose=1)\n",
    "\n",
    "# Hacer predicciones en el conjunto de prueba\n",
    "y_pred_rnn = model_rnn.predict(X_test_rnn)\n",
    "\n",
    "# Calcular el error cuadrático medio en el conjunto de prueba\n",
    "mse = mean_squared_error(y_test_rnn, y_pred_rnn)\n",
    "# Calcular la raíz cuadrada del error cuadrático medio\n",
    "rmse = np.sqrt(mse)\n",
    "\n",
    "print(f'Raíz del Error Cuadrático Medio en el conjunto de prueba: {rmse}')\n",
    "'''"
   ]
  },
  {
   "cell_type": "markdown",
   "metadata": {},
   "source": [
    "3.6.2 Red Neuronal LSTM"
   ]
  },
  {
   "cell_type": "code",
   "execution_count": 18,
   "metadata": {},
   "outputs": [
    {
     "name": "stdout",
     "output_type": "stream",
     "text": [
      "WARNING:tensorflow:From c:\\Users\\BryanInche-MS4M\\anaconda3\\Lib\\site-packages\\keras\\src\\backend.py:873: The name tf.get_default_graph is deprecated. Please use tf.compat.v1.get_default_graph instead.\n",
      "\n",
      "WARNING:tensorflow:From c:\\Users\\BryanInche-MS4M\\anaconda3\\Lib\\site-packages\\keras\\src\\optimizers\\__init__.py:309: The name tf.train.Optimizer is deprecated. Please use tf.compat.v1.train.Optimizer instead.\n",
      "\n",
      "Model: \"sequential\"\n",
      "_________________________________________________________________\n",
      " Layer (type)                Output Shape              Param #   \n",
      "=================================================================\n",
      " lstm (LSTM)                 (None, 30)                5040      \n",
      "                                                                 \n",
      " dense (Dense)               (None, 60)                1860      \n",
      "                                                                 \n",
      " dense_1 (Dense)             (None, 30)                1830      \n",
      "                                                                 \n",
      " dense_2 (Dense)             (None, 15)                465       \n",
      "                                                                 \n",
      " dense_3 (Dense)             (None, 1)                 16        \n",
      "                                                                 \n",
      "=================================================================\n",
      "Total params: 9211 (35.98 KB)\n",
      "Trainable params: 9211 (35.98 KB)\n",
      "Non-trainable params: 0 (0.00 Byte)\n",
      "_________________________________________________________________\n",
      "Epoch 1/20\n",
      "WARNING:tensorflow:From c:\\Users\\BryanInche-MS4M\\anaconda3\\Lib\\site-packages\\keras\\src\\utils\\tf_utils.py:492: The name tf.ragged.RaggedTensorValue is deprecated. Please use tf.compat.v1.ragged.RaggedTensorValue instead.\n",
      "\n",
      "119039/119039 [==============================] - 159s 1ms/step - loss: 1.8575\n",
      "Epoch 2/20\n",
      "119039/119039 [==============================] - 321s 3ms/step - loss: 1.7784\n",
      "Epoch 3/20\n",
      "119039/119039 [==============================] - 324s 3ms/step - loss: 1.7654\n",
      "Epoch 4/20\n",
      "119039/119039 [==============================] - 323s 3ms/step - loss: 1.7579\n",
      "Epoch 5/20\n",
      "119039/119039 [==============================] - 212s 2ms/step - loss: 1.7521\n",
      "Epoch 6/20\n",
      "119039/119039 [==============================] - 147s 1ms/step - loss: 1.7467\n",
      "Epoch 7/20\n",
      "119039/119039 [==============================] - 299s 3ms/step - loss: 1.7432\n",
      "Epoch 8/20\n",
      "119039/119039 [==============================] - 171s 1ms/step - loss: 1.7381\n",
      "Epoch 9/20\n",
      "119039/119039 [==============================] - 185s 2ms/step - loss: 1.7346\n",
      "Epoch 10/20\n",
      "119039/119039 [==============================] - 188s 2ms/step - loss: 1.7320\n",
      "Epoch 11/20\n",
      "119039/119039 [==============================] - 332s 3ms/step - loss: 1.7293\n",
      "Epoch 12/20\n",
      "119039/119039 [==============================] - 323s 3ms/step - loss: 1.7274\n",
      "Epoch 13/20\n",
      "119039/119039 [==============================] - 223s 2ms/step - loss: 1.7245\n",
      "Epoch 14/20\n",
      "119039/119039 [==============================] - 336s 3ms/step - loss: 1.7230\n",
      "Epoch 15/20\n",
      "119039/119039 [==============================] - 326s 3ms/step - loss: 1.7207\n",
      "Epoch 16/20\n",
      "119039/119039 [==============================] - 162s 1ms/step - loss: 1.7191\n",
      "Epoch 17/20\n",
      "119039/119039 [==============================] - 125s 1ms/step - loss: 1.7182\n",
      "Epoch 18/20\n",
      "119039/119039 [==============================] - 127s 1ms/step - loss: 1.7164\n",
      "Epoch 19/20\n",
      "119039/119039 [==============================] - 126s 1ms/step - loss: 1.7158\n",
      "Epoch 20/20\n",
      "119039/119039 [==============================] - 127s 1ms/step - loss: 1.7149\n",
      "4650/4650 [==============================] - 4s 743us/step\n",
      "Raíz del Error Cuadrático Medio en el conjunto de prueba: 1.340841088381906\n"
     ]
    }
   ],
   "source": [
    "from tensorflow.keras.models import Sequential\n",
    "from tensorflow.keras.layers import Dense, LSTM\n",
    "import numpy as np\n",
    "\n",
    "# Normalizar los datos, para que la red tenga un mejor rendimiento al procesar datos mas pequenos y en una misma escala\n",
    "scaler = StandardScaler()\n",
    "X_normalized = scaler.fit_transform(X)\n",
    "\n",
    "# Convertir DataFrame a array de NumPy\n",
    "X_array = X_normalized\n",
    "y_array = y.values\n",
    "\n",
    "# Dividir los datos en conjuntos de entrenamiento y prueba\n",
    "X_train_rnn, X_test_rnn, y_train_rnn, y_test_rnn = train_test_split(X_array, y_array, test_size=0.2, random_state=42)\n",
    "\n",
    "#---------------------------------------------------------------------------------------------------------------------------------------\n",
    "model_rnn = Sequential()\n",
    "# La forma de entrada para LSTM debe ser (n_timesteps, n_features)\n",
    "model_rnn.add(LSTM(30, activation='relu', input_shape=(1, 11)))  # Cambié (1, 1) a (1, 15) para que coincida con tus datos de entrada\n",
    "# Agregar capas Dense según sea necesario\n",
    "model_rnn.add(Dense(60, activation='relu'))\n",
    "model_rnn.add(Dense(30, activation='relu'))\n",
    "model_rnn.add(Dense(15, activation='relu'))\n",
    "# Capa de salida\n",
    "model_rnn.add(Dense(1, activation='linear'))\n",
    "#-------------------------------------------------------------------------------------------------------------------------------------------\n",
    "\n",
    "# Compilar el modelo\n",
    "model_rnn.compile(loss='mean_squared_error', optimizer='adam')\n",
    "# Imprimir un resumen del modelo\n",
    "model_rnn.summary()\n",
    "\n",
    "# Entrenar el modelo\n",
    "#X_train_rnn.reshape(-1, 1, 1) significa que quieres que NumPy calcule automáticamente el tamaño de la dimensión correspondiente a n_samples\n",
    "#Si tienes 15 variables en cada paso de tiempo, entonces la forma de entrada para la capa LSTM debería ser (n_samples, n_timesteps, n_features). \n",
    "#En este caso, la dimensión n_features debería ser 15\n",
    "model_rnn.fit(X_train_rnn.reshape(-1, 1, 11), y_train_rnn, epochs=20, batch_size=5, verbose=1) # (n_samples, n_pasos, n_variables)\n",
    "\n",
    "# Hacer predicciones en el conjunto de prueba\n",
    "y_pred_rnn = model_rnn.predict(X_test_rnn.reshape(-1, 1, 11)) # (n_samples, n_pasos, n_variables)\n",
    "\n",
    "# Redondear los valores de y_pred al entero más cercano\n",
    "y_pred_rnn = np.round(y_pred_rnn).astype('int64')\n",
    "\n",
    "# Calcular el error cuadrático medio en el conjunto de prueba\n",
    "mse = mean_squared_error(y_test_rnn, y_pred_rnn)\n",
    "# Calcular la raíz cuadrada del error cuadrático medio\n",
    "rmse = np.sqrt(mse)\n",
    "\n",
    "print(f'Raíz del Error Cuadrático Medio en el conjunto de prueba: {rmse}')"
   ]
  },
  {
   "cell_type": "code",
   "execution_count": 19,
   "metadata": {},
   "outputs": [
    {
     "data": {
      "text/plain": [
       "[<matplotlib.lines.Line2D at 0x27684008610>]"
      ]
     },
     "execution_count": 19,
     "metadata": {},
     "output_type": "execute_result"
    },
    {
     "data": {
      "image/png": "[encoded data removed]",
      "text/plain": [
       "<Figure size 640x480 with 1 Axes>"
      ]
     },
     "metadata": {},
     "output_type": "display_data"
    }
   ],
   "source": [
    "# Visualizar las predicciones\n",
    "plt.scatter(y_test_rnn, y_pred_rnn)\n",
    "plt.xlabel('Real [Pases]')\n",
    "plt.ylabel('Prediccion [Pases]')\n",
    "lims = [0, 20]\n",
    "plt.xlim(lims)\n",
    "plt.ylim(lims)\n",
    "plt.plot(lims, lims)"
   ]
  },
  {
   "cell_type": "markdown",
   "metadata": {},
   "source": [
    "### 4. Armando los BaseFinal, con los valores predichos de cada Modelo, y tambien medir el impacto con productividades"
   ]
  },
  {
   "cell_type": "code",
   "execution_count": 20,
   "metadata": {},
   "outputs": [
    {
     "data": {
      "text/html": [
       "<div>\n",
       "<style scoped>\n",
       "    .dataframe tbody tr th:only-of-type {\n",
       "        vertical-align: middle;\n",
       "    }\n",
       "\n",
       "    .dataframe tbody tr th {\n",
       "        vertical-align: top;\n",
       "    }\n",
       "\n",
       "    .dataframe thead th {\n",
       "        text-align: right;\n",
       "    }\n",
       "</style>\n",
       "<table border=\"1\" class=\"dataframe\">\n",
       "  <thead>\n",
       "    <tr style=\"text-align: right;\">\n",
       "      <th></th>\n",
       "      <th>tonelaje_inicial_poligono_creado</th>\n",
       "      <th>radiohexagonocuchara_equipocarguio</th>\n",
       "      <th>capacidad_en_volumen_equipo_carguio_m3</th>\n",
       "      <th>capacidad_en_peso_equipo_carguio</th>\n",
       "      <th>capacidad_en_peso_equipo_acarreo</th>\n",
       "      <th>tiempo_estimado_duracion_estado_pala</th>\n",
       "      <th>radio_locacion_metros</th>\n",
       "      <th>tiempo_ready_llegada_esperando</th>\n",
       "      <th>tiempo_ready_esperando_cuadra</th>\n",
       "      <th>tonelaje_camion_antes_cargaestabilizada</th>\n",
       "      <th>angulo_giro_promedio_pases</th>\n",
       "      <th>tonelaje_segun_computadora</th>\n",
       "      <th>id_equipo_camion</th>\n",
       "      <th>id_equipo_carguio</th>\n",
       "      <th>densidad_inicial_poligono_creado_tn/m3</th>\n",
       "      <th>productividad_operativa_acarreo_tn_h</th>\n",
       "      <th>tiempo_ready_cuadra_cuadrado</th>\n",
       "      <th>tiempo_ready_cuadrado_cargado</th>\n",
       "      <th>tiempo_ready_carga_acarreo</th>\n",
       "      <th>tiempo_ready_acarreo_cola</th>\n",
       "      <th>tiempo_ready_cola_retro</th>\n",
       "      <th>tiempo_ready_retro_listo</th>\n",
       "      <th>tiempo_ready_listo_descarga</th>\n",
       "      <th>tiempo_ready_descarga_viajandovacio</th>\n",
       "      <th>tiempo_ready_cargando_pala</th>\n",
       "      <th>tiempo_ready_esperando_pala</th>\n",
       "      <th>productividad_operativa_carguio_tn_h</th>\n",
       "      <th>Numero_pases_real</th>\n",
       "      <th>Numero_pases_reglineal</th>\n",
       "      <th>Numero_pases_arboldecision</th>\n",
       "      <th>Numero_pases_rforest</th>\n",
       "      <th>Numero_pases_xgb</th>\n",
       "      <th>Numero_pases_rnn</th>\n",
       "      <th>Numero_pases_reglineal+1</th>\n",
       "      <th>Numero_pases_reglineal-1</th>\n",
       "      <th>Numero_pases_arboldecision+1</th>\n",
       "      <th>Numero_pases_arboldecision-1</th>\n",
       "      <th>Numero_pases_rforest+1</th>\n",
       "      <th>Numero_pases_rforest-1</th>\n",
       "      <th>Numero_pases_xgb+1</th>\n",
       "      <th>Numero_pases_xgb-1</th>\n",
       "      <th>Numero_pases_rnn+1</th>\n",
       "      <th>Numero_pases_rnn-1</th>\n",
       "      <th>Diferencia_Pases_rl</th>\n",
       "      <th>tonelaje_segun_computadora_rl</th>\n",
       "      <th>Diferencia_Pases_rl+1</th>\n",
       "      <th>tonelaje_segun_computadora_rl+1</th>\n",
       "      <th>Diferencia_Pases_rl-1</th>\n",
       "      <th>tonelaje_segun_computadora_rl-1</th>\n",
       "      <th>Diferencia_Pases_dt</th>\n",
       "      <th>tonelaje_segun_computadora_dt</th>\n",
       "      <th>Diferencia_Pases_dt+1</th>\n",
       "      <th>tonelaje_segun_computadora_dt+1</th>\n",
       "      <th>Diferencia_Pases_dt-1</th>\n",
       "      <th>tonelaje_segun_computadora_dt-1</th>\n",
       "      <th>Diferencia_Pases_rf</th>\n",
       "      <th>tonelaje_segun_computadora_rf</th>\n",
       "      <th>Diferencia_Pases_rf+1</th>\n",
       "      <th>tonelaje_segun_computadora_rf+1</th>\n",
       "      <th>Diferencia_Pases_rf-1</th>\n",
       "      <th>tonelaje_segun_computadora_rf-1</th>\n",
       "      <th>Diferencia_Pases_xgb</th>\n",
       "      <th>tonelaje_segun_computadora_xgb</th>\n",
       "      <th>Diferencia_Pases_xgb+1</th>\n",
       "      <th>tonelaje_segun_computadora_xgb+1</th>\n",
       "      <th>Diferencia_Pases_xgb-1</th>\n",
       "      <th>tonelaje_segun_computadora_xgb-1</th>\n",
       "      <th>Diferencia_Pases_rnn</th>\n",
       "      <th>tonelaje_segun_computadora_rnn</th>\n",
       "      <th>Diferencia_Pases_rnn+1</th>\n",
       "      <th>tonelaje_segun_computadora_rnn+1</th>\n",
       "      <th>Diferencia_Pases_rnn-1</th>\n",
       "      <th>tonelaje_segun_computadora_rnn-1</th>\n",
       "      <th>tiempo_ready_cargando_pala_por_pase</th>\n",
       "      <th>tiempo_ready_cargando_pala_rl+1</th>\n",
       "      <th>tiempo_ready_cargando_pala_rl-1</th>\n",
       "    </tr>\n",
       "  </thead>\n",
       "  <tbody>\n",
       "    <tr>\n",
       "      <th>247928</th>\n",
       "      <td>614471.900000</td>\n",
       "      <td>300.000000</td>\n",
       "      <td>27.000000</td>\n",
       "      <td>45.000000</td>\n",
       "      <td>229.000000</td>\n",
       "      <td>0.000000</td>\n",
       "      <td>50.000000</td>\n",
       "      <td>368.530000</td>\n",
       "      <td>561.629000</td>\n",
       "      <td>213.400000</td>\n",
       "      <td>38.000000</td>\n",
       "      <td>213.400000</td>\n",
       "      <td>53</td>\n",
       "      <td>69</td>\n",
       "      <td>2.693000</td>\n",
       "      <td>429.115795</td>\n",
       "      <td>10.000000</td>\n",
       "      <td>42.007000</td>\n",
       "      <td>180.040000</td>\n",
       "      <td>520.072000</td>\n",
       "      <td>10.000000</td>\n",
       "      <td>19.999000</td>\n",
       "      <td>12.000000</td>\n",
       "      <td>66.009000</td>\n",
       "      <td>180.040000</td>\n",
       "      <td>397.152000</td>\n",
       "      <td>1330.995579</td>\n",
       "      <td>6</td>\n",
       "      <td>5</td>\n",
       "      <td>5</td>\n",
       "      <td>5</td>\n",
       "      <td>6</td>\n",
       "      <td>6</td>\n",
       "      <td>6</td>\n",
       "      <td>4</td>\n",
       "      <td>6</td>\n",
       "      <td>4</td>\n",
       "      <td>6</td>\n",
       "      <td>4</td>\n",
       "      <td>7</td>\n",
       "      <td>5</td>\n",
       "      <td>7</td>\n",
       "      <td>5</td>\n",
       "      <td>-1</td>\n",
       "      <td>168.400000</td>\n",
       "      <td>1</td>\n",
       "      <td>213.400000</td>\n",
       "      <td>-1</td>\n",
       "      <td>123.400000</td>\n",
       "      <td>-1</td>\n",
       "      <td>168.400000</td>\n",
       "      <td>1</td>\n",
       "      <td>213.400000</td>\n",
       "      <td>-1</td>\n",
       "      <td>123.400000</td>\n",
       "      <td>-1</td>\n",
       "      <td>168.400000</td>\n",
       "      <td>1</td>\n",
       "      <td>213.400000</td>\n",
       "      <td>-1</td>\n",
       "      <td>123.400000</td>\n",
       "      <td>0</td>\n",
       "      <td>213.400000</td>\n",
       "      <td>1</td>\n",
       "      <td>258.400000</td>\n",
       "      <td>-1</td>\n",
       "      <td>168.400000</td>\n",
       "      <td>0</td>\n",
       "      <td>213.400000</td>\n",
       "      <td>1</td>\n",
       "      <td>258.400000</td>\n",
       "      <td>-1</td>\n",
       "      <td>168.400000</td>\n",
       "      <td>30.006667</td>\n",
       "      <td>210.046667</td>\n",
       "      <td>150.033333</td>\n",
       "    </tr>\n",
       "    <tr>\n",
       "      <th>504709</th>\n",
       "      <td>259052.600000</td>\n",
       "      <td>300.000000</td>\n",
       "      <td>27.000000</td>\n",
       "      <td>45.000000</td>\n",
       "      <td>229.000000</td>\n",
       "      <td>0.000000</td>\n",
       "      <td>35.000000</td>\n",
       "      <td>297.677001</td>\n",
       "      <td>0.000000</td>\n",
       "      <td>218.500000</td>\n",
       "      <td>51.000000</td>\n",
       "      <td>229.400000</td>\n",
       "      <td>45</td>\n",
       "      <td>69</td>\n",
       "      <td>2.711000</td>\n",
       "      <td>876.893623</td>\n",
       "      <td>36.005000</td>\n",
       "      <td>96.016000</td>\n",
       "      <td>118.019000</td>\n",
       "      <td>320.055000</td>\n",
       "      <td>4.000000</td>\n",
       "      <td>14.000000</td>\n",
       "      <td>12.002000</td>\n",
       "      <td>44.005000</td>\n",
       "      <td>118.019000</td>\n",
       "      <td>42.629000</td>\n",
       "      <td>5140.680245</td>\n",
       "      <td>5</td>\n",
       "      <td>5</td>\n",
       "      <td>6</td>\n",
       "      <td>6</td>\n",
       "      <td>6</td>\n",
       "      <td>6</td>\n",
       "      <td>6</td>\n",
       "      <td>4</td>\n",
       "      <td>7</td>\n",
       "      <td>5</td>\n",
       "      <td>7</td>\n",
       "      <td>5</td>\n",
       "      <td>7</td>\n",
       "      <td>5</td>\n",
       "      <td>7</td>\n",
       "      <td>5</td>\n",
       "      <td>0</td>\n",
       "      <td>229.400000</td>\n",
       "      <td>1</td>\n",
       "      <td>274.400000</td>\n",
       "      <td>-1</td>\n",
       "      <td>184.400000</td>\n",
       "      <td>1</td>\n",
       "      <td>274.400000</td>\n",
       "      <td>1</td>\n",
       "      <td>319.400000</td>\n",
       "      <td>-1</td>\n",
       "      <td>229.400000</td>\n",
       "      <td>1</td>\n",
       "      <td>274.400000</td>\n",
       "      <td>1</td>\n",
       "      <td>319.400000</td>\n",
       "      <td>-1</td>\n",
       "      <td>229.400000</td>\n",
       "      <td>1</td>\n",
       "      <td>274.400000</td>\n",
       "      <td>1</td>\n",
       "      <td>319.400000</td>\n",
       "      <td>-1</td>\n",
       "      <td>229.400000</td>\n",
       "      <td>1</td>\n",
       "      <td>274.400000</td>\n",
       "      <td>1</td>\n",
       "      <td>319.400000</td>\n",
       "      <td>-1</td>\n",
       "      <td>229.400000</td>\n",
       "      <td>23.603800</td>\n",
       "      <td>141.622800</td>\n",
       "      <td>94.415200</td>\n",
       "    </tr>\n",
       "    <tr>\n",
       "      <th>64148</th>\n",
       "      <td>137479.800000</td>\n",
       "      <td>300.000000</td>\n",
       "      <td>27.000000</td>\n",
       "      <td>45.000000</td>\n",
       "      <td>229.000000</td>\n",
       "      <td>300.000000</td>\n",
       "      <td>28.000000</td>\n",
       "      <td>83.345025</td>\n",
       "      <td>16.123000</td>\n",
       "      <td>241.100000</td>\n",
       "      <td>47.000000</td>\n",
       "      <td>240.600000</td>\n",
       "      <td>34</td>\n",
       "      <td>70</td>\n",
       "      <td>2.793000</td>\n",
       "      <td>706.713421</td>\n",
       "      <td>20.002000</td>\n",
       "      <td>34.004000</td>\n",
       "      <td>106.012000</td>\n",
       "      <td>868.122000</td>\n",
       "      <td>2.000000</td>\n",
       "      <td>18.000000</td>\n",
       "      <td>14.000000</td>\n",
       "      <td>64.009000</td>\n",
       "      <td>106.012000</td>\n",
       "      <td>70.129000</td>\n",
       "      <td>4917.424109</td>\n",
       "      <td>6</td>\n",
       "      <td>5</td>\n",
       "      <td>5</td>\n",
       "      <td>5</td>\n",
       "      <td>6</td>\n",
       "      <td>6</td>\n",
       "      <td>6</td>\n",
       "      <td>4</td>\n",
       "      <td>6</td>\n",
       "      <td>4</td>\n",
       "      <td>6</td>\n",
       "      <td>4</td>\n",
       "      <td>7</td>\n",
       "      <td>5</td>\n",
       "      <td>7</td>\n",
       "      <td>5</td>\n",
       "      <td>-1</td>\n",
       "      <td>195.600000</td>\n",
       "      <td>1</td>\n",
       "      <td>240.600000</td>\n",
       "      <td>-1</td>\n",
       "      <td>150.600000</td>\n",
       "      <td>-1</td>\n",
       "      <td>195.600000</td>\n",
       "      <td>1</td>\n",
       "      <td>240.600000</td>\n",
       "      <td>-1</td>\n",
       "      <td>150.600000</td>\n",
       "      <td>-1</td>\n",
       "      <td>195.600000</td>\n",
       "      <td>1</td>\n",
       "      <td>240.600000</td>\n",
       "      <td>-1</td>\n",
       "      <td>150.600000</td>\n",
       "      <td>0</td>\n",
       "      <td>240.600000</td>\n",
       "      <td>1</td>\n",
       "      <td>285.600000</td>\n",
       "      <td>-1</td>\n",
       "      <td>195.600000</td>\n",
       "      <td>0</td>\n",
       "      <td>240.600000</td>\n",
       "      <td>1</td>\n",
       "      <td>285.600000</td>\n",
       "      <td>-1</td>\n",
       "      <td>195.600000</td>\n",
       "      <td>17.668667</td>\n",
       "      <td>123.680667</td>\n",
       "      <td>88.343333</td>\n",
       "    </tr>\n",
       "    <tr>\n",
       "      <th>704913</th>\n",
       "      <td>524056.500000</td>\n",
       "      <td>300.000000</td>\n",
       "      <td>27.000000</td>\n",
       "      <td>45.000000</td>\n",
       "      <td>229.000000</td>\n",
       "      <td>0.000000</td>\n",
       "      <td>55.000000</td>\n",
       "      <td>80.118000</td>\n",
       "      <td>0.000000</td>\n",
       "      <td>240.900000</td>\n",
       "      <td>84.000000</td>\n",
       "      <td>240.900000</td>\n",
       "      <td>40</td>\n",
       "      <td>69</td>\n",
       "      <td>2.707000</td>\n",
       "      <td>685.973005</td>\n",
       "      <td>11.898000</td>\n",
       "      <td>204.044000</td>\n",
       "      <td>198.037000</td>\n",
       "      <td>656.132000</td>\n",
       "      <td>2.000000</td>\n",
       "      <td>70.016000</td>\n",
       "      <td>0.000000</td>\n",
       "      <td>42.003000</td>\n",
       "      <td>198.037000</td>\n",
       "      <td>67.832000</td>\n",
       "      <td>3261.907180</td>\n",
       "      <td>7</td>\n",
       "      <td>6</td>\n",
       "      <td>6</td>\n",
       "      <td>6</td>\n",
       "      <td>6</td>\n",
       "      <td>6</td>\n",
       "      <td>7</td>\n",
       "      <td>5</td>\n",
       "      <td>7</td>\n",
       "      <td>5</td>\n",
       "      <td>7</td>\n",
       "      <td>5</td>\n",
       "      <td>7</td>\n",
       "      <td>5</td>\n",
       "      <td>7</td>\n",
       "      <td>5</td>\n",
       "      <td>-1</td>\n",
       "      <td>195.900000</td>\n",
       "      <td>1</td>\n",
       "      <td>240.900000</td>\n",
       "      <td>-1</td>\n",
       "      <td>150.900000</td>\n",
       "      <td>-1</td>\n",
       "      <td>195.900000</td>\n",
       "      <td>1</td>\n",
       "      <td>240.900000</td>\n",
       "      <td>-1</td>\n",
       "      <td>150.900000</td>\n",
       "      <td>-1</td>\n",
       "      <td>195.900000</td>\n",
       "      <td>1</td>\n",
       "      <td>240.900000</td>\n",
       "      <td>-1</td>\n",
       "      <td>150.900000</td>\n",
       "      <td>-1</td>\n",
       "      <td>195.900000</td>\n",
       "      <td>1</td>\n",
       "      <td>240.900000</td>\n",
       "      <td>-1</td>\n",
       "      <td>150.900000</td>\n",
       "      <td>-1</td>\n",
       "      <td>195.900000</td>\n",
       "      <td>1</td>\n",
       "      <td>240.900000</td>\n",
       "      <td>-1</td>\n",
       "      <td>150.900000</td>\n",
       "      <td>28.291000</td>\n",
       "      <td>226.328000</td>\n",
       "      <td>169.746000</td>\n",
       "    </tr>\n",
       "    <tr>\n",
       "      <th>105049</th>\n",
       "      <td>20000000.000000</td>\n",
       "      <td>0.000000</td>\n",
       "      <td>12.000000</td>\n",
       "      <td>25.000000</td>\n",
       "      <td>229.000000</td>\n",
       "      <td>1800.000000</td>\n",
       "      <td>60.000000</td>\n",
       "      <td>103.490000</td>\n",
       "      <td>78.539000</td>\n",
       "      <td>234.900000</td>\n",
       "      <td>0.000000</td>\n",
       "      <td>233.600000</td>\n",
       "      <td>52</td>\n",
       "      <td>117</td>\n",
       "      <td>2.000000</td>\n",
       "      <td>962.043794</td>\n",
       "      <td>0.000000</td>\n",
       "      <td>0.000000</td>\n",
       "      <td>338.060000</td>\n",
       "      <td>270.034000</td>\n",
       "      <td>8.001000</td>\n",
       "      <td>24.003000</td>\n",
       "      <td>8.004000</td>\n",
       "      <td>44.008000</td>\n",
       "      <td>338.060000</td>\n",
       "      <td>78.539000</td>\n",
       "      <td>2018.631826</td>\n",
       "      <td>0</td>\n",
       "      <td>0</td>\n",
       "      <td>0</td>\n",
       "      <td>0</td>\n",
       "      <td>0</td>\n",
       "      <td>0</td>\n",
       "      <td>1</td>\n",
       "      <td>-1</td>\n",
       "      <td>1</td>\n",
       "      <td>-1</td>\n",
       "      <td>1</td>\n",
       "      <td>-1</td>\n",
       "      <td>1</td>\n",
       "      <td>-1</td>\n",
       "      <td>1</td>\n",
       "      <td>-1</td>\n",
       "      <td>0</td>\n",
       "      <td>233.600000</td>\n",
       "      <td>1</td>\n",
       "      <td>258.600000</td>\n",
       "      <td>-1</td>\n",
       "      <td>208.600000</td>\n",
       "      <td>0</td>\n",
       "      <td>233.600000</td>\n",
       "      <td>1</td>\n",
       "      <td>258.600000</td>\n",
       "      <td>-1</td>\n",
       "      <td>208.600000</td>\n",
       "      <td>0</td>\n",
       "      <td>233.600000</td>\n",
       "      <td>1</td>\n",
       "      <td>258.600000</td>\n",
       "      <td>-1</td>\n",
       "      <td>208.600000</td>\n",
       "      <td>0</td>\n",
       "      <td>233.600000</td>\n",
       "      <td>1</td>\n",
       "      <td>258.600000</td>\n",
       "      <td>-1</td>\n",
       "      <td>208.600000</td>\n",
       "      <td>0</td>\n",
       "      <td>233.600000</td>\n",
       "      <td>1</td>\n",
       "      <td>258.600000</td>\n",
       "      <td>-1</td>\n",
       "      <td>208.600000</td>\n",
       "      <td>0.000000</td>\n",
       "      <td>338.060000</td>\n",
       "      <td>338.060000</td>\n",
       "    </tr>\n",
       "    <tr>\n",
       "      <th>531510</th>\n",
       "      <td>102376.700000</td>\n",
       "      <td>300.000000</td>\n",
       "      <td>27.000000</td>\n",
       "      <td>45.000000</td>\n",
       "      <td>229.000000</td>\n",
       "      <td>0.000000</td>\n",
       "      <td>40.000000</td>\n",
       "      <td>38.851000</td>\n",
       "      <td>65.066000</td>\n",
       "      <td>224.900000</td>\n",
       "      <td>55.000000</td>\n",
       "      <td>229.200000</td>\n",
       "      <td>51</td>\n",
       "      <td>71</td>\n",
       "      <td>3.022000</td>\n",
       "      <td>603.133646</td>\n",
       "      <td>18.002000</td>\n",
       "      <td>14.005000</td>\n",
       "      <td>152.009000</td>\n",
       "      <td>1016.117000</td>\n",
       "      <td>2.000000</td>\n",
       "      <td>16.001000</td>\n",
       "      <td>18.000000</td>\n",
       "      <td>28.004000</td>\n",
       "      <td>152.009000</td>\n",
       "      <td>97.073000</td>\n",
       "      <td>3312.644029</td>\n",
       "      <td>6</td>\n",
       "      <td>5</td>\n",
       "      <td>5</td>\n",
       "      <td>5</td>\n",
       "      <td>5</td>\n",
       "      <td>5</td>\n",
       "      <td>6</td>\n",
       "      <td>4</td>\n",
       "      <td>6</td>\n",
       "      <td>4</td>\n",
       "      <td>6</td>\n",
       "      <td>4</td>\n",
       "      <td>6</td>\n",
       "      <td>4</td>\n",
       "      <td>6</td>\n",
       "      <td>4</td>\n",
       "      <td>-1</td>\n",
       "      <td>184.200000</td>\n",
       "      <td>1</td>\n",
       "      <td>229.200000</td>\n",
       "      <td>-1</td>\n",
       "      <td>139.200000</td>\n",
       "      <td>-1</td>\n",
       "      <td>184.200000</td>\n",
       "      <td>1</td>\n",
       "      <td>229.200000</td>\n",
       "      <td>-1</td>\n",
       "      <td>139.200000</td>\n",
       "      <td>-1</td>\n",
       "      <td>184.200000</td>\n",
       "      <td>1</td>\n",
       "      <td>229.200000</td>\n",
       "      <td>-1</td>\n",
       "      <td>139.200000</td>\n",
       "      <td>-1</td>\n",
       "      <td>184.200000</td>\n",
       "      <td>1</td>\n",
       "      <td>229.200000</td>\n",
       "      <td>-1</td>\n",
       "      <td>139.200000</td>\n",
       "      <td>-1</td>\n",
       "      <td>184.200000</td>\n",
       "      <td>1</td>\n",
       "      <td>229.200000</td>\n",
       "      <td>-1</td>\n",
       "      <td>139.200000</td>\n",
       "      <td>25.334833</td>\n",
       "      <td>177.343833</td>\n",
       "      <td>126.674167</td>\n",
       "    </tr>\n",
       "    <tr>\n",
       "      <th>464857</th>\n",
       "      <td>197700.900000</td>\n",
       "      <td>300.000000</td>\n",
       "      <td>27.000000</td>\n",
       "      <td>45.000000</td>\n",
       "      <td>229.000000</td>\n",
       "      <td>300.000000</td>\n",
       "      <td>55.000000</td>\n",
       "      <td>0.000000</td>\n",
       "      <td>2.000000</td>\n",
       "      <td>238.900000</td>\n",
       "      <td>44.000000</td>\n",
       "      <td>243.500000</td>\n",
       "      <td>46</td>\n",
       "      <td>70</td>\n",
       "      <td>2.761000</td>\n",
       "      <td>1404.605105</td>\n",
       "      <td>16.001000</td>\n",
       "      <td>8.002000</td>\n",
       "      <td>180.028000</td>\n",
       "      <td>350.053000</td>\n",
       "      <td>8.002000</td>\n",
       "      <td>7.999000</td>\n",
       "      <td>14.001000</td>\n",
       "      <td>38.004000</td>\n",
       "      <td>180.028000</td>\n",
       "      <td>91.920000</td>\n",
       "      <td>3223.410358</td>\n",
       "      <td>8</td>\n",
       "      <td>5</td>\n",
       "      <td>5</td>\n",
       "      <td>5</td>\n",
       "      <td>6</td>\n",
       "      <td>6</td>\n",
       "      <td>6</td>\n",
       "      <td>4</td>\n",
       "      <td>6</td>\n",
       "      <td>4</td>\n",
       "      <td>6</td>\n",
       "      <td>4</td>\n",
       "      <td>7</td>\n",
       "      <td>5</td>\n",
       "      <td>7</td>\n",
       "      <td>5</td>\n",
       "      <td>-3</td>\n",
       "      <td>108.500000</td>\n",
       "      <td>1</td>\n",
       "      <td>153.500000</td>\n",
       "      <td>-1</td>\n",
       "      <td>63.500000</td>\n",
       "      <td>-3</td>\n",
       "      <td>108.500000</td>\n",
       "      <td>1</td>\n",
       "      <td>153.500000</td>\n",
       "      <td>-1</td>\n",
       "      <td>63.500000</td>\n",
       "      <td>-3</td>\n",
       "      <td>108.500000</td>\n",
       "      <td>1</td>\n",
       "      <td>153.500000</td>\n",
       "      <td>-1</td>\n",
       "      <td>63.500000</td>\n",
       "      <td>-2</td>\n",
       "      <td>153.500000</td>\n",
       "      <td>1</td>\n",
       "      <td>198.500000</td>\n",
       "      <td>-1</td>\n",
       "      <td>108.500000</td>\n",
       "      <td>-2</td>\n",
       "      <td>153.500000</td>\n",
       "      <td>1</td>\n",
       "      <td>198.500000</td>\n",
       "      <td>-1</td>\n",
       "      <td>108.500000</td>\n",
       "      <td>22.503500</td>\n",
       "      <td>202.531500</td>\n",
       "      <td>157.524500</td>\n",
       "    </tr>\n",
       "    <tr>\n",
       "      <th>562987</th>\n",
       "      <td>50000.400000</td>\n",
       "      <td>680.000000</td>\n",
       "      <td>23.000000</td>\n",
       "      <td>39.158333</td>\n",
       "      <td>229.000000</td>\n",
       "      <td>0.000000</td>\n",
       "      <td>30.000000</td>\n",
       "      <td>0.000000</td>\n",
       "      <td>1.999000</td>\n",
       "      <td>239.700000</td>\n",
       "      <td>28.000000</td>\n",
       "      <td>232.100000</td>\n",
       "      <td>47</td>\n",
       "      <td>72</td>\n",
       "      <td>2.200000</td>\n",
       "      <td>1008.947654</td>\n",
       "      <td>22.013000</td>\n",
       "      <td>4.000000</td>\n",
       "      <td>200.031000</td>\n",
       "      <td>82.014000</td>\n",
       "      <td>0.000000</td>\n",
       "      <td>18.006000</td>\n",
       "      <td>434.080000</td>\n",
       "      <td>66.007000</td>\n",
       "      <td>200.031000</td>\n",
       "      <td>436.773000</td>\n",
       "      <td>1312.114874</td>\n",
       "      <td>6</td>\n",
       "      <td>7</td>\n",
       "      <td>7</td>\n",
       "      <td>7</td>\n",
       "      <td>6</td>\n",
       "      <td>6</td>\n",
       "      <td>8</td>\n",
       "      <td>6</td>\n",
       "      <td>8</td>\n",
       "      <td>6</td>\n",
       "      <td>8</td>\n",
       "      <td>6</td>\n",
       "      <td>7</td>\n",
       "      <td>5</td>\n",
       "      <td>7</td>\n",
       "      <td>5</td>\n",
       "      <td>1</td>\n",
       "      <td>271.258333</td>\n",
       "      <td>1</td>\n",
       "      <td>310.416667</td>\n",
       "      <td>-1</td>\n",
       "      <td>232.100000</td>\n",
       "      <td>1</td>\n",
       "      <td>271.258333</td>\n",
       "      <td>1</td>\n",
       "      <td>310.416667</td>\n",
       "      <td>-1</td>\n",
       "      <td>232.100000</td>\n",
       "      <td>1</td>\n",
       "      <td>271.258333</td>\n",
       "      <td>1</td>\n",
       "      <td>310.416667</td>\n",
       "      <td>-1</td>\n",
       "      <td>232.100000</td>\n",
       "      <td>0</td>\n",
       "      <td>232.100000</td>\n",
       "      <td>1</td>\n",
       "      <td>271.258333</td>\n",
       "      <td>-1</td>\n",
       "      <td>192.941667</td>\n",
       "      <td>0</td>\n",
       "      <td>232.100000</td>\n",
       "      <td>1</td>\n",
       "      <td>271.258333</td>\n",
       "      <td>-1</td>\n",
       "      <td>192.941667</td>\n",
       "      <td>33.338500</td>\n",
       "      <td>233.369500</td>\n",
       "      <td>166.692500</td>\n",
       "    </tr>\n",
       "    <tr>\n",
       "      <th>197261</th>\n",
       "      <td>71784.600000</td>\n",
       "      <td>680.000000</td>\n",
       "      <td>23.000000</td>\n",
       "      <td>39.158333</td>\n",
       "      <td>229.000000</td>\n",
       "      <td>1200.000000</td>\n",
       "      <td>35.000000</td>\n",
       "      <td>0.000000</td>\n",
       "      <td>34.001000</td>\n",
       "      <td>230.800000</td>\n",
       "      <td>20.000000</td>\n",
       "      <td>234.500000</td>\n",
       "      <td>51</td>\n",
       "      <td>73</td>\n",
       "      <td>2.692000</td>\n",
       "      <td>1079.420933</td>\n",
       "      <td>16.000000</td>\n",
       "      <td>6.003000</td>\n",
       "      <td>204.022000</td>\n",
       "      <td>456.053000</td>\n",
       "      <td>8.003000</td>\n",
       "      <td>10.001000</td>\n",
       "      <td>12.000000</td>\n",
       "      <td>36.003000</td>\n",
       "      <td>204.022000</td>\n",
       "      <td>66.570000</td>\n",
       "      <td>3119.826159</td>\n",
       "      <td>8</td>\n",
       "      <td>7</td>\n",
       "      <td>8</td>\n",
       "      <td>8</td>\n",
       "      <td>8</td>\n",
       "      <td>8</td>\n",
       "      <td>8</td>\n",
       "      <td>6</td>\n",
       "      <td>9</td>\n",
       "      <td>7</td>\n",
       "      <td>9</td>\n",
       "      <td>7</td>\n",
       "      <td>9</td>\n",
       "      <td>7</td>\n",
       "      <td>9</td>\n",
       "      <td>7</td>\n",
       "      <td>-1</td>\n",
       "      <td>195.341667</td>\n",
       "      <td>1</td>\n",
       "      <td>234.500000</td>\n",
       "      <td>-1</td>\n",
       "      <td>156.183333</td>\n",
       "      <td>0</td>\n",
       "      <td>234.500000</td>\n",
       "      <td>1</td>\n",
       "      <td>273.658333</td>\n",
       "      <td>-1</td>\n",
       "      <td>195.341667</td>\n",
       "      <td>0</td>\n",
       "      <td>234.500000</td>\n",
       "      <td>1</td>\n",
       "      <td>273.658333</td>\n",
       "      <td>-1</td>\n",
       "      <td>195.341667</td>\n",
       "      <td>0</td>\n",
       "      <td>234.500000</td>\n",
       "      <td>1</td>\n",
       "      <td>273.658333</td>\n",
       "      <td>-1</td>\n",
       "      <td>195.341667</td>\n",
       "      <td>0</td>\n",
       "      <td>234.500000</td>\n",
       "      <td>1</td>\n",
       "      <td>273.658333</td>\n",
       "      <td>-1</td>\n",
       "      <td>195.341667</td>\n",
       "      <td>25.502750</td>\n",
       "      <td>229.524750</td>\n",
       "      <td>178.519250</td>\n",
       "    </tr>\n",
       "    <tr>\n",
       "      <th>22206</th>\n",
       "      <td>66348.000000</td>\n",
       "      <td>300.000000</td>\n",
       "      <td>27.000000</td>\n",
       "      <td>45.000000</td>\n",
       "      <td>229.000000</td>\n",
       "      <td>0.000000</td>\n",
       "      <td>50.000000</td>\n",
       "      <td>6.001000</td>\n",
       "      <td>0.000000</td>\n",
       "      <td>217.000000</td>\n",
       "      <td>68.000000</td>\n",
       "      <td>221.900000</td>\n",
       "      <td>34</td>\n",
       "      <td>69</td>\n",
       "      <td>2.805000</td>\n",
       "      <td>705.560026</td>\n",
       "      <td>62.005000</td>\n",
       "      <td>96.016000</td>\n",
       "      <td>140.031000</td>\n",
       "      <td>738.140000</td>\n",
       "      <td>6.002000</td>\n",
       "      <td>28.004000</td>\n",
       "      <td>16.003000</td>\n",
       "      <td>40.005000</td>\n",
       "      <td>140.031000</td>\n",
       "      <td>78.308000</td>\n",
       "      <td>3658.714201</td>\n",
       "      <td>6</td>\n",
       "      <td>5</td>\n",
       "      <td>6</td>\n",
       "      <td>6</td>\n",
       "      <td>6</td>\n",
       "      <td>6</td>\n",
       "      <td>6</td>\n",
       "      <td>4</td>\n",
       "      <td>7</td>\n",
       "      <td>5</td>\n",
       "      <td>7</td>\n",
       "      <td>5</td>\n",
       "      <td>7</td>\n",
       "      <td>5</td>\n",
       "      <td>7</td>\n",
       "      <td>5</td>\n",
       "      <td>-1</td>\n",
       "      <td>176.900000</td>\n",
       "      <td>1</td>\n",
       "      <td>221.900000</td>\n",
       "      <td>-1</td>\n",
       "      <td>131.900000</td>\n",
       "      <td>0</td>\n",
       "      <td>221.900000</td>\n",
       "      <td>1</td>\n",
       "      <td>266.900000</td>\n",
       "      <td>-1</td>\n",
       "      <td>176.900000</td>\n",
       "      <td>0</td>\n",
       "      <td>221.900000</td>\n",
       "      <td>1</td>\n",
       "      <td>266.900000</td>\n",
       "      <td>-1</td>\n",
       "      <td>176.900000</td>\n",
       "      <td>0</td>\n",
       "      <td>221.900000</td>\n",
       "      <td>1</td>\n",
       "      <td>266.900000</td>\n",
       "      <td>-1</td>\n",
       "      <td>176.900000</td>\n",
       "      <td>0</td>\n",
       "      <td>221.900000</td>\n",
       "      <td>1</td>\n",
       "      <td>266.900000</td>\n",
       "      <td>-1</td>\n",
       "      <td>176.900000</td>\n",
       "      <td>23.338500</td>\n",
       "      <td>163.369500</td>\n",
       "      <td>116.692500</td>\n",
       "    </tr>\n",
       "  </tbody>\n",
       "</table>\n",
       "</div>"
      ],
      "text/plain": [
       "        tonelaje_inicial_poligono_creado  radiohexagonocuchara_equipocarguio  capacidad_en_volumen_equipo_carguio_m3  capacidad_en_peso_equipo_carguio  capacidad_en_peso_equipo_acarreo  tiempo_estimado_duracion_estado_pala  radio_locacion_metros  tiempo_ready_llegada_esperando  tiempo_ready_esperando_cuadra  tonelaje_camion_antes_cargaestabilizada  angulo_giro_promedio_pases  tonelaje_segun_computadora  id_equipo_camion  id_equipo_carguio  densidad_inicial_poligono_creado_tn/m3  productividad_operativa_acarreo_tn_h  tiempo_ready_cuadra_cuadrado  tiempo_ready_cuadrado_cargado  tiempo_ready_carga_acarreo  tiempo_ready_acarreo_cola  tiempo_ready_cola_retro  tiempo_ready_retro_listo  tiempo_ready_listo_descarga  tiempo_ready_descarga_viajandovacio  tiempo_ready_cargando_pala  tiempo_ready_esperando_pala  productividad_operativa_carguio_tn_h  Numero_pases_real  Numero_pases_reglineal  Numero_pases_arboldecision  Numero_pases_rforest  Numero_pases_xgb  Numero_pases_rnn  Numero_pases_reglineal+1  Numero_pases_reglineal-1  Numero_pases_arboldecision+1  Numero_pases_arboldecision-1  Numero_pases_rforest+1  Numero_pases_rforest-1  Numero_pases_xgb+1  Numero_pases_xgb-1  Numero_pases_rnn+1  Numero_pases_rnn-1  Diferencia_Pases_rl  tonelaje_segun_computadora_rl  Diferencia_Pases_rl+1  tonelaje_segun_computadora_rl+1  Diferencia_Pases_rl-1  tonelaje_segun_computadora_rl-1  Diferencia_Pases_dt  tonelaje_segun_computadora_dt  Diferencia_Pases_dt+1  tonelaje_segun_computadora_dt+1  Diferencia_Pases_dt-1  tonelaje_segun_computadora_dt-1  Diferencia_Pases_rf  tonelaje_segun_computadora_rf  Diferencia_Pases_rf+1  tonelaje_segun_computadora_rf+1  Diferencia_Pases_rf-1  tonelaje_segun_computadora_rf-1  Diferencia_Pases_xgb  tonelaje_segun_computadora_xgb  Diferencia_Pases_xgb+1  tonelaje_segun_computadora_xgb+1  Diferencia_Pases_xgb-1  tonelaje_segun_computadora_xgb-1  Diferencia_Pases_rnn  tonelaje_segun_computadora_rnn  Diferencia_Pases_rnn+1  tonelaje_segun_computadora_rnn+1  Diferencia_Pases_rnn-1  tonelaje_segun_computadora_rnn-1  tiempo_ready_cargando_pala_por_pase  tiempo_ready_cargando_pala_rl+1  tiempo_ready_cargando_pala_rl-1\n",
       "247928                     614471.900000                          300.000000                               27.000000                         45.000000                        229.000000                              0.000000              50.000000                      368.530000                     561.629000                               213.400000                   38.000000                  213.400000                53                 69                                2.693000                            429.115795                     10.000000                      42.007000                  180.040000                 520.072000                10.000000                 19.999000                    12.000000                            66.009000                  180.040000                   397.152000                           1330.995579                  6                       5                           5                     5                 6                 6                         6                         4                             6                             4                       6                       4                   7                   5                   7                   5                   -1                     168.400000                      1                       213.400000                     -1                       123.400000                   -1                     168.400000                      1                       213.400000                     -1                       123.400000                   -1                     168.400000                      1                       213.400000                     -1                       123.400000                     0                      213.400000                       1                        258.400000                      -1                        168.400000                     0                      213.400000                       1                        258.400000                      -1                        168.400000                            30.006667                       210.046667                       150.033333\n",
       "504709                     259052.600000                          300.000000                               27.000000                         45.000000                        229.000000                              0.000000              35.000000                      297.677001                       0.000000                               218.500000                   51.000000                  229.400000                45                 69                                2.711000                            876.893623                     36.005000                      96.016000                  118.019000                 320.055000                 4.000000                 14.000000                    12.002000                            44.005000                  118.019000                    42.629000                           5140.680245                  5                       5                           6                     6                 6                 6                         6                         4                             7                             5                       7                       5                   7                   5                   7                   5                    0                     229.400000                      1                       274.400000                     -1                       184.400000                    1                     274.400000                      1                       319.400000                     -1                       229.400000                    1                     274.400000                      1                       319.400000                     -1                       229.400000                     1                      274.400000                       1                        319.400000                      -1                        229.400000                     1                      274.400000                       1                        319.400000                      -1                        229.400000                            23.603800                       141.622800                        94.415200\n",
       "64148                      137479.800000                          300.000000                               27.000000                         45.000000                        229.000000                            300.000000              28.000000                       83.345025                      16.123000                               241.100000                   47.000000                  240.600000                34                 70                                2.793000                            706.713421                     20.002000                      34.004000                  106.012000                 868.122000                 2.000000                 18.000000                    14.000000                            64.009000                  106.012000                    70.129000                           4917.424109                  6                       5                           5                     5                 6                 6                         6                         4                             6                             4                       6                       4                   7                   5                   7                   5                   -1                     195.600000                      1                       240.600000                     -1                       150.600000                   -1                     195.600000                      1                       240.600000                     -1                       150.600000                   -1                     195.600000                      1                       240.600000                     -1                       150.600000                     0                      240.600000                       1                        285.600000                      -1                        195.600000                     0                      240.600000                       1                        285.600000                      -1                        195.600000                            17.668667                       123.680667                        88.343333\n",
       "704913                     524056.500000                          300.000000                               27.000000                         45.000000                        229.000000                              0.000000              55.000000                       80.118000                       0.000000                               240.900000                   84.000000                  240.900000                40                 69                                2.707000                            685.973005                     11.898000                     204.044000                  198.037000                 656.132000                 2.000000                 70.016000                     0.000000                            42.003000                  198.037000                    67.832000                           3261.907180                  7                       6                           6                     6                 6                 6                         7                         5                             7                             5                       7                       5                   7                   5                   7                   5                   -1                     195.900000                      1                       240.900000                     -1                       150.900000                   -1                     195.900000                      1                       240.900000                     -1                       150.900000                   -1                     195.900000                      1                       240.900000                     -1                       150.900000                    -1                      195.900000                       1                        240.900000                      -1                        150.900000                    -1                      195.900000                       1                        240.900000                      -1                        150.900000                            28.291000                       226.328000                       169.746000\n",
       "105049                   20000000.000000                            0.000000                               12.000000                         25.000000                        229.000000                           1800.000000              60.000000                      103.490000                      78.539000                               234.900000                    0.000000                  233.600000                52                117                                2.000000                            962.043794                      0.000000                       0.000000                  338.060000                 270.034000                 8.001000                 24.003000                     8.004000                            44.008000                  338.060000                    78.539000                           2018.631826                  0                       0                           0                     0                 0                 0                         1                        -1                             1                            -1                       1                      -1                   1                  -1                   1                  -1                    0                     233.600000                      1                       258.600000                     -1                       208.600000                    0                     233.600000                      1                       258.600000                     -1                       208.600000                    0                     233.600000                      1                       258.600000                     -1                       208.600000                     0                      233.600000                       1                        258.600000                      -1                        208.600000                     0                      233.600000                       1                        258.600000                      -1                        208.600000                             0.000000                       338.060000                       338.060000\n",
       "531510                     102376.700000                          300.000000                               27.000000                         45.000000                        229.000000                              0.000000              40.000000                       38.851000                      65.066000                               224.900000                   55.000000                  229.200000                51                 71                                3.022000                            603.133646                     18.002000                      14.005000                  152.009000                1016.117000                 2.000000                 16.001000                    18.000000                            28.004000                  152.009000                    97.073000                           3312.644029                  6                       5                           5                     5                 5                 5                         6                         4                             6                             4                       6                       4                   6                   4                   6                   4                   -1                     184.200000                      1                       229.200000                     -1                       139.200000                   -1                     184.200000                      1                       229.200000                     -1                       139.200000                   -1                     184.200000                      1                       229.200000                     -1                       139.200000                    -1                      184.200000                       1                        229.200000                      -1                        139.200000                    -1                      184.200000                       1                        229.200000                      -1                        139.200000                            25.334833                       177.343833                       126.674167\n",
       "464857                     197700.900000                          300.000000                               27.000000                         45.000000                        229.000000                            300.000000              55.000000                        0.000000                       2.000000                               238.900000                   44.000000                  243.500000                46                 70                                2.761000                           1404.605105                     16.001000                       8.002000                  180.028000                 350.053000                 8.002000                  7.999000                    14.001000                            38.004000                  180.028000                    91.920000                           3223.410358                  8                       5                           5                     5                 6                 6                         6                         4                             6                             4                       6                       4                   7                   5                   7                   5                   -3                     108.500000                      1                       153.500000                     -1                        63.500000                   -3                     108.500000                      1                       153.500000                     -1                        63.500000                   -3                     108.500000                      1                       153.500000                     -1                        63.500000                    -2                      153.500000                       1                        198.500000                      -1                        108.500000                    -2                      153.500000                       1                        198.500000                      -1                        108.500000                            22.503500                       202.531500                       157.524500\n",
       "562987                      50000.400000                          680.000000                               23.000000                         39.158333                        229.000000                              0.000000              30.000000                        0.000000                       1.999000                               239.700000                   28.000000                  232.100000                47                 72                                2.200000                           1008.947654                     22.013000                       4.000000                  200.031000                  82.014000                 0.000000                 18.006000                   434.080000                            66.007000                  200.031000                   436.773000                           1312.114874                  6                       7                           7                     7                 6                 6                         8                         6                             8                             6                       8                       6                   7                   5                   7                   5                    1                     271.258333                      1                       310.416667                     -1                       232.100000                    1                     271.258333                      1                       310.416667                     -1                       232.100000                    1                     271.258333                      1                       310.416667                     -1                       232.100000                     0                      232.100000                       1                        271.258333                      -1                        192.941667                     0                      232.100000                       1                        271.258333                      -1                        192.941667                            33.338500                       233.369500                       166.692500\n",
       "197261                      71784.600000                          680.000000                               23.000000                         39.158333                        229.000000                           1200.000000              35.000000                        0.000000                      34.001000                               230.800000                   20.000000                  234.500000                51                 73                                2.692000                           1079.420933                     16.000000                       6.003000                  204.022000                 456.053000                 8.003000                 10.001000                    12.000000                            36.003000                  204.022000                    66.570000                           3119.826159                  8                       7                           8                     8                 8                 8                         8                         6                             9                             7                       9                       7                   9                   7                   9                   7                   -1                     195.341667                      1                       234.500000                     -1                       156.183333                    0                     234.500000                      1                       273.658333                     -1                       195.341667                    0                     234.500000                      1                       273.658333                     -1                       195.341667                     0                      234.500000                       1                        273.658333                      -1                        195.341667                     0                      234.500000                       1                        273.658333                      -1                        195.341667                            25.502750                       229.524750                       178.519250\n",
       "22206                       66348.000000                          300.000000                               27.000000                         45.000000                        229.000000                              0.000000              50.000000                        6.001000                       0.000000                               217.000000                   68.000000                  221.900000                34                 69                                2.805000                            705.560026                     62.005000                      96.016000                  140.031000                 738.140000                 6.002000                 28.004000                    16.003000                            40.005000                  140.031000                    78.308000                           3658.714201                  6                       5                           6                     6                 6                 6                         6                         4                             7                             5                       7                       5                   7                   5                   7                   5                   -1                     176.900000                      1                       221.900000                     -1                       131.900000                    0                     221.900000                      1                       266.900000                     -1                       176.900000                    0                     221.900000                      1                       266.900000                     -1                       176.900000                     0                      221.900000                       1                        266.900000                      -1                        176.900000                     0                      221.900000                       1                        266.900000                      -1                        176.900000                            23.338500                       163.369500                       116.692500"
      ]
     },
     "execution_count": 20,
     "metadata": {},
     "output_type": "execute_result"
    }
   ],
   "source": [
    "# Agregar las predicciones como una columna adicional al conjunto de prueba\n",
    "df_resultados_models = X_test_gen.copy()\n",
    "df_resultados_models['Numero_pases_real'] = y_test_gen\n",
    "df_resultados_models['Numero_pases_reglineal'] = y_pred_rl\n",
    "df_resultados_models['Numero_pases_arboldecision'] = y_pred_dt\n",
    "df_resultados_models['Numero_pases_rforest'] = y_pred_rf\n",
    "df_resultados_models['Numero_pases_xgb'] = y_pred_xgb\n",
    "df_resultados_models['Numero_pases_rnn'] = y_pred_rnn\n",
    "\n",
    "#------------------------------------------------------------------------------------------------------------------------------------------------------------------------------------------------------------------------\n",
    "# Aumento o disminucion de pases con respecto a la prediccion del modelo\n",
    "m = 1 # aumento\n",
    "n = 1 # disminuye\n",
    "\n",
    "# Regresion Lineal\n",
    "df_resultados_models['Numero_pases_reglineal+1'] = df_resultados_models['Numero_pases_reglineal'] + m\n",
    "df_resultados_models['Numero_pases_reglineal-1'] = df_resultados_models['Numero_pases_reglineal'] - n\n",
    "\n",
    "# Arbol de decision Regressor\n",
    "df_resultados_models['Numero_pases_arboldecision+1'] = df_resultados_models['Numero_pases_arboldecision'] + m\n",
    "df_resultados_models['Numero_pases_arboldecision-1'] = df_resultados_models['Numero_pases_arboldecision'] - n\n",
    "\n",
    "# Random Forest\n",
    "df_resultados_models['Numero_pases_rforest+1'] = df_resultados_models['Numero_pases_rforest'] + m\n",
    "df_resultados_models['Numero_pases_rforest-1'] = df_resultados_models['Numero_pases_rforest'] - n\n",
    "\n",
    "# XGB\n",
    "df_resultados_models['Numero_pases_xgb+1'] = df_resultados_models['Numero_pases_xgb'] + m\n",
    "df_resultados_models['Numero_pases_xgb-1'] = df_resultados_models['Numero_pases_xgb'] - n\n",
    "\n",
    "# Redes Neuronales LSTM\n",
    "df_resultados_models['Numero_pases_rnn+1'] = df_resultados_models['Numero_pases_rnn'] + m\n",
    "df_resultados_models['Numero_pases_rnn-1'] = df_resultados_models['Numero_pases_rnn'] - n\n",
    "\n",
    "\n",
    "#-------------------------------------------------------------------------------------------------------------------------------------------------------------------------------------------------------------------------\n",
    "#Regresion Lineal\n",
    "df_resultados_models['Diferencia_Pases_rl'] = df_resultados_models['Numero_pases_reglineal'] - df_resultados_models['Numero_pases_real']\n",
    "df_resultados_models['tonelaje_segun_computadora_rl'] = (df_resultados_models['tonelaje_segun_computadora']) + (df_resultados_models['Diferencia_Pases_rl']*df_resultados_models['capacidad_en_peso_equipo_carguio'])\n",
    "\n",
    "# Regresion Lineal + 1\n",
    "df_resultados_models['Diferencia_Pases_rl+1'] = df_resultados_models['Numero_pases_reglineal+1'] - df_resultados_models['Numero_pases_reglineal']\n",
    "df_resultados_models['tonelaje_segun_computadora_rl+1'] = (df_resultados_models['tonelaje_segun_computadora_rl']) + (df_resultados_models['Diferencia_Pases_rl+1']*df_resultados_models['capacidad_en_peso_equipo_carguio'])\n",
    "\n",
    "# Regresion Lineal - 1\n",
    "df_resultados_models['Diferencia_Pases_rl-1'] = df_resultados_models['Numero_pases_reglineal-1'] - df_resultados_models['Numero_pases_reglineal']\n",
    "df_resultados_models['tonelaje_segun_computadora_rl-1'] = (df_resultados_models['tonelaje_segun_computadora_rl']) + (df_resultados_models['Diferencia_Pases_rl-1']*df_resultados_models['capacidad_en_peso_equipo_carguio'])\n",
    "\n",
    "#Arbol de decision\n",
    "df_resultados_models['Diferencia_Pases_dt'] = df_resultados_models['Numero_pases_arboldecision'] - df_resultados_models['Numero_pases_real']\n",
    "df_resultados_models['tonelaje_segun_computadora_dt'] = (df_resultados_models['tonelaje_segun_computadora']) + (df_resultados_models['Diferencia_Pases_dt']*df_resultados_models['capacidad_en_peso_equipo_carguio'])\n",
    "\n",
    "\n",
    "# Arbol de decision + 1\n",
    "df_resultados_models['Diferencia_Pases_dt+1'] = df_resultados_models['Numero_pases_arboldecision+1'] - df_resultados_models['Numero_pases_arboldecision']\n",
    "df_resultados_models['tonelaje_segun_computadora_dt+1'] = (df_resultados_models['tonelaje_segun_computadora_dt']) + (df_resultados_models['Diferencia_Pases_dt+1']*df_resultados_models['capacidad_en_peso_equipo_carguio'])\n",
    "\n",
    "# Arbol de decision - 1\n",
    "df_resultados_models['Diferencia_Pases_dt-1'] = df_resultados_models['Numero_pases_arboldecision-1'] - df_resultados_models['Numero_pases_arboldecision']\n",
    "df_resultados_models['tonelaje_segun_computadora_dt-1'] = (df_resultados_models['tonelaje_segun_computadora_dt']) + (df_resultados_models['Diferencia_Pases_dt-1']*df_resultados_models['capacidad_en_peso_equipo_carguio'])\n",
    "\n",
    "# Random Forest \n",
    "df_resultados_models['Diferencia_Pases_rf'] = df_resultados_models['Numero_pases_rforest'] - df_resultados_models['Numero_pases_real']\n",
    "df_resultados_models['tonelaje_segun_computadora_rf'] = (df_resultados_models['tonelaje_segun_computadora']) + (df_resultados_models['Diferencia_Pases_rf']*df_resultados_models['capacidad_en_peso_equipo_carguio'])\n",
    "\n",
    "# Random Forest  + 1\n",
    "df_resultados_models['Diferencia_Pases_rf+1'] = df_resultados_models['Numero_pases_rforest+1'] - df_resultados_models['Numero_pases_rforest']\n",
    "df_resultados_models['tonelaje_segun_computadora_rf+1'] = (df_resultados_models['tonelaje_segun_computadora_rf']) + (df_resultados_models['Diferencia_Pases_rf+1']*df_resultados_models['capacidad_en_peso_equipo_carguio'])\n",
    "\n",
    "# Random Forest  - 1\n",
    "df_resultados_models['Diferencia_Pases_rf-1'] = df_resultados_models['Numero_pases_rforest-1'] - df_resultados_models['Numero_pases_rforest']\n",
    "df_resultados_models['tonelaje_segun_computadora_rf-1'] = (df_resultados_models['tonelaje_segun_computadora_rf']) + (df_resultados_models['Diferencia_Pases_rf-1']*df_resultados_models['capacidad_en_peso_equipo_carguio'])\n",
    "\n",
    "# XGB (eXtreme Gradient Boosting)\n",
    "df_resultados_models['Diferencia_Pases_xgb'] = df_resultados_models['Numero_pases_xgb'] - df_resultados_models['Numero_pases_real']\n",
    "df_resultados_models['tonelaje_segun_computadora_xgb'] = (df_resultados_models['tonelaje_segun_computadora']) + (df_resultados_models['Diferencia_Pases_xgb']*df_resultados_models['capacidad_en_peso_equipo_carguio'])\n",
    "\n",
    "# XGB  + 1\n",
    "df_resultados_models['Diferencia_Pases_xgb+1'] = df_resultados_models['Numero_pases_xgb+1'] - df_resultados_models['Numero_pases_xgb']\n",
    "df_resultados_models['tonelaje_segun_computadora_xgb+1'] = (df_resultados_models['tonelaje_segun_computadora_xgb']) + (df_resultados_models['Diferencia_Pases_xgb+1']*df_resultados_models['capacidad_en_peso_equipo_carguio'])\n",
    "\n",
    "# XGB - 1\n",
    "df_resultados_models['Diferencia_Pases_xgb-1'] = df_resultados_models['Numero_pases_xgb-1'] - df_resultados_models['Numero_pases_xgb']\n",
    "df_resultados_models['tonelaje_segun_computadora_xgb-1'] = (df_resultados_models['tonelaje_segun_computadora_xgb']) + (df_resultados_models['Diferencia_Pases_xgb-1']*df_resultados_models['capacidad_en_peso_equipo_carguio'])\n",
    "\n",
    "# RNN (Redes Neuronales LSTM)\n",
    "df_resultados_models['Diferencia_Pases_rnn'] = df_resultados_models['Numero_pases_rnn'] - df_resultados_models['Numero_pases_real']\n",
    "df_resultados_models['tonelaje_segun_computadora_rnn'] = (df_resultados_models['tonelaje_segun_computadora']) + (df_resultados_models['Diferencia_Pases_rnn']*df_resultados_models['capacidad_en_peso_equipo_carguio'])\n",
    "\n",
    "# RNN  + 1\n",
    "df_resultados_models['Diferencia_Pases_rnn+1'] = df_resultados_models['Numero_pases_rnn+1'] - df_resultados_models['Numero_pases_rnn']\n",
    "df_resultados_models['tonelaje_segun_computadora_rnn+1'] = (df_resultados_models['tonelaje_segun_computadora_rnn']) + (df_resultados_models['Diferencia_Pases_rnn+1']*df_resultados_models['capacidad_en_peso_equipo_carguio'])\n",
    "\n",
    "# RNN - 1\n",
    "df_resultados_models['Diferencia_Pases_rnn-1'] = df_resultados_models['Numero_pases_rnn-1'] - df_resultados_models['Numero_pases_rnn']\n",
    "df_resultados_models['tonelaje_segun_computadora_rnn-1'] = (df_resultados_models['tonelaje_segun_computadora_rnn']) + (df_resultados_models['Diferencia_Pases_rnn-1']*df_resultados_models['capacidad_en_peso_equipo_carguio'])\n",
    "\n",
    "\n",
    "#--------------------------------------------------------------------------------------------------------------------------------------------------------------------------------------------------------------------------------\n",
    "#Hallamos el tiempo ready de cargando de la pala, en cada pase, para que se simule, si incrementa o disminuye pases(en base al modelo)\n",
    "df_resultados_models['tiempo_ready_cargando_pala_por_pase'] = np.where(df_resultados_models['Numero_pases_real'] == 0, 0, df_resultados_models['tiempo_ready_cargando_pala'] / df_resultados_models['Numero_pases_real'])\n",
    "df_resultados_models['tiempo_ready_cargando_pala_rl+1'] = df_resultados_models['tiempo_ready_cargando_pala'] + df_resultados_models['tiempo_ready_cargando_pala_por_pase']\n",
    "df_resultados_models['tiempo_ready_cargando_pala_rl-1'] = df_resultados_models['tiempo_ready_cargando_pala'] - df_resultados_models['tiempo_ready_cargando_pala_por_pase']\n",
    "\n",
    "#-----------------------------------------------------------------------------------------------------------------------------------------------------------------------------------------------------------------------------\n",
    "\n",
    "df_resultados_models.head(10)"
   ]
  },
  {
   "cell_type": "markdown",
   "metadata": {},
   "source": [
    "Agregamos las Productividades, si se hubiesen utilizados los Modelos "
   ]
  },
  {
   "cell_type": "markdown",
   "metadata": {},
   "source": [
    "#### **Acarreo**"
   ]
  },
  {
   "cell_type": "code",
   "execution_count": 21,
   "metadata": {},
   "outputs": [],
   "source": [
    "# Asegurarse de que el denominador no sea cero\n",
    "denominador_acarreo = (df_resultados_models['tiempo_ready_llegada_esperando'] +\n",
    "               df_resultados_models['tiempo_ready_esperando_cuadra'] +\n",
    "               df_resultados_models['tiempo_ready_cuadra_cuadrado'] +\n",
    "               df_resultados_models['tiempo_ready_cuadrado_cargado'] +\n",
    "               df_resultados_models['tiempo_ready_carga_acarreo'] +\n",
    "               df_resultados_models['tiempo_ready_acarreo_cola'] +\n",
    "               df_resultados_models['tiempo_ready_cola_retro'] +\n",
    "               df_resultados_models['tiempo_ready_retro_listo'] +\n",
    "               df_resultados_models['tiempo_ready_listo_descarga'] +\n",
    "               df_resultados_models['tiempo_ready_descarga_viajandovacio']) / 3600"
   ]
  },
  {
   "cell_type": "markdown",
   "metadata": {},
   "source": [
    "Regresion Lineal"
   ]
  },
  {
   "cell_type": "code",
   "execution_count": 22,
   "metadata": {},
   "outputs": [],
   "source": [
    "# Evitar la división por cero y asignar 0 cuando denominador es cero\n",
    "df_resultados_models['productividad_operativa_acarreo_tn_h_rl'] = np.where(denominador_acarreo == 0, 0, df_resultados_models['tonelaje_segun_computadora_rl'] / denominador_acarreo)"
   ]
  },
  {
   "cell_type": "markdown",
   "metadata": {},
   "source": [
    "Regresion Lineal + 1"
   ]
  },
  {
   "cell_type": "code",
   "execution_count": 23,
   "metadata": {},
   "outputs": [],
   "source": [
    "# Evitar la división por cero y asignar 0 cuando denominador es cero\n",
    "df_resultados_models['productividad_operativa_acarreo_tn_h_rl+1'] = np.where(denominador_acarreo == 0, 0, df_resultados_models['tonelaje_segun_computadora_rl+1'] / denominador_acarreo)"
   ]
  },
  {
   "cell_type": "markdown",
   "metadata": {},
   "source": [
    "Regresion Lineal - 1"
   ]
  },
  {
   "cell_type": "code",
   "execution_count": 24,
   "metadata": {},
   "outputs": [],
   "source": [
    "# Evitar la división por cero y asignar 0 cuando denominador es cero\n",
    "df_resultados_models['productividad_operativa_acarreo_tn_h_rl-1'] = np.where(denominador_acarreo == 0, 0, df_resultados_models['tonelaje_segun_computadora_rl-1'] / denominador_acarreo)"
   ]
  },
  {
   "cell_type": "markdown",
   "metadata": {},
   "source": [
    "Arbol de decision"
   ]
  },
  {
   "cell_type": "code",
   "execution_count": 25,
   "metadata": {},
   "outputs": [],
   "source": [
    "# Evitar la división por cero y asignar 0 cuando denominador es cero\n",
    "df_resultados_models['productividad_operativa_acarreo_tn_h_dt'] = np.where(denominador_acarreo == 0, 0, df_resultados_models['tonelaje_segun_computadora_dt'] / denominador_acarreo)"
   ]
  },
  {
   "cell_type": "markdown",
   "metadata": {},
   "source": [
    "Arbol de decision + 1"
   ]
  },
  {
   "cell_type": "code",
   "execution_count": 26,
   "metadata": {},
   "outputs": [],
   "source": [
    "# Evitar la división por cero y asignar 0 cuando denominador es cero\n",
    "df_resultados_models['productividad_operativa_acarreo_tn_h_dt+1'] = np.where(denominador_acarreo == 0, 0, df_resultados_models['tonelaje_segun_computadora_dt+1'] / denominador_acarreo)"
   ]
  },
  {
   "cell_type": "markdown",
   "metadata": {},
   "source": [
    "Arbol de decision - 1"
   ]
  },
  {
   "cell_type": "code",
   "execution_count": 27,
   "metadata": {},
   "outputs": [],
   "source": [
    "# Evitar la división por cero y asignar 0 cuando denominador es cero\n",
    "df_resultados_models['productividad_operativa_acarreo_tn_h_dt-1'] = np.where(denominador_acarreo == 0, 0, df_resultados_models['tonelaje_segun_computadora_dt-1'] / denominador_acarreo)"
   ]
  },
  {
   "cell_type": "markdown",
   "metadata": {},
   "source": [
    "Random Forest "
   ]
  },
  {
   "cell_type": "code",
   "execution_count": 28,
   "metadata": {},
   "outputs": [],
   "source": [
    "# Evitar la división por cero y asignar 0 cuando denominador es cero\n",
    "df_resultados_models['productividad_operativa_acarreo_tn_h_rforest'] = np.where(denominador_acarreo == 0, 0, df_resultados_models['tonelaje_segun_computadora_rf'] / denominador_acarreo)"
   ]
  },
  {
   "cell_type": "markdown",
   "metadata": {},
   "source": [
    "Random Forest  + 1"
   ]
  },
  {
   "cell_type": "code",
   "execution_count": 29,
   "metadata": {},
   "outputs": [],
   "source": [
    "# Evitar la división por cero y asignar 0 cuando denominador es cero\n",
    "df_resultados_models['productividad_operativa_acarreo_tn_h_rforest+1'] = np.where(denominador_acarreo == 0, 0, df_resultados_models['tonelaje_segun_computadora_rf+1'] / denominador_acarreo)"
   ]
  },
  {
   "cell_type": "markdown",
   "metadata": {},
   "source": [
    "Random Forest  - 1"
   ]
  },
  {
   "cell_type": "code",
   "execution_count": 30,
   "metadata": {},
   "outputs": [],
   "source": [
    "# Evitar la división por cero y asignar 0 cuando denominador es cero\n",
    "df_resultados_models['productividad_operativa_acarreo_tn_h_rforest-1'] = np.where(denominador_acarreo == 0, 0, df_resultados_models['tonelaje_segun_computadora_rf-1'] / denominador_acarreo)"
   ]
  },
  {
   "cell_type": "markdown",
   "metadata": {},
   "source": [
    "XGB"
   ]
  },
  {
   "cell_type": "code",
   "execution_count": 31,
   "metadata": {},
   "outputs": [],
   "source": [
    "# Evitar la división por cero y asignar 0 cuando denominador es cero\n",
    "df_resultados_models['productividad_operativa_acarreo_tn_h_xgb'] = np.where(denominador_acarreo == 0, 0, df_resultados_models['tonelaje_segun_computadora_xgb'] / denominador_acarreo)"
   ]
  },
  {
   "cell_type": "markdown",
   "metadata": {},
   "source": [
    "XGB + 1"
   ]
  },
  {
   "cell_type": "code",
   "execution_count": 32,
   "metadata": {},
   "outputs": [],
   "source": [
    "# Evitar la división por cero y asignar 0 cuando denominador es cero\n",
    "df_resultados_models['productividad_operativa_acarreo_tn_h_xgb+1'] = np.where(denominador_acarreo == 0, 0, df_resultados_models['tonelaje_segun_computadora_xgb+1'] / denominador_acarreo)"
   ]
  },
  {
   "cell_type": "markdown",
   "metadata": {},
   "source": [
    "XGB - 1"
   ]
  },
  {
   "cell_type": "code",
   "execution_count": 33,
   "metadata": {},
   "outputs": [],
   "source": [
    "# Evitar la división por cero y asignar 0 cuando denominador es cero\n",
    "df_resultados_models['productividad_operativa_acarreo_tn_h_xgb-1'] = np.where(denominador_acarreo == 0, 0, df_resultados_models['tonelaje_segun_computadora_xgb-1'] / denominador_acarreo)"
   ]
  },
  {
   "cell_type": "markdown",
   "metadata": {},
   "source": [
    "RNN (Redes Neuronales LSTM)"
   ]
  },
  {
   "cell_type": "code",
   "execution_count": 34,
   "metadata": {},
   "outputs": [],
   "source": [
    "# Evitar la división por cero y asignar 0 cuando denominador es cero\n",
    "df_resultados_models['productividad_operativa_acarreo_tn_h_rnn'] = np.where(denominador_acarreo == 0, 0, df_resultados_models['tonelaje_segun_computadora_rnn'] / denominador_acarreo)"
   ]
  },
  {
   "cell_type": "markdown",
   "metadata": {},
   "source": [
    "RNN + 1"
   ]
  },
  {
   "cell_type": "code",
   "execution_count": 35,
   "metadata": {},
   "outputs": [],
   "source": [
    "# Evitar la división por cero y asignar 0 cuando denominador es cero\n",
    "df_resultados_models['productividad_operativa_acarreo_tn_h_rnn+1'] = np.where(denominador_acarreo == 0, 0, df_resultados_models['tonelaje_segun_computadora_rnn+1'] / denominador_acarreo)"
   ]
  },
  {
   "cell_type": "markdown",
   "metadata": {},
   "source": [
    "RNN - 1"
   ]
  },
  {
   "cell_type": "code",
   "execution_count": 36,
   "metadata": {},
   "outputs": [],
   "source": [
    "# Evitar la división por cero y asignar 0 cuando denominador es cero\n",
    "df_resultados_models['productividad_operativa_acarreo_tn_h_rnn-1'] = np.where(denominador_acarreo == 0, 0, df_resultados_models['tonelaje_segun_computadora_rnn-1'] / denominador_acarreo)"
   ]
  },
  {
   "cell_type": "markdown",
   "metadata": {},
   "source": [
    "#### **Carguio**"
   ]
  },
  {
   "cell_type": "code",
   "execution_count": 37,
   "metadata": {},
   "outputs": [],
   "source": [
    "# Asegurarse de que el denominador no sea cero\n",
    "denominador_carguio_normal = (df_resultados_models['tiempo_ready_cargando_pala'] +\n",
    "               df_resultados_models['tiempo_ready_esperando_pala']) / 3600\n",
    "\n",
    "#---------------------------------------------------------------------------------------------------------------------------------------------------\n",
    "\n",
    "# Asegurarse de que el denominador no sea cero\n",
    "denominador_carguio_mas1 = (df_resultados_models['tiempo_ready_cargando_pala_rl+1'] +\n",
    "               df_resultados_models['tiempo_ready_esperando_pala']) / 3600\n",
    "\n",
    "#------------------------------------------------------------------------------------------------------------------------------------------------\n",
    "\n",
    "# Asegurarse de que el denominador no sea cero\n",
    "denominador_carguio_menos1 = (df_resultados_models['tiempo_ready_cargando_pala_rl-1'] +\n",
    "               df_resultados_models['tiempo_ready_esperando_pala']) / 3600"
   ]
  },
  {
   "cell_type": "markdown",
   "metadata": {},
   "source": [
    "Regresion Lineal"
   ]
  },
  {
   "cell_type": "code",
   "execution_count": 38,
   "metadata": {},
   "outputs": [],
   "source": [
    "# Evitar la división por cero y asignar 0 cuando denominador es cero\n",
    "df_resultados_models['productividad_operativa_carguio_tn_h_rl'] = np.where(denominador_carguio_normal == 0, 0, df_resultados_models['tonelaje_segun_computadora_rl'] / denominador_carguio_normal)"
   ]
  },
  {
   "cell_type": "markdown",
   "metadata": {},
   "source": [
    "Regresion Lineal + 1"
   ]
  },
  {
   "cell_type": "code",
   "execution_count": 39,
   "metadata": {},
   "outputs": [],
   "source": [
    "# Evitar la división por cero y asignar 0 cuando denominador es cero\n",
    "df_resultados_models['productividad_operativa_carguio_tn_h_rl+1'] = np.where(denominador_carguio_mas1 == 0, 0, df_resultados_models['tonelaje_segun_computadora_rl+1'] / denominador_carguio_mas1)"
   ]
  },
  {
   "cell_type": "markdown",
   "metadata": {},
   "source": [
    "Regresion Lineal - 1"
   ]
  },
  {
   "cell_type": "code",
   "execution_count": 40,
   "metadata": {},
   "outputs": [],
   "source": [
    "# Evitar la división por cero y asignar 0 cuando denominador es cero\n",
    "df_resultados_models['productividad_operativa_carguio_tn_h_rl-1'] = np.where(denominador_carguio_menos1 == 0, 0, df_resultados_models['tonelaje_segun_computadora_rl-1'] / denominador_carguio_menos1)"
   ]
  },
  {
   "cell_type": "markdown",
   "metadata": {},
   "source": [
    "Arbol de decision"
   ]
  },
  {
   "cell_type": "code",
   "execution_count": 41,
   "metadata": {},
   "outputs": [],
   "source": [
    "# Evitar la división por cero y asignar 0 cuando denominador es cero\n",
    "df_resultados_models['productividad_operativa_carguio_tn_h_dt'] = np.where(denominador_carguio_normal == 0, 0, df_resultados_models['tonelaje_segun_computadora_dt'] / denominador_carguio_normal)"
   ]
  },
  {
   "cell_type": "markdown",
   "metadata": {},
   "source": [
    "Arbol de decision + 1"
   ]
  },
  {
   "cell_type": "code",
   "execution_count": 42,
   "metadata": {},
   "outputs": [],
   "source": [
    "# Evitar la división por cero y asignar 0 cuando denominador es cero\n",
    "df_resultados_models['productividad_operativa_carguio_tn_h_dt+1'] = np.where(denominador_carguio_mas1 == 0, 0, df_resultados_models['tonelaje_segun_computadora_dt+1'] / denominador_carguio_mas1)"
   ]
  },
  {
   "cell_type": "markdown",
   "metadata": {},
   "source": [
    "Arbol de decision - 1"
   ]
  },
  {
   "cell_type": "code",
   "execution_count": 43,
   "metadata": {},
   "outputs": [],
   "source": [
    "# Evitar la división por cero y asignar 0 cuando denominador es cero\n",
    "df_resultados_models['productividad_operativa_carguio_tn_h_dt-1'] = np.where(denominador_carguio_menos1 == 0, 0, df_resultados_models['tonelaje_segun_computadora_dt-1'] / denominador_carguio_menos1)"
   ]
  },
  {
   "cell_type": "markdown",
   "metadata": {},
   "source": [
    "Random Forest"
   ]
  },
  {
   "cell_type": "code",
   "execution_count": 44,
   "metadata": {},
   "outputs": [],
   "source": [
    "# Evitar la división por cero y asignar 0 cuando denominador es cero\n",
    "df_resultados_models['productividad_operativa_carguio_tn_h_rforest'] = np.where(denominador_carguio_normal == 0, 0, df_resultados_models['tonelaje_segun_computadora_rf'] / denominador_carguio_normal)"
   ]
  },
  {
   "cell_type": "markdown",
   "metadata": {},
   "source": [
    "Random Forest + 1"
   ]
  },
  {
   "cell_type": "code",
   "execution_count": 45,
   "metadata": {},
   "outputs": [],
   "source": [
    "# Evitar la división por cero y asignar 0 cuando denominador es cero\n",
    "df_resultados_models['productividad_operativa_carguio_tn_h_rforest+1'] = np.where(denominador_carguio_mas1 == 0, 0, df_resultados_models['tonelaje_segun_computadora_rf+1'] / denominador_carguio_mas1)"
   ]
  },
  {
   "cell_type": "markdown",
   "metadata": {},
   "source": [
    "Random Forest - 1"
   ]
  },
  {
   "cell_type": "code",
   "execution_count": 46,
   "metadata": {},
   "outputs": [],
   "source": [
    "# Evitar la división por cero y asignar 0 cuando denominador es cero\n",
    "df_resultados_models['productividad_operativa_carguio_tn_h_rforest-1'] = np.where(denominador_carguio_menos1 == 0, 0, df_resultados_models['tonelaje_segun_computadora_rf-1'] / denominador_carguio_menos1)"
   ]
  },
  {
   "cell_type": "markdown",
   "metadata": {},
   "source": [
    "XGB"
   ]
  },
  {
   "cell_type": "code",
   "execution_count": 47,
   "metadata": {},
   "outputs": [],
   "source": [
    "# Evitar la división por cero y asignar 0 cuando denominador es cero\n",
    "df_resultados_models['productividad_operativa_carguio_tn_h_xgb'] = np.where(denominador_carguio_normal == 0, 0, df_resultados_models['tonelaje_segun_computadora_xgb'] / denominador_carguio_normal)"
   ]
  },
  {
   "cell_type": "markdown",
   "metadata": {},
   "source": [
    "XGB + 1"
   ]
  },
  {
   "cell_type": "code",
   "execution_count": 48,
   "metadata": {},
   "outputs": [],
   "source": [
    "# Evitar la división por cero y asignar 0 cuando denominador es cero\n",
    "df_resultados_models['productividad_operativa_carguio_tn_h_xgb+1'] = np.where(denominador_carguio_mas1 == 0, 0, df_resultados_models['tonelaje_segun_computadora_xgb+1'] / denominador_carguio_mas1)"
   ]
  },
  {
   "cell_type": "markdown",
   "metadata": {},
   "source": [
    "XGB - 1"
   ]
  },
  {
   "cell_type": "code",
   "execution_count": 49,
   "metadata": {},
   "outputs": [],
   "source": [
    "# Evitar la división por cero y asignar 0 cuando denominador es cero\n",
    "df_resultados_models['productividad_operativa_carguio_tn_h_xgb-1'] = np.where(denominador_carguio_menos1 == 0, 0, df_resultados_models['tonelaje_segun_computadora_xgb-1'] / denominador_carguio_menos1)"
   ]
  },
  {
   "cell_type": "markdown",
   "metadata": {},
   "source": [
    "RNN (Redes Neuronales LSTM)"
   ]
  },
  {
   "cell_type": "code",
   "execution_count": 50,
   "metadata": {},
   "outputs": [],
   "source": [
    "# Evitar la división por cero y asignar 0 cuando denominador es cero\n",
    "df_resultados_models['productividad_operativa_carguio_tn_h_rnn'] = np.where(denominador_carguio_normal == 0, 0, df_resultados_models['tonelaje_segun_computadora_rnn'] / denominador_carguio_normal)"
   ]
  },
  {
   "cell_type": "markdown",
   "metadata": {},
   "source": [
    "RNN + 1"
   ]
  },
  {
   "cell_type": "code",
   "execution_count": 51,
   "metadata": {},
   "outputs": [],
   "source": [
    "# Evitar la división por cero y asignar 0 cuando denominador es cero\n",
    "df_resultados_models['productividad_operativa_carguio_tn_h_rnn+1'] = np.where(denominador_carguio_mas1 == 0, 0, df_resultados_models['tonelaje_segun_computadora_rnn+1'] / denominador_carguio_mas1)"
   ]
  },
  {
   "cell_type": "markdown",
   "metadata": {},
   "source": [
    "RNN - 1"
   ]
  },
  {
   "cell_type": "code",
   "execution_count": 52,
   "metadata": {},
   "outputs": [],
   "source": [
    "# Evitar la división por cero y asignar 0 cuando denominador es cero\n",
    "df_resultados_models['productividad_operativa_carguio_tn_h_rnn-1'] = np.where(denominador_carguio_menos1 == 0, 0, df_resultados_models['tonelaje_segun_computadora_rnn-1'] / denominador_carguio_menos1)"
   ]
  },
  {
   "cell_type": "markdown",
   "metadata": {},
   "source": [
    "Agregamos las Productividades, si se hubiesen utilizados los Modelos con variaciones (+ 1, -1)"
   ]
  },
  {
   "cell_type": "markdown",
   "metadata": {},
   "source": [
    "NOTA Importante :  La productividad es matematicamente la division de toneladas movidas / tiempos readys, por ello a mayor tonelaje movidos (1 pase adicional)\n",
    "no necesariamente indicaria, mayor productividad, puesto que el tiempo podria aumentar, ya que por cada pase adicional se tendria mas tiempo, o viceversa en caso \n",
    "sea un pase menos. En el presente analisis, los tiempos readys estan siendo constantes, y lo que si estamos variando es los toneladas movidas, si se tiene + - 1 pase de\n",
    "lo recomendado por el modelo"
   ]
  },
  {
   "cell_type": "markdown",
   "metadata": {},
   "source": [
    "Si el modelo recomienda + 1 adicional, se esta considerando que haga con los mismo tiempos readys, y se obtendra la productividad\n",
    "Si el modelo recomienda - 1 adicional, se esta considerando que haga con los mismo tiempos readys, y se obtendra la productividad\n",
    "Si se aumenta + 1 adicional de lo recomendado por el modelo, se esta considerando que haga con los mismo tiempos readys, y se obtendra la productividad\n",
    "Si se aumenta + 1 adicional de lo recomendado por el modelo, se esta considerando que haga con los mismo tiempos readys, y se obtendra la productividad\n",
    "\n",
    "Para solucionar este seria conveniente crear un modelo:  Predecir tiempos readys, en base a los pases que se ejecutan(en carguio), porque eso repercute en todo el ciclo."
   ]
  },
  {
   "cell_type": "markdown",
   "metadata": {},
   "source": [
    "### 5. Resultados de Impacto en la productividades"
   ]
  },
  {
   "cell_type": "markdown",
   "metadata": {},
   "source": [
    "#### 5.1 Productividad Registro Por registro"
   ]
  },
  {
   "cell_type": "markdown",
   "metadata": {},
   "source": [
    "#### **Productividad Acarreo real**"
   ]
  },
  {
   "cell_type": "code",
   "execution_count": 53,
   "metadata": {},
   "outputs": [
    {
     "name": "stdout",
     "output_type": "stream",
     "text": [
      "34558819.699999996 - 876.6075295473529\n"
     ]
    }
   ],
   "source": [
    "print(df_resultados_models['tonelaje_segun_computadora'].sum() ,\"-\" ,df_resultados_models['productividad_operativa_acarreo_tn_h'].mean())"
   ]
  },
  {
   "cell_type": "markdown",
   "metadata": {},
   "source": [
    "Productividad Acarreo reglineal"
   ]
  },
  {
   "cell_type": "code",
   "execution_count": 54,
   "metadata": {},
   "outputs": [
    {
     "name": "stdout",
     "output_type": "stream",
     "text": [
      "34111189.416666664 - 869.1639877816685\n"
     ]
    }
   ],
   "source": [
    "print(df_resultados_models['tonelaje_segun_computadora_rl'].sum(), \"-\" , df_resultados_models['productividad_operativa_acarreo_tn_h_rl'].mean())"
   ]
  },
  {
   "cell_type": "markdown",
   "metadata": {},
   "source": [
    "Productividad Acarreo reglineal + 1"
   ]
  },
  {
   "cell_type": "code",
   "execution_count": 55,
   "metadata": {},
   "outputs": [
    {
     "name": "stdout",
     "output_type": "stream",
     "text": [
      "40307665.89166666 - 1027.1117638284459\n"
     ]
    }
   ],
   "source": [
    "print(df_resultados_models['tonelaje_segun_computadora_rl+1'].sum(), \"-\" , df_resultados_models['productividad_operativa_acarreo_tn_h_rl+1'].mean())"
   ]
  },
  {
   "cell_type": "markdown",
   "metadata": {},
   "source": [
    "Productividad Acarreo reglineal - 1"
   ]
  },
  {
   "cell_type": "code",
   "execution_count": 56,
   "metadata": {},
   "outputs": [
    {
     "name": "stdout",
     "output_type": "stream",
     "text": [
      "27914712.941666663 - 711.2162117348911\n"
     ]
    }
   ],
   "source": [
    "print(df_resultados_models['tonelaje_segun_computadora_rl-1'].sum(), \"-\" , df_resultados_models['productividad_operativa_acarreo_tn_h_rl-1'].mean())"
   ]
  },
  {
   "cell_type": "markdown",
   "metadata": {},
   "source": [
    "Productividad Acarreo arbol de decision"
   ]
  },
  {
   "cell_type": "code",
   "execution_count": 57,
   "metadata": {},
   "outputs": [
    {
     "name": "stdout",
     "output_type": "stream",
     "text": [
      "34821807.66666667 - 885.2481284038593\n"
     ]
    }
   ],
   "source": [
    "print(df_resultados_models['tonelaje_segun_computadora_dt'].sum(), \"-\" , df_resultados_models['productividad_operativa_acarreo_tn_h_dt'].mean())"
   ]
  },
  {
   "cell_type": "markdown",
   "metadata": {},
   "source": [
    "Productividad Acarreo arbol de decision + 1"
   ]
  },
  {
   "cell_type": "code",
   "execution_count": 58,
   "metadata": {},
   "outputs": [
    {
     "name": "stdout",
     "output_type": "stream",
     "text": [
      "41018284.141666666 - 1043.1959044506366\n"
     ]
    }
   ],
   "source": [
    "print(df_resultados_models['tonelaje_segun_computadora_dt+1'].sum(), \"-\" , df_resultados_models['productividad_operativa_acarreo_tn_h_dt+1'].mean())"
   ]
  },
  {
   "cell_type": "markdown",
   "metadata": {},
   "source": [
    "Productividad Acarreo arbol de decision - 1"
   ]
  },
  {
   "cell_type": "code",
   "execution_count": 59,
   "metadata": {},
   "outputs": [
    {
     "name": "stdout",
     "output_type": "stream",
     "text": [
      "28625331.191666674 - 727.3003523570819\n"
     ]
    }
   ],
   "source": [
    "print(df_resultados_models['tonelaje_segun_computadora_dt-1'].sum(), \"-\" , df_resultados_models['productividad_operativa_acarreo_tn_h_dt-1'].mean())"
   ]
  },
  {
   "cell_type": "markdown",
   "metadata": {},
   "source": [
    "Productividad Acarreo Random Forest"
   ]
  },
  {
   "cell_type": "code",
   "execution_count": 60,
   "metadata": {},
   "outputs": [
    {
     "name": "stdout",
     "output_type": "stream",
     "text": [
      "34840372.125 - 885.6960493105197\n"
     ]
    }
   ],
   "source": [
    "print(df_resultados_models['tonelaje_segun_computadora_rf'].sum(), \"-\" , df_resultados_models['productividad_operativa_acarreo_tn_h_rforest'].mean())"
   ]
  },
  {
   "cell_type": "markdown",
   "metadata": {},
   "source": [
    "Productividad Acarreo Random Forest + 1"
   ]
  },
  {
   "cell_type": "code",
   "execution_count": 61,
   "metadata": {},
   "outputs": [
    {
     "name": "stdout",
     "output_type": "stream",
     "text": [
      "41036848.59999999 - 1043.643825357297\n"
     ]
    }
   ],
   "source": [
    "print(df_resultados_models['tonelaje_segun_computadora_rf+1'].sum(), \"-\" , df_resultados_models['productividad_operativa_acarreo_tn_h_rforest+1'].mean())"
   ]
  },
  {
   "cell_type": "markdown",
   "metadata": {},
   "source": [
    "Productividad Acarreo Random Forest - 1"
   ]
  },
  {
   "cell_type": "code",
   "execution_count": 62,
   "metadata": {},
   "outputs": [
    {
     "name": "stdout",
     "output_type": "stream",
     "text": [
      "28643895.65 - 727.7482732637424\n"
     ]
    }
   ],
   "source": [
    "print(df_resultados_models['tonelaje_segun_computadora_rf-1'].sum(), \"-\" , df_resultados_models['productividad_operativa_acarreo_tn_h_rforest-1'].mean())"
   ]
  },
  {
   "cell_type": "markdown",
   "metadata": {},
   "source": [
    "Productividad Acarreo XGB"
   ]
  },
  {
   "cell_type": "code",
   "execution_count": 63,
   "metadata": {},
   "outputs": [
    {
     "name": "stdout",
     "output_type": "stream",
     "text": [
      "34958247.99166667 - 888.7100762905063\n"
     ]
    }
   ],
   "source": [
    "print(df_resultados_models['tonelaje_segun_computadora_xgb'].sum(), \"-\" , df_resultados_models['productividad_operativa_acarreo_tn_h_xgb'].mean())"
   ]
  },
  {
   "cell_type": "markdown",
   "metadata": {},
   "source": [
    "Productividad Acarreo XGB + 1"
   ]
  },
  {
   "cell_type": "code",
   "execution_count": 64,
   "metadata": {},
   "outputs": [
    {
     "name": "stdout",
     "output_type": "stream",
     "text": [
      "41154724.46666667 - 1046.6578523372839\n"
     ]
    }
   ],
   "source": [
    "print(df_resultados_models['tonelaje_segun_computadora_xgb+1'].sum(), \"-\" , df_resultados_models['productividad_operativa_acarreo_tn_h_xgb+1'].mean())"
   ]
  },
  {
   "cell_type": "markdown",
   "metadata": {},
   "source": [
    "Productividad Acarreo XGB - 1"
   ]
  },
  {
   "cell_type": "code",
   "execution_count": 65,
   "metadata": {},
   "outputs": [
    {
     "name": "stdout",
     "output_type": "stream",
     "text": [
      "28761771.516666666 - 730.7623002437292\n"
     ]
    }
   ],
   "source": [
    "print(df_resultados_models['tonelaje_segun_computadora_xgb-1'].sum(), \"-\" , df_resultados_models['productividad_operativa_acarreo_tn_h_xgb-1'].mean())"
   ]
  },
  {
   "cell_type": "markdown",
   "metadata": {},
   "source": [
    "Productividad Acarreo RNN (Redes Neuronales LSTM)"
   ]
  },
  {
   "cell_type": "code",
   "execution_count": 66,
   "metadata": {},
   "outputs": [
    {
     "name": "stdout",
     "output_type": "stream",
     "text": [
      "34767444.716666676 - 883.3982832658361\n"
     ]
    }
   ],
   "source": [
    "print(df_resultados_models['tonelaje_segun_computadora_rnn'].sum(), \"-\" , df_resultados_models['productividad_operativa_acarreo_tn_h_rnn'].mean())"
   ]
  },
  {
   "cell_type": "markdown",
   "metadata": {},
   "source": [
    "Productividad Acarreo RNN + 1"
   ]
  },
  {
   "cell_type": "code",
   "execution_count": 67,
   "metadata": {},
   "outputs": [
    {
     "name": "stdout",
     "output_type": "stream",
     "text": [
      "40963921.19166667 - 1041.3460593126135\n"
     ]
    }
   ],
   "source": [
    "print(df_resultados_models['tonelaje_segun_computadora_rnn+1'].sum(), \"-\" , df_resultados_models['productividad_operativa_acarreo_tn_h_rnn+1'].mean())"
   ]
  },
  {
   "cell_type": "markdown",
   "metadata": {},
   "source": [
    "Productividad Acarreo RNN - 1"
   ]
  },
  {
   "cell_type": "code",
   "execution_count": 68,
   "metadata": {},
   "outputs": [
    {
     "name": "stdout",
     "output_type": "stream",
     "text": [
      "28570968.24166667 - 725.450507219059\n"
     ]
    }
   ],
   "source": [
    "print(df_resultados_models['tonelaje_segun_computadora_rnn-1'].sum(), \"-\" , df_resultados_models['productividad_operativa_acarreo_tn_h_rnn-1'].mean())"
   ]
  },
  {
   "cell_type": "markdown",
   "metadata": {},
   "source": [
    "#### **Productividad Carguio real**"
   ]
  },
  {
   "cell_type": "code",
   "execution_count": 69,
   "metadata": {},
   "outputs": [
    {
     "name": "stdout",
     "output_type": "stream",
     "text": [
      "34558819.699999996 - 3465.1490004406432\n"
     ]
    }
   ],
   "source": [
    "print(df_resultados_models['tonelaje_segun_computadora'].sum() ,\"-\" ,df_resultados_models['productividad_operativa_carguio_tn_h'].mean())"
   ]
  },
  {
   "cell_type": "markdown",
   "metadata": {},
   "source": [
    "Productividad Carguio reglineal"
   ]
  },
  {
   "cell_type": "code",
   "execution_count": 70,
   "metadata": {},
   "outputs": [
    {
     "name": "stdout",
     "output_type": "stream",
     "text": [
      "34111189.416666664 - 3648.689652407778\n"
     ]
    }
   ],
   "source": [
    "print(df_resultados_models['tonelaje_segun_computadora_rl'].sum(), \"-\" , df_resultados_models['productividad_operativa_carguio_tn_h_rl'].mean())"
   ]
  },
  {
   "cell_type": "markdown",
   "metadata": {},
   "source": [
    "Productividad Carguio reglineal + 1"
   ]
  },
  {
   "cell_type": "code",
   "execution_count": 71,
   "metadata": {},
   "outputs": [
    {
     "name": "stdout",
     "output_type": "stream",
     "text": [
      "40307665.89166666 - 3880.9226540623927\n"
     ]
    }
   ],
   "source": [
    "print(df_resultados_models['tonelaje_segun_computadora_rl+1'].sum(), \"-\" , df_resultados_models['productividad_operativa_carguio_tn_h_rl+1'].mean())"
   ]
  },
  {
   "cell_type": "markdown",
   "metadata": {},
   "source": [
    "Productividad Carguio reglineal - 1"
   ]
  },
  {
   "cell_type": "code",
   "execution_count": 72,
   "metadata": {},
   "outputs": [
    {
     "name": "stdout",
     "output_type": "stream",
     "text": [
      "27914712.941666663 - 3604.552034513868\n"
     ]
    }
   ],
   "source": [
    "print(df_resultados_models['tonelaje_segun_computadora_rl-1'].sum(), \"-\" , df_resultados_models['productividad_operativa_carguio_tn_h_rl-1'].mean())"
   ]
  },
  {
   "cell_type": "markdown",
   "metadata": {},
   "source": [
    "Productividad Carguio arbol de decision"
   ]
  },
  {
   "cell_type": "code",
   "execution_count": 73,
   "metadata": {},
   "outputs": [
    {
     "name": "stdout",
     "output_type": "stream",
     "text": [
      "34821807.66666667 - 3530.472683925536\n"
     ]
    }
   ],
   "source": [
    "print(df_resultados_models['tonelaje_segun_computadora_dt'].sum(), \"-\" , df_resultados_models['productividad_operativa_carguio_tn_h_dt'].mean())"
   ]
  },
  {
   "cell_type": "markdown",
   "metadata": {},
   "source": [
    "Productividad Carguio arbol de decision + 1"
   ]
  },
  {
   "cell_type": "code",
   "execution_count": 74,
   "metadata": {},
   "outputs": [
    {
     "name": "stdout",
     "output_type": "stream",
     "text": [
      "41018284.141666666 - 3746.090452347567\n"
     ]
    }
   ],
   "source": [
    "print(df_resultados_models['tonelaje_segun_computadora_dt+1'].sum(), \"-\" , df_resultados_models['productividad_operativa_carguio_tn_h_dt+1'].mean())"
   ]
  },
  {
   "cell_type": "markdown",
   "metadata": {},
   "source": [
    "Productividad Carguio arbol de decision - 1"
   ]
  },
  {
   "cell_type": "code",
   "execution_count": 75,
   "metadata": {},
   "outputs": [
    {
     "name": "stdout",
     "output_type": "stream",
     "text": [
      "28625331.191666674 - 3492.360794970976\n"
     ]
    }
   ],
   "source": [
    "print(df_resultados_models['tonelaje_segun_computadora_dt-1'].sum(), \"-\" , df_resultados_models['productividad_operativa_carguio_tn_h_dt-1'].mean())"
   ]
  },
  {
   "cell_type": "markdown",
   "metadata": {},
   "source": [
    "Productividad Carguio Random Forest"
   ]
  },
  {
   "cell_type": "code",
   "execution_count": 76,
   "metadata": {},
   "outputs": [
    {
     "name": "stdout",
     "output_type": "stream",
     "text": [
      "34840372.125 - 3532.102880466957\n"
     ]
    }
   ],
   "source": [
    "print(df_resultados_models['tonelaje_segun_computadora_rf'].sum(), \"-\" , df_resultados_models['productividad_operativa_carguio_tn_h_rforest'].mean())"
   ]
  },
  {
   "cell_type": "markdown",
   "metadata": {},
   "source": [
    "Productividad Carguio Random Forest + 1"
   ]
  },
  {
   "cell_type": "code",
   "execution_count": 77,
   "metadata": {},
   "outputs": [
    {
     "name": "stdout",
     "output_type": "stream",
     "text": [
      "41036848.59999999 - 3747.9672090475024\n"
     ]
    }
   ],
   "source": [
    "print(df_resultados_models['tonelaje_segun_computadora_rf+1'].sum(), \"-\" , df_resultados_models['productividad_operativa_carguio_tn_h_rforest+1'].mean())"
   ]
  },
  {
   "cell_type": "markdown",
   "metadata": {},
   "source": [
    "Productividad Carguio Random Forest - 1"
   ]
  },
  {
   "cell_type": "code",
   "execution_count": 78,
   "metadata": {},
   "outputs": [
    {
     "name": "stdout",
     "output_type": "stream",
     "text": [
      "28643895.65 - 3495.209637853778\n"
     ]
    }
   ],
   "source": [
    "print(df_resultados_models['tonelaje_segun_computadora_rf-1'].sum(), \"-\" , df_resultados_models['productividad_operativa_carguio_tn_h_rforest-1'].mean())"
   ]
  },
  {
   "cell_type": "markdown",
   "metadata": {},
   "source": [
    "Productividad Carguio XGB"
   ]
  },
  {
   "cell_type": "code",
   "execution_count": 79,
   "metadata": {},
   "outputs": [
    {
     "name": "stdout",
     "output_type": "stream",
     "text": [
      "34958247.99166667 - 3548.2382594718756\n"
     ]
    }
   ],
   "source": [
    "print(df_resultados_models['tonelaje_segun_computadora_xgb'].sum(), \"-\" , df_resultados_models['productividad_operativa_carguio_tn_h_xgb'].mean())"
   ]
  },
  {
   "cell_type": "markdown",
   "metadata": {},
   "source": [
    "Productividad Carguio XGB + 1"
   ]
  },
  {
   "cell_type": "code",
   "execution_count": 80,
   "metadata": {},
   "outputs": [
    {
     "name": "stdout",
     "output_type": "stream",
     "text": [
      "41154724.46666667 - 3764.51373212496\n"
     ]
    }
   ],
   "source": [
    "print(df_resultados_models['tonelaje_segun_computadora_xgb+1'].sum(), \"-\" , df_resultados_models['productividad_operativa_carguio_tn_h_xgb+1'].mean())"
   ]
  },
  {
   "cell_type": "markdown",
   "metadata": {},
   "source": [
    "Productividad Carguio XGB - 1"
   ]
  },
  {
   "cell_type": "code",
   "execution_count": 81,
   "metadata": {},
   "outputs": [
    {
     "name": "stdout",
     "output_type": "stream",
     "text": [
      "28761771.516666666 - 3504.242111372232\n"
     ]
    }
   ],
   "source": [
    "print(df_resultados_models['tonelaje_segun_computadora_xgb-1'].sum(), \"-\" , df_resultados_models['productividad_operativa_carguio_tn_h_xgb-1'].mean())"
   ]
  },
  {
   "cell_type": "markdown",
   "metadata": {},
   "source": [
    "Productividad Carguio RNN"
   ]
  },
  {
   "cell_type": "code",
   "execution_count": 82,
   "metadata": {},
   "outputs": [
    {
     "name": "stdout",
     "output_type": "stream",
     "text": [
      "34767444.716666676 - 3526.100242875904\n"
     ]
    }
   ],
   "source": [
    "print(df_resultados_models['tonelaje_segun_computadora_rnn'].sum(), \"-\" , df_resultados_models['productividad_operativa_carguio_tn_h_rnn'].mean())"
   ]
  },
  {
   "cell_type": "markdown",
   "metadata": {},
   "source": [
    "Productividad Carguio RNN + 1"
   ]
  },
  {
   "cell_type": "code",
   "execution_count": 83,
   "metadata": {},
   "outputs": [
    {
     "name": "stdout",
     "output_type": "stream",
     "text": [
      "40963921.19166667 - 3745.3061120724046\n"
     ]
    }
   ],
   "source": [
    "print(df_resultados_models['tonelaje_segun_computadora_rnn+1'].sum(), \"-\" , df_resultados_models['productividad_operativa_carguio_tn_h_rnn+1'].mean())"
   ]
  },
  {
   "cell_type": "markdown",
   "metadata": {},
   "source": [
    "Productividad Carguio RNN - 1"
   ]
  },
  {
   "cell_type": "code",
   "execution_count": 84,
   "metadata": {},
   "outputs": [
    {
     "name": "stdout",
     "output_type": "stream",
     "text": [
      "28570968.24166667 - 3475.0418654082455\n"
     ]
    }
   ],
   "source": [
    "print(df_resultados_models['tonelaje_segun_computadora_rnn-1'].sum(), \"-\" , df_resultados_models['productividad_operativa_carguio_tn_h_rnn-1'].mean())"
   ]
  },
  {
   "cell_type": "markdown",
   "metadata": {},
   "source": [
    "#### 5.2 Productividad total (Sumatoria[toneladas]/Sumatoria[tiempos_readys])"
   ]
  },
  {
   "cell_type": "markdown",
   "metadata": {},
   "source": [
    "#### **Productividad Acarreo - Real**"
   ]
  },
  {
   "cell_type": "code",
   "execution_count": 85,
   "metadata": {},
   "outputs": [],
   "source": [
    "sumatoria_toneladas_real = df_resultados_models['tonelaje_segun_computadora'].sum()\n",
    "#--------------------------------------------------------------------------------------------------------------------------------------------------------------------------\n",
    "sumatoria_toneladas_rl = df_resultados_models['tonelaje_segun_computadora_rl'].sum()\n",
    "\n",
    "sumatoria_toneladas_rl_mas1 = df_resultados_models['tonelaje_segun_computadora_rl+1'].sum()\n",
    "\n",
    "sumatoria_toneladas_rl_menos1 = df_resultados_models['tonelaje_segun_computadora_rl-1'].sum()\n",
    "#--------------------------------------------------------------------------------------------------------------------------------------------------------------------------\n",
    "sumatoria_toneladas_dt = df_resultados_models['tonelaje_segun_computadora_dt'].sum()\n",
    "\n",
    "sumatoria_toneladas_dt_mas1 = df_resultados_models['tonelaje_segun_computadora_dt+1'].sum()\n",
    "\n",
    "sumatoria_toneladas_dt_menos1 = df_resultados_models['tonelaje_segun_computadora_dt-1'].sum()\n",
    "#--------------------------------------------------------------------------------------------------------------------------------------------------------------------------\n",
    "sumatoria_toneladas_rf = df_resultados_models['tonelaje_segun_computadora_rf'].sum()\n",
    "\n",
    "sumatoria_toneladas_rf_mas1 = df_resultados_models['tonelaje_segun_computadora_rf+1'].sum()\n",
    "\n",
    "sumatoria_toneladas_rf_menos1 = df_resultados_models['tonelaje_segun_computadora_rf-1'].sum()\n",
    "#--------------------------------------------------------------------------------------------------------------------------------------------------------------------------\n",
    "sumatoria_toneladas_xgb = df_resultados_models['tonelaje_segun_computadora_xgb'].sum()\n",
    "\n",
    "sumatoria_toneladas_xgb_mas1 = df_resultados_models['tonelaje_segun_computadora_xgb+1'].sum()\n",
    "\n",
    "sumatoria_toneladas_xgb_menos1 = df_resultados_models['tonelaje_segun_computadora_xgb-1'].sum()\n",
    "#--------------------------------------------------------------------------------------------------------------------------------------------------------------------------\n",
    "sumatoria_toneladas_rnn = df_resultados_models['tonelaje_segun_computadora_rnn'].sum()\n",
    "\n",
    "sumatoria_toneladas_rnn_mas1 = df_resultados_models['tonelaje_segun_computadora_rnn+1'].sum()\n",
    "\n",
    "sumatoria_toneladas_rnn_menos1 = df_resultados_models['tonelaje_segun_computadora_rnn-1'].sum()"
   ]
  },
  {
   "cell_type": "code",
   "execution_count": 86,
   "metadata": {},
   "outputs": [],
   "source": [
    "# Calcula la sumatoria del denominador (tiempo)\n",
    "sumatoria_denominador_tiempos_readys_real = (\n",
    "    df_resultados_models['tiempo_ready_llegada_esperando'].sum() +\n",
    "    df_resultados_models['tiempo_ready_esperando_cuadra'].sum() +\n",
    "    df_resultados_models['tiempo_ready_cuadra_cuadrado'].sum() +\n",
    "    df_resultados_models['tiempo_ready_cuadrado_cargado'].sum() +\n",
    "    df_resultados_models['tiempo_ready_carga_acarreo'].sum() +\n",
    "    df_resultados_models['tiempo_ready_acarreo_cola'].sum() +\n",
    "    df_resultados_models['tiempo_ready_cola_retro'].sum() +\n",
    "    df_resultados_models['tiempo_ready_retro_listo'].sum() +\n",
    "    df_resultados_models['tiempo_ready_listo_descarga'].sum() +\n",
    "    df_resultados_models['tiempo_ready_descarga_viajandovacio'].sum()\n",
    ")\n",
    "\n",
    "# Convierte la sumatoria del denominador de segundos a horas\n",
    "sumatoria_denominador_tiempos_readys_real_horas = sumatoria_denominador_tiempos_readys_real / 3600"
   ]
  },
  {
   "cell_type": "markdown",
   "metadata": {},
   "source": [
    "Productividad Acarreo Real"
   ]
  },
  {
   "cell_type": "code",
   "execution_count": 87,
   "metadata": {},
   "outputs": [
    {
     "name": "stdout",
     "output_type": "stream",
     "text": [
      "Productividad Operativa Acarreo Real Total 783.4524594370184\n"
     ]
    }
   ],
   "source": [
    "# Calcula la productividad operativa acarreo real total\n",
    "productividad_operativa_acarreo_real_total = sumatoria_toneladas_real / sumatoria_denominador_tiempos_readys_real_horas\n",
    "\n",
    "print(\"Productividad Operativa Acarreo Real Total\", productividad_operativa_acarreo_real_total)"
   ]
  },
  {
   "cell_type": "markdown",
   "metadata": {},
   "source": [
    "Productividad Acarreo - Modelo RLineal"
   ]
  },
  {
   "cell_type": "code",
   "execution_count": 88,
   "metadata": {},
   "outputs": [
    {
     "name": "stdout",
     "output_type": "stream",
     "text": [
      "Productividad Operativa Acarreo RLineal Total 773.3046288849239\n"
     ]
    }
   ],
   "source": [
    "# Calcula la productividad operativa acarreo real total\n",
    "productividad_operativa_acarreo_rl_total = sumatoria_toneladas_rl / sumatoria_denominador_tiempos_readys_real_horas\n",
    "\n",
    "print(\"Productividad Operativa Acarreo RLineal Total\", productividad_operativa_acarreo_rl_total)"
   ]
  },
  {
   "cell_type": "markdown",
   "metadata": {},
   "source": [
    "Productividad Acarreo - Modelo RLineal + 1"
   ]
  },
  {
   "cell_type": "code",
   "execution_count": 89,
   "metadata": {},
   "outputs": [
    {
     "name": "stdout",
     "output_type": "stream",
     "text": [
      "Productividad Operativa Acarreo RLineal Total 913.7794708015409\n"
     ]
    }
   ],
   "source": [
    "# Calcula la productividad operativa acarreo real total\n",
    "productividad_operativa_acarreo_rl_mas1_total = sumatoria_toneladas_rl_mas1 / sumatoria_denominador_tiempos_readys_real_horas\n",
    "\n",
    "print(\"Productividad Operativa Acarreo RLineal Total\", productividad_operativa_acarreo_rl_mas1_total)"
   ]
  },
  {
   "cell_type": "markdown",
   "metadata": {},
   "source": [
    "Productividad Acarreo - Modelo RLineal - 1"
   ]
  },
  {
   "cell_type": "code",
   "execution_count": 90,
   "metadata": {},
   "outputs": [
    {
     "name": "stdout",
     "output_type": "stream",
     "text": [
      "Productividad Operativa Acarreo RLineal Total 632.8297869683066\n"
     ]
    }
   ],
   "source": [
    "# Calcula la productividad operativa acarreo real total\n",
    "productividad_operativa_acarreo_rl_menos1_total = sumatoria_toneladas_rl_menos1 / sumatoria_denominador_tiempos_readys_real_horas\n",
    "\n",
    "print(\"Productividad Operativa Acarreo RLineal Total\", productividad_operativa_acarreo_rl_menos1_total)"
   ]
  },
  {
   "cell_type": "markdown",
   "metadata": {},
   "source": [
    "Productividad Acarreo - Modelo Arbol de decision"
   ]
  },
  {
   "cell_type": "code",
   "execution_count": 91,
   "metadata": {},
   "outputs": [
    {
     "name": "stdout",
     "output_type": "stream",
     "text": [
      "Productividad Operativa Acarreo Arbol Decision Total 789.4144272089486\n"
     ]
    }
   ],
   "source": [
    "# Calcula la productividad operativa acarreo real total\n",
    "productividad_operativa_acarreo_dt_total = sumatoria_toneladas_dt / sumatoria_denominador_tiempos_readys_real_horas\n",
    "\n",
    "print(\"Productividad Operativa Acarreo Arbol Decision Total\", productividad_operativa_acarreo_dt_total)"
   ]
  },
  {
   "cell_type": "markdown",
   "metadata": {},
   "source": [
    "Productividad Acarreo - Modelo Arbol de decision + 1"
   ]
  },
  {
   "cell_type": "code",
   "execution_count": 92,
   "metadata": {},
   "outputs": [
    {
     "name": "stdout",
     "output_type": "stream",
     "text": [
      "Productividad Operativa Acarreo Arbol Decision Total 929.8892691255658\n"
     ]
    }
   ],
   "source": [
    "# Calcula la productividad operativa acarreo real total\n",
    "productividad_operativa_acarreo_dt_mas1_total = sumatoria_toneladas_dt_mas1 / sumatoria_denominador_tiempos_readys_real_horas\n",
    "\n",
    "print(\"Productividad Operativa Acarreo Arbol Decision Total\", productividad_operativa_acarreo_dt_mas1_total)"
   ]
  },
  {
   "cell_type": "markdown",
   "metadata": {},
   "source": [
    "Productividad Acarreo - Modelo Arbol de decision - 1"
   ]
  },
  {
   "cell_type": "code",
   "execution_count": 93,
   "metadata": {},
   "outputs": [
    {
     "name": "stdout",
     "output_type": "stream",
     "text": [
      "Productividad Operativa Acarreo Arbol Decision Total 648.9395852923315\n"
     ]
    }
   ],
   "source": [
    "# Calcula la productividad operativa acarreo real total\n",
    "productividad_operativa_acarreo_dt_menos1_total = sumatoria_toneladas_dt_menos1 / sumatoria_denominador_tiempos_readys_real_horas\n",
    "\n",
    "print(\"Productividad Operativa Acarreo Arbol Decision Total\", productividad_operativa_acarreo_dt_menos1_total)"
   ]
  },
  {
   "cell_type": "markdown",
   "metadata": {},
   "source": [
    "Productividad Acarreo - Random Forest"
   ]
  },
  {
   "cell_type": "code",
   "execution_count": 94,
   "metadata": {},
   "outputs": [
    {
     "name": "stdout",
     "output_type": "stream",
     "text": [
      "Productividad Operativa Acarreo Arbol Decision Total 789.8352856371479\n"
     ]
    }
   ],
   "source": [
    "# Calcula la productividad operativa acarreo real total\n",
    "productividad_operativa_acarreo_rf_total = sumatoria_toneladas_rf / sumatoria_denominador_tiempos_readys_real_horas\n",
    "\n",
    "print(\"Productividad Operativa Acarreo Arbol Decision Total\", productividad_operativa_acarreo_rf_total)"
   ]
  },
  {
   "cell_type": "markdown",
   "metadata": {},
   "source": [
    "Productividad Acarreo - Modelo Random Forest + 1"
   ]
  },
  {
   "cell_type": "code",
   "execution_count": 95,
   "metadata": {},
   "outputs": [
    {
     "name": "stdout",
     "output_type": "stream",
     "text": [
      "Productividad Operativa Acarreo Arbol Decision Total 930.3101275537648\n"
     ]
    }
   ],
   "source": [
    "# Calcula la productividad operativa acarreo real total\n",
    "productividad_operativa_acarreo_rf_mas1_total = sumatoria_toneladas_rf_mas1 / sumatoria_denominador_tiempos_readys_real_horas\n",
    "\n",
    "print(\"Productividad Operativa Acarreo Arbol Decision Total\", productividad_operativa_acarreo_rf_mas1_total)"
   ]
  },
  {
   "cell_type": "markdown",
   "metadata": {},
   "source": [
    "Productividad Acarreo - Modelo Random Forest - 1"
   ]
  },
  {
   "cell_type": "code",
   "execution_count": 96,
   "metadata": {},
   "outputs": [
    {
     "name": "stdout",
     "output_type": "stream",
     "text": [
      "Productividad Operativa Acarreo Arbol Decision Total 649.3604437205306\n"
     ]
    }
   ],
   "source": [
    "# Calcula la productividad operativa acarreo real total\n",
    "productividad_operativa_acarreo_rf_menos1_total = sumatoria_toneladas_rf_menos1 / sumatoria_denominador_tiempos_readys_real_horas\n",
    "\n",
    "print(\"Productividad Operativa Acarreo Arbol Decision Total\", productividad_operativa_acarreo_rf_menos1_total)"
   ]
  },
  {
   "cell_type": "markdown",
   "metadata": {},
   "source": [
    "Productividad Acarreo - XGB"
   ]
  },
  {
   "cell_type": "code",
   "execution_count": 97,
   "metadata": {},
   "outputs": [
    {
     "name": "stdout",
     "output_type": "stream",
     "text": [
      "Productividad Operativa Acarreo Arbol Decision Total 792.5075452354197\n"
     ]
    }
   ],
   "source": [
    "# Calcula la productividad operativa acarreo real total\n",
    "productividad_operativa_acarreo_xgb_total = sumatoria_toneladas_xgb / sumatoria_denominador_tiempos_readys_real_horas\n",
    "\n",
    "print(\"Productividad Operativa Acarreo Arbol Decision Total\", productividad_operativa_acarreo_xgb_total)"
   ]
  },
  {
   "cell_type": "markdown",
   "metadata": {},
   "source": [
    "Productividad Acarreo - Modelo XGB + 1"
   ]
  },
  {
   "cell_type": "code",
   "execution_count": 98,
   "metadata": {},
   "outputs": [
    {
     "name": "stdout",
     "output_type": "stream",
     "text": [
      "Productividad Operativa Acarreo Arbol Decision Total 932.982387152037\n"
     ]
    }
   ],
   "source": [
    "# Calcula la productividad operativa acarreo real total\n",
    "productividad_operativa_acarreo_xgb_mas1_total = sumatoria_toneladas_xgb_mas1 / sumatoria_denominador_tiempos_readys_real_horas\n",
    "\n",
    "print(\"Productividad Operativa Acarreo Arbol Decision Total\", productividad_operativa_acarreo_xgb_mas1_total)"
   ]
  },
  {
   "cell_type": "markdown",
   "metadata": {},
   "source": [
    "Productividad Acarreo - Modelo XGB - 1"
   ]
  },
  {
   "cell_type": "code",
   "execution_count": 99,
   "metadata": {},
   "outputs": [
    {
     "name": "stdout",
     "output_type": "stream",
     "text": [
      "Productividad Operativa Acarreo Arbol Decision Total 652.0327033188024\n"
     ]
    }
   ],
   "source": [
    "# Calcula la productividad operativa acarreo real total\n",
    "productividad_operativa_acarreo_xgb_menos1_total = sumatoria_toneladas_xgb_menos1 / sumatoria_denominador_tiempos_readys_real_horas\n",
    "\n",
    "print(\"Productividad Operativa Acarreo Arbol Decision Total\", productividad_operativa_acarreo_xgb_menos1_total)"
   ]
  },
  {
   "cell_type": "markdown",
   "metadata": {},
   "source": [
    "Productividad Acarreo - RNN (Redes Neuronales LSTM)"
   ]
  },
  {
   "cell_type": "code",
   "execution_count": 100,
   "metadata": {},
   "outputs": [
    {
     "name": "stdout",
     "output_type": "stream",
     "text": [
      "Productividad Operativa Acarreo Arbol Decision Total 788.1820128137387\n"
     ]
    }
   ],
   "source": [
    "# Calcula la productividad operativa acarreo real total\n",
    "productividad_operativa_acarreo_rnn_total = sumatoria_toneladas_rnn / sumatoria_denominador_tiempos_readys_real_horas\n",
    "\n",
    "print(\"Productividad Operativa Acarreo Arbol Decision Total\", productividad_operativa_acarreo_rnn_total)"
   ]
  },
  {
   "cell_type": "markdown",
   "metadata": {},
   "source": [
    "Productividad Acarreo - Modelo RNN + 1"
   ]
  },
  {
   "cell_type": "code",
   "execution_count": 101,
   "metadata": {},
   "outputs": [
    {
     "name": "stdout",
     "output_type": "stream",
     "text": [
      "Productividad Operativa Acarreo Arbol Decision Total 928.6568547303557\n"
     ]
    }
   ],
   "source": [
    "# Calcula la productividad operativa acarreo real total\n",
    "productividad_operativa_acarreo_rnn_mas1_total = sumatoria_toneladas_rnn_mas1 / sumatoria_denominador_tiempos_readys_real_horas\n",
    "\n",
    "print(\"Productividad Operativa Acarreo Arbol Decision Total\", productividad_operativa_acarreo_rnn_mas1_total)"
   ]
  },
  {
   "cell_type": "markdown",
   "metadata": {},
   "source": [
    "Productividad Acarreo - Modelo RNN - 1"
   ]
  },
  {
   "cell_type": "code",
   "execution_count": 102,
   "metadata": {},
   "outputs": [
    {
     "name": "stdout",
     "output_type": "stream",
     "text": [
      "Productividad Operativa Acarreo Arbol Decision Total 647.7071708971213\n"
     ]
    }
   ],
   "source": [
    "# Calcula la productividad operativa acarreo real total\n",
    "productividad_operativa_acarreo_rnn_menos1_total = sumatoria_toneladas_rnn_menos1 / sumatoria_denominador_tiempos_readys_real_horas\n",
    "\n",
    "print(\"Productividad Operativa Acarreo Arbol Decision Total\", productividad_operativa_acarreo_rnn_menos1_total)"
   ]
  },
  {
   "cell_type": "markdown",
   "metadata": {},
   "source": [
    "### **Productividad Carguio - Real**"
   ]
  },
  {
   "cell_type": "code",
   "execution_count": 103,
   "metadata": {},
   "outputs": [],
   "source": [
    "# Calcula la sumatoria del denominador (tiempo)\n",
    "sumatoria_denominador_tiempos_readys_real_carguio = (\n",
    "    df_resultados_models['tiempo_ready_cargando_pala'].sum() +\n",
    "    df_resultados_models['tiempo_ready_esperando_pala'].sum()\n",
    ")\n",
    "\n",
    "# Convierte la sumatoria del denominador de segundos a horas\n",
    "sumatoria_denominador_tiempos_readys_real_carguio_horas = sumatoria_denominador_tiempos_readys_real_carguio / 3600\n",
    "\n",
    "\n",
    "# Calcula la sumatoria del denominador (tiempo)\n",
    "sumatoria_denominador_tiempos_readys_real_carguio_mas1 = (\n",
    "    df_resultados_models['tiempo_ready_cargando_pala_rl+1'].sum() +\n",
    "    df_resultados_models['tiempo_ready_esperando_pala'].sum()\n",
    ")\n",
    "\n",
    "# Convierte la sumatoria del denominador de segundos a horas\n",
    "sumatoria_denominador_tiempos_readys_real_carguio_horas_mas1 = sumatoria_denominador_tiempos_readys_real_carguio_mas1 / 3600\n",
    "\n",
    "# Calcula la sumatoria del denominador (tiempo)\n",
    "sumatoria_denominador_tiempos_readys_real_carguio_menos1 = (\n",
    "    df_resultados_models['tiempo_ready_cargando_pala_rl-1'].sum() +\n",
    "    df_resultados_models['tiempo_ready_esperando_pala'].sum()\n",
    ")\n",
    "\n",
    "# Convierte la sumatoria del denominador de segundos a horas\n",
    "sumatoria_denominador_tiempos_readys_real_carguio_horas_menos1 = sumatoria_denominador_tiempos_readys_real_carguio_menos1 / 3600"
   ]
  },
  {
   "cell_type": "markdown",
   "metadata": {},
   "source": [
    "Productividad Carguio - Real"
   ]
  },
  {
   "cell_type": "code",
   "execution_count": 104,
   "metadata": {},
   "outputs": [
    {
     "name": "stdout",
     "output_type": "stream",
     "text": [
      "Productividad Operativa Acarreo Real Total 2348.416845110476\n"
     ]
    }
   ],
   "source": [
    "# Calcula la productividad operativa acarreo real total\n",
    "productividad_operativa_carguio_real_total = sumatoria_toneladas_real / sumatoria_denominador_tiempos_readys_real_carguio_horas\n",
    "\n",
    "print(\"Productividad Operativa Acarreo Real Total\", productividad_operativa_carguio_real_total)"
   ]
  },
  {
   "cell_type": "markdown",
   "metadata": {},
   "source": [
    "Productividad Carguio - RegLineal"
   ]
  },
  {
   "cell_type": "code",
   "execution_count": 105,
   "metadata": {},
   "outputs": [
    {
     "name": "stdout",
     "output_type": "stream",
     "text": [
      "Productividad Operativa Carguio Real Total 2317.9984886131456\n"
     ]
    }
   ],
   "source": [
    "# Calcula la productividad operativa acarreo real total\n",
    "productividad_operativa_carguio_rl_total = sumatoria_toneladas_rl / sumatoria_denominador_tiempos_readys_real_carguio_horas\n",
    "\n",
    "print(\"Productividad Operativa Carguio Real Total\", productividad_operativa_carguio_rl_total)"
   ]
  },
  {
   "cell_type": "markdown",
   "metadata": {},
   "source": [
    "Productividad Carguio - RegLineal + 1"
   ]
  },
  {
   "cell_type": "code",
   "execution_count": 106,
   "metadata": {},
   "outputs": [
    {
     "name": "stdout",
     "output_type": "stream",
     "text": [
      "Productividad Operativa Carguio Real Total 2739.075072262233\n"
     ]
    }
   ],
   "source": [
    "# Calcula la productividad operativa acarreo real total\n",
    "productividad_operativa_carguio_rl_mas1_total = sumatoria_toneladas_rl_mas1 / sumatoria_denominador_tiempos_readys_real_carguio_horas\n",
    "\n",
    "print(\"Productividad Operativa Carguio Real Total\", productividad_operativa_carguio_rl_mas1_total)"
   ]
  },
  {
   "cell_type": "markdown",
   "metadata": {},
   "source": [
    "Productividad Carguio - RegLineal - 1"
   ]
  },
  {
   "cell_type": "code",
   "execution_count": 107,
   "metadata": {},
   "outputs": [
    {
     "name": "stdout",
     "output_type": "stream",
     "text": [
      "Productividad Operativa Carguio Real Total 1896.921904964058\n"
     ]
    }
   ],
   "source": [
    "# Calcula la productividad operativa acarreo real total\n",
    "productividad_operativa_carguio_rl_menos1_total = sumatoria_toneladas_rl_menos1 / sumatoria_denominador_tiempos_readys_real_carguio_horas\n",
    "\n",
    "print(\"Productividad Operativa Carguio Real Total\", productividad_operativa_carguio_rl_menos1_total)"
   ]
  },
  {
   "cell_type": "markdown",
   "metadata": {},
   "source": [
    "Productividad Carguio - Arbol Decision"
   ]
  },
  {
   "cell_type": "code",
   "execution_count": 108,
   "metadata": {},
   "outputs": [
    {
     "name": "stdout",
     "output_type": "stream",
     "text": [
      "Productividad Operativa Carguio Real Total 2366.2879812297856\n"
     ]
    }
   ],
   "source": [
    "# Calcula la productividad operativa acarreo real total\n",
    "productividad_operativa_carguio_dt_total = sumatoria_toneladas_dt / sumatoria_denominador_tiempos_readys_real_carguio_horas\n",
    "\n",
    "print(\"Productividad Operativa Carguio Real Total\", productividad_operativa_carguio_dt_total)"
   ]
  },
  {
   "cell_type": "markdown",
   "metadata": {},
   "source": [
    "Productividad Carguio - Arbol Decision + 1"
   ]
  },
  {
   "cell_type": "code",
   "execution_count": 109,
   "metadata": {},
   "outputs": [
    {
     "name": "stdout",
     "output_type": "stream",
     "text": [
      "Productividad Operativa Carguio Real Total 2590.475568036112\n"
     ]
    }
   ],
   "source": [
    "# Calcula la productividad operativa acarreo real total\n",
    "productividad_operativa_carguio_dt_mas1_total = sumatoria_toneladas_dt_mas1 / sumatoria_denominador_tiempos_readys_real_carguio_horas_mas1\n",
    "\n",
    "print(\"Productividad Operativa Carguio Real Total\", productividad_operativa_carguio_dt_mas1_total)"
   ]
  },
  {
   "cell_type": "markdown",
   "metadata": {},
   "source": [
    "Productividad Carguio - Arbol Decision - 1"
   ]
  },
  {
   "cell_type": "code",
   "execution_count": 110,
   "metadata": {},
   "outputs": [
    {
     "name": "stdout",
     "output_type": "stream",
     "text": [
      "Productividad Operativa Carguio Real Total 2105.218445299814\n"
     ]
    }
   ],
   "source": [
    "# Calcula la productividad operativa acarreo real total\n",
    "productividad_operativa_carguio_dt_menos1_total = sumatoria_toneladas_dt_menos1 / sumatoria_denominador_tiempos_readys_real_carguio_horas_menos1\n",
    "\n",
    "print(\"Productividad Operativa Carguio Real Total\", productividad_operativa_carguio_dt_menos1_total)"
   ]
  },
  {
   "cell_type": "markdown",
   "metadata": {},
   "source": [
    "Productividad Carguio - Random Forest"
   ]
  },
  {
   "cell_type": "code",
   "execution_count": 111,
   "metadata": {},
   "outputs": [
    {
     "name": "stdout",
     "output_type": "stream",
     "text": [
      "Productividad Operativa Carguio Real Total 2367.549514090248\n"
     ]
    }
   ],
   "source": [
    "# Calcula la productividad operativa acarreo real total\n",
    "productividad_operativa_carguio_rf_total = sumatoria_toneladas_rf / sumatoria_denominador_tiempos_readys_real_carguio_horas\n",
    "\n",
    "print(\"Productividad Operativa Carguio Real Total\", productividad_operativa_carguio_rf_total)"
   ]
  },
  {
   "cell_type": "markdown",
   "metadata": {},
   "source": [
    "Productividad Carguio - Random Forest + 1"
   ]
  },
  {
   "cell_type": "code",
   "execution_count": 112,
   "metadata": {},
   "outputs": [
    {
     "name": "stdout",
     "output_type": "stream",
     "text": [
      "Productividad Operativa Carguio Real Total 2591.6479909385475\n"
     ]
    }
   ],
   "source": [
    "# Calcula la productividad operativa acarreo real total\n",
    "productividad_operativa_carguio_rf_mas1_total = sumatoria_toneladas_rf_mas1 / sumatoria_denominador_tiempos_readys_real_carguio_horas_mas1\n",
    "\n",
    "print(\"Productividad Operativa Carguio Real Total\", productividad_operativa_carguio_rf_mas1_total)"
   ]
  },
  {
   "cell_type": "markdown",
   "metadata": {},
   "source": [
    "Productividad Carguio - Random Forest - 1"
   ]
  },
  {
   "cell_type": "code",
   "execution_count": 113,
   "metadata": {},
   "outputs": [
    {
     "name": "stdout",
     "output_type": "stream",
     "text": [
      "Productividad Operativa Carguio Real Total 2105.218445299814\n"
     ]
    }
   ],
   "source": [
    "# Calcula la productividad operativa acarreo real total\n",
    "productividad_operativa_carguio_dt_menos1_total = sumatoria_toneladas_dt_menos1 / sumatoria_denominador_tiempos_readys_real_carguio_horas_menos1\n",
    "\n",
    "print(\"Productividad Operativa Carguio Real Total\", productividad_operativa_carguio_dt_menos1_total)"
   ]
  },
  {
   "cell_type": "markdown",
   "metadata": {},
   "source": [
    "Productividad Carguio - XGB"
   ]
  },
  {
   "cell_type": "code",
   "execution_count": 114,
   "metadata": {},
   "outputs": [
    {
     "name": "stdout",
     "output_type": "stream",
     "text": [
      "Productividad Operativa Carguio Real Total 2375.5596739659336\n"
     ]
    }
   ],
   "source": [
    "# Calcula la productividad operativa acarreo real total\n",
    "productividad_operativa_carguio_xgb_total = sumatoria_toneladas_xgb / sumatoria_denominador_tiempos_readys_real_carguio_horas\n",
    "\n",
    "print(\"Productividad Operativa Carguio Real Total\", productividad_operativa_carguio_xgb_total)"
   ]
  },
  {
   "cell_type": "markdown",
   "metadata": {},
   "source": [
    "Productividad Carguio - XGB + 1"
   ]
  },
  {
   "cell_type": "code",
   "execution_count": 115,
   "metadata": {},
   "outputs": [
    {
     "name": "stdout",
     "output_type": "stream",
     "text": [
      "Productividad Operativa Carguio Real Total 2599.09234311102\n"
     ]
    }
   ],
   "source": [
    "# Calcula la productividad operativa acarreo real total\n",
    "productividad_operativa_carguio_xgb_mas1_total = sumatoria_toneladas_xgb_mas1 / sumatoria_denominador_tiempos_readys_real_carguio_horas_mas1\n",
    "\n",
    "print(\"Productividad Operativa Carguio Real Total\", productividad_operativa_carguio_xgb_mas1_total)"
   ]
  },
  {
   "cell_type": "markdown",
   "metadata": {},
   "source": [
    "Productividad Carguio - XGB - 1"
   ]
  },
  {
   "cell_type": "code",
   "execution_count": 116,
   "metadata": {},
   "outputs": [
    {
     "name": "stdout",
     "output_type": "stream",
     "text": [
      "Productividad Operativa Carguio Real Total 2115.2527986824675\n"
     ]
    }
   ],
   "source": [
    "# Calcula la productividad operativa acarreo real total\n",
    "productividad_operativa_carguio_xgb_menos1_total = sumatoria_toneladas_xgb_menos1 / sumatoria_denominador_tiempos_readys_real_carguio_horas_menos1\n",
    "\n",
    "print(\"Productividad Operativa Carguio Real Total\", productividad_operativa_carguio_xgb_menos1_total)"
   ]
  },
  {
   "cell_type": "markdown",
   "metadata": {},
   "source": [
    "Productividad Carguio - Redes Neuronales LSTM"
   ]
  },
  {
   "cell_type": "code",
   "execution_count": 117,
   "metadata": {},
   "outputs": [
    {
     "name": "stdout",
     "output_type": "stream",
     "text": [
      "Productividad Operativa Carguio Real Total 2362.5937906110626\n"
     ]
    }
   ],
   "source": [
    "# Calcula la productividad operativa acarreo real total\n",
    "productividad_operativa_carguio_rnn_total = sumatoria_toneladas_rnn / sumatoria_denominador_tiempos_readys_real_carguio_horas\n",
    "\n",
    "print(\"Productividad Operativa Carguio Real Total\", productividad_operativa_carguio_rnn_total)"
   ]
  },
  {
   "cell_type": "markdown",
   "metadata": {},
   "source": [
    "Productividad Carguio - RNN + 1"
   ]
  },
  {
   "cell_type": "code",
   "execution_count": 118,
   "metadata": {},
   "outputs": [
    {
     "name": "stdout",
     "output_type": "stream",
     "text": [
      "Productividad Operativa Carguio Real Total 2587.042321211477\n"
     ]
    }
   ],
   "source": [
    "# Calcula la productividad operativa acarreo real total\n",
    "productividad_operativa_carguio_rnn_mas1_total = sumatoria_toneladas_rnn_mas1 / sumatoria_denominador_tiempos_readys_real_carguio_horas_mas1\n",
    "\n",
    "print(\"Productividad Operativa Carguio Real Total\", productividad_operativa_carguio_rnn_mas1_total)"
   ]
  },
  {
   "cell_type": "markdown",
   "metadata": {},
   "source": [
    "Productividad Carguio - RNN - 1"
   ]
  },
  {
   "cell_type": "code",
   "execution_count": 119,
   "metadata": {},
   "outputs": [
    {
     "name": "stdout",
     "output_type": "stream",
     "text": [
      "Productividad Operativa Carguio Real Total 2101.2203820349864\n"
     ]
    }
   ],
   "source": [
    "# Calcula la productividad operativa acarreo real total\n",
    "productividad_operativa_carguio_rnn_menos1_total = sumatoria_toneladas_rnn_menos1 / sumatoria_denominador_tiempos_readys_real_carguio_horas_menos1\n",
    "\n",
    "print(\"Productividad Operativa Carguio Real Total\", productividad_operativa_carguio_rnn_menos1_total)"
   ]
  },
  {
   "cell_type": "markdown",
   "metadata": {},
   "source": [
    "## Seccion: de Modelos sin Valores Atipicos"
   ]
  },
  {
   "cell_type": "code",
   "execution_count": 97,
   "metadata": {},
   "outputs": [
    {
     "name": "stderr",
     "output_type": "stream",
     "text": [
      "C:\\Users\\BryanInche-MS4M\\AppData\\Local\\Temp\\ipykernel_27736\\1585899077.py:1: FutureWarning: The argument 'date_parser' is deprecated and will be removed in a future version. Please use 'date_format' instead, or read your data in as 'object' dtype and then call 'to_datetime'.\n",
      "  datos = pd.read_csv('datos_modelo_qwin1.csv', parse_dates=['tiempo_llegada_camion'], date_parser=lambda x: pd.to_datetime(x, format='%Y-%m-%d %H:%M:%S.%f%z'))\n"
     ]
    },
    {
     "data": {
      "text/html": [
       "<div>\n",
       "<style scoped>\n",
       "    .dataframe tbody tr th:only-of-type {\n",
       "        vertical-align: middle;\n",
       "    }\n",
       "\n",
       "    .dataframe tbody tr th {\n",
       "        vertical-align: top;\n",
       "    }\n",
       "\n",
       "    .dataframe thead th {\n",
       "        text-align: right;\n",
       "    }\n",
       "</style>\n",
       "<table border=\"1\" class=\"dataframe\">\n",
       "  <thead>\n",
       "    <tr style=\"text-align: right;\">\n",
       "      <th></th>\n",
       "      <th>tonelaje_inicial_poligono_creado</th>\n",
       "      <th>radiohexagonocuchara_equipocarguio</th>\n",
       "      <th>capacidad_en_volumen_equipo_carguio_m3</th>\n",
       "      <th>capacidad_en_peso_equipo_carguio</th>\n",
       "      <th>capacidad_en_peso_equipo_acarreo</th>\n",
       "      <th>tiempo_estimado_duracion_estado_pala</th>\n",
       "      <th>radio_locacion_metros</th>\n",
       "      <th>tiempo_ready_llegada_esperando</th>\n",
       "      <th>tiempo_ready_esperando_cuadra</th>\n",
       "      <th>tonelaje_camion_antes_cargaestabilizada</th>\n",
       "      <th>angulo_giro_promedio_pases</th>\n",
       "      <th>tonelaje_segun_computadora</th>\n",
       "      <th>id_equipo_camion</th>\n",
       "      <th>id_equipo_carguio</th>\n",
       "      <th>densidad_inicial_poligono_creado_tn/m3</th>\n",
       "      <th>numero_pases_carguio</th>\n",
       "      <th>productividad_operativa_acarreo_tn_h</th>\n",
       "      <th>tiempo_llegada_camion</th>\n",
       "      <th>tiempo_ready_cuadra_cuadrado</th>\n",
       "      <th>tiempo_ready_cuadrado_cargado</th>\n",
       "      <th>tiempo_ready_carga_acarreo</th>\n",
       "      <th>tiempo_ready_acarreo_cola</th>\n",
       "      <th>tiempo_ready_cola_retro</th>\n",
       "      <th>tiempo_ready_retro_listo</th>\n",
       "      <th>tiempo_ready_listo_descarga</th>\n",
       "      <th>tiempo_ready_descarga_viajandovacio</th>\n",
       "      <th>tiempo_ready_cargando_pala</th>\n",
       "      <th>tiempo_ready_esperando_pala</th>\n",
       "      <th>productividad_operativa_carguio_tn_h</th>\n",
       "      <th>al_termino_cargar_en_espera_cuadrado_cuadrandose</th>\n",
       "      <th>factor</th>\n",
       "      <th>capacidad_en_volumen_equipo_acarreo_m3</th>\n",
       "    </tr>\n",
       "  </thead>\n",
       "  <tbody>\n",
       "    <tr>\n",
       "      <th>0</th>\n",
       "      <td>2242926.000000</td>\n",
       "      <td>680.000000</td>\n",
       "      <td>23.000000</td>\n",
       "      <td>39.158333</td>\n",
       "      <td>229.000000</td>\n",
       "      <td>0.000000</td>\n",
       "      <td>45.000000</td>\n",
       "      <td>0.000000</td>\n",
       "      <td>6.000000</td>\n",
       "      <td>225.800000</td>\n",
       "      <td>0.000000</td>\n",
       "      <td>235.800000</td>\n",
       "      <td>42</td>\n",
       "      <td>74</td>\n",
       "      <td>1.916910</td>\n",
       "      <td>0</td>\n",
       "      <td>1487.645018</td>\n",
       "      <td>2022-01-01 07:01:58.086000-05:00</td>\n",
       "      <td>14.001000</td>\n",
       "      <td>44.008000</td>\n",
       "      <td>160.560000</td>\n",
       "      <td>236.034000</td>\n",
       "      <td>16.001000</td>\n",
       "      <td>12.002000</td>\n",
       "      <td>46.004000</td>\n",
       "      <td>36.010000</td>\n",
       "      <td>160.560000</td>\n",
       "      <td>229.177000</td>\n",
       "      <td>2178.084195</td>\n",
       "      <td>False</td>\n",
       "      <td>1042</td>\n",
       "      <td>129.000000</td>\n",
       "    </tr>\n",
       "  </tbody>\n",
       "</table>\n",
       "</div>"
      ],
      "text/plain": [
       "   tonelaje_inicial_poligono_creado  radiohexagonocuchara_equipocarguio  capacidad_en_volumen_equipo_carguio_m3  capacidad_en_peso_equipo_carguio  capacidad_en_peso_equipo_acarreo  tiempo_estimado_duracion_estado_pala  radio_locacion_metros  tiempo_ready_llegada_esperando  tiempo_ready_esperando_cuadra  tonelaje_camion_antes_cargaestabilizada  angulo_giro_promedio_pases  tonelaje_segun_computadora  id_equipo_camion  id_equipo_carguio  densidad_inicial_poligono_creado_tn/m3  numero_pases_carguio  productividad_operativa_acarreo_tn_h            tiempo_llegada_camion  tiempo_ready_cuadra_cuadrado  tiempo_ready_cuadrado_cargado  tiempo_ready_carga_acarreo  tiempo_ready_acarreo_cola  tiempo_ready_cola_retro  tiempo_ready_retro_listo  tiempo_ready_listo_descarga  tiempo_ready_descarga_viajandovacio  tiempo_ready_cargando_pala  tiempo_ready_esperando_pala  productividad_operativa_carguio_tn_h  al_termino_cargar_en_espera_cuadrado_cuadrandose  factor  capacidad_en_volumen_equipo_acarreo_m3\n",
       "0                    2242926.000000                          680.000000                               23.000000                         39.158333                        229.000000                              0.000000              45.000000                        0.000000                       6.000000                               225.800000                    0.000000                  235.800000                42                 74                                1.916910                     0                           1487.645018 2022-01-01 07:01:58.086000-05:00                     14.001000                      44.008000                  160.560000                 236.034000                16.001000                 12.002000                    46.004000                            36.010000                  160.560000                   229.177000                           2178.084195                                             False    1042                              129.000000"
      ]
     },
     "execution_count": 97,
     "metadata": {},
     "output_type": "execute_result"
    }
   ],
   "source": [
    "datos = pd.read_csv('datos_modelo_qwin1.csv', parse_dates=['tiempo_llegada_camion'], date_parser=lambda x: pd.to_datetime(x, format='%Y-%m-%d %H:%M:%S.%f%z'))\n",
    "datos.head(1)"
   ]
  },
  {
   "cell_type": "code",
   "execution_count": 98,
   "metadata": {},
   "outputs": [
    {
     "data": {
      "text/plain": [
       "(743993, 32)"
      ]
     },
     "execution_count": 98,
     "metadata": {},
     "output_type": "execute_result"
    }
   ],
   "source": [
    "datos.shape"
   ]
  },
  {
   "cell_type": "markdown",
   "metadata": {},
   "source": [
    "Ver Correlaciones entre mis variables"
   ]
  },
  {
   "cell_type": "code",
   "execution_count": 40,
   "metadata": {},
   "outputs": [
    {
     "data": {
      "image/png": "[encoded data removed]",
      "text/plain": [
       "<Figure size 600x500 with 2 Axes>"
      ]
     },
     "metadata": {},
     "output_type": "display_data"
    }
   ],
   "source": [
    "import pandas as pd\n",
    "import seaborn as sns\n",
    "import matplotlib.pyplot as plt\n",
    "\n",
    "# Supongamos que tienes un DataFrame llamado 'datos'\n",
    "\n",
    "# Lista de variables que deseas analizar\n",
    "variables_a_analizar = ['capacidad_en_volumen_equipo_carguio_m3',\n",
    "'capacidad_en_peso_equipo_carguio',\n",
    "#'capacidad_en_peso_equipo_acarreo',\n",
    "'tonelaje_camion_antes_cargaestabilizada',\n",
    "#'angulo_giro_promedio_pases',\n",
    "'densidad_inicial_poligono_creado_tn/m3',\n",
    "#'ratio_capcarguio_capacarreo',\n",
    "'numero_pases_carguio']\n",
    "\n",
    "# Filtrar el DataFrame para incluir solo las variables de interés\n",
    "datos_subset = datos[variables_a_analizar]\n",
    "\n",
    "# Crear una matriz de correlación para el subconjunto de variables\n",
    "matriz_correlacion = datos_subset.corr()\n",
    "\n",
    "# Configurar el estilo de Seaborn\n",
    "sns.set(style=\"whitegrid\")\n",
    "\n",
    "# Aumentar el tamaño del gráfico para mostrar más detalles\n",
    "plt.figure(figsize=(6, 5))\n",
    "\n",
    "# Crear un mapa de calor (heatmap) de la matriz de correlación con desplazamiento habilitado\n",
    "ax = sns.heatmap(matriz_correlacion, annot=True, fmt=\".2f\", cmap=\"coolwarm\", linewidths=.5)\n",
    "\n",
    "# Agregar etiquetas a los ejes X e Y\n",
    "ax.set_xticklabels(ax.get_xticklabels(), rotation=45, horizontalalignment='right', fontsize=8)\n",
    "ax.set_yticklabels(ax.get_yticklabels(), rotation=0, horizontalalignment='right', fontsize=8)\n",
    "\n",
    "# Ajustar el tamaño de las fuentes de los nombres de las variables (eje x)\n",
    "ax.tick_params(axis='x', labelsize=12)\n",
    "\n",
    "# Ajustar el tamaño de las fuentes de los nombres de las variables (eje y)\n",
    "ax.tick_params(axis='y', labelsize=12)\n",
    "\n",
    "plt.title(\"Matriz de Correlación (Variables Seleccionadas)\")\n",
    "plt.show()"
   ]
  },
  {
   "cell_type": "markdown",
   "metadata": {},
   "source": [
    "Variables general, con las Productividades, para que podamos medir el impacto del modelo"
   ]
  },
  {
   "cell_type": "code",
   "execution_count": 99,
   "metadata": {},
   "outputs": [],
   "source": [
    "# Supongamos que datos es tu DataFrame y has seleccionado tus características (X) y variable objetivo (y)\n",
    "X_gen = datos[['tonelaje_inicial_poligono_creado',\n",
    "'radiohexagonocuchara_equipocarguio',\n",
    "'capacidad_en_volumen_equipo_carguio_m3',\n",
    "'capacidad_en_peso_equipo_carguio',\n",
    "'capacidad_en_peso_equipo_acarreo',\n",
    "'tiempo_estimado_duracion_estado_pala',\n",
    "'radio_locacion_metros',\n",
    "'tiempo_ready_llegada_esperando',\n",
    "'tiempo_ready_esperando_cuadra',\n",
    "'tonelaje_camion_antes_cargaestabilizada',\n",
    "'angulo_giro_promedio_pases', \n",
    "'tonelaje_segun_computadora',\n",
    "'id_equipo_camion',\n",
    "'id_equipo_carguio',\n",
    "'densidad_inicial_poligono_creado_tn/m3', \n",
    "'productividad_operativa_acarreo_tn_h',\n",
    "'tiempo_llegada_camion',\n",
    "'tiempo_ready_cuadra_cuadrado',\n",
    "'tiempo_ready_cuadrado_cargado',\n",
    "'tiempo_ready_carga_acarreo',\n",
    "'tiempo_ready_acarreo_cola',\n",
    "'tiempo_ready_cola_retro',\n",
    "'tiempo_ready_retro_listo',\n",
    "'tiempo_ready_listo_descarga',\n",
    "'tiempo_ready_descarga_viajandovacio',\n",
    "'tiempo_ready_cargando_pala',\n",
    "'tiempo_ready_esperando_pala',\n",
    "#'ratio_capcarguio_capacarreo',\n",
    "'productividad_operativa_carguio_tn_h',\n",
    "'capacidad_en_volumen_equipo_acarreo_m3']]  # Reemplaza 'feature1', 'feature2', 'feature3' con tus nombres de características\n",
    "y_gen = datos['numero_pases_carguio'] # Reemplaza 'variable_objetivo' con el nombre de tu variable objetivo"
   ]
  },
  {
   "cell_type": "code",
   "execution_count": 100,
   "metadata": {},
   "outputs": [
    {
     "data": {
      "text/html": [
       "<div>\n",
       "<style scoped>\n",
       "    .dataframe tbody tr th:only-of-type {\n",
       "        vertical-align: middle;\n",
       "    }\n",
       "\n",
       "    .dataframe tbody tr th {\n",
       "        vertical-align: top;\n",
       "    }\n",
       "\n",
       "    .dataframe thead th {\n",
       "        text-align: right;\n",
       "    }\n",
       "</style>\n",
       "<table border=\"1\" class=\"dataframe\">\n",
       "  <thead>\n",
       "    <tr style=\"text-align: right;\">\n",
       "      <th></th>\n",
       "      <th>tonelaje_inicial_poligono_creado</th>\n",
       "      <th>radiohexagonocuchara_equipocarguio</th>\n",
       "      <th>capacidad_en_volumen_equipo_carguio_m3</th>\n",
       "      <th>capacidad_en_peso_equipo_carguio</th>\n",
       "      <th>capacidad_en_peso_equipo_acarreo</th>\n",
       "      <th>tiempo_estimado_duracion_estado_pala</th>\n",
       "      <th>radio_locacion_metros</th>\n",
       "      <th>tiempo_ready_llegada_esperando</th>\n",
       "      <th>tiempo_ready_esperando_cuadra</th>\n",
       "      <th>tonelaje_camion_antes_cargaestabilizada</th>\n",
       "      <th>angulo_giro_promedio_pases</th>\n",
       "      <th>tonelaje_segun_computadora</th>\n",
       "      <th>id_equipo_camion</th>\n",
       "      <th>id_equipo_carguio</th>\n",
       "      <th>densidad_inicial_poligono_creado_tn/m3</th>\n",
       "      <th>productividad_operativa_acarreo_tn_h</th>\n",
       "      <th>tiempo_llegada_camion</th>\n",
       "      <th>tiempo_ready_cuadra_cuadrado</th>\n",
       "      <th>tiempo_ready_cuadrado_cargado</th>\n",
       "      <th>tiempo_ready_carga_acarreo</th>\n",
       "      <th>tiempo_ready_acarreo_cola</th>\n",
       "      <th>tiempo_ready_cola_retro</th>\n",
       "      <th>tiempo_ready_retro_listo</th>\n",
       "      <th>tiempo_ready_listo_descarga</th>\n",
       "      <th>tiempo_ready_descarga_viajandovacio</th>\n",
       "      <th>tiempo_ready_cargando_pala</th>\n",
       "      <th>tiempo_ready_esperando_pala</th>\n",
       "      <th>productividad_operativa_carguio_tn_h</th>\n",
       "      <th>capacidad_en_volumen_equipo_acarreo_m3</th>\n",
       "    </tr>\n",
       "  </thead>\n",
       "  <tbody>\n",
       "    <tr>\n",
       "      <th>0</th>\n",
       "      <td>2242926.000000</td>\n",
       "      <td>680.000000</td>\n",
       "      <td>23.000000</td>\n",
       "      <td>39.158333</td>\n",
       "      <td>229.000000</td>\n",
       "      <td>0.000000</td>\n",
       "      <td>45.000000</td>\n",
       "      <td>0.000000</td>\n",
       "      <td>6.000000</td>\n",
       "      <td>225.800000</td>\n",
       "      <td>0.000000</td>\n",
       "      <td>235.800000</td>\n",
       "      <td>42</td>\n",
       "      <td>74</td>\n",
       "      <td>1.916910</td>\n",
       "      <td>1487.645018</td>\n",
       "      <td>2022-01-01 07:01:58.086000-05:00</td>\n",
       "      <td>14.001000</td>\n",
       "      <td>44.008000</td>\n",
       "      <td>160.560000</td>\n",
       "      <td>236.034000</td>\n",
       "      <td>16.001000</td>\n",
       "      <td>12.002000</td>\n",
       "      <td>46.004000</td>\n",
       "      <td>36.010000</td>\n",
       "      <td>160.560000</td>\n",
       "      <td>229.177000</td>\n",
       "      <td>2178.084195</td>\n",
       "      <td>129.000000</td>\n",
       "    </tr>\n",
       "    <tr>\n",
       "      <th>1</th>\n",
       "      <td>77500.000000</td>\n",
       "      <td>680.000000</td>\n",
       "      <td>23.000000</td>\n",
       "      <td>39.158333</td>\n",
       "      <td>229.000000</td>\n",
       "      <td>1200.000000</td>\n",
       "      <td>40.000000</td>\n",
       "      <td>0.000000</td>\n",
       "      <td>6.003000</td>\n",
       "      <td>243.500000</td>\n",
       "      <td>20.000000</td>\n",
       "      <td>234.500000</td>\n",
       "      <td>39</td>\n",
       "      <td>73</td>\n",
       "      <td>2.200000</td>\n",
       "      <td>1827.039404</td>\n",
       "      <td>2022-01-01 07:04:06.421000-05:00</td>\n",
       "      <td>16.002000</td>\n",
       "      <td>8.001000</td>\n",
       "      <td>254.033000</td>\n",
       "      <td>94.015000</td>\n",
       "      <td>0.000000</td>\n",
       "      <td>12.001000</td>\n",
       "      <td>24.001000</td>\n",
       "      <td>48.003000</td>\n",
       "      <td>254.033000</td>\n",
       "      <td>1352.170000</td>\n",
       "      <td>525.587363</td>\n",
       "      <td>129.000000</td>\n",
       "    </tr>\n",
       "    <tr>\n",
       "      <th>2</th>\n",
       "      <td>2242926.000000</td>\n",
       "      <td>680.000000</td>\n",
       "      <td>23.000000</td>\n",
       "      <td>39.158333</td>\n",
       "      <td>229.000000</td>\n",
       "      <td>0.000000</td>\n",
       "      <td>45.000000</td>\n",
       "      <td>0.000000</td>\n",
       "      <td>6.002000</td>\n",
       "      <td>232.900000</td>\n",
       "      <td>0.000000</td>\n",
       "      <td>235.400000</td>\n",
       "      <td>56</td>\n",
       "      <td>74</td>\n",
       "      <td>1.916910</td>\n",
       "      <td>843.956990</td>\n",
       "      <td>2022-01-01 07:06:43.839000-05:00</td>\n",
       "      <td>12.000000</td>\n",
       "      <td>42.003000</td>\n",
       "      <td>144.017000</td>\n",
       "      <td>246.029000</td>\n",
       "      <td>8.001000</td>\n",
       "      <td>14.002000</td>\n",
       "      <td>496.065000</td>\n",
       "      <td>36.008000</td>\n",
       "      <td>144.017000</td>\n",
       "      <td>121.189000</td>\n",
       "      <td>3195.402819</td>\n",
       "      <td>129.000000</td>\n",
       "    </tr>\n",
       "    <tr>\n",
       "      <th>3</th>\n",
       "      <td>77500.000000</td>\n",
       "      <td>680.000000</td>\n",
       "      <td>23.000000</td>\n",
       "      <td>39.158333</td>\n",
       "      <td>229.000000</td>\n",
       "      <td>1200.000000</td>\n",
       "      <td>40.000000</td>\n",
       "      <td>0.000000</td>\n",
       "      <td>60.006000</td>\n",
       "      <td>234.900000</td>\n",
       "      <td>43.000000</td>\n",
       "      <td>234.900000</td>\n",
       "      <td>39</td>\n",
       "      <td>73</td>\n",
       "      <td>2.200000</td>\n",
       "      <td>1447.852551</td>\n",
       "      <td>2022-01-01 07:12:42.484000-05:00</td>\n",
       "      <td>18.004000</td>\n",
       "      <td>10.001000</td>\n",
       "      <td>306.023000</td>\n",
       "      <td>102.009000</td>\n",
       "      <td>0.000000</td>\n",
       "      <td>12.002000</td>\n",
       "      <td>20.002000</td>\n",
       "      <td>56.018000</td>\n",
       "      <td>306.023000</td>\n",
       "      <td>320.035000</td>\n",
       "      <td>1350.737472</td>\n",
       "      <td>129.000000</td>\n",
       "    </tr>\n",
       "    <tr>\n",
       "      <th>4</th>\n",
       "      <td>2242926.000000</td>\n",
       "      <td>680.000000</td>\n",
       "      <td>23.000000</td>\n",
       "      <td>39.158333</td>\n",
       "      <td>229.000000</td>\n",
       "      <td>0.000000</td>\n",
       "      <td>45.000000</td>\n",
       "      <td>0.000000</td>\n",
       "      <td>6.003000</td>\n",
       "      <td>238.400000</td>\n",
       "      <td>0.000000</td>\n",
       "      <td>247.700000</td>\n",
       "      <td>42</td>\n",
       "      <td>74</td>\n",
       "      <td>1.916910</td>\n",
       "      <td>764.691052</td>\n",
       "      <td>2022-01-01 07:15:32.741000-05:00</td>\n",
       "      <td>14.000000</td>\n",
       "      <td>40.006000</td>\n",
       "      <td>160.009000</td>\n",
       "      <td>242.036000</td>\n",
       "      <td>74.003000</td>\n",
       "      <td>10.001000</td>\n",
       "      <td>586.055000</td>\n",
       "      <td>34.005000</td>\n",
       "      <td>160.009000</td>\n",
       "      <td>384.889000</td>\n",
       "      <td>1636.489765</td>\n",
       "      <td>129.000000</td>\n",
       "    </tr>\n",
       "  </tbody>\n",
       "</table>\n",
       "</div>"
      ],
      "text/plain": [
       "   tonelaje_inicial_poligono_creado  radiohexagonocuchara_equipocarguio  capacidad_en_volumen_equipo_carguio_m3  capacidad_en_peso_equipo_carguio  capacidad_en_peso_equipo_acarreo  tiempo_estimado_duracion_estado_pala  radio_locacion_metros  tiempo_ready_llegada_esperando  tiempo_ready_esperando_cuadra  tonelaje_camion_antes_cargaestabilizada  angulo_giro_promedio_pases  tonelaje_segun_computadora  id_equipo_camion  id_equipo_carguio  densidad_inicial_poligono_creado_tn/m3  productividad_operativa_acarreo_tn_h            tiempo_llegada_camion  tiempo_ready_cuadra_cuadrado  tiempo_ready_cuadrado_cargado  tiempo_ready_carga_acarreo  tiempo_ready_acarreo_cola  tiempo_ready_cola_retro  tiempo_ready_retro_listo  tiempo_ready_listo_descarga  tiempo_ready_descarga_viajandovacio  tiempo_ready_cargando_pala  tiempo_ready_esperando_pala  productividad_operativa_carguio_tn_h  capacidad_en_volumen_equipo_acarreo_m3\n",
       "0                    2242926.000000                          680.000000                               23.000000                         39.158333                        229.000000                              0.000000              45.000000                        0.000000                       6.000000                               225.800000                    0.000000                  235.800000                42                 74                                1.916910                           1487.645018 2022-01-01 07:01:58.086000-05:00                     14.001000                      44.008000                  160.560000                 236.034000                16.001000                 12.002000                    46.004000                            36.010000                  160.560000                   229.177000                           2178.084195                              129.000000\n",
       "1                      77500.000000                          680.000000                               23.000000                         39.158333                        229.000000                           1200.000000              40.000000                        0.000000                       6.003000                               243.500000                   20.000000                  234.500000                39                 73                                2.200000                           1827.039404 2022-01-01 07:04:06.421000-05:00                     16.002000                       8.001000                  254.033000                  94.015000                 0.000000                 12.001000                    24.001000                            48.003000                  254.033000                  1352.170000                            525.587363                              129.000000\n",
       "2                    2242926.000000                          680.000000                               23.000000                         39.158333                        229.000000                              0.000000              45.000000                        0.000000                       6.002000                               232.900000                    0.000000                  235.400000                56                 74                                1.916910                            843.956990 2022-01-01 07:06:43.839000-05:00                     12.000000                      42.003000                  144.017000                 246.029000                 8.001000                 14.002000                   496.065000                            36.008000                  144.017000                   121.189000                           3195.402819                              129.000000\n",
       "3                      77500.000000                          680.000000                               23.000000                         39.158333                        229.000000                           1200.000000              40.000000                        0.000000                      60.006000                               234.900000                   43.000000                  234.900000                39                 73                                2.200000                           1447.852551 2022-01-01 07:12:42.484000-05:00                     18.004000                      10.001000                  306.023000                 102.009000                 0.000000                 12.002000                    20.002000                            56.018000                  306.023000                   320.035000                           1350.737472                              129.000000\n",
       "4                    2242926.000000                          680.000000                               23.000000                         39.158333                        229.000000                              0.000000              45.000000                        0.000000                       6.003000                               238.400000                    0.000000                  247.700000                42                 74                                1.916910                            764.691052 2022-01-01 07:15:32.741000-05:00                     14.000000                      40.006000                  160.009000                 242.036000                74.003000                 10.001000                   586.055000                            34.005000                  160.009000                   384.889000                           1636.489765                              129.000000"
      ]
     },
     "execution_count": 100,
     "metadata": {},
     "output_type": "execute_result"
    }
   ],
   "source": [
    "X_gen.head()"
   ]
  },
  {
   "cell_type": "code",
   "execution_count": 102,
   "metadata": {},
   "outputs": [],
   "source": [
    "# Dividir el conjunto de datos en entrenamiento y prueba\n",
    "X_train_gen, X_test_gen, y_train_gen, y_test_gen = train_test_split(X_gen, y_gen, test_size=0.2, random_state=42)"
   ]
  },
  {
   "cell_type": "markdown",
   "metadata": {},
   "source": [
    "### 1. Tratamiento de Outliers"
   ]
  },
  {
   "cell_type": "code",
   "execution_count": 101,
   "metadata": {},
   "outputs": [],
   "source": [
    "import pandas as pd\n",
    "\n",
    "# Iterar a través de las columnas numéricas y limitar los valores atípicos\n",
    "# Calcular el Q1 y Q3 de la columna\n",
    "Q1 = datos['numero_pases_carguio'].quantile(0.25)\n",
    "Q3 = datos['numero_pases_carguio'].quantile(0.75)\n",
    "\n",
    "# Calcular el rango intercuartilico (IQR)\n",
    "IQR = Q3 - Q1\n",
    "\n",
    "# Calcular los límites inferior y superior del bigote\n",
    "Limite_inferior = round(Q1 - 1.5 * IQR)\n",
    "Limite_superior = round(Q3 + 1.5 * IQR)\n",
    "\n",
    "# Limitar los valores atípicos a los límites del bigote en la columna\n",
    "datos['numero_pases_carguio'] = datos['numero_pases_carguio'].clip(lower=Limite_inferior, upper=Limite_superior)\n",
    "\n",
    "# Los valores atípicos en todas las variables (que no comienzan con 'id') están limitados a los límites del bigote"
   ]
  },
  {
   "cell_type": "code",
   "execution_count": 102,
   "metadata": {},
   "outputs": [
    {
     "data": {
      "text/plain": [
       "array([4, 7, 5, 6, 8], dtype=int64)"
      ]
     },
     "execution_count": 102,
     "metadata": {},
     "output_type": "execute_result"
    }
   ],
   "source": [
    "datos['numero_pases_carguio'].unique()"
   ]
  },
  {
   "cell_type": "markdown",
   "metadata": {},
   "source": [
    "### 2. PASO OPCIONAL:Obtenemos la bd que tiene NUMERO DE PASES sin Outliers - MARCOBRE"
   ]
  },
  {
   "cell_type": "code",
   "execution_count": 27,
   "metadata": {},
   "outputs": [
    {
     "name": "stdout",
     "output_type": "stream",
     "text": [
      "        capacidad_en_volumen_equipo_carguio_m3  \\\n",
      "0                                         23.0   \n",
      "1                                         23.0   \n",
      "2                                         23.0   \n",
      "3                                         23.0   \n",
      "4                                         23.0   \n",
      "...                                        ...   \n",
      "743988                                    12.0   \n",
      "743989                                    23.0   \n",
      "743990                                    12.0   \n",
      "743991                                    23.0   \n",
      "743992                                    12.0   \n",
      "\n",
      "        capacidad_en_peso_equipo_carguio  capacidad_en_peso_equipo_acarreo  \\\n",
      "0                              39.158333                             229.0   \n",
      "1                              39.158333                             229.0   \n",
      "2                              39.158333                             229.0   \n",
      "3                              39.158333                             229.0   \n",
      "4                              39.158333                             229.0   \n",
      "...                                  ...                               ...   \n",
      "743988                         25.000000                             229.0   \n",
      "743989                         39.158333                             229.0   \n",
      "743990                         25.000000                             229.0   \n",
      "743991                         39.158333                             229.0   \n",
      "743992                         25.000000                             229.0   \n",
      "\n",
      "        tonelaje_camion_antes_cargaestabilizada  \\\n",
      "0                                         225.8   \n",
      "1                                         243.5   \n",
      "2                                         232.9   \n",
      "3                                         234.9   \n",
      "4                                         238.4   \n",
      "...                                         ...   \n",
      "743988                                    179.5   \n",
      "743989                                    240.5   \n",
      "743990                                    179.9   \n",
      "743991                                    225.2   \n",
      "743992                                    153.1   \n",
      "\n",
      "        densidad_inicial_poligono_creado_tn/m3  numero_pases_carguio  \n",
      "0                                      1.91691                     4  \n",
      "1                                      2.20000                     7  \n",
      "2                                      1.91691                     4  \n",
      "3                                      2.20000                     7  \n",
      "4                                      1.91691                     4  \n",
      "...                                        ...                   ...  \n",
      "743988                                 2.00000                     4  \n",
      "743989                                 2.20000                     8  \n",
      "743990                                 2.00000                     4  \n",
      "743991                                 1.80000                     8  \n",
      "743992                                 2.00000                     4  \n",
      "\n",
      "[743993 rows x 6 columns]\n"
     ]
    }
   ],
   "source": [
    "df1 = datos[['capacidad_en_volumen_equipo_carguio_m3',\n",
    "'capacidad_en_peso_equipo_carguio',\n",
    "'capacidad_en_peso_equipo_acarreo',\n",
    "'tonelaje_camion_antes_cargaestabilizada',\n",
    "#'angulo_giro_promedio_pases',\n",
    "'densidad_inicial_poligono_creado_tn/m3']]\n",
    "#'tiempo_llegada_camion',\n",
    "#'tonelaje_segun_computadora']]\n",
    "df2 = datos['numero_pases_carguio']\n",
    "\n",
    "# Unir los DataFrames a lo largo de las columnas\n",
    "df_concatenado = pd.concat([df1, df2], axis=1)  #axis=1 unir por columnas\n",
    "\n",
    "# Mostrar el resultado\n",
    "df_concatenado"
   ]
  },
  {
   "cell_type": "code",
   "execution_count": 125,
   "metadata": {},
   "outputs": [],
   "source": [
    "#Se guardan los datos que han sido preprocesados y calidad en los datos y cambiados nombres\n",
    "df_concatenado.to_csv('datos_opmarcobre.csv', date_format='%Y-%m-%d %H:%M:%S.%f%z', index=False)"
   ]
  },
  {
   "cell_type": "markdown",
   "metadata": {},
   "source": [
    "### 3. Modelos de ML y DL sin Valores atipicos"
   ]
  },
  {
   "cell_type": "markdown",
   "metadata": {},
   "source": [
    "Hacemos la division entre las variables que seran independientes, y la variable target(dependiente) para los Modelos"
   ]
  },
  {
   "cell_type": "code",
   "execution_count": 110,
   "metadata": {},
   "outputs": [],
   "source": [
    "#datos.loc[368399]  # Valida y busca por un indice en especifico"
   ]
  },
  {
   "cell_type": "code",
   "execution_count": 103,
   "metadata": {},
   "outputs": [],
   "source": [
    "# Supongamos que datos es tu DataFrame y has seleccionado tus características (X) y variable objetivo (y)\n",
    "X = datos[[#'tonelaje_inicial_poligono_creado',\n",
    "#'radiohexagonocuchara_equipocarguio',\n",
    "'capacidad_en_volumen_equipo_carguio_m3',\n",
    "'capacidad_en_peso_equipo_carguio',\n",
    "'capacidad_en_peso_equipo_acarreo',\n",
    "#'tiempo_estimado_duracion_estado_pala',\n",
    "#'radio_locacion_metros',\n",
    "#'tiempo_ready_llegada_esperando',\n",
    "#'tiempo_ready_esperando_cuadra',\n",
    "#'tonelaje_camion_antes_cargaestabilizada',\n",
    "#'angulo_giro_promedio_pases',\n",
    "#'tonelaje_segun_computadora',\n",
    "#'id_equipo_camion', 'id_equipo_carguio',\n",
    "'densidad_inicial_poligono_creado_tn/m3',\n",
    "'capacidad_en_volumen_equipo_acarreo_m3']].values\n",
    "\n",
    "y = datos['numero_pases_carguio'].values # Reemplaza 'variable_objetivo' con el nombre de tu variable objetivo"
   ]
  },
  {
   "cell_type": "code",
   "execution_count": 12,
   "metadata": {},
   "outputs": [
    {
     "data": {
      "text/plain": [
       "((743993, 5), (743993,))"
      ]
     },
     "execution_count": 12,
     "metadata": {},
     "output_type": "execute_result"
    }
   ],
   "source": [
    "X.shape, y.shape"
   ]
  },
  {
   "cell_type": "code",
   "execution_count": 10,
   "metadata": {},
   "outputs": [
    {
     "data": {
      "text/plain": [
       "array([4, 5, 6, 7, 8], dtype=int64)"
      ]
     },
     "execution_count": 10,
     "metadata": {},
     "output_type": "execute_result"
    }
   ],
   "source": [
    "np.unique(y)"
   ]
  },
  {
   "cell_type": "code",
   "execution_count": 115,
   "metadata": {},
   "outputs": [],
   "source": [
    "#Validar valores unicos en un array de .values\n",
    "#set(row[4] for row in X)\n",
    "#np.unique(y)  # ver los valores unicos del array numpy"
   ]
  },
  {
   "cell_type": "markdown",
   "metadata": {},
   "source": [
    "3.1 Regresion Lineal"
   ]
  },
  {
   "cell_type": "code",
   "execution_count": 175,
   "metadata": {},
   "outputs": [
    {
     "name": "stdout",
     "output_type": "stream",
     "text": [
      "Error Absoluto Medio: 0.8186950181116809\n",
      "Error Cuadrático Medio: 1.2806336064086452\n",
      "Raíz del Error Cuadrático Medio: 1.1316508323721788\n",
      "Coeficiente de Determinación (R^2): 0.1517784520384753\n"
     ]
    }
   ],
   "source": [
    "# Normalizar los datos, para que la red tenga un mejor rendimiento al procesar datos mas pequenos y en una misma escala\n",
    "#scaler = StandardScaler()\n",
    "#X_normalized = scaler.fit_transform(X)\n",
    "\n",
    "# Convertir DataFrame a array de NumPy\n",
    "#X_array = X_normalized\n",
    "#y_array = y.values\n",
    "\n",
    "# Dividir el conjunto de datos en entrenamiento y prueba\n",
    "X_train_rl, X_test_rl, y_train_rl, y_test_rl = train_test_split(X, y, test_size=0.2, random_state=42)\n",
    "\n",
    "# Crear el modelo de regresión lineal múltiple\n",
    "modelo_rl = LinearRegression()\n",
    "\n",
    "# Entrenar el modelo\n",
    "modelo_rl.fit(X_train_rl, y_train_rl)\n",
    "\n",
    "# Realizar predicciones en el conjunto de prueba\n",
    "y_pred_rl = modelo_rl.predict(X_test_rl)\n",
    "\n",
    "# Redondear los valores de y_pred al entero más cercano\n",
    "y_pred_rl = np.round(y_pred_rl).astype('int64')\n",
    "\n",
    "# Medir el rendimiento del modelo\n",
    "error_absoluto_medio_rl = metrics.mean_absolute_error(y_test_rl, y_pred_rl)\n",
    "error_cuadratico_medio_rl = metrics.mean_squared_error(y_test_rl, y_pred_rl)\n",
    "raiz_error_cuadratico_medio_rl = metrics.mean_squared_error(y_test_rl, y_pred_rl, squared=False)\n",
    "coeficiente_de_determinacion_rl = metrics.r2_score(y_test_rl, y_pred_rl)\n",
    "\n",
    "# Imprimir métricas de rendimiento\n",
    "print(f'Error Absoluto Medio: {error_absoluto_medio_rl}')\n",
    "print(f'Error Cuadrático Medio: {error_cuadratico_medio_rl}')\n",
    "print(f'Raíz del Error Cuadrático Medio: {raiz_error_cuadratico_medio_rl}')\n",
    "print(f'Coeficiente de Determinación (R^2): {coeficiente_de_determinacion_rl}')"
   ]
  },
  {
   "cell_type": "markdown",
   "metadata": {},
   "source": [
    "3.2 Regresion Lineal V2 - DETECTAR OVERFITTING - METODO 1: RSME "
   ]
  },
  {
   "cell_type": "code",
   "execution_count": 16,
   "metadata": {},
   "outputs": [
    {
     "name": "stdout",
     "output_type": "stream",
     "text": [
      "RMSE en conjunto de entrenamiento: 1.1268746470777105\n",
      "RMSE en conjunto de prueba: 1.1316508323721788\n"
     ]
    }
   ],
   "source": [
    "from sklearn.metrics import mean_squared_error\n",
    "import numpy as np\n",
    "# Dividir el conjunto de datos en entrenamiento y prueba\n",
    "X_train_rl, X_test_rl, y_train_rl, y_test_rl = train_test_split(X, y, test_size=0.2, random_state=42)\n",
    "\n",
    "# Crear el modelo de regresión lineal múltiple\n",
    "modelo_rl = LinearRegression()\n",
    "\n",
    "# Entrenar el modelo\n",
    "modelo_rl.fit(X_train_rl, y_train_rl)\n",
    "\n",
    "\n",
    "# Realizar predicciones en los conjuntos de entrenamiento y prueba (DETECCION DE \"OVERFITING\" Si rendimiento de TRAIN es mucho mayor que en TEST)\n",
    "y_pred_rl_train = modelo_rl.predict(X_train_rl)\n",
    "#Redondear prediccion\n",
    "y_pred_rl_train = np.round(y_pred_rl_train).astype('int64')\n",
    "\n",
    "y_pred_rl_test = modelo_rl.predict(X_test_rl)\n",
    "#Redondear prediccion\n",
    "y_pred_rl_test = np.round(y_pred_rl_test).astype('int64')\n",
    "\n",
    "# Calcular el RMSE en los conjuntos de entrenamiento y prueba\n",
    "rmse_rl_train = np.sqrt(mean_squared_error(y_train_rl, y_pred_rl_train))\n",
    "rmse_rl_test = np.sqrt(mean_squared_error(y_test_rl, y_pred_rl_test))\n",
    "\n",
    "print(\"RMSE en conjunto de entrenamiento:\", rmse_rl_train)\n",
    "print(\"RMSE en conjunto de prueba:\", rmse_rl_test)"
   ]
  },
  {
   "cell_type": "code",
   "execution_count": 17,
   "metadata": {},
   "outputs": [
    {
     "data": {
      "text/plain": [
       "array([ 4,  6, 25], dtype=int64)"
      ]
     },
     "execution_count": 17,
     "metadata": {},
     "output_type": "execute_result"
    }
   ],
   "source": [
    "np.unique(y_pred_rl_test)"
   ]
  },
  {
   "cell_type": "markdown",
   "metadata": {},
   "source": [
    "3.3 DETECTAR OVERFITTING - METODO 2: Coeficiente de Determinacion (R2)"
   ]
  },
  {
   "cell_type": "code",
   "execution_count": 18,
   "metadata": {},
   "outputs": [
    {
     "name": "stdout",
     "output_type": "stream",
     "text": [
      "Coeficiente de determinación (R^2) en conjunto de entrenamiento: 0.2760952114130447\n",
      "Coeficiente de determinación (R^2) en conjunto de prueba: 0.26613785776017906\n"
     ]
    }
   ],
   "source": [
    "# Evaluar el modelo en el conjunto de entrenamiento\n",
    "train_rl_score = modelo_rl.score(X_train_rl, y_train_rl)\n",
    "print(\"Coeficiente de determinación (R^2) en conjunto de entrenamiento:\", train_rl_score)\n",
    "\n",
    "# Evaluar el modelo en el conjunto de prueba\n",
    "test_rl_score = modelo_rl.score(X_test_rl, y_test_rl)\n",
    "print(\"Coeficiente de determinación (R^2) en conjunto de prueba:\", test_rl_score)"
   ]
  },
  {
   "cell_type": "markdown",
   "metadata": {},
   "source": [
    "3.4 Realizamos una prediccion con el Modelo, en toda la BD Original."
   ]
  },
  {
   "cell_type": "code",
   "execution_count": 19,
   "metadata": {},
   "outputs": [
    {
     "name": "stderr",
     "output_type": "stream",
     "text": [
      "c:\\Users\\BryanInche-MS4M\\anaconda3\\Lib\\site-packages\\sklearn\\base.py:457: UserWarning: X has feature names, but LinearRegression was fitted without feature names\n",
      "  warnings.warn(\n"
     ]
    }
   ],
   "source": [
    "# Realizar predicciones en el conjunto de prueba\n",
    "y_pred_rl_total = modelo_rl.predict(X_gen[['capacidad_en_volumen_equipo_carguio_m3',\n",
    "       'capacidad_en_peso_equipo_carguio',\n",
    "       'capacidad_en_peso_equipo_acarreo',\n",
    "       'densidad_inicial_poligono_creado_tn/m3','capacidad_en_volumen_equipo_acarreo_m3']])\n",
    "\n",
    "# Redondear los valores de y_pred al entero más cercano\n",
    "y_pred_rl_total = np.round(y_pred_rl_total).astype('int64')"
   ]
  },
  {
   "cell_type": "code",
   "execution_count": 21,
   "metadata": {},
   "outputs": [
    {
     "data": {
      "text/plain": [
       "array([ 4,  6, 25], dtype=int64)"
      ]
     },
     "execution_count": 21,
     "metadata": {},
     "output_type": "execute_result"
    }
   ],
   "source": [
    "np.unique(y_pred_rl_total)"
   ]
  },
  {
   "cell_type": "code",
   "execution_count": 22,
   "metadata": {},
   "outputs": [
    {
     "name": "stderr",
     "output_type": "stream",
     "text": [
      "c:\\Users\\BryanInche-MS4M\\anaconda3\\Lib\\site-packages\\sklearn\\base.py:457: UserWarning: X has feature names, but LinearRegression was fitted without feature names\n",
      "  warnings.warn(\n"
     ]
    }
   ],
   "source": [
    "# Realizar predicciones en el conjunto de prueba\n",
    "y_pred_rl_total2 = modelo_rl.predict(datos[['capacidad_en_volumen_equipo_carguio_m3',\n",
    "       'capacidad_en_peso_equipo_carguio',\n",
    "       'capacidad_en_peso_equipo_acarreo',\n",
    "       'densidad_inicial_poligono_creado_tn/m3','capacidad_en_volumen_equipo_acarreo_m3']])\n",
    "\n",
    "# Redondear los valores de y_pred al entero más cercano\n",
    "y_pred_rl_total2 = np.round(y_pred_rl_total2).astype('int64')"
   ]
  },
  {
   "cell_type": "code",
   "execution_count": 23,
   "metadata": {},
   "outputs": [
    {
     "data": {
      "text/plain": [
       "array([ 4,  6, 25], dtype=int64)"
      ]
     },
     "execution_count": 23,
     "metadata": {},
     "output_type": "execute_result"
    }
   ],
   "source": [
    "np.unique(y_pred_rl_total2)"
   ]
  },
  {
   "cell_type": "markdown",
   "metadata": {},
   "source": [
    "Un RMSE de 1.52 significa que, en promedio, las predicciones tienen un error de alrededor de 1.52 unidades  de nuemro de pases."
   ]
  },
  {
   "cell_type": "markdown",
   "metadata": {},
   "source": [
    "Crear un gráfico de valores reales vs predichos"
   ]
  },
  {
   "cell_type": "code",
   "execution_count": 12,
   "metadata": {},
   "outputs": [
    {
     "data": {
      "text/plain": [
       "[<matplotlib.lines.Line2D at 0x2a478fb6c90>]"
      ]
     },
     "execution_count": 12,
     "metadata": {},
     "output_type": "execute_result"
    },
    {
     "data": {
      "image/png": "[encoded data removed]",
      "text/plain": [
       "<Figure size 640x480 with 1 Axes>"
      ]
     },
     "metadata": {},
     "output_type": "display_data"
    }
   ],
   "source": [
    "# Visualizar las predicciones\n",
    "plt.scatter(y_test_rl, y_pred_rl)\n",
    "plt.xlabel('Real [Pases]')\n",
    "plt.ylabel('Prediccion [Pases]')\n",
    "lims = [0, 20]\n",
    "plt.xlim(lims)\n",
    "plt.ylim(lims)\n",
    "plt.plot(lims, lims)"
   ]
  },
  {
   "cell_type": "markdown",
   "metadata": {},
   "source": [
    "3.2 Arbol de decision Regressor"
   ]
  },
  {
   "cell_type": "code",
   "execution_count": 24,
   "metadata": {},
   "outputs": [
    {
     "name": "stdout",
     "output_type": "stream",
     "text": [
      "Error Absoluto Medio: 0.7829286487140371\n",
      "Error Cuadrático Medio: 1.1785227051257066\n",
      "Raíz del Error Cuadrático Medio: 1.0855978560800987\n"
     ]
    }
   ],
   "source": [
    "from sklearn.tree import DecisionTreeRegressor\n",
    "from sklearn.model_selection import train_test_split\n",
    "from sklearn.metrics import mean_squared_error\n",
    "import matplotlib.pyplot as plt\n",
    "\n",
    "# Supongamos que X es tu conjunto de características y y es tu variable objetivo (Número de Pases)\n",
    "# Asegúrate de tener definidas estas variables antes de ejecutar el código\n",
    "\n",
    "# Normalizar los datos, para que la red tenga un mejor rendimiento al procesar datos mas pequenos y en una misma escala\n",
    "#scaler = StandardScaler()\n",
    "#X_normalized = scaler.fit_transform(X)\n",
    "\n",
    "# Convertir DataFrame a array de NumPy\n",
    "#X_array = X_normalized\n",
    "#y_array = y.values\n",
    "\n",
    "# Dividir el conjunto de datos en entrenamiento y prueba\n",
    "X_train_dt, X_test_dt, y_train_dt, y_test_dt = train_test_split(X, y, test_size=0.2, random_state=42)\n",
    "\n",
    "# Crear el modelo de árbol de decisión para regresión\n",
    "model_arbol = DecisionTreeRegressor(max_depth=5,random_state=42)\n",
    "\n",
    "# Entrenar el modelo\n",
    "model_arbol.fit(X_train_dt, y_train_dt)\n",
    "\n",
    "# Realizar predicciones en el conjunto de prueba\n",
    "y_pred_dt = model_arbol.predict(X_test_dt)\n",
    "\n",
    "# Redondear los valores de y_pred al entero más cercano\n",
    "y_pred_dt = np.round(y_pred_dt).astype('int64')\n",
    "\n",
    "# Visualizar el árbol de decisión (opcional)\n",
    "# Nota: Necesitarás tener instalada la biblioteca graphviz y pydotplus para esto\n",
    "# from sklearn.tree import export_graphviz\n",
    "# import pydotplus\n",
    "# dot_data = export_graphviz(modelo_arbol, out_file=None, feature_names=X.columns, filled=True, rounded=True)\n",
    "# graph = pydotplus.graph_from_dot_data(dot_data)\n",
    "# graph.write_png('arbol_decision.png')\n",
    "\n",
    "# Medir el rendimiento del modelo\n",
    "error_absoluto_medio_dt = metrics.mean_absolute_error(y_test_dt, y_pred_dt)\n",
    "error_cuadratico_medio_dt = metrics.mean_squared_error(y_test_dt, y_pred_dt)\n",
    "raiz_error_cuadratico_medio_dt = metrics.mean_squared_error(y_test_dt, y_pred_dt, squared=False)\n",
    "\n",
    "# Imprimir métricas de rendimiento\n",
    "print(f'Error Absoluto Medio: {error_absoluto_medio_dt}')\n",
    "print(f'Error Cuadrático Medio: {error_cuadratico_medio_dt}')\n",
    "print(f'Raíz del Error Cuadrático Medio: {raiz_error_cuadratico_medio_dt}')"
   ]
  },
  {
   "cell_type": "code",
   "execution_count": 26,
   "metadata": {},
   "outputs": [
    {
     "data": {
      "text/plain": [
       "array([4, 5, 6, 7], dtype=int64)"
      ]
     },
     "execution_count": 26,
     "metadata": {},
     "output_type": "execute_result"
    }
   ],
   "source": [
    "np.unique(y_pred_dt)"
   ]
  },
  {
   "cell_type": "markdown",
   "metadata": {},
   "source": [
    "Deteccion de Overfitting (Metodo de R2)"
   ]
  },
  {
   "cell_type": "code",
   "execution_count": 25,
   "metadata": {},
   "outputs": [
    {
     "name": "stdout",
     "output_type": "stream",
     "text": [
      "Coeficiente de determinación (R^2) en conjunto de entrenamiento: 0.3067274804882293\n",
      "Coeficiente de determinación (R^2) en conjunto de prueba: 0.3036150739666482\n"
     ]
    }
   ],
   "source": [
    "# Evaluar el modelo en el conjunto de entrenamiento\n",
    "train_dt_score = model_arbol.score(X_train_dt, y_train_dt)\n",
    "print(\"Coeficiente de determinación (R^2) en conjunto de entrenamiento:\", train_dt_score)\n",
    "\n",
    "# Evaluar el modelo en el conjunto de prueba\n",
    "test_dt_score = model_arbol.score(X_test_dt, y_test_dt)\n",
    "print(\"Coeficiente de determinación (R^2) en conjunto de prueba:\", test_dt_score)"
   ]
  },
  {
   "cell_type": "markdown",
   "metadata": {},
   "source": [
    "Deteccion de Overfitting (Metodo de RSME)"
   ]
  },
  {
   "cell_type": "code",
   "execution_count": 81,
   "metadata": {},
   "outputs": [
    {
     "name": "stdout",
     "output_type": "stream",
     "text": [
      "RMSE en conjunto de entrenamiento: 1.0836773488158995\n",
      "RMSE en conjunto de prueba: 1.1316508323721788\n"
     ]
    }
   ],
   "source": [
    "y_pred_dt_train = model_arbol.predict(X_train_dt)\n",
    "#Redondear prediccion\n",
    "y_pred_dt_train = np.round(y_pred_dt_train).astype('int64')\n",
    "\n",
    "y_pred_dt_test = modelo_rl.predict(X_test_dt)\n",
    "#Redondear prediccion\n",
    "y_pred_dt_test = np.round(y_pred_dt_test).astype('int64')\n",
    "\n",
    "# Calcular el RMSE en los conjuntos de entrenamiento y prueba\n",
    "rmse_dt_train = np.sqrt(mean_squared_error(y_train_dt, y_pred_dt_train))\n",
    "rmse_dt_test = np.sqrt(mean_squared_error(y_test_dt, y_pred_dt_test))\n",
    "\n",
    "print(\"RMSE en conjunto de entrenamiento:\", rmse_dt_train)\n",
    "print(\"RMSE en conjunto de prueba:\", rmse_dt_test)"
   ]
  },
  {
   "cell_type": "code",
   "execution_count": 27,
   "metadata": {},
   "outputs": [
    {
     "name": "stderr",
     "output_type": "stream",
     "text": [
      "c:\\Users\\BryanInche-MS4M\\anaconda3\\Lib\\site-packages\\sklearn\\base.py:457: UserWarning: X has feature names, but DecisionTreeRegressor was fitted without feature names\n",
      "  warnings.warn(\n"
     ]
    }
   ],
   "source": [
    "# Realizar predicciones en el conjunto de prueba\n",
    "y_pred_rl_total2 = model_arbol.predict(datos[['capacidad_en_volumen_equipo_carguio_m3',\n",
    "       'capacidad_en_peso_equipo_carguio',\n",
    "       'capacidad_en_peso_equipo_acarreo',\n",
    "       'densidad_inicial_poligono_creado_tn/m3','capacidad_en_volumen_equipo_acarreo_m3']])\n",
    "\n",
    "# Redondear los valores de y_pred al entero más cercano\n",
    "y_pred_rl_total2 = np.round(y_pred_rl_total2).astype('int64')"
   ]
  },
  {
   "cell_type": "code",
   "execution_count": 28,
   "metadata": {},
   "outputs": [
    {
     "data": {
      "text/plain": [
       "array([4, 5, 6, 7], dtype=int64)"
      ]
     },
     "execution_count": 28,
     "metadata": {},
     "output_type": "execute_result"
    }
   ],
   "source": [
    "np.unique(y_pred_rl_total2)"
   ]
  },
  {
   "cell_type": "markdown",
   "metadata": {},
   "source": [
    "Convirtiendo el Modelo Decision Tree de Sklearn a TFLITE (Primero debe pasar por ser convertido en ONNX)"
   ]
  },
  {
   "cell_type": "markdown",
   "metadata": {},
   "source": [
    "Metodo 1 to SKLEARN TO ONNX"
   ]
  },
  {
   "cell_type": "code",
   "execution_count": 79,
   "metadata": {},
   "outputs": [],
   "source": [
    "import tensorflow as tf\n",
    "from skl2onnx import to_onnx\n",
    "\n",
    "onx = to_onnx(model_arbol, X[:10])\n",
    "with open(\"model_arbol.onnx\", \"wb\") as f:\n",
    "    f.write(onx.SerializeToString())"
   ]
  },
  {
   "cell_type": "markdown",
   "metadata": {},
   "source": [
    "Metodo 2 to SKLEARN TO ONNX (MAS ADECUADO)"
   ]
  },
  {
   "cell_type": "code",
   "execution_count": 80,
   "metadata": {},
   "outputs": [],
   "source": [
    "# pip install onnxmltools\n",
    "# pip install onnxconverter_common\n",
    "# pip install scikit-learn"
   ]
  },
  {
   "cell_type": "code",
   "execution_count": 77,
   "metadata": {},
   "outputs": [],
   "source": [
    "from onnxmltools import convert_sklearn\n",
    "from onnxmltools.utils import save_model\n",
    "from onnxconverter_common.data_types import FloatTensorType\n",
    "\n",
    "initial_type = [('float_input', FloatTensorType([None, 5]))]  #None:Dimension datos ; 5 : numero de variables\n",
    "onx = convert_sklearn(model_arbol, initial_types=initial_type)\n",
    "save_model(onx, \"model_arbol3.onnx\")"
   ]
  },
  {
   "cell_type": "markdown",
   "metadata": {},
   "source": [
    "3.3 Random Forest "
   ]
  },
  {
   "cell_type": "markdown",
   "metadata": {},
   "source": [
    "Construye cada árbol de forma independiente y paralela. Cada árbol no tiene conocimiento de la existencia de otros árboles."
   ]
  },
  {
   "cell_type": "code",
   "execution_count": 11,
   "metadata": {},
   "outputs": [
    {
     "name": "stdout",
     "output_type": "stream",
     "text": [
      "Error Absoluto Medio: 0.7774111385157159\n",
      "Error Cuadrático Medio: 1.162615340156856\n",
      "Raíz del Error Cuadrático Medio: 1.078246419032707\n"
     ]
    }
   ],
   "source": [
    "# Importar librerías necesarias\n",
    "import numpy as np\n",
    "import pandas as pd\n",
    "from sklearn.model_selection import train_test_split\n",
    "from sklearn.ensemble import RandomForestRegressor\n",
    "from sklearn.metrics import mean_squared_error, r2_score\n",
    "import matplotlib.pyplot as plt\n",
    "\n",
    "# Supongamos que tienes un DataFrame llamado df con tus datos, y la columna objetivo es 'target'\n",
    "# Asegúrate de tener las características adecuadas para entrenar el modelo\n",
    "\n",
    "# Normalizar los datos, para que la red tenga un mejor rendimiento al procesar datos mas pequenos y en una misma escala\n",
    "scaler = StandardScaler()\n",
    "X_normalized = scaler.fit_transform(X)\n",
    "\n",
    "# Convertir DataFrame a array de NumPy\n",
    "X_array = X_normalized\n",
    "y_array = y.values\n",
    "\n",
    "# Dividir el conjunto de datos en entrenamiento y prueba\n",
    "X_train_rf, X_test_rf, y_train_rf, y_test_rf = train_test_split(X_array, y_array, test_size=0.2, random_state=42)\n",
    "\n",
    "# Crear el modelo de Random Forest\n",
    "model_rf = RandomForestRegressor(n_estimators=20, max_depth=5 ,random_state=42)\n",
    "\n",
    "# Entrenar el modelo\n",
    "model_rf.fit(X_train_rf, y_train_rf)\n",
    "\n",
    "# Realizar predicciones en el conjunto de prueba\n",
    "y_pred_rf = model_rf.predict(X_test_rf)\n",
    "\n",
    "# Redondear los valores de y_pred al entero más cercano\n",
    "y_pred_rf = np.round(y_pred_rf).astype('int64')\n",
    "\n",
    "# Medir el rendimiento del modelo\n",
    "error_absoluto_medio_rf = metrics.mean_absolute_error(y_test_rf, y_pred_rf)\n",
    "error_cuadratico_medio_rf = metrics.mean_squared_error(y_test_rf, y_pred_rf)\n",
    "raiz_error_cuadratico_medio_rf = metrics.mean_squared_error(y_test_rf, y_pred_rf, squared=False)\n",
    "\n",
    "# Imprimir métricas de rendimiento\n",
    "print(f'Error Absoluto Medio: {error_absoluto_medio_rf}')\n",
    "print(f'Error Cuadrático Medio: {error_cuadratico_medio_rf}')\n",
    "print(f'Raíz del Error Cuadrático Medio: {raiz_error_cuadratico_medio_rf}')"
   ]
  },
  {
   "cell_type": "markdown",
   "metadata": {},
   "source": [
    "3.4 SVM (Support Vector Machine)"
   ]
  },
  {
   "cell_type": "code",
   "execution_count": 12,
   "metadata": {},
   "outputs": [],
   "source": [
    "from sklearn.svm import SVR\n",
    "\n",
    "# Normalizar los datos, para que la red tenga un mejor rendimiento al procesar datos mas pequenos y en una misma escala\n",
    "scaler = StandardScaler()\n",
    "X_normalized = scaler.fit_transform(X)\n",
    "\n",
    "# Convertir DataFrame a array de NumPy\n",
    "X_array = X_normalized\n",
    "y_array = y.values\n",
    "\n",
    "# Dividir el conjunto de datos en entrenamiento y prueba\n",
    "X_train_svm, X_test_svm, y_train_svm, y_test_svm = train_test_split(X_array, y_array, test_size=0.2, random_state=42)\n",
    "\n",
    "# Crear y entrenar el modelo de SVM Regressor\n",
    "model_svm = SVR(kernel='linear')  # Puedes ajustar los hiperparámetros según sea necesario\n",
    "model_svm.fit(X_train_svm, y_train_svm)\n",
    "\n",
    "# Realizar predicciones en el conjunto de prueba con SVM Regressor\n",
    "y_pred_svm = model_svm.predict(X_test_svm)\n",
    "y_pred_svm = np.round(y_pred_svm).astype('int64')\n",
    "\n",
    "# Medir el rendimiento del modelo de SVM Regressor\n",
    "error_absoluto_medio_svm = metrics.mean_absolute_error(y_test_svm, y_pred_svm)\n",
    "error_cuadratico_medio_svm = metrics.mean_squared_error(y_test_svm, y_pred_svm)\n",
    "raiz_error_cuadratico_medio_svm = metrics.mean_squared_error(y_test_svm, y_pred_svm, squared=False)\n",
    "\n",
    "# Imprimir métricas de rendimiento de SVM Regressor\n",
    "print(\"\\nMétricas de rendimiento para SVM Regressor:\")\n",
    "print(f'Error Absoluto Medio: {error_absoluto_medio_svm}')\n",
    "print(f'Error Cuadrático Medio: {error_cuadratico_medio_svm}')\n",
    "print(f'Raíz del Error Cuadrático Medio: {raiz_error_cuadratico_medio_svm}')"
   ]
  },
  {
   "cell_type": "markdown",
   "metadata": {},
   "source": [
    "3.5 XGBoost"
   ]
  },
  {
   "cell_type": "markdown",
   "metadata": {},
   "source": [
    "Construye árboles de manera secuencial. Cada árbol se entrena para corregir los errores de los árboles anteriores."
   ]
  },
  {
   "cell_type": "code",
   "execution_count": 12,
   "metadata": {},
   "outputs": [
    {
     "name": "stdout",
     "output_type": "stream",
     "text": [
      "Error Absoluto Medio: 0.76432637316111\n",
      "Error Cuadrático Medio: 1.131479378221628\n",
      "Raíz del Error Cuadrático Medio: 1.063710194659066\n"
     ]
    }
   ],
   "source": [
    "# Instalar las bibliotecas necesarias\n",
    "# pip install xgboost scikit-learn matplotlib\n",
    "\n",
    "import numpy as np\n",
    "import pandas as pd\n",
    "from sklearn.model_selection import train_test_split\n",
    "import xgboost as xgb\n",
    "import matplotlib.pyplot as plt\n",
    "from sklearn.preprocessing import StandardScaler\n",
    "\n",
    "# Supongamos que tienes un DataFrame llamado df con tus datos, y la columna objetivo es 'target'\n",
    "# Asegúrate de tener las características adecuadas para entrenar el modelo\n",
    "\n",
    "# Normalizar los datos, para que la red tenga un mejor rendimiento al procesar datos mas pequenos y en una misma escala\n",
    "#scaler = StandardScaler()\n",
    "#X_normalized = scaler.fit_transform(X)\n",
    "\n",
    "# Convertir DataFrame a array de NumPy\n",
    "#X_array = X_normalized\n",
    "#y_array = y.values\n",
    "\n",
    "# Dividir el conjunto de datos en entrenamiento y prueba\n",
    "X_train_xgb, X_test_xgb, y_train_xgb, y_test_xgb = train_test_split(X, y, test_size=0.2, random_state=42)\n",
    "#X_train_xgb, X_test_xgb, y_train_xgb, y_test_xgb = train_test_split(X_array, y_array, test_size=0.2, random_state=42)\n",
    "\n",
    "# Crear el modelo de XGBoost\n",
    "model_xgb = xgb.XGBRegressor(\n",
    "    learning_rate = 0.1,\n",
    "    n_estimators=100,  # Número de árboles\n",
    "    max_depth=7,  # Profundidad máxima de los árboles\n",
    "    random_state=42\n",
    ")\n",
    "\n",
    "# Entrenar el modelo\n",
    "model_xgb.fit(X_train_xgb, y_train_xgb)\n",
    "\n",
    "# Realizar predicciones en el conjunto de prueba\n",
    "y_pred_xgb = model_xgb.predict(X_test_xgb)\n",
    "\n",
    "# Redondear los valores de y_pred al entero más cercano\n",
    "y_pred_xgb = np.round(y_pred_xgb).astype('int64')\n",
    "\n",
    "# Medir el rendimiento del modelo\n",
    "error_absoluto_medio_xgb = metrics.mean_absolute_error(y_test_xgb, y_pred_xgb)\n",
    "error_cuadratico_medio_xgb = metrics.mean_squared_error(y_test_xgb, y_pred_xgb)\n",
    "raiz_error_cuadratico_medio_xgb = metrics.mean_squared_error(y_test_xgb, y_pred_xgb, squared=False)\n",
    "\n",
    "# Imprimir métricas de rendimiento\n",
    "print(f'Error Absoluto Medio: {error_absoluto_medio_xgb}')\n",
    "print(f'Error Cuadrático Medio: {error_cuadratico_medio_xgb}')\n",
    "print(f'Raíz del Error Cuadrático Medio: {raiz_error_cuadratico_medio_xgb}')"
   ]
  },
  {
   "cell_type": "markdown",
   "metadata": {},
   "source": [
    "#### Convertir Modelo XGB entrenado a un formato ONNX"
   ]
  },
  {
   "cell_type": "code",
   "execution_count": 81,
   "metadata": {},
   "outputs": [],
   "source": [
    "import numpy as np  #Libreria para manejo de operaciones matematicas y matrices\n",
    "\n",
    "#pip install onnxruntime -- Instalamos esta libreria\n",
    "import onnxruntime as rt\n",
    "#onnxruntime es una librería de ejecución de modelos ONNX (Open Neural Network Exchange) que permite cargar y\n",
    "# ejecutar modelos ONNX en diferentes plataformas y dispositivos.\n",
    "\n",
    "from sklearn.model_selection import train_test_split\n",
    "from sklearn.pipeline import Pipeline\n",
    "from xgboost import XGBClassifier, XGBRegressor, DMatrix, train as train_xgb\n",
    "\n",
    "#pip install --user skl2onnx -- Instala esta libreria como usuario, para no tener problemas de acceso\n",
    "from skl2onnx.common.data_types import FloatTensorType\n",
    "from skl2onnx import convert_sklearn, to_onnx, update_registered_converter\n",
    "from skl2onnx.common.shape_calculator import (\n",
    "    calculate_linear_classifier_output_shapes,\n",
    "    calculate_linear_regressor_output_shapes,\n",
    ")\n",
    "from onnxmltools.convert import convert_xgboost as convert_xgboost_booster\n",
    "from onnxmltools.convert.xgboost.operator_converters.XGBoost import convert_xgboost\n",
    "#skl2onnx es una librería que proporciona herramientas para convertir modelos sklearn a \n",
    "#formato ONNX. onnxmltools es otra librería que proporciona herramientas para convertir modelos xgboost a formato ONNX. \n",
    "\n",
    "\n",
    "\n",
    "# Dividir el conjunto de datos en entrenamiento y prueba\n",
    "X_train_xgb_onnx, X_test_xgb_onnx, y_train_xgb_onnx, y_test_xgb_onnx = train_test_split(X, y, test_size=0.2, random_state=42)\n",
    "\n",
    "# Renombrar todas las características para que sigan el patrón 'f%d'\n",
    "#X_train_renamed = pd.DataFrame(X_train_xgb_onnx, columns=['f{}'.format(i) for i in range(X_train_xgb_onnx.shape[1])])\n",
    "#X_test_renamed = pd.DataFrame(X_test_xgb_onnx, columns=['f{}'.format(i) for i in range(X_test_xgb_onnx.shape[1])])\n",
    "\n",
    "# Renombrar todas las características para que sigan el patrón 'f%d'\n",
    "X_train_xgb_onnx.columns = ['f{}'.format(i) for i in range(X_train_xgb_onnx.shape[1])]\n",
    "X_test_xgb_onnx.columns = ['f{}'.format(i) for i in range(X_test_xgb_onnx.shape[1])]\n",
    "\n",
    "\n",
    "# Crear el pipeline sin normalización y con los parámetros específicos para XGBRegressor\n",
    "pipe = Pipeline([\n",
    "    (\"xgb\", XGBRegressor(learning_rate=0.1, n_estimators=100, max_depth=7, random_state=42))\n",
    "])\n",
    "\n",
    "# Entrenar el pipeline con los datos de train\n",
    "pipe.fit(X_train_xgb_onnx, y_train_xgb_onnx)\n",
    "\n",
    "# Convertir el pipeline a formato ONNX\n",
    "model_onnx = convert_sklearn(\n",
    "    pipe,\n",
    "    \"pipeline_xgboost\",\n",
    "    #[(\"input\", FloatTensorType([None, X_train_renamed.shape[1]]))],\n",
    "    #FloatTensorType, que es un tipo de dato de skl2onnx que representa un tensor de punto flotante.\n",
    "    [(\"input\", FloatTensorType([None, X_train_xgb_onnx.shape[1]]))], #None indica que la dimensión puede ser de cualquier tamaño en \n",
    "    #tiempo de ejecución, y X_train_xgb_onnx.shape[1] especifica la longitud de la entrada\n",
    "\n",
    "    target_opset={\"\": 12, \"ai.onnx.ml\": 2} #El opset \"\" con la versión 12 y el opset \"ai.onnx.ml\" con la versión 2. Esto indica las versiones\n",
    "    # de las operaciones ONNX que se utilizarán para generar el modelo ONNX\n",
    ")\n",
    "\n",
    "# Guardar el modelo ONNX en disco\n",
    "with open(\"pipeline_xgb_model_5var.onnx\", \"wb\") as f:\n",
    "    f.write(model_onnx.SerializeToString())"
   ]
  },
  {
   "cell_type": "markdown",
   "metadata": {},
   "source": [
    "#### Comparacion entre XGB y el XGB.ONNX"
   ]
  },
  {
   "cell_type": "markdown",
   "metadata": {},
   "source": [
    "1. Predicciones del xgb "
   ]
  },
  {
   "cell_type": "code",
   "execution_count": 82,
   "metadata": {},
   "outputs": [
    {
     "name": "stdout",
     "output_type": "stream",
     "text": [
      "Predictions: [4.007333]\n"
     ]
    }
   ],
   "source": [
    "# Definir los nuevos valores para cada variable\n",
    "nuevos_valores = [\n",
    "    [22,12, 34, 0, 0]\n",
    "]\n",
    "\n",
    "# Realizar predicciones con el pipeline entrenado utilizando los nuevos valores\n",
    "predictions = pipe.predict(nuevos_valores)\n",
    "\n",
    "# Imprimir las predicciones\n",
    "print(\"Predictions:\", predictions)"
   ]
  },
  {
   "cell_type": "markdown",
   "metadata": {},
   "source": [
    "2. Prediccion con XGB.ONNX utilizando el Runtime de ONNX"
   ]
  },
  {
   "cell_type": "code",
   "execution_count": 36,
   "metadata": {},
   "outputs": [
    {
     "name": "stdout",
     "output_type": "stream",
     "text": [
      "Predictions: [[[4]]]\n"
     ]
    }
   ],
   "source": [
    "import numpy as np\n",
    "import onnxruntime as rt\n",
    "\n",
    "# Definir los nuevos valores para cada variable\n",
    "nuevos_valores = np.array([\n",
    "    [12,45, 229, 200, 1.91]\n",
    "], dtype=np.float32)\n",
    "\n",
    "# Cargar el modelo ONNX\n",
    "sess = rt.InferenceSession(\"pipeline_xgb_model_5var.onnx\")\n",
    "\n",
    "# Realizar predicciones con el modelo ONNX utilizando los nuevos valores\n",
    "pred_onx = sess.run(None, {\"input\": nuevos_valores})\n",
    "\n",
    "# Redondear las predicciones al entero más cercano\n",
    "#pred_onx_rounded = np.round(pred_onx[0]).astype(int)\n",
    "pred_onx_rounded = np.round(pred_onx).astype(int)\n",
    "\n",
    "# Imprimir las predicciones\n",
    "#print(\"Predictions:\", pred_onx[0])\n",
    "print(\"Predictions:\", pred_onx_rounded)"
   ]
  },
  {
   "cell_type": "markdown",
   "metadata": {},
   "source": [
    "3. Prediccion del XGB.ONNX VS la base de test original(RSME)"
   ]
  },
  {
   "cell_type": "code",
   "execution_count": 84,
   "metadata": {},
   "outputs": [
    {
     "name": "stdout",
     "output_type": "stream",
     "text": [
      "\n",
      "Rendimiento del modelo ONNX con ONNX Runtime:\n",
      "RMSE: 1.0082803309472528\n"
     ]
    }
   ],
   "source": [
    "# Cargar el modelo ONNX\n",
    "sess = rt.InferenceSession(\"pipeline_xgb_model_5var.onnx\")\n",
    "\n",
    "# 5. Realizar predicciones con el modelo ONNX utilizando los datos de prueba\n",
    "pred_onx = sess.run(None, {\"input\": X_test_xgb.values.astype(np.float32)})\n",
    "y_pred_onx = pred_onx[0]\n",
    "\n",
    "# 6. Calcular el rendimiento del modelo ONNX\n",
    "raiz_error_cuadratico_medio_onnx = metrics.mean_squared_error(y_test_xgb, y_pred_onx, squared=False)\n",
    "\n",
    "# Imprimir los resultados\n",
    "print(\"\\nRendimiento del modelo ONNX con ONNX Runtime:\")\n",
    "print(\"RMSE:\", raiz_error_cuadratico_medio_onnx)"
   ]
  },
  {
   "cell_type": "markdown",
   "metadata": {},
   "source": [
    "#### Gridseachr para XGB(Hallar los mejores hiperparametros)"
   ]
  },
  {
   "cell_type": "code",
   "execution_count": 133,
   "metadata": {},
   "outputs": [
    {
     "name": "stdout",
     "output_type": "stream",
     "text": [
      "Mejores hiperparámetros: {'learning_rate': 0.1, 'max_depth': 7, 'n_estimators': 100}\n",
      "Raíz del Error Cuadrático Medio: 1.0141473340463543\n"
     ]
    }
   ],
   "source": [
    "import numpy as np\n",
    "import pandas as pd\n",
    "from sklearn.model_selection import train_test_split, GridSearchCV\n",
    "from xgboost import XGBRegressor\n",
    "from sklearn.metrics import mean_squared_error\n",
    "\n",
    "# Dividir el conjunto de datos en entrenamiento y prueba\n",
    "X_train_xgb, X_test_xgb, y_train_xgb, y_test_xgb = train_test_split(X, y, test_size=0.2, random_state=42)\n",
    "\n",
    "# Define el modelo XGBoost para regresión\n",
    "model_xgb_regressor = XGBRegressor()\n",
    "\n",
    "# Define los hiperparámetros que deseas probar\n",
    "param_grid = {\n",
    "    'learning_rate': [0.1, 0.01, 0.001],\n",
    "    'n_estimators': [20, 50, 100],\n",
    "    'max_depth': [3, 5, 7]\n",
    "}\n",
    "\n",
    "# Configura la búsqueda de hiperparámetros utilizando GridSearchCV\n",
    "model_grid_search_xgb = GridSearchCV(estimator=model_xgb_regressor, param_grid=param_grid, scoring='neg_mean_squared_error', cv=3)\n",
    "\n",
    "# Ajusta el modelo a los datos de entrenamiento\n",
    "model_grid_search_xgb.fit(X_train_xgb, y_train_xgb)\n",
    "\n",
    "# Muestra los mejores hiperparámetros encontrados\n",
    "print(\"Mejores hiperparámetros:\", model_grid_search_xgb.best_params_)\n",
    "\n",
    "# Realiza predicciones en el conjunto de prueba\n",
    "y_pred_xgb = model_grid_search_xgb.predict(X_test_xgb)\n",
    "\n",
    "# Redondear los valores de y_pred al entero más cercano\n",
    "y_pred_xgb = np.round(y_pred_xgb).astype('int64')\n",
    "\n",
    "# Evalúa el rendimiento del modelo en el conjunto de prueba\n",
    "raiz_error_cuadratico_medio_xgb = metrics.mean_squared_error(y_test_xgb, y_pred_xgb, squared=False)\n",
    "print(f'Raíz del Error Cuadrático Medio: {raiz_error_cuadratico_medio_xgb}')\n"
   ]
  },
  {
   "cell_type": "markdown",
   "metadata": {},
   "source": [
    "Guardar el Mejor Modelo y Scaler en un extension .pkl"
   ]
  },
  {
   "cell_type": "code",
   "execution_count": 66,
   "metadata": {},
   "outputs": [
    {
     "data": {
      "text/plain": [
       "['modelo_xgb_6var.pkl']"
      ]
     },
     "execution_count": 66,
     "metadata": {},
     "output_type": "execute_result"
    }
   ],
   "source": [
    "import joblib\n",
    "# Guardar el modelo en un archivo\n",
    "joblib.dump(model_xgb, 'modelo_xgb_6var.pkl')"
   ]
  },
  {
   "cell_type": "code",
   "execution_count": 17,
   "metadata": {},
   "outputs": [
    {
     "data": {
      "text/plain": [
       "['scaler_modelo_xgb_6var_N.pkl']"
      ]
     },
     "execution_count": 17,
     "metadata": {},
     "output_type": "execute_result"
    }
   ],
   "source": [
    "# Guardar el objeto scaler en un archivo\n",
    "joblib.dump(scaler, 'scaler_modelo_xgb_6var_N.pkl')"
   ]
  },
  {
   "cell_type": "markdown",
   "metadata": {},
   "source": [
    "Obtener las mejores variables segun el modelo"
   ]
  },
  {
   "cell_type": "code",
   "execution_count": 67,
   "metadata": {},
   "outputs": [
    {
     "name": "stdout",
     "output_type": "stream",
     "text": [
      "                                   Feature  Importance\n",
      "0   capacidad_en_volumen_equipo_carguio_m3    0.638024\n",
      "4               angulo_giro_promedio_pases    0.312969\n",
      "5   densidad_inicial_poligono_creado_tn/m3    0.036727\n",
      "3  tonelaje_camion_antes_cargaestabilizada    0.012280\n",
      "1         capacidad_en_peso_equipo_carguio    0.000000\n",
      "2         capacidad_en_peso_equipo_acarreo    0.000000\n"
     ]
    }
   ],
   "source": [
    "# Obtener las importancias de las características\n",
    "feature_importances = model_xgb.feature_importances_\n",
    "\n",
    "# Crear un DataFrame para mostrar las importancias de las características junto con sus nombres\n",
    "feature_importance_df = pd.DataFrame({\n",
    "    'Feature': X.columns,\n",
    "    'Importance': feature_importances\n",
    "})\n",
    "\n",
    "# Ordenar el DataFrame por importancia en orden descendente\n",
    "feature_importance_df = feature_importance_df.sort_values(by='Importance', ascending=False)\n",
    "\n",
    "# Mostrar las 10 características más importantes\n",
    "print(feature_importance_df.head(9))"
   ]
  },
  {
   "cell_type": "markdown",
   "metadata": {},
   "source": [
    "3.6 Red Neuronal"
   ]
  },
  {
   "cell_type": "code",
   "execution_count": 104,
   "metadata": {},
   "outputs": [],
   "source": [
    "# Aseguramos que los resultados sean \"reproducibles\" en cada ejecucion de tensorflow(pesos iniciales aleatorios)\n",
    "import tensorflow as tf\n",
    "import numpy as np\n",
    "\n",
    "np.random.seed(42)\n",
    "tf.random.set_seed(42)"
   ]
  },
  {
   "cell_type": "markdown",
   "metadata": {},
   "source": [
    "Crear MODELO RED NEURONAL DESDE 0"
   ]
  },
  {
   "cell_type": "code",
   "execution_count": 32,
   "metadata": {},
   "outputs": [
    {
     "name": "stdout",
     "output_type": "stream",
     "text": [
      "WARNING:tensorflow:From c:\\Users\\BryanInche-MS4M\\anaconda3\\Lib\\site-packages\\keras\\src\\backend.py:873: The name tf.get_default_graph is deprecated. Please use tf.compat.v1.get_default_graph instead.\n",
      "\n",
      "WARNING:tensorflow:From c:\\Users\\BryanInche-MS4M\\anaconda3\\Lib\\site-packages\\keras\\src\\optimizers\\__init__.py:309: The name tf.train.Optimizer is deprecated. Please use tf.compat.v1.train.Optimizer instead.\n",
      "\n",
      "Epoch 1/15\n",
      "WARNING:tensorflow:From c:\\Users\\BryanInche-MS4M\\anaconda3\\Lib\\site-packages\\keras\\src\\utils\\tf_utils.py:492: The name tf.ragged.RaggedTensorValue is deprecated. Please use tf.compat.v1.ragged.RaggedTensorValue instead.\n",
      "\n",
      "18600/18600 [==============================] - 17s 860us/step - loss: 1.4014\n",
      "Epoch 2/15\n",
      "18600/18600 [==============================] - 16s 878us/step - loss: 1.0984\n",
      "Epoch 3/15\n",
      "18600/18600 [==============================] - 37s 2ms/step - loss: 1.0880\n",
      "Epoch 4/15\n",
      "18600/18600 [==============================] - 21s 1ms/step - loss: 1.0842\n",
      "Epoch 5/15\n",
      "18600/18600 [==============================] - 18s 975us/step - loss: 1.0817\n",
      "Epoch 6/15\n",
      "18600/18600 [==============================] - 18s 955us/step - loss: 1.0806\n",
      "Epoch 7/15\n",
      "18600/18600 [==============================] - 18s 971us/step - loss: 1.0786\n",
      "Epoch 8/15\n",
      "18600/18600 [==============================] - 18s 983us/step - loss: 1.0783\n",
      "Epoch 9/15\n",
      "18600/18600 [==============================] - 18s 972us/step - loss: 1.0764\n",
      "Epoch 10/15\n",
      "18600/18600 [==============================] - 18s 983us/step - loss: 1.0758\n",
      "Epoch 11/15\n",
      "18600/18600 [==============================] - 17s 940us/step - loss: 1.0754\n",
      "Epoch 12/15\n",
      "18600/18600 [==============================] - 17s 927us/step - loss: 1.0739\n",
      "Epoch 13/15\n",
      "18600/18600 [==============================] - 17s 895us/step - loss: 1.0737\n",
      "Epoch 14/15\n",
      "18600/18600 [==============================] - 18s 968us/step - loss: 1.0735\n",
      "Epoch 15/15\n",
      "18600/18600 [==============================] - 18s 979us/step - loss: 1.0727\n"
     ]
    },
    {
     "data": {
      "text/plain": [
       "<keras.src.callbacks.History at 0x22140b9f750>"
      ]
     },
     "execution_count": 32,
     "metadata": {},
     "output_type": "execute_result"
    }
   ],
   "source": [
    "from tensorflow.keras.layers import Dense, LSTM\n",
    "from tensorflow.keras.models import Sequential\n",
    "\n",
    "# Dividir los datos en conjuntos de entrenamiento y prueba\n",
    "X_train_rnn, X_test_rnn, y_train_rnn, y_test_rnn = train_test_split(X, y, test_size=0.2, random_state=42)\n",
    "\n",
    "model_rnn_v4 = Sequential()\n",
    "\n",
    "model_rnn_v4.add(Dense(64, activation='relu', input_shape=[5]))\n",
    "model_rnn_v4.add(Dense(64))\n",
    "model_rnn_v4.add(Dense(1, activation='linear'))\n",
    "\n",
    "# Compilar el modelo\n",
    "model_rnn_v4.compile(loss='mean_squared_error', optimizer='adam')\n",
    "\n",
    "model_rnn_v4.fit(X_train_rnn, y_train_rnn, epochs=15)\n"
   ]
  },
  {
   "cell_type": "markdown",
   "metadata": {},
   "source": [
    "Convertir a tflite"
   ]
  },
  {
   "cell_type": "code",
   "execution_count": 34,
   "metadata": {},
   "outputs": [
    {
     "name": "stdout",
     "output_type": "stream",
     "text": [
      "INFO:tensorflow:Assets written to: C:\\Users\\BRYANI~1\\AppData\\Local\\Temp\\tmpn_yvngg7\\assets\n"
     ]
    },
    {
     "name": "stderr",
     "output_type": "stream",
     "text": [
      "INFO:tensorflow:Assets written to: C:\\Users\\BRYANI~1\\AppData\\Local\\Temp\\tmpn_yvngg7\\assets\n"
     ]
    }
   ],
   "source": [
    "import tensorflow as tf\n",
    "\n",
    "# Convertir el modelo a formato .tflite\n",
    "converter = tf.lite.TFLiteConverter.from_keras_model(model_rnn_v4)\n",
    "\n",
    "# Convertir el modelo\n",
    "tflite_model = converter.convert()\n",
    "\n",
    "# Guardar el modelo convertido en formato .tflite\n",
    "with open('rnn_pases_v4.tflite', 'wb') as f:\n",
    "    f.write(tflite_model)"
   ]
  },
  {
   "cell_type": "markdown",
   "metadata": {},
   "source": [
    "3.6.2 Red Neuronal LSTM (Recurrente)"
   ]
  },
  {
   "cell_type": "code",
   "execution_count": 43,
   "metadata": {},
   "outputs": [
    {
     "data": {
      "text/plain": [
       "array([4, 5, 6, 7, 8], dtype=int64)"
      ]
     },
     "execution_count": 43,
     "metadata": {},
     "output_type": "execute_result"
    }
   ],
   "source": [
    "np.unique(y)"
   ]
  },
  {
   "cell_type": "code",
   "execution_count": 42,
   "metadata": {},
   "outputs": [
    {
     "data": {
      "text/plain": [
       "array([ 0,  1,  2,  3,  4,  5,  6,  7,  8,  9, 10, 11, 12], dtype=int64)"
      ]
     },
     "execution_count": 42,
     "metadata": {},
     "output_type": "execute_result"
    }
   ],
   "source": [
    "#y[:10] # ver los 10 primeros registros de  un array numpy\n",
    "np.unique(y_gen)"
   ]
  },
  {
   "cell_type": "code",
   "execution_count": 46,
   "metadata": {},
   "outputs": [
    {
     "data": {
      "text/plain": [
       "array([[ 0.55151271,  0.5687662 ,  0.        ,  0.28307465,  0.        ],\n",
       "       [ 0.55151271,  0.5687662 ,  0.        ,  0.31835084,  0.        ],\n",
       "       [ 0.55151271,  0.5687662 ,  0.        ,  0.4790535 ,  0.        ],\n",
       "       [ 0.55151271,  0.5687662 ,  0.        ,  0.31051169,  0.        ],\n",
       "       [-2.89232534, -2.84335155,  0.        , -1.07505877,  0.        ],\n",
       "       [ 0.55151271,  0.5687662 ,  0.        ,  0.92784506,  0.        ],\n",
       "       [ 0.55151271,  0.5687662 ,  0.        ,  0.41634027,  0.        ],\n",
       "       [-0.3668441 , -0.42785653,  0.        , -0.68310107,  0.        ],\n",
       "       [-0.3668441 , -0.42785653,  0.        ,  0.28111486,  0.        ],\n",
       "       [ 0.55151271,  0.5687662 ,  0.        ,  0.50257096,  0.        ],\n",
       "       [ 0.55151271,  0.5687662 ,  0.        ,  0.29483338,  0.        ],\n",
       "       [ 0.55151271,  0.5687662 ,  0.        ,  0.2909138 ,  0.        ],\n",
       "       [ 0.55151271,  0.5687662 ,  0.        ,  0.28307465,  0.        ],\n",
       "       [ 0.55151271,  0.5687662 ,  0.        ,  0.37126513,  0.        ],\n",
       "       [-0.3668441 , -0.42785653,  0.        , -0.68310107,  0.        ],\n",
       "       [ 0.55151271,  0.5687662 ,  0.        ,  0.42613921,  0.        ],\n",
       "       [-0.3668441 , -0.42785653,  0.        , -1.27103762,  0.        ],\n",
       "       [ 0.55151271,  0.5687662 ,  0.        ,  0.55940483,  0.        ],\n",
       "       [ 0.55151271,  0.5687662 ,  0.        ,  0.23407994,  0.        ],\n",
       "       [ 0.55151271,  0.5687662 ,  0.        ,  0.38302386,  0.        ]])"
      ]
     },
     "execution_count": 46,
     "metadata": {},
     "output_type": "execute_result"
    }
   ],
   "source": [
    "X_test_rnn[:20]"
   ]
  },
  {
   "cell_type": "code",
   "execution_count": 47,
   "metadata": {},
   "outputs": [
    {
     "data": {
      "text/plain": [
       "array([8, 4, 5, 5, 7, 7, 5, 4, 5, 7, 5, 6, 6, 8, 6, 8, 5, 6, 4, 8],\n",
       "      dtype=int64)"
      ]
     },
     "execution_count": 47,
     "metadata": {},
     "output_type": "execute_result"
    }
   ],
   "source": [
    "y_train_rnn[:20]"
   ]
  },
  {
   "cell_type": "markdown",
   "metadata": {},
   "source": [
    "#### 3.7 Red Neuronal LSTM"
   ]
  },
  {
   "cell_type": "markdown",
   "metadata": {},
   "source": [
    "Red con Arquitectura 1"
   ]
  },
  {
   "cell_type": "code",
   "execution_count": 110,
   "metadata": {},
   "outputs": [],
   "source": [
    "from tensorflow.keras.models import Sequential\n",
    "from tensorflow.keras.layers import Dense, LSTM\n",
    "import numpy as np\n",
    "import tensorflow as tf\n",
    "#Librerias para redes neuronales(secuencial)\n",
    "from tensorflow.keras.models import Sequential\n",
    "#Capa completamente conectada\n",
    "from tensorflow.keras.layers import Dense, Normalization\n",
    "#Optimizador\n",
    "from tensorflow.keras.optimizers import Adam\n",
    "from sklearn.preprocessing import StandardScaler\n",
    "\n",
    "\n",
    "# Normalizar los datos, para que la red tenga un mejor rendimiento al procesar datos mas pequenos y en una misma escala\n",
    "#scaler = StandardScaler()\n",
    "#X_normalized = scaler.fit_transform(X)\n",
    "\n",
    "# Convertir DataFrame a array de NumPy\n",
    "#X_array = X_normalized\n",
    "#y_array = y\n",
    "\n",
    "# Dividir los datos en conjuntos de entrenamiento y prueba\n",
    "X_train_rnn, X_test_rnn, y_train_rnn, y_test_rnn = train_test_split(X, y, test_size=0.2, random_state=42)\n",
    "#X_train_rnn, X_test_rnn, y_train_rnn, y_test_rnn = train_test_split(X_array, y_array, test_size=0.2, random_state=42)\n",
    "\n",
    "#---------------------------------------------------------------------------------------------------------------------------------------\n",
    "model_rnn = Sequential()\n",
    "# La forma de entrada para LSTM debe ser (n_timesteps, n_features)\n",
    "model_rnn.add(LSTM(30, activation='relu', input_shape=(1, 5)))  #  (n_samples, n_pasos, n_variables)\n",
    "# Agregar capas Dense según sea necesario\n",
    "model_rnn.add(Dense(60, activation='relu'))\n",
    "model_rnn.add(Dense(30, activation='relu'))\n",
    "model_rnn.add(Dense(15, activation='relu'))\n",
    "# Capa de salida\n",
    "model_rnn.add(Dense(1, activation='linear'))\n",
    "#-------------------------------------------------------------------------------------------------------------------------------------------\n",
    "\n",
    "# Compilar el modelo\n",
    "model_rnn.compile(loss='mean_squared_error', optimizer='adam')\n",
    "# Imprimir un resumen del modelo\n",
    "model_rnn.summary()\n",
    "\n",
    "\n",
    "# Reshape de los datos de entrenamiento\n",
    "#X_train_rnn_np = X_train_rnn.to_numpy()\n",
    "#X_train_rnn_reshaped = X_train_rnn_np.reshape(-1, 1, 5)\n",
    "\n",
    "# Entrenar el modelo\n",
    "#X_train_rnn.reshape(-1, 1, 1) significa que quieres que NumPy calcule automáticamente el tamaño de la dimensión correspondiente a n_samples\n",
    "#Si tienes 15 variables en cada paso de tiempo, entonces la forma de entrada para la capa LSTM debería ser (n_samples, n_timesteps, n_features). \n",
    "#En este caso, la dimensión n_features debería ser 15\n",
    "history = model_rnn.fit(X_train_rnn.reshape(-1, 1, 5), y_train_rnn, epochs=15, batch_size=5, verbose=1) # (n_samples, n_pasos, n_variables)\n",
    "#model_rnn.fit(X_train_rnn_np.reshape(-1, 1, 5), y_train_rnn, epochs=15, batch_size=5, verbose=1) # (n_samples, n_pasos, n_variables)\n",
    "#RESHAPE :-1 indica que NumPy debe inferir automáticamente el tamaño de la dimensión, 1 dimensión con tamaño 1, 5 VALORES \n",
    "\n",
    "\n",
    "# Reshape de los datos de prueba\n",
    "#X_test_rnn_np = X_test_rnn.to_numpy()\n",
    "\n",
    "\n",
    "# Hacer predicciones en el conjunto de prueba\n",
    "y_pred_rnn = model_rnn.predict(X_test_rnn.reshape(-1, 1, 5)) # (n_samples, n_pasos, n_variables)\n",
    "#y_pred_rnn = model_rnn.predict(X_test_rnn_np.reshape(-1, 1, 5)) # (n_samples, n_pasos, n_variables)\n",
    "\n",
    "# Redondear los valores de y_pred al entero más cercano\n",
    "y_pred_rnn = np.round(y_pred_rnn).astype('int64')\n",
    "\n",
    "# Calcular el error cuadrático medio en el conjunto de prueba\n",
    "mse = mean_squared_error(y_test_rnn, y_pred_rnn)\n",
    "# Calcular la raíz cuadrada del error cuadrático medio\n",
    "rmse = np.sqrt(mse)\n",
    "\n",
    "print(f'Raíz del Error Cuadrático Medio en el conjunto de prueba: {rmse}')"
   ]
  },
  {
   "cell_type": "markdown",
   "metadata": {},
   "source": [
    "Red con Arquitectura 2"
   ]
  },
  {
   "cell_type": "code",
   "execution_count": 111,
   "metadata": {},
   "outputs": [
    {
     "name": "stdout",
     "output_type": "stream",
     "text": [
      "Model: \"sequential_7\"\n",
      "_________________________________________________________________\n",
      " Layer (type)                Output Shape              Param #   \n",
      "=================================================================\n",
      " lstm_7 (LSTM)               (None, 10)                640       \n",
      "                                                                 \n",
      " dense_20 (Dense)            (None, 1)                 11        \n",
      "                                                                 \n",
      "=================================================================\n",
      "Total params: 651 (2.54 KB)\n",
      "Trainable params: 651 (2.54 KB)\n",
      "Non-trainable params: 0 (0.00 Byte)\n",
      "_________________________________________________________________\n",
      "Epoch 1/5\n",
      "119039/119039 [==============================] - 148s 1ms/step - loss: 2.0949 - val_loss: 1.5098\n",
      "Epoch 2/5\n",
      "119039/119039 [==============================] - 154s 1ms/step - loss: 1.5097 - val_loss: 1.5102\n",
      "Epoch 3/5\n",
      "119039/119039 [==============================] - 152s 1ms/step - loss: 1.5098 - val_loss: 1.5098\n",
      "Epoch 4/5\n",
      "119039/119039 [==============================] - 165s 1ms/step - loss: 1.5098 - val_loss: 1.5100\n",
      "Epoch 5/5\n",
      "119039/119039 [==============================] - 153s 1ms/step - loss: 1.5098 - val_loss: 1.5119\n"
     ]
    }
   ],
   "source": [
    "from tensorflow.keras.models import Sequential\n",
    "from tensorflow.keras.layers import Dense, LSTM\n",
    "import numpy as np\n",
    "import tensorflow as tf\n",
    "#Librerias para redes neuronales(secuencial)\n",
    "from tensorflow.keras.models import Sequential\n",
    "#Capa completamente conectada\n",
    "from tensorflow.keras.layers import Dense, Normalization\n",
    "#Optimizador\n",
    "from tensorflow.keras.optimizers import Adam\n",
    "from sklearn.preprocessing import StandardScaler\n",
    "\n",
    "\n",
    "# Normalizar los datos, para que la red tenga un mejor rendimiento al procesar datos mas pequenos y en una misma escala\n",
    "#scaler = StandardScaler()\n",
    "#X_normalized = scaler.fit_transform(X)\n",
    "\n",
    "# Convertir DataFrame a array de NumPy\n",
    "#X_array = X_normalized\n",
    "#y_array = y\n",
    "\n",
    "# Dividir los datos en conjuntos de entrenamiento y prueba\n",
    "X_train_rnn, X_test_rnn, y_train_rnn, y_test_rnn = train_test_split(X, y, test_size=0.2, random_state=42)\n",
    "#X_train_rnn, X_test_rnn, y_train_rnn, y_test_rnn = train_test_split(X_array, y_array, test_size=0.2, random_state=42)\n",
    "\n",
    "#---------------------------------------------------------------------------------------------------------------------------------------\n",
    "model_rnn = Sequential()\n",
    "# La forma de entrada para LSTM debe ser (n_timesteps, n_features)\n",
    "model_rnn.add(LSTM(10, activation='relu', input_shape=(1, 5)))  #  (n_samples, n_pasos, n_variables)\n",
    "# Agregar capas Dense según sea necesario\n",
    "# model_rnn.add(Dense(60, activation='relu'))\n",
    "# model_rnn.add(Dense(30, activation='relu'))\n",
    "# model_rnn.add(Dense(15, activation='relu'))\n",
    "# Capa de salida\n",
    "model_rnn.add(Dense(1, activation='linear'))\n",
    "#-------------------------------------------------------------------------------------------------------------------------------------------\n",
    "\n",
    "# Compilar el modelo\n",
    "model_rnn.compile(loss='mean_squared_error', optimizer='adam')\n",
    "# Imprimir un resumen del modelo\n",
    "model_rnn.summary()\n",
    "\n",
    "\n",
    "# Reshape de los datos de entrenamiento\n",
    "#X_train_rnn_np = X_train_rnn.to_numpy()\n",
    "#X_train_rnn_reshaped = X_train_rnn_np.reshape(-1, 1, 5)\n",
    "\n",
    "# Entrenar el modelo\n",
    "#X_train_rnn.reshape(-1, 1, 1) significa que quieres que NumPy calcule automáticamente el tamaño de la dimensión correspondiente a n_samples\n",
    "#Si tienes 15 variables en cada paso de tiempo, entonces la forma de entrada para la capa LSTM debería ser (n_samples, n_timesteps, n_features). \n",
    "#En este caso, la dimensión n_features debería ser 15\n",
    "# Entrenar el modelo y almacenar el historial de entrenamiento\n",
    "history = model_rnn.fit(X_train_rnn.reshape(-1, 1, 5), y_train_rnn, \n",
    "                         epochs=5, batch_size=5, \n",
    "                         validation_data=(X_test_rnn.reshape(-1, 1, 5), y_test_rnn),\n",
    "                         verbose=1)  # (n_samples, n_pasos, n_variables)\n",
    "\n",
    "# Obtener la pérdida en el conjunto de entrenamiento y el conjunto de validación\n",
    "train_loss = history.history['loss']\n",
    "val_loss = history.history['val_loss']"
   ]
  },
  {
   "cell_type": "markdown",
   "metadata": {},
   "source": [
    "#### 3.8 Verificar si hay Overfiting o sobreajuste( Para ver si el modelo no generaliza bien)"
   ]
  },
  {
   "cell_type": "code",
   "execution_count": 87,
   "metadata": {},
   "outputs": [
    {
     "data": {
      "image/png": "[encoded data removed]",
      "text/plain": [
       "<Figure size 640x480 with 1 Axes>"
      ]
     },
     "metadata": {},
     "output_type": "display_data"
    }
   ],
   "source": [
    "# Crear gráfico de pérdida durante el entrenamiento\n",
    "epochs = range(1, len(train_loss) + 1)\n",
    "plt.plot(epochs, train_loss, 'bo', label='Pérdida en entrenamiento')\n",
    "plt.plot(epochs, val_loss, 'r', label='Pérdida en validación')\n",
    "plt.title('Pérdida durante el entrenamiento y la validación')\n",
    "plt.xlabel('Épocas')\n",
    "plt.ylabel('Pérdida')\n",
    "plt.legend()\n",
    "plt.show()"
   ]
  },
  {
   "cell_type": "markdown",
   "metadata": {},
   "source": [
    "3.9 Verificamos en la PREDICCION de la Red Neuronal (Que valores esta prediciendo en BD de Test) y Ver si generaliza bien"
   ]
  },
  {
   "cell_type": "code",
   "execution_count": 88,
   "metadata": {},
   "outputs": [
    {
     "name": "stdout",
     "output_type": "stream",
     "text": [
      "4650/4650 [==============================] - 4s 839us/step\n",
      "Raíz del Error Cuadrático Medio en el conjunto de prueba: 1.2759685023236937\n"
     ]
    }
   ],
   "source": [
    "# Hacer predicciones en el conjunto de prueba\n",
    "y_pred_rnn = model_rnn.predict(X_test_rnn.reshape(-1, 1, 5)) # (n_samples, n_pasos, n_variables)\n",
    "#y_pred_rnn = model_rnn.predict(X_test_rnn_np.reshape(-1, 1, 5)) # (n_samples, n_pasos, n_variables)\n",
    "\n",
    "# Redondear los valores de y_pred al entero más cercano\n",
    "y_pred_rnn = np.round(y_pred_rnn).astype('int64')\n",
    "\n",
    "# Calcular el error cuadrático medio en el conjunto de prueba\n",
    "mse = mean_squared_error(y_test_rnn, y_pred_rnn)\n",
    "# Calcular la raíz cuadrada del error cuadrático medio\n",
    "rmse = np.sqrt(mse)\n",
    "\n",
    "print(f'Raíz del Error Cuadrático Medio en el conjunto de prueba: {rmse}')"
   ]
  },
  {
   "cell_type": "code",
   "execution_count": 90,
   "metadata": {},
   "outputs": [
    {
     "data": {
      "text/plain": [
       "array([6], dtype=int64)"
      ]
     },
     "execution_count": 90,
     "metadata": {},
     "output_type": "execute_result"
    }
   ],
   "source": [
    "np.unique(y_pred_rnn)"
   ]
  },
  {
   "cell_type": "markdown",
   "metadata": {},
   "source": [
    "3.10 Red Neuronal con Arquitectura 3"
   ]
  },
  {
   "cell_type": "code",
   "execution_count": 105,
   "metadata": {},
   "outputs": [],
   "source": [
    "X_gen = X_gen[['capacidad_en_volumen_equipo_carguio_m3',\n",
    "       'capacidad_en_peso_equipo_carguio',\n",
    "       'capacidad_en_peso_equipo_acarreo',\n",
    "       'densidad_inicial_poligono_creado_tn/m3','capacidad_en_volumen_equipo_acarreo_m3']].values\n",
    "y_gen = y_gen.values"
   ]
  },
  {
   "cell_type": "code",
   "execution_count": 106,
   "metadata": {},
   "outputs": [
    {
     "name": "stdout",
     "output_type": "stream",
     "text": [
      "Model: \"sequential_6\"\n",
      "_________________________________________________________________\n",
      " Layer (type)                Output Shape              Param #   \n",
      "=================================================================\n",
      " lstm_6 (LSTM)               (None, 10)                640       \n",
      "                                                                 \n",
      " dense_18 (Dense)            (None, 5)                 55        \n",
      "                                                                 \n",
      " dense_19 (Dense)            (None, 1)                 6         \n",
      "                                                                 \n",
      "=================================================================\n",
      "Total params: 701 (2.74 KB)\n",
      "Trainable params: 701 (2.74 KB)\n",
      "Non-trainable params: 0 (0.00 Byte)\n",
      "_________________________________________________________________\n",
      "Epoch 1/4\n",
      "119039/119039 [==============================] - 272s 2ms/step - loss: 1.4099 - val_loss: 4.7985\n",
      "Epoch 2/4\n",
      "119039/119039 [==============================] - 262s 2ms/step - loss: 1.3916 - val_loss: 4.7172\n",
      "Epoch 3/4\n",
      "119039/119039 [==============================] - 247s 2ms/step - loss: 1.3794 - val_loss: 4.8382\n",
      "Epoch 4/4\n",
      "119039/119039 [==============================] - 260s 2ms/step - loss: 1.3604 - val_loss: 4.6263\n"
     ]
    }
   ],
   "source": [
    "from tensorflow.keras.models import Sequential\n",
    "from tensorflow.keras.layers import Dense, LSTM\n",
    "import numpy as np\n",
    "import tensorflow as tf\n",
    "#Librerias para redes neuronales(secuencial)\n",
    "from tensorflow.keras.models import Sequential\n",
    "#Capa completamente conectada\n",
    "from tensorflow.keras.layers import Dense, Normalization\n",
    "#Optimizador\n",
    "from tensorflow.keras.optimizers import Adam\n",
    "from sklearn.preprocessing import StandardScaler\n",
    "\n",
    "\n",
    "# Normalizar los datos, para que la red tenga un mejor rendimiento al procesar datos mas pequenos y en una misma escala\n",
    "#scaler = StandardScaler()\n",
    "#X_normalized = scaler.fit_transform(X)\n",
    "\n",
    "# Convertir DataFrame a array de NumPy\n",
    "#X_array = X_normalized\n",
    "#y_array = y\n",
    "\n",
    "# Dividir los datos en conjuntos de entrenamiento y prueba\n",
    "X_train_rnn, X_test_rnn, y_train_rnn, y_test_rnn = train_test_split(X, y, test_size=0.2, random_state=42)\n",
    "#X_train_rnn, X_test_rnn, y_train_rnn, y_test_rnn = train_test_split(X_array, y_array, test_size=0.2, random_state=42)\n",
    "\n",
    "#---------------------------------------------------------------------------------------------------------------------------------------\n",
    "model_rnn = Sequential()\n",
    "# La forma de entrada para LSTM debe ser (n_timesteps, n_features)\n",
    "model_rnn.add(LSTM(10, activation='relu', input_shape=(1, 5)))  #  (n_samples, n_pasos, n_variables)\n",
    "# Agregar capas Dense según sea necesario\n",
    "#model_rnn.add(Dense(60, activation='relu'))\n",
    "#model_rnn.add(Dense(30, activation='relu'))\n",
    "model_rnn.add(Dense(5, activation='relu'))\n",
    "# Capa de salida\n",
    "model_rnn.add(Dense(1, activation='linear'))\n",
    "#-------------------------------------------------------------------------------------------------------------------------------------------\n",
    "\n",
    "# Compilar el modelo\n",
    "model_rnn.compile(loss='mean_squared_error', optimizer='adam')\n",
    "# Imprimir un resumen del modelo\n",
    "model_rnn.summary()\n",
    "\n",
    "\n",
    "# Reshape de los datos de entrenamiento\n",
    "#X_train_rnn_np = X_train_rnn.to_numpy()\n",
    "#X_train_rnn_reshaped = X_train_rnn_np.reshape(-1, 1, 5)\n",
    "\n",
    "# Entrenar el modelo\n",
    "#X_train_rnn.reshape(-1, 1, 1) significa que quieres que NumPy calcule automáticamente el tamaño de la dimensión correspondiente a n_samples\n",
    "#Si tienes 15 variables en cada paso de tiempo, entonces la forma de entrada para la capa LSTM debería ser (n_samples, n_timesteps, n_features). \n",
    "#En este caso, la dimensión n_features debería ser 15\n",
    "# Entrenar el modelo y almacenar el historial de entrenamiento\n",
    "history = model_rnn.fit(X_train_rnn.reshape(-1, 1, 5), y_train_rnn, \n",
    "                         epochs=4, batch_size=5, \n",
    "                         validation_data=(X_gen.reshape(-1, 1, 5), y_gen),\n",
    "                         verbose=1)  # (n_samples, n_pasos, n_variables)\n",
    "\n",
    "# Obtener la pérdida en el conjunto de entrenamiento y el conjunto de validación\n",
    "train_loss = history.history['loss']\n",
    "val_loss = history.history['val_loss']"
   ]
  },
  {
   "cell_type": "markdown",
   "metadata": {},
   "source": [
    "Verificar si hay Overfiting"
   ]
  },
  {
   "cell_type": "code",
   "execution_count": 107,
   "metadata": {},
   "outputs": [
    {
     "data": {
      "image/png": "[encoded data removed]",
      "text/plain": [
       "<Figure size 640x480 with 1 Axes>"
      ]
     },
     "metadata": {},
     "output_type": "display_data"
    }
   ],
   "source": [
    "# Crear gráfico de pérdida durante el entrenamiento\n",
    "epochs = range(1, len(train_loss) + 1)\n",
    "plt.plot(epochs, train_loss, 'bo', label='Pérdida en entrenamiento')\n",
    "plt.plot(epochs, val_loss, 'r', label='Pérdida en validación')\n",
    "plt.title('Pérdida durante el entrenamiento y la validación')\n",
    "plt.xlabel('Épocas')\n",
    "plt.ylabel('Pérdida')\n",
    "plt.legend()\n",
    "plt.show()"
   ]
  },
  {
   "cell_type": "markdown",
   "metadata": {},
   "source": [
    "3.9 Verificamos en la PREDICCION de la Red Neuronal (Que valores esta prediciendo en BD de Test) y Ver si generaliza bien"
   ]
  },
  {
   "cell_type": "code",
   "execution_count": 108,
   "metadata": {},
   "outputs": [
    {
     "name": "stdout",
     "output_type": "stream",
     "text": [
      "23250/23250 [==============================] - 24s 1ms/step\n"
     ]
    }
   ],
   "source": [
    "# Realizar predicciones en el conjunto de prueba\n",
    "y_pred_rnn_total = model_rnn.predict(X_gen.reshape(-1, 1, 5))\n",
    "\n",
    "# Redondear los valores de y_pred al entero más cercano\n",
    "y_pred_rnn_total = np.round(y_pred_rnn_total).astype('int64')"
   ]
  },
  {
   "cell_type": "code",
   "execution_count": 109,
   "metadata": {},
   "outputs": [
    {
     "data": {
      "text/plain": [
       "array([5, 6, 7], dtype=int64)"
      ]
     },
     "execution_count": 109,
     "metadata": {},
     "output_type": "execute_result"
    }
   ],
   "source": [
    "np.unique(y_pred_rnn_total)"
   ]
  },
  {
   "cell_type": "markdown",
   "metadata": {},
   "source": [
    "### Pasos para convertir el Modelo a TensorFlow Lite"
   ]
  },
  {
   "cell_type": "markdown",
   "metadata": {},
   "source": [
    "1. Guardar el modelo Red neuronal en un sitio, con el metodo Save"
   ]
  },
  {
   "cell_type": "code",
   "execution_count": 44,
   "metadata": {},
   "outputs": [
    {
     "name": "stdout",
     "output_type": "stream",
     "text": [
      "INFO:tensorflow:Assets written to: model_rnn_vfinal\\assets\n"
     ]
    },
    {
     "name": "stderr",
     "output_type": "stream",
     "text": [
      "INFO:tensorflow:Assets written to: model_rnn_vfinal\\assets\n"
     ]
    }
   ],
   "source": [
    "# Guardar el modelo entrenado\n",
    "\n",
    "# Guardando todos los componentes del modelo (arquitectura, pesos, configuración de entrenamiento, estado del optimizador, etc.)\n",
    "# SavedModel de TensorFlow\n",
    "model_rnn.save(\"model_rnn_vfinal\")"
   ]
  },
  {
   "cell_type": "markdown",
   "metadata": {},
   "source": [
    "2. Convertir a tflite, para correr en Android 5 o cualquier otro Sistema deseado"
   ]
  },
  {
   "cell_type": "code",
   "execution_count": 45,
   "metadata": {},
   "outputs": [
    {
     "name": "stdout",
     "output_type": "stream",
     "text": [
      "WARNING:tensorflow:From c:\\Users\\BryanInche-MS4M\\anaconda3\\Lib\\site-packages\\keras\\src\\saving\\legacy\\saved_model\\load.py:107: The name tf.gfile.Exists is deprecated. Please use tf.io.gfile.exists instead.\n",
      "\n"
     ]
    },
    {
     "name": "stderr",
     "output_type": "stream",
     "text": [
      "WARNING:tensorflow:From c:\\Users\\BryanInche-MS4M\\anaconda3\\Lib\\site-packages\\keras\\src\\saving\\legacy\\saved_model\\load.py:107: The name tf.gfile.Exists is deprecated. Please use tf.io.gfile.exists instead.\n",
      "\n"
     ]
    },
    {
     "name": "stdout",
     "output_type": "stream",
     "text": [
      "INFO:tensorflow:Assets written to: C:\\Users\\BRYANI~1\\AppData\\Local\\Temp\\tmpnc661bsx\\assets\n"
     ]
    },
    {
     "name": "stderr",
     "output_type": "stream",
     "text": [
      "INFO:tensorflow:Assets written to: C:\\Users\\BRYANI~1\\AppData\\Local\\Temp\\tmpnc661bsx\\assets\n"
     ]
    }
   ],
   "source": [
    "import tensorflow as tf\n",
    "\n",
    "# Cargar el modelo desde la ubicacion donde se guardo con \"SavedModel de TensorFlow\"\n",
    "model = tf.keras.models.load_model('model_rnn_vfinal')\n",
    "\n",
    "# Convertir el modelo a formato .tflite\n",
    "converter = tf.lite.TFLiteConverter.from_keras_model(model)\n",
    "\n",
    "# Especificar el conjunto de operaciones admitidas\n",
    "converter.target_spec.supported_ops = [\n",
    "    tf.lite.OpsSet.TFLITE_BUILTINS,  # Operaciones TensorFlow Lite estándar (mayoría de los modelos, como convoluciones, activaciones, etc.)\n",
    "    tf.lite.OpsSet.SELECT_TF_OPS      # Operaciones TensorFlow adicionales - Esto debes instalar en el Android Studio Gradle\n",
    "]\n",
    "\n",
    "# Convertir el modelo\n",
    "tflite_model = converter.convert()\n",
    "\n",
    "# Guardar el modelo convertido en formato .tflite\n",
    "with open('modelrnn_vfinal.tflite', 'wb') as f:\n",
    "    f.write(tflite_model)"
   ]
  },
  {
   "cell_type": "markdown",
   "metadata": {},
   "source": [
    "Verificamos el tipo de datos de entrada y salida del Modelo"
   ]
  },
  {
   "cell_type": "code",
   "execution_count": 3,
   "metadata": {},
   "outputs": [
    {
     "name": "stdout",
     "output_type": "stream",
     "text": [
      "[1 1 5]\n",
      "<class 'numpy.float32'>\n",
      "[1 1]\n",
      "<class 'numpy.float32'>\n"
     ]
    }
   ],
   "source": [
    "import tensorflow as tf\n",
    "\n",
    "interpreter = tf.lite.Interpreter(model_path=\"rnnModel_5var.tflite\")\n",
    "interpreter.allocate_tensors()\n",
    "\n",
    "# Print input shape and type\n",
    "print(interpreter.get_input_details()[0]['shape'])  # Example: [1 224 224 3]\n",
    "print(interpreter.get_input_details()[0]['dtype'])  # Example: <class 'numpy.float32'>\n",
    "\n",
    "# Print output shape and type\n",
    "print(interpreter.get_output_details()[0]['shape'])  # Example: [1 1000]\n",
    "print(interpreter.get_output_details()[0]['dtype'])  # Example: <class 'numpy.float32'>"
   ]
  },
  {
   "cell_type": "code",
   "execution_count": 4,
   "metadata": {},
   "outputs": [
    {
     "name": "stdout",
     "output_type": "stream",
     "text": [
      "[1 1 5]\n",
      "<class 'numpy.float32'>\n",
      "[1 1]\n",
      "<class 'numpy.float32'>\n"
     ]
    }
   ],
   "source": [
    "import tensorflow as tf\n",
    "\n",
    "interpreter = tf.lite.Interpreter(model_path=\"modelo_rnn_5varvf.tflite\")\n",
    "interpreter.allocate_tensors()\n",
    "\n",
    "# Print input shape and type\n",
    "print(interpreter.get_input_details()[0]['shape'])  # Example: [1 224 224 3]\n",
    "print(interpreter.get_input_details()[0]['dtype'])  # Example: <class 'numpy.float32'>\n",
    "\n",
    "# Print output shape and type\n",
    "print(interpreter.get_output_details()[0]['shape'])  # Example: [1 1000]\n",
    "print(interpreter.get_output_details()[0]['dtype'])  # Example: <class 'numpy.float32'>"
   ]
  },
  {
   "cell_type": "markdown",
   "metadata": {},
   "source": [
    "Verificamos las versiones tf y tflite"
   ]
  },
  {
   "cell_type": "code",
   "execution_count": 5,
   "metadata": {},
   "outputs": [
    {
     "name": "stdout",
     "output_type": "stream",
     "text": [
      "2.15.0\n"
     ]
    }
   ],
   "source": [
    "print(tf.__version__)"
   ]
  },
  {
   "cell_type": "code",
   "execution_count": 6,
   "metadata": {},
   "outputs": [
    {
     "name": "stdout",
     "output_type": "stream",
     "text": [
      "Help on class TFLiteConverterV2 in module tensorflow.lite.python.lite:\n",
      "\n",
      "class TFLiteConverterV2(TFLiteFrozenGraphConverterV2)\n",
      " |  TFLiteConverterV2(funcs, trackable_obj=None)\n",
      " |  \n",
      " |  Converts a TensorFlow model into TensorFlow Lite model.\n",
      " |  \n",
      " |  Attributes:\n",
      " |    optimizations: Experimental flag, subject to change. Set of optimizations to\n",
      " |      apply. e.g {tf.lite.Optimize.DEFAULT}. (default None, must be None or a\n",
      " |      set of values of type `tf.lite.Optimize`)\n",
      " |    representative_dataset: A generator function used for integer quantization\n",
      " |      where each generated sample has the same order, type and shape as the\n",
      " |      inputs to the model. Usually, this is a small subset of a few hundred\n",
      " |      samples randomly chosen, in no particular order, from the training or\n",
      " |      evaluation dataset. This is an optional attribute, but required for full\n",
      " |      integer quantization, i.e, if `tf.int8` is the only supported type in\n",
      " |      `target_spec.supported_types`. Refer to `tf.lite.RepresentativeDataset`.\n",
      " |      (default None)\n",
      " |    target_spec: Experimental flag, subject to change. Specifications of target\n",
      " |      device, including supported ops set, supported types and a set of user's\n",
      " |      defined TensorFlow operators required in the TensorFlow Lite runtime.\n",
      " |      Refer to `tf.lite.TargetSpec`.\n",
      " |    inference_input_type: Data type of the input layer. Note that integer types\n",
      " |      (tf.int8 and tf.uint8) are currently only supported for post training\n",
      " |      integer quantization and quantization aware training. (default tf.float32,\n",
      " |      must be in {tf.float32, tf.int8, tf.uint8})\n",
      " |    inference_output_type: Data type of the output layer. Note that integer\n",
      " |      types (tf.int8 and tf.uint8) are currently only supported for post\n",
      " |      training integer quantization and quantization aware training. (default\n",
      " |      tf.float32, must be in {tf.float32, tf.int8, tf.uint8})\n",
      " |    allow_custom_ops: Boolean indicating whether to allow custom operations.\n",
      " |      When False, any unknown operation is an error. When True, custom ops are\n",
      " |      created for any op that is unknown. The developer needs to provide these\n",
      " |      to the TensorFlow Lite runtime with a custom resolver. (default False)\n",
      " |    exclude_conversion_metadata: Whether not to embed the conversion metadata\n",
      " |      into the converted model. (default False)\n",
      " |    experimental_new_converter: Experimental flag, subject to change. Enables\n",
      " |      MLIR-based conversion. (default True)\n",
      " |    experimental_new_quantizer: Experimental flag, subject to change. Enables\n",
      " |      MLIR-based quantization conversion instead of Flatbuffer-based conversion.\n",
      " |      (default True)\n",
      " |    experimental_enable_resource_variables: Experimental flag, subject to\n",
      " |      change. Enables [resource\n",
      " |      variables](https://tensorflow.org/guide/migrate/tf1_vs_tf2#resourcevariables_instead_of_referencevariables)\n",
      " |      to be converted by this converter. This is only allowed if the\n",
      " |      from_saved_model interface is used. (default True)\n",
      " |  \n",
      " |  Example usage:\n",
      " |  \n",
      " |  ```python\n",
      " |  # Converting a SavedModel to a TensorFlow Lite model.\n",
      " |  converter = tf.lite.TFLiteConverter.from_saved_model(saved_model_dir)\n",
      " |  tflite_model = converter.convert()\n",
      " |  \n",
      " |  # Converting a tf.Keras model to a TensorFlow Lite model.\n",
      " |  converter = tf.lite.TFLiteConverter.from_keras_model(model)\n",
      " |  tflite_model = converter.convert()\n",
      " |  \n",
      " |  # Converting ConcreteFunctions to a TensorFlow Lite model.\n",
      " |  converter = tf.lite.TFLiteConverter.from_concrete_functions([func], model)\n",
      " |  tflite_model = converter.convert()\n",
      " |  \n",
      " |  # Converting a Jax model to a TensorFlow Lite model.\n",
      " |  converter = tf.lite.TFLiteConverter.experimental_from_jax(\n",
      " |      [func], [[ ('input1', input1), ('input2', input2)]])\n",
      " |  tflite_model = converter.convert()\n",
      " |  ```\n",
      " |  \n",
      " |  Method resolution order:\n",
      " |      TFLiteConverterV2\n",
      " |      TFLiteFrozenGraphConverterV2\n",
      " |      TFLiteConverterBaseV2\n",
      " |      TFLiteConverterBase\n",
      " |      builtins.object\n",
      " |  \n",
      " |  Methods defined here:\n",
      " |  \n",
      " |  __init__(self, funcs, trackable_obj=None)\n",
      " |      Constructor for TFLiteConverter.\n",
      " |      \n",
      " |      Args:\n",
      " |        funcs: List of TensorFlow ConcreteFunctions. The list should not contain\n",
      " |          duplicate elements.\n",
      " |        trackable_obj: tf.AutoTrackable object associated with `funcs`. A\n",
      " |          reference to this object needs to be maintained so that Variables do not\n",
      " |          get garbage collected since functions have a weak reference to\n",
      " |          Variables. This is only required when the tf.AutoTrackable object is not\n",
      " |          maintained by the user (e.g. `from_saved_model`).\n",
      " |  \n",
      " |  convert(self)\n",
      " |      Converts a TensorFlow GraphDef based on instance variables.\n",
      " |      \n",
      " |      Returns:\n",
      " |        The converted data in serialized format.\n",
      " |      \n",
      " |      Raises:\n",
      " |        ValueError:\n",
      " |          No concrete functions is specified.\n",
      " |          Multiple concrete functions are specified.\n",
      " |          Input shape is not specified.\n",
      " |          Invalid quantization parameters.\n",
      " |  \n",
      " |  ----------------------------------------------------------------------\n",
      " |  Class methods defined here:\n",
      " |  \n",
      " |  experimental_from_jax(serving_funcs, inputs) from builtins.type\n",
      " |      Creates a TFLiteConverter object from a Jax model with its inputs. (deprecated)\n",
      " |      \n",
      " |      Deprecated: THIS FUNCTION IS DEPRECATED. It will be removed in a future version.\n",
      " |      Instructions for updating:\n",
      " |      Use `jax2tf.convert` and (`lite.TFLiteConverter.from_saved_model` or `lite.TFLiteConverter.from_concrete_functions`) instead.\n",
      " |      \n",
      " |      Args:\n",
      " |        serving_funcs: A array of Jax functions with all the weights applied\n",
      " |          already.\n",
      " |        inputs: A array of Jax input placeholders tuples list, e.g.,\n",
      " |          jnp.zeros(INPUT_SHAPE). Each tuple list should correspond with the\n",
      " |          serving function.\n",
      " |      \n",
      " |      Returns:\n",
      " |        TFLiteConverter object.\n",
      " |  \n",
      " |  from_concrete_functions(funcs, trackable_obj=None) from builtins.type\n",
      " |      Creates a TFLiteConverter object from ConcreteFunctions.\n",
      " |      \n",
      " |      Args:\n",
      " |        funcs: List of TensorFlow ConcreteFunctions. The list should not contain\n",
      " |          duplicate elements. Currently converter can only convert a single\n",
      " |          ConcreteFunction. Converting multiple functions is under development.\n",
      " |        trackable_obj:   An `AutoTrackable` object (typically `tf.module`)\n",
      " |          associated with `funcs`. A reference to this object needs to be\n",
      " |          maintained so that Variables do not get garbage collected since\n",
      " |          functions have a weak reference to Variables.\n",
      " |      \n",
      " |      Returns:\n",
      " |        TFLiteConverter object.\n",
      " |      \n",
      " |      Raises:\n",
      " |        Invalid input type.\n",
      " |  \n",
      " |  from_keras_model(model) from builtins.type\n",
      " |      Creates a TFLiteConverter object from a Keras model.\n",
      " |      \n",
      " |      Args:\n",
      " |        model: tf.Keras.Model\n",
      " |      \n",
      " |      Returns:\n",
      " |        TFLiteConverter object.\n",
      " |  \n",
      " |  from_saved_model(saved_model_dir, signature_keys=None, tags=None) from builtins.type\n",
      " |      Creates a TFLiteConverter object from a SavedModel directory.\n",
      " |      \n",
      " |      Args:\n",
      " |        saved_model_dir: SavedModel directory to convert.\n",
      " |        signature_keys: List of keys identifying SignatureDef containing inputs\n",
      " |          and outputs. Elements should not be duplicated. By default the\n",
      " |          `signatures` attribute of the MetaGraphdef is used. (default\n",
      " |          saved_model.signatures)\n",
      " |        tags: Set of tags identifying the MetaGraphDef within the SavedModel to\n",
      " |          analyze. All tags in the tag set must be present. (default\n",
      " |          {tf.saved_model.SERVING} or {'serve'})\n",
      " |      \n",
      " |      Returns:\n",
      " |        TFLiteConverter object.\n",
      " |      \n",
      " |      Raises:\n",
      " |        Invalid signature keys.\n",
      " |  \n",
      " |  ----------------------------------------------------------------------\n",
      " |  Data descriptors inherited from TFLiteConverterBase:\n",
      " |  \n",
      " |  __dict__\n",
      " |      dictionary for instance variables (if defined)\n",
      " |  \n",
      " |  __weakref__\n",
      " |      list of weak references to the object (if defined)\n",
      "\n",
      "None\n"
     ]
    }
   ],
   "source": [
    "print(help(tf.lite.TFLiteConverter))"
   ]
  },
  {
   "cell_type": "markdown",
   "metadata": {},
   "source": [
    "#### Metodo 1:Convertir el Modelo RNN LSTM entrenado en Formato TENSOR FLOW LITE (en la misma Sesion)"
   ]
  },
  {
   "cell_type": "markdown",
   "metadata": {},
   "source": [
    "## RED NEURONAL TO TENSOR FLOW LITE"
   ]
  },
  {
   "cell_type": "code",
   "execution_count": 91,
   "metadata": {},
   "outputs": [
    {
     "name": "stdout",
     "output_type": "stream",
     "text": [
      "INFO:tensorflow:Assets written to: C:\\Users\\BRYANI~1\\AppData\\Local\\Temp\\tmp536qwl7a\\assets\n"
     ]
    },
    {
     "name": "stderr",
     "output_type": "stream",
     "text": [
      "INFO:tensorflow:Assets written to: C:\\Users\\BRYANI~1\\AppData\\Local\\Temp\\tmp536qwl7a\\assets\n"
     ]
    }
   ],
   "source": [
    "import tensorflow as tf\n",
    "\n",
    "# Configurar el convertidor TFLite\n",
    "converter = tf.lite.TFLiteConverter.from_keras_model(model=model_rnn)\n",
    "\n",
    "# Especificar las operaciones admitidas por el modelo TFLite\n",
    "converter.target_spec.supported_ops = [tf.lite.OpsSet.TFLITE_BUILTINS, tf.lite.OpsSet.SELECT_TF_OPS]\n",
    "\n",
    "# Deshabilitar la conversión de operaciones de lista de tensores\n",
    "converter._experimental_lower_tensor_list_ops = False\n",
    "\n",
    "# Convertir el modelo a TensorFlow Lite\n",
    "model_tflite = converter.convert()\n",
    "\n",
    "# Guardar el modelo TensorFlow Lite en disco\n",
    "with open(\"rnnModel_5var.tflite\", \"wb\") as f:\n",
    "    f.write(model_tflite)"
   ]
  },
  {
   "cell_type": "markdown",
   "metadata": {},
   "source": [
    "#### Metodo 2: Guardamos el Modelo RNN en una carpeta, y en otra SESION, convertimos a TF LITE"
   ]
  },
  {
   "cell_type": "code",
   "execution_count": 15,
   "metadata": {},
   "outputs": [
    {
     "data": {
      "text/plain": [
       "'\\nimport tensorflow as tf\\n\\n# Guarda el modelo en formato SavedModel\\ntf.keras.models.save_model(model_rnn, \\'modelo_rnn_guardado/\\')\\n\\n#Convierte el modelo a TensorFlow Lite\\nconverter = tf.lite.TFLiteConverter.from_saved_model(\\'modelo_rnn_guardado/\\')\\nmodel_tflite = converter.convert()\\n\\n# Guarda el modelo TensorFlow Lite en disco\\nwith open(\"rnnModelv2.tflite\", \"wb\") as f:\\n    f.write(model_tflite)\\n'"
      ]
     },
     "execution_count": 15,
     "metadata": {},
     "output_type": "execute_result"
    }
   ],
   "source": [
    "import tensorflow as tf\n",
    "\n",
    "# Guarda el modelo en formato SavedModel\n",
    "tf.keras.models.save_model(model_rnn, 'modelo_rnn_guardado/')\n",
    "\n",
    "#Convierte el modelo a TensorFlow Lite\n",
    "converter = tf.lite.TFLiteConverter.from_saved_model('modelo_rnn_guardado/')\n",
    "model_tflite = converter.convert()\n",
    "\n",
    "# Guarda el modelo TensorFlow Lite en disco\n",
    "with open(\"rnnModelv2.tflite\", \"wb\") as f:\n",
    "    f.write(model_tflite)"
   ]
  },
  {
   "cell_type": "markdown",
   "metadata": {},
   "source": [
    "Validamos el funcionamiento del Modelo TF Lite"
   ]
  },
  {
   "cell_type": "code",
   "execution_count": 18,
   "metadata": {},
   "outputs": [],
   "source": [
    "#X_test_xgb"
   ]
  },
  {
   "cell_type": "code",
   "execution_count": 41,
   "metadata": {},
   "outputs": [
    {
     "name": "stdout",
     "output_type": "stream",
     "text": [
      "Datos de entrada: [[[ 23.    39.15 229.   243.5    2.2 ]]]\n",
      "Predccion Decimal: [[6.432984]]\n",
      "Predicción Enteros: [[6]]\n"
     ]
    }
   ],
   "source": [
    "import numpy as np\n",
    "import tensorflow as tf\n",
    "\n",
    "# Cargar el modelo TFLite\n",
    "interpreter = tf.lite.Interpreter(model_path=\"rnnModel_5var.tflite\")\n",
    "interpreter.allocate_tensors()\n",
    "\n",
    "# Función para realizar predicciones\n",
    "def predict(input_data):\n",
    "    input_details = interpreter.get_input_details()\n",
    "    output_details = interpreter.get_output_details()\n",
    "\n",
    "    interpreter.set_tensor(input_details[0]['index'], input_data)\n",
    "    interpreter.invoke()\n",
    "    output_data = interpreter.get_tensor(output_details[0]['index'])\n",
    "    \n",
    "    return output_data\n",
    "\n",
    "# Ingresar manualmente un conjunto de datos\n",
    "# Aquí debes ingresar un conjunto de datos con la forma adecuada: (n_samples, n_timesteps, n_variables)\n",
    "# En este caso, sería (1, 1, 5) ya que solo estamos ingresando un registro con 5 variables\n",
    "input_data = np.array([[[23, 39.15, 229, 243.5, 2.2]]], dtype=np.float32)\n",
    "\n",
    "# Realizar la predicción\n",
    "prediction = predict(input_data)\n",
    "prediction_round = np.round(prediction).astype(int)\n",
    "\n",
    "# Mostrar resultados\n",
    "print(\"Datos de entrada:\", input_data)\n",
    "print(\"Predccion Decimal:\", prediction)\n",
    "print(\"Predicción Enteros:\", prediction_round)"
   ]
  },
  {
   "cell_type": "markdown",
   "metadata": {},
   "source": [
    "Validacion del Modelo TF Lite para predecir toda la BD de Test"
   ]
  },
  {
   "cell_type": "code",
   "execution_count": null,
   "metadata": {},
   "outputs": [],
   "source": [
    "import numpy as np\n",
    "import tensorflow as tf\n",
    "from sklearn.metrics import mean_squared_error\n",
    "\n",
    "# Cargar el modelo TFLite\n",
    "interpreter = tf.lite.Interpreter(model_path=\"model_rnn.tflite\")\n",
    "interpreter.allocate_tensors()\n",
    "\n",
    "# Función para realizar predicciones\n",
    "def predict(input_data):\n",
    "    input_details = interpreter.get_input_details()\n",
    "    output_details = interpreter.get_output_details()\n",
    "\n",
    "    interpreter.set_tensor(input_details[0]['index'], input_data)\n",
    "    interpreter.invoke()\n",
    "    output_data = interpreter.get_tensor(output_details[0]['index'])\n",
    "    \n",
    "    return output_data\n",
    "\n",
    "# Realizar predicciones en todo el conjunto de prueba X_test\n",
    "y_pred_rnn = []\n",
    "for x in X_test_rnn:\n",
    "    x_reshaped = np.array(x).reshape((1, 1, 5))  # Asegurarse de que tenga la forma correcta\n",
    "    prediction = predict(x_reshaped)\n",
    "    rounded_prediction = np.round(prediction).astype(int)\n",
    "    y_pred_rnn.append(rounded_prediction[0][0])\n",
    "\n",
    "# Redondear las predicciones al entero más cercano\n",
    "y_pred_rnn = np.array(y_pred_rnn)\n",
    "\n",
    "# Calcular el RMSE\n",
    "rmse = np.sqrt(mean_squared_error(y_test_xgb, y_pred_rnn))\n",
    "print(\"RMSE:\", rmse)"
   ]
  },
  {
   "cell_type": "markdown",
   "metadata": {},
   "source": [
    "## RED NEURONAL TO ONNX"
   ]
  },
  {
   "cell_type": "markdown",
   "metadata": {},
   "source": [
    "#### 2.Convertor Modelo RNN  a ONNX"
   ]
  },
  {
   "cell_type": "code",
   "execution_count": 26,
   "metadata": {},
   "outputs": [],
   "source": [
    "import tensorflow as tf\n",
    "import tf2onnx\n",
    "import onnx\n",
    "\n",
    "# Define el modelo de entrada como un TensorSpec con la forma correcta\n",
    "input_signature = [tf.TensorSpec([None, 1, 5], tf.float32, name='x')]\n",
    "# Use from_function for tf functions\n",
    "onnx_model, _ = tf2onnx.convert.from_keras(model_rnn, input_signature, opset=13)\n",
    "onnx.save(onnx_model, \"model_rnn5var.onnx\")"
   ]
  },
  {
   "cell_type": "markdown",
   "metadata": {},
   "source": [
    "#### Validacion del Modelo RNN.ONNX"
   ]
  },
  {
   "cell_type": "markdown",
   "metadata": {},
   "source": [
    "2. Prediccion con RNN.ONNX utilizando el Runtime de ONNX"
   ]
  },
  {
   "cell_type": "code",
   "execution_count": 49,
   "metadata": {},
   "outputs": [
    {
     "name": "stdout",
     "output_type": "stream",
     "text": [
      "Predictions: [array([[4.478447]], dtype=float32)]\n"
     ]
    }
   ],
   "source": [
    "import onnxruntime as ort\n",
    "import numpy as np\n",
    "\n",
    "# Valores de ejemplo para las 5 variables de entrada\n",
    "input_values = np.array([[[12, 29 , 229, 100, 3]]], dtype=np.float32)\n",
    "\n",
    "# Cargar el modelo ONNX entrenado\n",
    "sess = ort.InferenceSession(\"model_rnn5var.onnx\")\n",
    "\n",
    "# Obtener los nombres de los tensores de entrada esperados por el modelo ONNX\n",
    "input_name = sess.get_inputs()[0].name\n",
    "\n",
    "# Realizar predicciones con el modelo ONNX utilizando los valores de entrada\n",
    "predictions = sess.run(None, {input_name: input_values})\n",
    "\n",
    "\n",
    "# Imprimir las predicciones\n",
    "print(\"Predictions:\", predictions)"
   ]
  },
  {
   "cell_type": "markdown",
   "metadata": {},
   "source": [
    "3. Prediccion del RNN.ONNX VS la base de test original(RSME)"
   ]
  },
  {
   "cell_type": "code",
   "execution_count": 68,
   "metadata": {},
   "outputs": [
    {
     "name": "stdout",
     "output_type": "stream",
     "text": [
      "RMSE: 1.1225099684299729\n"
     ]
    }
   ],
   "source": [
    "import onnxruntime as ort\n",
    "import numpy as np\n",
    "from sklearn.metrics import mean_squared_error\n",
    "\n",
    "# Cargar el modelo ONNX entrenado\n",
    "sess = ort.InferenceSession(\"model_rnn5var.onnx\")\n",
    "\n",
    "# Obtener el nombre del tensor de entrada esperado por el modelo ONNX\n",
    "input_name = sess.get_inputs()[0].name\n",
    "\n",
    "# Convertir X_test_rnn a un único array de NumPy si es necesario y luego a float32\n",
    "X_test_rnn_np2 = X_test_rnn.to_numpy().astype(np.float32)\n",
    "\n",
    "X_test_rnn_np2 = X_test_rnn_np2.reshape(-1, 1, 5)\n",
    "\n",
    "# Realizar predicciones con el modelo ONNX utilizando los datos de entrada X_test\n",
    "predictions = sess.run(None, {input_name: X_test_rnn_np2})\n",
    "\n",
    "# Redondear las predicciones al entero más cercano\n",
    "rounded_predictions = np.round(predictions).astype(np.float32)\n",
    "\n",
    "# Redimensionar rounded_predictions para que coincida con las dimensiones de y_test_rnn\n",
    "rounded_predictions_resized = np.squeeze(rounded_predictions)\n",
    "\n",
    "# Calcular el RMSE\n",
    "rmse = np.sqrt(mean_squared_error(y_test_rnn, rounded_predictions_resized))\n",
    "\n",
    "print(\"RMSE:\", rmse)"
   ]
  },
  {
   "cell_type": "code",
   "execution_count": 66,
   "metadata": {},
   "outputs": [
    {
     "data": {
      "text/plain": [
       "(148799,)"
      ]
     },
     "execution_count": 66,
     "metadata": {},
     "output_type": "execute_result"
    }
   ],
   "source": [
    "y_test_rnn.shape"
   ]
  },
  {
   "cell_type": "code",
   "execution_count": 67,
   "metadata": {},
   "outputs": [
    {
     "data": {
      "text/plain": [
       "(1, 148799, 1)"
      ]
     },
     "execution_count": 67,
     "metadata": {},
     "output_type": "execute_result"
    }
   ],
   "source": [
    "rounded_predictions.shape"
   ]
  },
  {
   "cell_type": "code",
   "execution_count": 67,
   "metadata": {},
   "outputs": [
    {
     "data": {
      "text/plain": [
       "[<matplotlib.lines.Line2D at 0x2708ac279d0>]"
      ]
     },
     "execution_count": 67,
     "metadata": {},
     "output_type": "execute_result"
    },
    {
     "data": {
      "image/png": "[encoded data removed]",
      "text/plain": [
       "<Figure size 640x480 with 1 Axes>"
      ]
     },
     "metadata": {},
     "output_type": "display_data"
    }
   ],
   "source": [
    "# Visualizar las predicciones\n",
    "plt.scatter(y_test_rnn, y_pred_rnn)\n",
    "plt.xlabel('Real [Pases]')\n",
    "plt.ylabel('Prediccion [Pases]')\n",
    "lims = [0, 20]\n",
    "plt.xlim(lims)\n",
    "plt.ylim(lims)\n",
    "plt.plot(lims, lims)"
   ]
  },
  {
   "cell_type": "markdown",
   "metadata": {},
   "source": [
    "#### 4. Cargamos el mejor modelo de ML(Entrenado) - Si elgimos esta opcion, deberiamos ya tener nuestro modelo en la ruta como: (modelo.pkl)\n",
    "#### Si no se tiene Modelo entrenado en  .pkl. Pasar al paso siguiente"
   ]
  },
  {
   "cell_type": "code",
   "execution_count": 151,
   "metadata": {},
   "outputs": [],
   "source": [
    "# Cargar el modelo guardado\n",
    "model_xgb = joblib.load('modelo_xgb_6var_N.pkl')  \n",
    "# Modelo_Var4: 'capacidad_en_volumen_equipo_carguio_m3','angulo_giro_promedio_pases','densidad_inicial_poligono_creado_tn/m3'"
   ]
  },
  {
   "cell_type": "markdown",
   "metadata": {},
   "source": [
    "Vericamos si el Modelo esta funcionando adecuadamente"
   ]
  },
  {
   "cell_type": "code",
   "execution_count": 153,
   "metadata": {},
   "outputs": [
    {
     "name": "stdout",
     "output_type": "stream",
     "text": [
      "Error Absoluto Medio: 0.7213825361729581\n",
      "Error Cuadrático Medio: 1.0284948151533277\n",
      "Raíz del Error Cuadrático Medio: 1.0141473340463543\n"
     ]
    }
   ],
   "source": [
    "import numpy as np\n",
    "import pandas as pd\n",
    "from sklearn.model_selection import train_test_split\n",
    "import xgboost as xgb\n",
    "import matplotlib.pyplot as plt\n",
    "from sklearn.preprocessing import StandardScaler\n",
    "\n",
    "# Normalizar los datos, para que la red tenga un mejor rendimiento al procesar datos mas pequenos y en una misma escala\n",
    "scaler = StandardScaler()\n",
    "X_normalized = scaler.fit_transform(X)\n",
    "\n",
    "# Convertir DataFrame a array de NumPy\n",
    "X_array = X_normalized\n",
    "y_array = y.values\n",
    "\n",
    "# Dividir el conjunto de datos en entrenamiento y prueba\n",
    "X_train_xgb, X_test_xgb, y_train_xgb, y_test_xgb = train_test_split(X_array, y_array, test_size=0.2, random_state=42)\n",
    "\n",
    "# Realizar predicciones en el conjunto de prueba\n",
    "y_pred_xgb = model_xgb.predict(X_test_xgb)\n",
    "\n",
    "# Redondear los valores de y_pred al entero más cercano\n",
    "y_pred_xgb = np.round(y_pred_xgb).astype('int64')\n",
    "\n",
    "# Medir el rendimiento del modelo\n",
    "error_absoluto_medio_xgb = metrics.mean_absolute_error(y_test_xgb, y_pred_xgb)\n",
    "error_cuadratico_medio_xgb = metrics.mean_squared_error(y_test_xgb, y_pred_xgb)\n",
    "raiz_error_cuadratico_medio_xgb = metrics.mean_squared_error(y_test_xgb, y_pred_xgb, squared=False)\n",
    "\n",
    "# Imprimir métricas de rendimiento\n",
    "print(f'Error Absoluto Medio: {error_absoluto_medio_xgb}')\n",
    "print(f'Error Cuadrático Medio: {error_cuadratico_medio_xgb}')\n",
    "print(f'Raíz del Error Cuadrático Medio: {raiz_error_cuadratico_medio_xgb}')"
   ]
  },
  {
   "cell_type": "markdown",
   "metadata": {},
   "source": [
    "### 5. Armando los BaseFinal, con los valores predichos de cada Modelo, y tambien medir el impacto con productividades"
   ]
  },
  {
   "cell_type": "code",
   "execution_count": 30,
   "metadata": {},
   "outputs": [
    {
     "ename": "NameError",
     "evalue": "name 'X_test_gen' is not defined",
     "output_type": "error",
     "traceback": [
      "\u001b[1;31m---------------------------------------------------------------------------\u001b[0m",
      "\u001b[1;31mNameError\u001b[0m                                 Traceback (most recent call last)",
      "Cell \u001b[1;32mIn[30], line 2\u001b[0m\n\u001b[0;32m      1\u001b[0m \u001b[38;5;66;03m# Agregar las predicciones como una columna adicional al conjunto de prueba\u001b[39;00m\n\u001b[1;32m----> 2\u001b[0m df_resultados_models \u001b[38;5;241m=\u001b[39m X_test_gen\u001b[38;5;241m.\u001b[39mcopy()\n\u001b[0;32m      3\u001b[0m df_resultados_models[\u001b[38;5;124m'\u001b[39m\u001b[38;5;124mNumero_pases_real\u001b[39m\u001b[38;5;124m'\u001b[39m] \u001b[38;5;241m=\u001b[39m y_test_gen\n\u001b[0;32m      4\u001b[0m df_resultados_models[\u001b[38;5;124m'\u001b[39m\u001b[38;5;124mNumero_pases_real_v2\u001b[39m\u001b[38;5;124m'\u001b[39m] \u001b[38;5;241m=\u001b[39m y_test_rnn\n",
      "\u001b[1;31mNameError\u001b[0m: name 'X_test_gen' is not defined"
     ]
    }
   ],
   "source": [
    "# Agregar las predicciones como una columna adicional al conjunto de prueba\n",
    "df_resultados_models = X_test_gen.copy()\n",
    "df_resultados_models['Numero_pases_real'] = y_test_gen\n",
    "df_resultados_models['Numero_pases_real_v2'] = y_test_rnn\n",
    "#df_resultados_models['Numero_pases_reglineal'] = y_pred_rl\n",
    "# df_resultados_models['Numero_pases_arboldecision'] = y_pred_dt\n",
    "# df_resultados_models['Numero_pases_rforest'] = y_pred_rf\n",
    "#df_resultados_models['Numero_pases_xgb'] = y_pred_xgb\n",
    "df_resultados_models['Numero_pases_rnn'] = y_pred_rnn\n",
    "\n",
    "#------------------------------------------------------------------------------------------------------------------------------------------------------------------------------------------------------------------------\n",
    "# Aumento o disminucion de pases con respecto a la prediccion del modelo\n",
    "m = 1 # aumento\n",
    "n = 1 # disminuye\n",
    "\n",
    "# Regresion Lineal\n",
    "# df_resultados_models['Numero_pases_reglineal+1'] = df_resultados_models['Numero_pases_reglineal'] + m\n",
    "# df_resultados_models['Numero_pases_reglineal-1'] = df_resultados_models['Numero_pases_reglineal'] - n\n",
    "\n",
    "# Arbol de decision Regressor\n",
    "#df_resultados_models['Numero_pases_arboldecision+1'] = df_resultados_models['Numero_pases_arboldecision'] + m\n",
    "#df_resultados_models['Numero_pases_arboldecision-1'] = df_resultados_models['Numero_pases_arboldecision'] - n\n",
    "\n",
    "# Random Forest\n",
    "#df_resultados_models['Numero_pases_rforest+1'] = df_resultados_models['Numero_pases_rforest'] + m\n",
    "#df_resultados_models['Numero_pases_rforest-1'] = df_resultados_models['Numero_pases_rforest'] - n\n",
    "\n",
    "# XGB\n",
    "#df_resultados_models['Numero_pases_xgb+1'] = df_resultados_models['Numero_pases_xgb'] + m\n",
    "#df_resultados_models['Numero_pases_xgb-1'] = df_resultados_models['Numero_pases_xgb'] - n\n",
    "\n",
    "# Redes Neuronales LSTM\n",
    "#df_resultados_models['Numero_pases_rnn+1'] = df_resultados_models['Numero_pases_rnn'] + m\n",
    "#df_resultados_models['Numero_pases_rnn-1'] = df_resultados_models['Numero_pases_rnn'] - n\n",
    "\n",
    "\n",
    "#-------------------------------------------------------------------------------------------------------------------------------------------------------------------------------------------------------------------------\n",
    "#Regresion Lineal\n",
    "# df_resultados_models['Diferencia_Pases_rl'] = df_resultados_models['Numero_pases_reglineal'] - df_resultados_models['Numero_pases_real']\n",
    "# df_resultados_models['tonelaje_segun_computadora_rl'] = (df_resultados_models['tonelaje_segun_computadora']) + (df_resultados_models['Diferencia_Pases_rl']*df_resultados_models['capacidad_en_peso_equipo_carguio'])\n",
    "\n",
    "# # # Regresion Lineal + 1\n",
    "# # df_resultados_models['Diferencia_Pases_rl+1'] = df_resultados_models['Numero_pases_reglineal+1'] - df_resultados_models['Numero_pases_reglineal']\n",
    "# # df_resultados_models['tonelaje_segun_computadora_rl+1'] = (df_resultados_models['tonelaje_segun_computadora_rl']) + (df_resultados_models['Diferencia_Pases_rl+1']*df_resultados_models['capacidad_en_peso_equipo_carguio'])\n",
    "\n",
    "# # # Regresion Lineal - 1\n",
    "# # df_resultados_models['Diferencia_Pases_rl-1'] = df_resultados_models['Numero_pases_reglineal-1'] - df_resultados_models['Numero_pases_reglineal']\n",
    "# # df_resultados_models['tonelaje_segun_computadora_rl-1'] = (df_resultados_models['tonelaje_segun_computadora_rl']) + (df_resultados_models['Diferencia_Pases_rl-1']*df_resultados_models['capacidad_en_peso_equipo_carguio'])\n",
    "\n",
    "# #Arbol de decision\n",
    "# df_resultados_models['Diferencia_Pases_dt'] = df_resultados_models['Numero_pases_arboldecision'] - df_resultados_models['Numero_pases_real']\n",
    "# df_resultados_models['tonelaje_segun_computadora_dt'] = (df_resultados_models['tonelaje_segun_computadora']) + (df_resultados_models['Diferencia_Pases_dt']*df_resultados_models['capacidad_en_peso_equipo_carguio'])\n",
    "\n",
    "\n",
    "# # Arbol de decision + 1\n",
    "# #df_resultados_models['Diferencia_Pases_dt+1'] = df_resultados_models['Numero_pases_arboldecision+1'] - df_resultados_models['Numero_pases_arboldecision']\n",
    "# #df_resultados_models['tonelaje_segun_computadora_dt+1'] = (df_resultados_models['tonelaje_segun_computadora_dt']) + (df_resultados_models['Diferencia_Pases_dt+1']*df_resultados_models['capacidad_en_peso_equipo_carguio'])\n",
    "\n",
    "# # Arbol de decision - 1\n",
    "# #df_resultados_models['Diferencia_Pases_dt-1'] = df_resultados_models['Numero_pases_arboldecision-1'] - df_resultados_models['Numero_pases_arboldecision']\n",
    "# #df_resultados_models['tonelaje_segun_computadora_dt-1'] = (df_resultados_models['tonelaje_segun_computadora_dt']) + (df_resultados_models['Diferencia_Pases_dt-1']*df_resultados_models['capacidad_en_peso_equipo_carguio'])\n",
    "\n",
    "# # Random Forest \n",
    "# df_resultados_models['Diferencia_Pases_rf'] = df_resultados_models['Numero_pases_rforest'] - df_resultados_models['Numero_pases_real']\n",
    "# df_resultados_models['tonelaje_segun_computadora_rf'] = (df_resultados_models['tonelaje_segun_computadora']) + (df_resultados_models['Diferencia_Pases_rf']*df_resultados_models['capacidad_en_peso_equipo_carguio'])\n",
    "\n",
    "# # Random Forest  + 1\n",
    "# #df_resultados_models['Diferencia_Pases_rf+1'] = df_resultados_models['Numero_pases_rforest+1'] - df_resultados_models['Numero_pases_rforest']\n",
    "# #df_resultados_models['tonelaje_segun_computadora_rf+1'] = (df_resultados_models['tonelaje_segun_computadora_rf']) + (df_resultados_models['Diferencia_Pases_rf+1']*df_resultados_models['capacidad_en_peso_equipo_carguio'])\n",
    "\n",
    "# # Random Forest  - 1\n",
    "# #df_resultados_models['Diferencia_Pases_rf-1'] = df_resultados_models['Numero_pases_rforest-1'] - df_resultados_models['Numero_pases_rforest']\n",
    "# #df_resultados_models['tonelaje_segun_computadora_rf-1'] = (df_resultados_models['tonelaje_segun_computadora_rf']) + (df_resultados_models['Diferencia_Pases_rf-1']*df_resultados_models['capacidad_en_peso_equipo_carguio'])\n",
    "\n",
    "# XGB (eXtreme Gradient Boosting)\n",
    "#df_resultados_models['Diferencia_Pases_xgb'] = df_resultados_models['Numero_pases_xgb'] - df_resultados_models['Numero_pases_real']\n",
    "#df_resultados_models['tonelaje_segun_computadora_xgb'] = (df_resultados_models['tonelaje_segun_computadora']) + (df_resultados_models['Diferencia_Pases_xgb']*df_resultados_models['capacidad_en_peso_equipo_carguio'])\n",
    "\n",
    "# XGB  + 1\n",
    "#df_resultados_models['Diferencia_Pases_xgb+1'] = df_resultados_models['Numero_pases_xgb+1'] - df_resultados_models['Numero_pases_xgb']\n",
    "#df_resultados_models['tonelaje_segun_computadora_xgb+1'] = (df_resultados_models['tonelaje_segun_computadora_xgb']) + (df_resultados_models['Diferencia_Pases_xgb+1']*df_resultados_models['capacidad_en_peso_equipo_carguio'])\n",
    "\n",
    "# XGB - 1\n",
    "#df_resultados_models['Diferencia_Pases_xgb-1'] = df_resultados_models['Numero_pases_xgb-1'] - df_resultados_models['Numero_pases_xgb']\n",
    "#df_resultados_models['tonelaje_segun_computadora_xgb-1'] = (df_resultados_models['tonelaje_segun_computadora_xgb']) + (df_resultados_models['Diferencia_Pases_xgb-1']*df_resultados_models['capacidad_en_peso_equipo_carguio'])\n",
    "\n",
    "# RNN (Redes Neuronales LSTM)\n",
    "df_resultados_models['Diferencia_Pases_rnn'] = df_resultados_models['Numero_pases_rnn'] - df_resultados_models['Numero_pases_real']\n",
    "df_resultados_models['tonelaje_segun_computadora_rnn'] = (df_resultados_models['tonelaje_segun_computadora']) + (df_resultados_models['Diferencia_Pases_rnn']*df_resultados_models['capacidad_en_peso_equipo_carguio'])\n",
    "\n",
    "# # RNN  + 1\n",
    "# #df_resultados_models['Diferencia_Pases_rnn+1'] = df_resultados_models['Numero_pases_rnn+1'] - df_resultados_models['Numero_pases_rnn']\n",
    "# #df_resultados_models['tonelaje_segun_computadora_rnn+1'] = (df_resultados_models['tonelaje_segun_computadora_rnn']) + (df_resultados_models['Diferencia_Pases_rnn+1']*df_resultados_models['capacidad_en_peso_equipo_carguio'])\n",
    "\n",
    "# # RNN - 1\n",
    "# #df_resultados_models['Diferencia_Pases_rnn-1'] = df_resultados_models['Numero_pases_rnn-1'] - df_resultados_models['Numero_pases_rnn']\n",
    "# #df_resultados_models['tonelaje_segun_computadora_rnn-1'] = (df_resultados_models['tonelaje_segun_computadora_rnn']) + (df_resultados_models['Diferencia_Pases_rnn-1']*df_resultados_models['capacidad_en_peso_equipo_carguio'])\n",
    "\n",
    "\n",
    "# #--------------------------------------------------------------------------------------------------------------------------------------------------------------------------------------------------------------------------------\n",
    "# #Hallamos el tiempo ready de cargando de la pala, en cada pase, para que se simule, si incrementa o disminuye pases(en base al modelo)\n",
    "#df_resultados_models['tiempo_ready_cargando_pala_por_pase'] = np.where(df_resultados_models['Numero_pases_real'] == 0, 0, df_resultados_models['tiempo_ready_cargando_pala'] / df_resultados_models['Numero_pases_real'])\n",
    "#df_resultados_models['tiempo_ready_cargando_pala_rl+1'] = df_resultados_models['tiempo_ready_cargando_pala'] + df_resultados_models['tiempo_ready_cargando_pala_por_pase']\n",
    "#df_resultados_models['tiempo_ready_cargando_pala_rl-1'] = df_resultados_models['tiempo_ready_cargando_pala'] - df_resultados_models['tiempo_ready_cargando_pala_por_pase']\n",
    "\n",
    "#-----------------------------------------------------------------------------------------------------------------------------------------------------------------------------------------------------------------------------\n",
    "\n",
    "df_resultados_models.head(5)"
   ]
  },
  {
   "cell_type": "markdown",
   "metadata": {},
   "source": [
    "Opcion 2 : Donde predeciremos todo la base, no solo test, esto para saber la produccion total al final del turno, y se pueda tomar en \n",
    "cuenta todos los datos"
   ]
  },
  {
   "cell_type": "code",
   "execution_count": 61,
   "metadata": {},
   "outputs": [
    {
     "data": {
      "text/plain": [
       "array([4, 6, 7], dtype=int64)"
      ]
     },
     "execution_count": 61,
     "metadata": {},
     "output_type": "execute_result"
    }
   ],
   "source": [
    "np.unique(y_pred_rnn_total)"
   ]
  },
  {
   "cell_type": "code",
   "execution_count": 62,
   "metadata": {},
   "outputs": [
    {
     "data": {
      "text/html": [
       "<div>\n",
       "<style scoped>\n",
       "    .dataframe tbody tr th:only-of-type {\n",
       "        vertical-align: middle;\n",
       "    }\n",
       "\n",
       "    .dataframe tbody tr th {\n",
       "        vertical-align: top;\n",
       "    }\n",
       "\n",
       "    .dataframe thead th {\n",
       "        text-align: right;\n",
       "    }\n",
       "</style>\n",
       "<table border=\"1\" class=\"dataframe\">\n",
       "  <thead>\n",
       "    <tr style=\"text-align: right;\">\n",
       "      <th></th>\n",
       "      <th>tonelaje_inicial_poligono_creado</th>\n",
       "      <th>radiohexagonocuchara_equipocarguio</th>\n",
       "      <th>capacidad_en_volumen_equipo_carguio_m3</th>\n",
       "      <th>capacidad_en_peso_equipo_carguio</th>\n",
       "      <th>capacidad_en_peso_equipo_acarreo</th>\n",
       "      <th>tiempo_estimado_duracion_estado_pala</th>\n",
       "      <th>radio_locacion_metros</th>\n",
       "      <th>tiempo_ready_llegada_esperando</th>\n",
       "      <th>tiempo_ready_esperando_cuadra</th>\n",
       "      <th>tonelaje_camion_antes_cargaestabilizada</th>\n",
       "      <th>angulo_giro_promedio_pases</th>\n",
       "      <th>tonelaje_segun_computadora</th>\n",
       "      <th>id_equipo_camion</th>\n",
       "      <th>id_equipo_carguio</th>\n",
       "      <th>densidad_inicial_poligono_creado_tn/m3</th>\n",
       "      <th>productividad_operativa_acarreo_tn_h</th>\n",
       "      <th>tiempo_llegada_camion</th>\n",
       "      <th>tiempo_ready_cuadra_cuadrado</th>\n",
       "      <th>tiempo_ready_cuadrado_cargado</th>\n",
       "      <th>tiempo_ready_carga_acarreo</th>\n",
       "      <th>tiempo_ready_acarreo_cola</th>\n",
       "      <th>tiempo_ready_cola_retro</th>\n",
       "      <th>tiempo_ready_retro_listo</th>\n",
       "      <th>tiempo_ready_listo_descarga</th>\n",
       "      <th>tiempo_ready_descarga_viajandovacio</th>\n",
       "      <th>tiempo_ready_cargando_pala</th>\n",
       "      <th>tiempo_ready_esperando_pala</th>\n",
       "      <th>productividad_operativa_carguio_tn_h</th>\n",
       "      <th>capacidad_en_volumen_equipo_acarreo_m3</th>\n",
       "      <th>Numero_pases_real</th>\n",
       "      <th>Numero_pases_rnn</th>\n",
       "      <th>Diferencia_Pases_rnn</th>\n",
       "      <th>tonelaje_segun_computadora_rnn</th>\n",
       "    </tr>\n",
       "  </thead>\n",
       "  <tbody>\n",
       "    <tr>\n",
       "      <th>0</th>\n",
       "      <td>2242926.000000</td>\n",
       "      <td>680.000000</td>\n",
       "      <td>23.000000</td>\n",
       "      <td>39.158333</td>\n",
       "      <td>229.000000</td>\n",
       "      <td>0.000000</td>\n",
       "      <td>45.000000</td>\n",
       "      <td>0.000000</td>\n",
       "      <td>6.000000</td>\n",
       "      <td>225.800000</td>\n",
       "      <td>0.000000</td>\n",
       "      <td>235.800000</td>\n",
       "      <td>42</td>\n",
       "      <td>74</td>\n",
       "      <td>1.916910</td>\n",
       "      <td>1487.645018</td>\n",
       "      <td>2022-01-01 07:01:58.086000-05:00</td>\n",
       "      <td>14.001000</td>\n",
       "      <td>44.008000</td>\n",
       "      <td>160.560000</td>\n",
       "      <td>236.034000</td>\n",
       "      <td>16.001000</td>\n",
       "      <td>12.002000</td>\n",
       "      <td>46.004000</td>\n",
       "      <td>36.010000</td>\n",
       "      <td>160.560000</td>\n",
       "      <td>229.177000</td>\n",
       "      <td>2178.084195</td>\n",
       "      <td>129.000000</td>\n",
       "      <td>0</td>\n",
       "      <td>7</td>\n",
       "      <td>7</td>\n",
       "      <td>509.908333</td>\n",
       "    </tr>\n",
       "    <tr>\n",
       "      <th>1</th>\n",
       "      <td>77500.000000</td>\n",
       "      <td>680.000000</td>\n",
       "      <td>23.000000</td>\n",
       "      <td>39.158333</td>\n",
       "      <td>229.000000</td>\n",
       "      <td>1200.000000</td>\n",
       "      <td>40.000000</td>\n",
       "      <td>0.000000</td>\n",
       "      <td>6.003000</td>\n",
       "      <td>243.500000</td>\n",
       "      <td>20.000000</td>\n",
       "      <td>234.500000</td>\n",
       "      <td>39</td>\n",
       "      <td>73</td>\n",
       "      <td>2.200000</td>\n",
       "      <td>1827.039404</td>\n",
       "      <td>2022-01-01 07:04:06.421000-05:00</td>\n",
       "      <td>16.002000</td>\n",
       "      <td>8.001000</td>\n",
       "      <td>254.033000</td>\n",
       "      <td>94.015000</td>\n",
       "      <td>0.000000</td>\n",
       "      <td>12.001000</td>\n",
       "      <td>24.001000</td>\n",
       "      <td>48.003000</td>\n",
       "      <td>254.033000</td>\n",
       "      <td>1352.170000</td>\n",
       "      <td>525.587363</td>\n",
       "      <td>129.000000</td>\n",
       "      <td>7</td>\n",
       "      <td>7</td>\n",
       "      <td>0</td>\n",
       "      <td>234.500000</td>\n",
       "    </tr>\n",
       "    <tr>\n",
       "      <th>2</th>\n",
       "      <td>2242926.000000</td>\n",
       "      <td>680.000000</td>\n",
       "      <td>23.000000</td>\n",
       "      <td>39.158333</td>\n",
       "      <td>229.000000</td>\n",
       "      <td>0.000000</td>\n",
       "      <td>45.000000</td>\n",
       "      <td>0.000000</td>\n",
       "      <td>6.002000</td>\n",
       "      <td>232.900000</td>\n",
       "      <td>0.000000</td>\n",
       "      <td>235.400000</td>\n",
       "      <td>56</td>\n",
       "      <td>74</td>\n",
       "      <td>1.916910</td>\n",
       "      <td>843.956990</td>\n",
       "      <td>2022-01-01 07:06:43.839000-05:00</td>\n",
       "      <td>12.000000</td>\n",
       "      <td>42.003000</td>\n",
       "      <td>144.017000</td>\n",
       "      <td>246.029000</td>\n",
       "      <td>8.001000</td>\n",
       "      <td>14.002000</td>\n",
       "      <td>496.065000</td>\n",
       "      <td>36.008000</td>\n",
       "      <td>144.017000</td>\n",
       "      <td>121.189000</td>\n",
       "      <td>3195.402819</td>\n",
       "      <td>129.000000</td>\n",
       "      <td>0</td>\n",
       "      <td>7</td>\n",
       "      <td>7</td>\n",
       "      <td>509.508333</td>\n",
       "    </tr>\n",
       "    <tr>\n",
       "      <th>3</th>\n",
       "      <td>77500.000000</td>\n",
       "      <td>680.000000</td>\n",
       "      <td>23.000000</td>\n",
       "      <td>39.158333</td>\n",
       "      <td>229.000000</td>\n",
       "      <td>1200.000000</td>\n",
       "      <td>40.000000</td>\n",
       "      <td>0.000000</td>\n",
       "      <td>60.006000</td>\n",
       "      <td>234.900000</td>\n",
       "      <td>43.000000</td>\n",
       "      <td>234.900000</td>\n",
       "      <td>39</td>\n",
       "      <td>73</td>\n",
       "      <td>2.200000</td>\n",
       "      <td>1447.852551</td>\n",
       "      <td>2022-01-01 07:12:42.484000-05:00</td>\n",
       "      <td>18.004000</td>\n",
       "      <td>10.001000</td>\n",
       "      <td>306.023000</td>\n",
       "      <td>102.009000</td>\n",
       "      <td>0.000000</td>\n",
       "      <td>12.002000</td>\n",
       "      <td>20.002000</td>\n",
       "      <td>56.018000</td>\n",
       "      <td>306.023000</td>\n",
       "      <td>320.035000</td>\n",
       "      <td>1350.737472</td>\n",
       "      <td>129.000000</td>\n",
       "      <td>7</td>\n",
       "      <td>7</td>\n",
       "      <td>0</td>\n",
       "      <td>234.900000</td>\n",
       "    </tr>\n",
       "    <tr>\n",
       "      <th>4</th>\n",
       "      <td>2242926.000000</td>\n",
       "      <td>680.000000</td>\n",
       "      <td>23.000000</td>\n",
       "      <td>39.158333</td>\n",
       "      <td>229.000000</td>\n",
       "      <td>0.000000</td>\n",
       "      <td>45.000000</td>\n",
       "      <td>0.000000</td>\n",
       "      <td>6.003000</td>\n",
       "      <td>238.400000</td>\n",
       "      <td>0.000000</td>\n",
       "      <td>247.700000</td>\n",
       "      <td>42</td>\n",
       "      <td>74</td>\n",
       "      <td>1.916910</td>\n",
       "      <td>764.691052</td>\n",
       "      <td>2022-01-01 07:15:32.741000-05:00</td>\n",
       "      <td>14.000000</td>\n",
       "      <td>40.006000</td>\n",
       "      <td>160.009000</td>\n",
       "      <td>242.036000</td>\n",
       "      <td>74.003000</td>\n",
       "      <td>10.001000</td>\n",
       "      <td>586.055000</td>\n",
       "      <td>34.005000</td>\n",
       "      <td>160.009000</td>\n",
       "      <td>384.889000</td>\n",
       "      <td>1636.489765</td>\n",
       "      <td>129.000000</td>\n",
       "      <td>0</td>\n",
       "      <td>7</td>\n",
       "      <td>7</td>\n",
       "      <td>521.808333</td>\n",
       "    </tr>\n",
       "  </tbody>\n",
       "</table>\n",
       "</div>"
      ],
      "text/plain": [
       "   tonelaje_inicial_poligono_creado  radiohexagonocuchara_equipocarguio  capacidad_en_volumen_equipo_carguio_m3  capacidad_en_peso_equipo_carguio  capacidad_en_peso_equipo_acarreo  tiempo_estimado_duracion_estado_pala  radio_locacion_metros  tiempo_ready_llegada_esperando  tiempo_ready_esperando_cuadra  tonelaje_camion_antes_cargaestabilizada  angulo_giro_promedio_pases  tonelaje_segun_computadora  id_equipo_camion  id_equipo_carguio  densidad_inicial_poligono_creado_tn/m3  productividad_operativa_acarreo_tn_h            tiempo_llegada_camion  tiempo_ready_cuadra_cuadrado  tiempo_ready_cuadrado_cargado  tiempo_ready_carga_acarreo  tiempo_ready_acarreo_cola  tiempo_ready_cola_retro  tiempo_ready_retro_listo  tiempo_ready_listo_descarga  tiempo_ready_descarga_viajandovacio  tiempo_ready_cargando_pala  tiempo_ready_esperando_pala  productividad_operativa_carguio_tn_h  capacidad_en_volumen_equipo_acarreo_m3  Numero_pases_real  Numero_pases_rnn  Diferencia_Pases_rnn  tonelaje_segun_computadora_rnn\n",
       "0                    2242926.000000                          680.000000                               23.000000                         39.158333                        229.000000                              0.000000              45.000000                        0.000000                       6.000000                               225.800000                    0.000000                  235.800000                42                 74                                1.916910                           1487.645018 2022-01-01 07:01:58.086000-05:00                     14.001000                      44.008000                  160.560000                 236.034000                16.001000                 12.002000                    46.004000                            36.010000                  160.560000                   229.177000                           2178.084195                              129.000000                  0                 7                     7                      509.908333\n",
       "1                      77500.000000                          680.000000                               23.000000                         39.158333                        229.000000                           1200.000000              40.000000                        0.000000                       6.003000                               243.500000                   20.000000                  234.500000                39                 73                                2.200000                           1827.039404 2022-01-01 07:04:06.421000-05:00                     16.002000                       8.001000                  254.033000                  94.015000                 0.000000                 12.001000                    24.001000                            48.003000                  254.033000                  1352.170000                            525.587363                              129.000000                  7                 7                     0                      234.500000\n",
       "2                    2242926.000000                          680.000000                               23.000000                         39.158333                        229.000000                              0.000000              45.000000                        0.000000                       6.002000                               232.900000                    0.000000                  235.400000                56                 74                                1.916910                            843.956990 2022-01-01 07:06:43.839000-05:00                     12.000000                      42.003000                  144.017000                 246.029000                 8.001000                 14.002000                   496.065000                            36.008000                  144.017000                   121.189000                           3195.402819                              129.000000                  0                 7                     7                      509.508333\n",
       "3                      77500.000000                          680.000000                               23.000000                         39.158333                        229.000000                           1200.000000              40.000000                        0.000000                      60.006000                               234.900000                   43.000000                  234.900000                39                 73                                2.200000                           1447.852551 2022-01-01 07:12:42.484000-05:00                     18.004000                      10.001000                  306.023000                 102.009000                 0.000000                 12.002000                    20.002000                            56.018000                  306.023000                   320.035000                           1350.737472                              129.000000                  7                 7                     0                      234.900000\n",
       "4                    2242926.000000                          680.000000                               23.000000                         39.158333                        229.000000                              0.000000              45.000000                        0.000000                       6.003000                               238.400000                    0.000000                  247.700000                42                 74                                1.916910                            764.691052 2022-01-01 07:15:32.741000-05:00                     14.000000                      40.006000                  160.009000                 242.036000                74.003000                 10.001000                   586.055000                            34.005000                  160.009000                   384.889000                           1636.489765                              129.000000                  0                 7                     7                      521.808333"
      ]
     },
     "execution_count": 62,
     "metadata": {},
     "output_type": "execute_result"
    }
   ],
   "source": [
    "# Agregar las predicciones como una columna adicional al conjunto de prueba\n",
    "df_resultados_models = X_gen.copy()\n",
    "df_resultados_models['Numero_pases_real'] = y_gen\n",
    "#df_resultados_models['Numero_pases_real_v2'] = y_test_rnn\n",
    "#df_resultados_models['Numero_pases_reglineal'] = y_pred_rl\n",
    "# df_resultados_models['Numero_pases_arboldecision'] = y_pred_dt\n",
    "# df_resultados_models['Numero_pases_rforest'] = y_pred_rf\n",
    "#df_resultados_models['Numero_pases_xgb'] = y_pred_xgb\n",
    "df_resultados_models['Numero_pases_rnn'] = y_pred_rnn_total\n",
    "\n",
    "#------------------------------------------------------------------------------------------------------------------------------------------------------------------------------------------------------------------------\n",
    "# Aumento o disminucion de pases con respecto a la prediccion del modelo\n",
    "m = 1 # aumento\n",
    "n = 1 # disminuye\n",
    "\n",
    "# Regresion Lineal\n",
    "# df_resultados_models['Numero_pases_reglineal+1'] = df_resultados_models['Numero_pases_reglineal'] + m\n",
    "# df_resultados_models['Numero_pases_reglineal-1'] = df_resultados_models['Numero_pases_reglineal'] - n\n",
    "\n",
    "# Arbol de decision Regressor\n",
    "#df_resultados_models['Numero_pases_arboldecision+1'] = df_resultados_models['Numero_pases_arboldecision'] + m\n",
    "#df_resultados_models['Numero_pases_arboldecision-1'] = df_resultados_models['Numero_pases_arboldecision'] - n\n",
    "\n",
    "# Random Forest\n",
    "#df_resultados_models['Numero_pases_rforest+1'] = df_resultados_models['Numero_pases_rforest'] + m\n",
    "#df_resultados_models['Numero_pases_rforest-1'] = df_resultados_models['Numero_pases_rforest'] - n\n",
    "\n",
    "# XGB\n",
    "#df_resultados_models['Numero_pases_xgb+1'] = df_resultados_models['Numero_pases_xgb'] + m\n",
    "#df_resultados_models['Numero_pases_xgb-1'] = df_resultados_models['Numero_pases_xgb'] - n\n",
    "\n",
    "# Redes Neuronales LSTM\n",
    "#df_resultados_models['Numero_pases_rnn+1'] = df_resultados_models['Numero_pases_rnn'] + m\n",
    "#df_resultados_models['Numero_pases_rnn-1'] = df_resultados_models['Numero_pases_rnn'] - n\n",
    "\n",
    "\n",
    "#-------------------------------------------------------------------------------------------------------------------------------------------------------------------------------------------------------------------------\n",
    "#Regresion Lineal\n",
    "# df_resultados_models['Diferencia_Pases_rl'] = df_resultados_models['Numero_pases_reglineal'] - df_resultados_models['Numero_pases_real']\n",
    "# df_resultados_models['tonelaje_segun_computadora_rl'] = (df_resultados_models['tonelaje_segun_computadora']) + (df_resultados_models['Diferencia_Pases_rl']*df_resultados_models['capacidad_en_peso_equipo_carguio'])\n",
    "\n",
    "# # # Regresion Lineal + 1\n",
    "# # df_resultados_models['Diferencia_Pases_rl+1'] = df_resultados_models['Numero_pases_reglineal+1'] - df_resultados_models['Numero_pases_reglineal']\n",
    "# # df_resultados_models['tonelaje_segun_computadora_rl+1'] = (df_resultados_models['tonelaje_segun_computadora_rl']) + (df_resultados_models['Diferencia_Pases_rl+1']*df_resultados_models['capacidad_en_peso_equipo_carguio'])\n",
    "\n",
    "# # # Regresion Lineal - 1\n",
    "# # df_resultados_models['Diferencia_Pases_rl-1'] = df_resultados_models['Numero_pases_reglineal-1'] - df_resultados_models['Numero_pases_reglineal']\n",
    "# # df_resultados_models['tonelaje_segun_computadora_rl-1'] = (df_resultados_models['tonelaje_segun_computadora_rl']) + (df_resultados_models['Diferencia_Pases_rl-1']*df_resultados_models['capacidad_en_peso_equipo_carguio'])\n",
    "\n",
    "# #Arbol de decision\n",
    "# df_resultados_models['Diferencia_Pases_dt'] = df_resultados_models['Numero_pases_arboldecision'] - df_resultados_models['Numero_pases_real']\n",
    "# df_resultados_models['tonelaje_segun_computadora_dt'] = (df_resultados_models['tonelaje_segun_computadora']) + (df_resultados_models['Diferencia_Pases_dt']*df_resultados_models['capacidad_en_peso_equipo_carguio'])\n",
    "\n",
    "\n",
    "# # Arbol de decision + 1\n",
    "# #df_resultados_models['Diferencia_Pases_dt+1'] = df_resultados_models['Numero_pases_arboldecision+1'] - df_resultados_models['Numero_pases_arboldecision']\n",
    "# #df_resultados_models['tonelaje_segun_computadora_dt+1'] = (df_resultados_models['tonelaje_segun_computadora_dt']) + (df_resultados_models['Diferencia_Pases_dt+1']*df_resultados_models['capacidad_en_peso_equipo_carguio'])\n",
    "\n",
    "# # Arbol de decision - 1\n",
    "# #df_resultados_models['Diferencia_Pases_dt-1'] = df_resultados_models['Numero_pases_arboldecision-1'] - df_resultados_models['Numero_pases_arboldecision']\n",
    "# #df_resultados_models['tonelaje_segun_computadora_dt-1'] = (df_resultados_models['tonelaje_segun_computadora_dt']) + (df_resultados_models['Diferencia_Pases_dt-1']*df_resultados_models['capacidad_en_peso_equipo_carguio'])\n",
    "\n",
    "# # Random Forest \n",
    "# df_resultados_models['Diferencia_Pases_rf'] = df_resultados_models['Numero_pases_rforest'] - df_resultados_models['Numero_pases_real']\n",
    "# df_resultados_models['tonelaje_segun_computadora_rf'] = (df_resultados_models['tonelaje_segun_computadora']) + (df_resultados_models['Diferencia_Pases_rf']*df_resultados_models['capacidad_en_peso_equipo_carguio'])\n",
    "\n",
    "# # Random Forest  + 1\n",
    "# #df_resultados_models['Diferencia_Pases_rf+1'] = df_resultados_models['Numero_pases_rforest+1'] - df_resultados_models['Numero_pases_rforest']\n",
    "# #df_resultados_models['tonelaje_segun_computadora_rf+1'] = (df_resultados_models['tonelaje_segun_computadora_rf']) + (df_resultados_models['Diferencia_Pases_rf+1']*df_resultados_models['capacidad_en_peso_equipo_carguio'])\n",
    "\n",
    "# # Random Forest  - 1\n",
    "# #df_resultados_models['Diferencia_Pases_rf-1'] = df_resultados_models['Numero_pases_rforest-1'] - df_resultados_models['Numero_pases_rforest']\n",
    "# #df_resultados_models['tonelaje_segun_computadora_rf-1'] = (df_resultados_models['tonelaje_segun_computadora_rf']) + (df_resultados_models['Diferencia_Pases_rf-1']*df_resultados_models['capacidad_en_peso_equipo_carguio'])\n",
    "\n",
    "# XGB (eXtreme Gradient Boosting)\n",
    "#df_resultados_models['Diferencia_Pases_xgb'] = df_resultados_models['Numero_pases_xgb'] - df_resultados_models['Numero_pases_real']\n",
    "#df_resultados_models['tonelaje_segun_computadora_xgb'] = (df_resultados_models['tonelaje_segun_computadora']) + (df_resultados_models['Diferencia_Pases_xgb']*df_resultados_models['capacidad_en_peso_equipo_carguio'])\n",
    "\n",
    "# XGB  + 1\n",
    "#df_resultados_models['Diferencia_Pases_xgb+1'] = df_resultados_models['Numero_pases_xgb+1'] - df_resultados_models['Numero_pases_xgb']\n",
    "#df_resultados_models['tonelaje_segun_computadora_xgb+1'] = (df_resultados_models['tonelaje_segun_computadora_xgb']) + (df_resultados_models['Diferencia_Pases_xgb+1']*df_resultados_models['capacidad_en_peso_equipo_carguio'])\n",
    "\n",
    "# XGB - 1\n",
    "#df_resultados_models['Diferencia_Pases_xgb-1'] = df_resultados_models['Numero_pases_xgb-1'] - df_resultados_models['Numero_pases_xgb']\n",
    "#df_resultados_models['tonelaje_segun_computadora_xgb-1'] = (df_resultados_models['tonelaje_segun_computadora_xgb']) + (df_resultados_models['Diferencia_Pases_xgb-1']*df_resultados_models['capacidad_en_peso_equipo_carguio'])\n",
    "\n",
    "# RNN (Redes Neuronales LSTM)\n",
    "df_resultados_models['Diferencia_Pases_rnn'] = df_resultados_models['Numero_pases_rnn'] - df_resultados_models['Numero_pases_real']\n",
    "df_resultados_models['tonelaje_segun_computadora_rnn'] = (df_resultados_models['tonelaje_segun_computadora']) + (df_resultados_models['Diferencia_Pases_rnn']*df_resultados_models['capacidad_en_peso_equipo_carguio'])\n",
    "\n",
    "# # RNN  + 1\n",
    "# #df_resultados_models['Diferencia_Pases_rnn+1'] = df_resultados_models['Numero_pases_rnn+1'] - df_resultados_models['Numero_pases_rnn']\n",
    "# #df_resultados_models['tonelaje_segun_computadora_rnn+1'] = (df_resultados_models['tonelaje_segun_computadora_rnn']) + (df_resultados_models['Diferencia_Pases_rnn+1']*df_resultados_models['capacidad_en_peso_equipo_carguio'])\n",
    "\n",
    "# # RNN - 1\n",
    "# #df_resultados_models['Diferencia_Pases_rnn-1'] = df_resultados_models['Numero_pases_rnn-1'] - df_resultados_models['Numero_pases_rnn']\n",
    "# #df_resultados_models['tonelaje_segun_computadora_rnn-1'] = (df_resultados_models['tonelaje_segun_computadora_rnn']) + (df_resultados_models['Diferencia_Pases_rnn-1']*df_resultados_models['capacidad_en_peso_equipo_carguio'])\n",
    "\n",
    "\n",
    "# #--------------------------------------------------------------------------------------------------------------------------------------------------------------------------------------------------------------------------------\n",
    "# #Hallamos el tiempo ready de cargando de la pala, en cada pase, para que se simule, si incrementa o disminuye pases(en base al modelo)\n",
    "#df_resultados_models['tiempo_ready_cargando_pala_por_pase'] = np.where(df_resultados_models['Numero_pases_real'] == 0, 0, df_resultados_models['tiempo_ready_cargando_pala'] / df_resultados_models['Numero_pases_real'])\n",
    "#df_resultados_models['tiempo_ready_cargando_pala_rl+1'] = df_resultados_models['tiempo_ready_cargando_pala'] + df_resultados_models['tiempo_ready_cargando_pala_por_pase']\n",
    "#df_resultados_models['tiempo_ready_cargando_pala_rl-1'] = df_resultados_models['tiempo_ready_cargando_pala'] - df_resultados_models['tiempo_ready_cargando_pala_por_pase']\n",
    "\n",
    "#-----------------------------------------------------------------------------------------------------------------------------------------------------------------------------------------------------------------------------\n",
    "\n",
    "df_resultados_models.head(5)"
   ]
  },
  {
   "cell_type": "markdown",
   "metadata": {},
   "source": [
    "#### 6. Calculemos la Produccion (Tonelaje movido) en el turno. REAL vs Modelo XGB "
   ]
  },
  {
   "cell_type": "code",
   "execution_count": 63,
   "metadata": {},
   "outputs": [
    {
     "name": "stdout",
     "output_type": "stream",
     "text": [
      "Produccion Real Turno: 140716.07890879476\n",
      "Produccion Real Turno Modelo: 158665.08716748102\n",
      "Incremento de Produccion Modelo sobre Real: 12.755477837269696 %\n"
     ]
    }
   ],
   "source": [
    "# 1. Ordenamos las fechas desde mas antiguo al mas reciente\n",
    "df_resultados_models = df_resultados_models.sort_values(by='tiempo_llegada_camion', ascending=True)\n",
    "\n",
    "# 2. Creamos una nueva columna 'dia' basada en la fecha\n",
    "df_resultados_models['dia'] = df_resultados_models['tiempo_llegada_camion'].dt.date\n",
    "\n",
    "# 3. Asignamos si cada registro pertenece al turno 1 o 2\n",
    "df_resultados_models['turno'] = df_resultados_models['tiempo_llegada_camion'].apply(lambda x: 1 if 7 <= x.hour < 19 else 2)\n",
    "\n",
    "# 4. Agrupar por día y turno, y calcular la suma de tonelaje_segun_computadora_real\n",
    "df_produccion_real = df_resultados_models.groupby(['dia', 'turno'])['tonelaje_segun_computadora'].sum().reset_index()\n",
    "\n",
    "# Agrupar por día y turno, y calcular la suma de tonelaje_segun_computadora_xgb\n",
    "#Reamplazar el Tonelaje, por el Modelo que entrenaste\n",
    "df_produccion_modelo = df_resultados_models.groupby(['dia', 'turno'])['tonelaje_segun_computadora_rnn'].sum().reset_index()\n",
    "\n",
    "#Calculamos la produccion real vs produccion con el modelo\n",
    "produccion_real_mean = df_produccion_real['tonelaje_segun_computadora'].mean()\n",
    "produccion_modelo_mean = df_produccion_modelo['tonelaje_segun_computadora_rnn'].mean()\n",
    "incremento_porcentaje = ((produccion_modelo_mean - produccion_real_mean) / produccion_real_mean) * 100\n",
    "\n",
    "print('Produccion Real Turno:', produccion_real_mean)\n",
    "print('Produccion Real Turno Modelo:', produccion_modelo_mean)\n",
    "print('Incremento de Produccion Modelo sobre Real:', incremento_porcentaje, '%')"
   ]
  },
  {
   "cell_type": "markdown",
   "metadata": {},
   "source": [
    "Vizualizar el cuadro comparativo entre produccion REAL vs  produccion MODELO"
   ]
  },
  {
   "cell_type": "code",
   "execution_count": 156,
   "metadata": {},
   "outputs": [
    {
     "name": "stdout",
     "output_type": "stream",
     "text": [
      "           dia  turno  tonelaje_segun_computadora         dia  turno  tonelaje_segun_computadora_xgb\n",
      "0   2022-01-01      1                20088.200000  2022-01-01      1                    21854.733333\n",
      "1   2022-01-01      2                23964.500000  2022-01-01      2                    24806.975000\n",
      "2   2022-01-02      1                24744.700000  2022-01-02      1                    27846.975000\n",
      "3   2022-01-02      2                25983.800000  2022-01-02      2                    26938.950000\n",
      "4   2022-01-03      1                25068.100000  2022-01-03      1                    26578.841667\n",
      "5   2022-01-03      2                25600.600000  2022-01-03      2                    26759.808333\n",
      "6   2022-01-04      1                26899.700000  2022-01-04      1                    28150.441667\n",
      "7   2022-01-04      2                34805.300000  2022-01-04      2                    35654.408333\n",
      "8   2022-01-05      1                23576.900000  2022-01-05      1                    25155.858333\n",
      "9   2022-01-05      2                24680.500000  2022-01-05      2                    25348.025000\n",
      "10  2022-01-06      1                23139.200000  2022-01-06      1                    23531.525000\n",
      "11  2022-01-06      2                17213.100000  2022-01-06      2                    18381.366667\n",
      "12  2022-01-07      1                22611.700000  2022-01-07      1                    24674.025000\n",
      "13  2022-01-07      2                22705.600000  2022-01-07      2                    24571.391667\n",
      "14  2022-01-08      1                23067.400000  2022-01-08      1                    22834.725000\n",
      "15  2022-01-08      2                22575.900000  2022-01-08      2                    23944.858333\n",
      "16  2022-01-09      1                23499.400000  2022-01-09      1                    26409.941667\n",
      "17  2022-01-09      2                27220.700000  2022-01-09      2                    27799.608333\n",
      "18  2022-01-10      1                25451.300000  2022-01-10      1                    26936.050000\n",
      "19  2022-01-10      2                28521.600000  2022-01-10      2                    30819.025000\n",
      "20  2022-01-11      1                25645.200000  2022-01-11      1                    28837.425000\n",
      "21  2022-01-11      2                26425.300000  2022-01-11      2                    28061.933333\n",
      "22  2022-01-12      1                23160.400000  2022-01-12      1                    25049.358333\n",
      "23  2022-01-12      2                25896.700000  2022-01-12      2                    27370.808333\n",
      "24  2022-01-13      1                21341.100000  2022-01-13      1                    23396.050000\n",
      "25  2022-01-13      2                20557.000000  2022-01-13      2                    23225.858333\n",
      "26  2022-01-14      1                21475.300000  2022-01-14      1                    21651.933333\n",
      "27  2022-01-14      2                25288.400000  2022-01-14      2                    27833.941667\n",
      "28  2022-01-15      1                22568.300000  2022-01-15      1                    23420.725000\n",
      "29  2022-01-15      2                21033.000000  2022-01-15      2                    22669.533333\n",
      "30  2022-01-16      1                17758.600000  2022-01-16      1                    19411.766667\n",
      "31  2022-01-16      2                29123.500000  2022-01-16      2                    34439.041667\n",
      "32  2022-01-17      1                19621.900000  2022-01-17      1                    20388.683333\n",
      "33  2022-01-17      2                25984.200000  2022-01-17      2                    29754.741667\n",
      "34  2022-01-18      1                23318.500000  2022-01-18      1                    24731.866667\n",
      "35  2022-01-18      2                31736.800000  2022-01-18      2                    36502.441667\n",
      "36  2022-01-19      1                27944.900000  2022-01-19      1                    30358.166667\n",
      "37  2022-01-19      2                19899.100000  2022-01-19      2                    22162.266667\n",
      "38  2022-01-20      1                19717.400000  2022-01-20      1                    22776.508333\n",
      "39  2022-01-20      2                24959.000000  2022-01-20      2                    26784.691667\n",
      "40  2022-01-21      1                20783.000000  2022-01-21      1                    21889.483333\n",
      "41  2022-01-21      2                16164.200000  2022-01-21      2                    16351.625000\n",
      "42  2022-01-22      1                18072.900000  2022-01-22      1                    18511.216667\n",
      "43  2022-01-22      2                20669.500000  2022-01-22      2                    21366.133333\n",
      "44  2022-01-23      1                17022.400000  2022-01-23      1                    18049.825000\n",
      "45  2022-01-23      2                24818.200000  2022-01-23      2                    24722.358333\n",
      "46  2022-01-24      1                23516.800000  2022-01-24      1                    24370.066667\n",
      "47  2022-01-24      2                28192.300000  2022-01-24      2                    28787.250000\n",
      "48  2022-01-25      1                25336.200000  2022-01-25      1                    27717.041667\n",
      "49  2022-01-25      2                22431.700000  2022-01-25      2                    23599.866667\n",
      "50  2022-01-26      1                26196.300000  2022-01-26      1                    28543.775000\n",
      "51  2022-01-26      2                28094.700000  2022-01-26      2                    30808.708333\n",
      "52  2022-01-27      1                23504.800000  2022-01-27      1                    24635.641667\n",
      "53  2022-01-27      2                29001.900000  2022-01-27      2                    29104.375000\n",
      "54  2022-01-28      1                25045.200000  2022-01-28      1                    26020.200000\n",
      "55  2022-01-28      2                23860.800000  2022-01-28      2                    24515.008333\n",
      "56  2022-01-29      1                30514.200000  2022-01-29      1                    30014.991667\n",
      "57  2022-01-29      2                24319.500000  2022-01-29      2                    25196.875000\n",
      "58  2022-01-30      1                25361.600000  2022-01-30      1                    27328.775000\n",
      "59  2022-01-30      2                24599.200000  2022-01-30      2                    24653.158333\n",
      "60  2022-01-31      1                25299.000000  2022-01-31      1                    25913.850000\n",
      "61  2022-01-31      2                31262.900000  2022-01-31      2                    31336.266667\n",
      "62  2022-02-01      1                29943.600000  2022-02-01      1                    32350.033333\n",
      "63  2022-02-01      2                23715.700000  2022-02-01      2                    23269.016667\n",
      "64  2022-02-02      1                15582.300000  2022-02-02      1                    15482.991667\n",
      "65  2022-02-02      2                29708.700000  2022-02-02      2                    30771.025000\n",
      "66  2022-02-03      1                25092.600000  2022-02-03      1                    26350.716667\n",
      "67  2022-02-03      2                25278.600000  2022-02-03      2                    27897.358333\n",
      "68  2022-02-04      1                24126.500000  2022-02-04      1                    26832.883333\n",
      "69  2022-02-04      2                21613.000000  2022-02-04      2                    23990.425000\n",
      "70  2022-02-05      1                34467.300000  2022-02-05      1                    36533.091667\n",
      "71  2022-02-05      2                20025.100000  2022-02-05      2                    20806.633333\n",
      "72  2022-02-06      1                27491.700000  2022-02-06      1                    29444.075000\n",
      "73  2022-02-06      2                22360.800000  2022-02-06      2                    25826.341667\n",
      "74  2022-02-07      1                31513.100000  2022-02-07      1                    33207.208333\n",
      "75  2022-02-07      2                26003.000000  2022-02-07      2                    28182.900000\n",
      "76  2022-02-08      1                29024.000000  2022-02-08      1                    29951.525000\n",
      "77  2022-02-08      2                24476.300000  2022-02-08      2                    25873.725000\n",
      "78  2022-02-09      1                30458.900000  2022-02-09      1                    32441.175000\n",
      "79  2022-02-09      2                26685.400000  2022-02-09      2                    27531.933333\n",
      "80  2022-02-10      1                29672.900000  2022-02-10      1                    30912.058333\n",
      "81  2022-02-10      2                27874.500000  2022-02-10      2                    29369.400000\n",
      "82  2022-02-11      1                28738.700000  2022-02-11      1                    30917.758333\n",
      "83  2022-02-11      2                25594.500000  2022-02-11      2                    28119.350000\n",
      "84  2022-02-12      1                28580.600000  2022-02-12      1                    31148.766667\n",
      "85  2022-02-12      2                28785.300000  2022-02-12      2                    30436.141667\n",
      "86  2022-02-13      1                24537.200000  2022-02-13      1                    26190.316667\n",
      "87  2022-02-13      2                31293.700000  2022-02-13      2                    32246.225000\n",
      "88  2022-02-14      1                28360.100000  2022-02-14      1                    31662.275000\n",
      "89  2022-02-14      2                35001.800000  2022-02-14      2                    34342.691667\n"
     ]
    }
   ],
   "source": [
    "# Concatenar los DataFrames a lo largo de las columnas (axis=1)\n",
    "df_combined = pd.concat([df_produccion_real, df_produccion_modelo], axis=1)\n",
    "\n",
    "# Imprimir el DataFrame combinado\n",
    "print(df_combined.head(90))"
   ]
  },
  {
   "cell_type": "markdown",
   "metadata": {},
   "source": [
    "#### 7. Calculemos las Productividades Operativas por Hora"
   ]
  },
  {
   "cell_type": "markdown",
   "metadata": {},
   "source": [
    "#### **Acarreo**"
   ]
  },
  {
   "cell_type": "code",
   "execution_count": 157,
   "metadata": {},
   "outputs": [],
   "source": [
    "# Asegurarse de que el denominador no sea cero\n",
    "denominador_acarreo = (df_resultados_models['tiempo_ready_llegada_esperando'] +\n",
    "               df_resultados_models['tiempo_ready_esperando_cuadra'] +\n",
    "               df_resultados_models['tiempo_ready_cuadra_cuadrado'] +\n",
    "               df_resultados_models['tiempo_ready_cuadrado_cargado'] +\n",
    "               df_resultados_models['tiempo_ready_carga_acarreo'] +\n",
    "               df_resultados_models['tiempo_ready_acarreo_cola'] +\n",
    "               df_resultados_models['tiempo_ready_cola_retro'] +\n",
    "               df_resultados_models['tiempo_ready_retro_listo'] +\n",
    "               df_resultados_models['tiempo_ready_listo_descarga'] +\n",
    "               df_resultados_models['tiempo_ready_descarga_viajandovacio']) / 3600"
   ]
  },
  {
   "cell_type": "markdown",
   "metadata": {},
   "source": [
    "Regresion Lineal"
   ]
  },
  {
   "cell_type": "code",
   "execution_count": 72,
   "metadata": {},
   "outputs": [],
   "source": [
    "# Evitar la división por cero y asignar 0 cuando denominador es cero\n",
    "df_resultados_models['productividad_operativa_acarreo_tn_h_rl'] = np.where(denominador_acarreo == 0, 0, df_resultados_models['tonelaje_segun_computadora_rl'] / denominador_acarreo)"
   ]
  },
  {
   "cell_type": "markdown",
   "metadata": {},
   "source": [
    "Regresion Lineal + 1"
   ]
  },
  {
   "cell_type": "code",
   "execution_count": 120,
   "metadata": {},
   "outputs": [],
   "source": [
    "# Evitar la división por cero y asignar 0 cuando denominador es cero\n",
    "df_resultados_models['productividad_operativa_acarreo_tn_h_rl+1'] = np.where(denominador_acarreo == 0, 0, df_resultados_models['tonelaje_segun_computadora_rl+1'] / denominador_acarreo)"
   ]
  },
  {
   "cell_type": "markdown",
   "metadata": {},
   "source": [
    "Regresion Lineal - 1"
   ]
  },
  {
   "cell_type": "code",
   "execution_count": 121,
   "metadata": {},
   "outputs": [],
   "source": [
    "# Evitar la división por cero y asignar 0 cuando denominador es cero\n",
    "df_resultados_models['productividad_operativa_acarreo_tn_h_rl-1'] = np.where(denominador_acarreo == 0, 0, df_resultados_models['tonelaje_segun_computadora_rl-1'] / denominador_acarreo)"
   ]
  },
  {
   "cell_type": "markdown",
   "metadata": {},
   "source": [
    "Arbol de decision"
   ]
  },
  {
   "cell_type": "code",
   "execution_count": 73,
   "metadata": {},
   "outputs": [],
   "source": [
    "# Evitar la división por cero y asignar 0 cuando denominador es cero\n",
    "df_resultados_models['productividad_operativa_acarreo_tn_h_dt'] = np.where(denominador_acarreo == 0, 0, df_resultados_models['tonelaje_segun_computadora_dt'] / denominador_acarreo)"
   ]
  },
  {
   "cell_type": "markdown",
   "metadata": {},
   "source": [
    "Arbol de decision + 1"
   ]
  },
  {
   "cell_type": "code",
   "execution_count": 28,
   "metadata": {},
   "outputs": [],
   "source": [
    "# Evitar la división por cero y asignar 0 cuando denominador es cero\n",
    "df_resultados_models['productividad_operativa_acarreo_tn_h_dt+1'] = np.where(denominador_acarreo == 0, 0, df_resultados_models['tonelaje_segun_computadora_dt+1'] / denominador_acarreo)"
   ]
  },
  {
   "cell_type": "markdown",
   "metadata": {},
   "source": [
    "Arbol de decision - 1"
   ]
  },
  {
   "cell_type": "code",
   "execution_count": 29,
   "metadata": {},
   "outputs": [],
   "source": [
    "# Evitar la división por cero y asignar 0 cuando denominador es cero\n",
    "df_resultados_models['productividad_operativa_acarreo_tn_h_dt-1'] = np.where(denominador_acarreo == 0, 0, df_resultados_models['tonelaje_segun_computadora_dt-1'] / denominador_acarreo)"
   ]
  },
  {
   "cell_type": "markdown",
   "metadata": {},
   "source": [
    "Random Forest "
   ]
  },
  {
   "cell_type": "code",
   "execution_count": 74,
   "metadata": {},
   "outputs": [],
   "source": [
    "# Evitar la división por cero y asignar 0 cuando denominador es cero\n",
    "df_resultados_models['productividad_operativa_acarreo_tn_h_rforest'] = np.where(denominador_acarreo == 0, 0, df_resultados_models['tonelaje_segun_computadora_rf'] / denominador_acarreo)"
   ]
  },
  {
   "cell_type": "markdown",
   "metadata": {},
   "source": [
    "Random Forest  + 1"
   ]
  },
  {
   "cell_type": "code",
   "execution_count": 31,
   "metadata": {},
   "outputs": [],
   "source": [
    "# Evitar la división por cero y asignar 0 cuando denominador es cero\n",
    "df_resultados_models['productividad_operativa_acarreo_tn_h_rforest+1'] = np.where(denominador_acarreo == 0, 0, df_resultados_models['tonelaje_segun_computadora_rf+1'] / denominador_acarreo)"
   ]
  },
  {
   "cell_type": "markdown",
   "metadata": {},
   "source": [
    "Random Forest  - 1"
   ]
  },
  {
   "cell_type": "code",
   "execution_count": 32,
   "metadata": {},
   "outputs": [],
   "source": [
    "# Evitar la división por cero y asignar 0 cuando denominador es cero\n",
    "df_resultados_models['productividad_operativa_acarreo_tn_h_rforest-1'] = np.where(denominador_acarreo == 0, 0, df_resultados_models['tonelaje_segun_computadora_rf-1'] / denominador_acarreo)"
   ]
  },
  {
   "cell_type": "markdown",
   "metadata": {},
   "source": [
    "XGB"
   ]
  },
  {
   "cell_type": "code",
   "execution_count": 158,
   "metadata": {},
   "outputs": [],
   "source": [
    "# Evitar la división por cero y asignar 0 cuando denominador es cero\n",
    "df_resultados_models['productividad_operativa_acarreo_tn_h_xgb'] = np.where(denominador_acarreo == 0, 0, df_resultados_models['tonelaje_segun_computadora_xgb'] / denominador_acarreo)"
   ]
  },
  {
   "cell_type": "markdown",
   "metadata": {},
   "source": [
    "XGB + 1"
   ]
  },
  {
   "cell_type": "code",
   "execution_count": 147,
   "metadata": {},
   "outputs": [],
   "source": [
    "# Evitar la división por cero y asignar 0 cuando denominador es cero\n",
    "df_resultados_models['productividad_operativa_acarreo_tn_h_xgb+1'] = np.where(denominador_acarreo == 0, 0, df_resultados_models['tonelaje_segun_computadora_xgb+1'] / denominador_acarreo)"
   ]
  },
  {
   "cell_type": "markdown",
   "metadata": {},
   "source": [
    "XGB - 1"
   ]
  },
  {
   "cell_type": "code",
   "execution_count": 148,
   "metadata": {},
   "outputs": [],
   "source": [
    "# Evitar la división por cero y asignar 0 cuando denominador es cero\n",
    "df_resultados_models['productividad_operativa_acarreo_tn_h_xgb-1'] = np.where(denominador_acarreo == 0, 0, df_resultados_models['tonelaje_segun_computadora_xgb-1'] / denominador_acarreo)"
   ]
  },
  {
   "cell_type": "markdown",
   "metadata": {},
   "source": [
    "RNN (Redes Neuronales LSTM)"
   ]
  },
  {
   "cell_type": "code",
   "execution_count": 76,
   "metadata": {},
   "outputs": [],
   "source": [
    "# Evitar la división por cero y asignar 0 cuando denominador es cero\n",
    "df_resultados_models['productividad_operativa_acarreo_tn_h_rnn'] = np.where(denominador_acarreo == 0, 0, df_resultados_models['tonelaje_segun_computadora_rnn'] / denominador_acarreo)"
   ]
  },
  {
   "cell_type": "markdown",
   "metadata": {},
   "source": [
    "RNN + 1"
   ]
  },
  {
   "cell_type": "code",
   "execution_count": 37,
   "metadata": {},
   "outputs": [],
   "source": [
    "# Evitar la división por cero y asignar 0 cuando denominador es cero\n",
    "df_resultados_models['productividad_operativa_acarreo_tn_h_rnn+1'] = np.where(denominador_acarreo == 0, 0, df_resultados_models['tonelaje_segun_computadora_rnn+1'] / denominador_acarreo)"
   ]
  },
  {
   "cell_type": "markdown",
   "metadata": {},
   "source": [
    "RNN - 1"
   ]
  },
  {
   "cell_type": "code",
   "execution_count": 38,
   "metadata": {},
   "outputs": [],
   "source": [
    "# Evitar la división por cero y asignar 0 cuando denominador es cero\n",
    "df_resultados_models['productividad_operativa_acarreo_tn_h_rnn-1'] = np.where(denominador_acarreo == 0, 0, df_resultados_models['tonelaje_segun_computadora_rnn-1'] / denominador_acarreo)"
   ]
  },
  {
   "cell_type": "markdown",
   "metadata": {},
   "source": [
    "#### **Carguio**"
   ]
  },
  {
   "cell_type": "code",
   "execution_count": 160,
   "metadata": {},
   "outputs": [],
   "source": [
    "# Asegurarse de que el denominador no sea cero\n",
    "denominador_carguio_normal = (df_resultados_models['tiempo_ready_cargando_pala'] +\n",
    "               df_resultados_models['tiempo_ready_esperando_pala']) / 3600\n",
    "\n",
    "#---------------------------------------------------------------------------------------------------------------------------------------------------\n",
    "\n",
    "# # Asegurarse de que el denominador no sea cero\n",
    "# denominador_carguio_mas1 = (df_resultados_models['tiempo_ready_cargando_pala_rl+1'] +\n",
    "#                df_resultados_models['tiempo_ready_esperando_pala']) / 3600\n",
    "\n",
    "# #------------------------------------------------------------------------------------------------------------------------------------------------\n",
    "\n",
    "# # Asegurarse de que el denominador no sea cero\n",
    "# denominador_carguio_menos1 = (df_resultados_models['tiempo_ready_cargando_pala_rl-1'] +\n",
    "#                df_resultados_models['tiempo_ready_esperando_pala']) / 3600"
   ]
  },
  {
   "cell_type": "markdown",
   "metadata": {},
   "source": [
    "Regresion Lineal"
   ]
  },
  {
   "cell_type": "code",
   "execution_count": 78,
   "metadata": {},
   "outputs": [],
   "source": [
    "# Evitar la división por cero y asignar 0 cuando denominador es cero\n",
    "df_resultados_models['productividad_operativa_carguio_tn_h_rl'] = np.where(denominador_carguio_normal == 0, 0, df_resultados_models['tonelaje_segun_computadora_rl'] / denominador_carguio_normal)"
   ]
  },
  {
   "cell_type": "markdown",
   "metadata": {},
   "source": [
    "Regresion Lineal + 1"
   ]
  },
  {
   "cell_type": "code",
   "execution_count": 124,
   "metadata": {},
   "outputs": [],
   "source": [
    "# Evitar la división por cero y asignar 0 cuando denominador es cero\n",
    "df_resultados_models['productividad_operativa_carguio_tn_h_rl+1'] = np.where(denominador_carguio_mas1 == 0, 0, df_resultados_models['tonelaje_segun_computadora_rl+1'] / denominador_carguio_mas1)"
   ]
  },
  {
   "cell_type": "markdown",
   "metadata": {},
   "source": [
    "Regresion Lineal - 1"
   ]
  },
  {
   "cell_type": "code",
   "execution_count": 125,
   "metadata": {},
   "outputs": [],
   "source": [
    "# Evitar la división por cero y asignar 0 cuando denominador es cero\n",
    "df_resultados_models['productividad_operativa_carguio_tn_h_rl-1'] = np.where(denominador_carguio_menos1 == 0, 0, df_resultados_models['tonelaje_segun_computadora_rl-1'] / denominador_carguio_menos1)"
   ]
  },
  {
   "cell_type": "markdown",
   "metadata": {},
   "source": [
    "Arbol de decision"
   ]
  },
  {
   "cell_type": "code",
   "execution_count": 79,
   "metadata": {},
   "outputs": [],
   "source": [
    "# Evitar la división por cero y asignar 0 cuando denominador es cero\n",
    "df_resultados_models['productividad_operativa_carguio_tn_h_dt'] = np.where(denominador_carguio_normal == 0, 0, df_resultados_models['tonelaje_segun_computadora_dt'] / denominador_carguio_normal)"
   ]
  },
  {
   "cell_type": "markdown",
   "metadata": {},
   "source": [
    "Arbol de decision + 1"
   ]
  },
  {
   "cell_type": "code",
   "execution_count": 81,
   "metadata": {},
   "outputs": [],
   "source": [
    "# Evitar la división por cero y asignar 0 cuando denominador es cero\n",
    "df_resultados_models['productividad_operativa_carguio_tn_h_dt+1'] = np.where(denominador_carguio_mas1 == 0, 0, df_resultados_models['tonelaje_segun_computadora_dt+1'] / denominador_carguio_mas1)"
   ]
  },
  {
   "cell_type": "markdown",
   "metadata": {},
   "source": [
    "Arbol de decision - 1"
   ]
  },
  {
   "cell_type": "code",
   "execution_count": 45,
   "metadata": {},
   "outputs": [],
   "source": [
    "# Evitar la división por cero y asignar 0 cuando denominador es cero\n",
    "df_resultados_models['productividad_operativa_carguio_tn_h_dt-1'] = np.where(denominador_carguio_menos1 == 0, 0, df_resultados_models['tonelaje_segun_computadora_dt-1'] / denominador_carguio_menos1)"
   ]
  },
  {
   "cell_type": "markdown",
   "metadata": {},
   "source": [
    "Random Forest"
   ]
  },
  {
   "cell_type": "code",
   "execution_count": 82,
   "metadata": {},
   "outputs": [],
   "source": [
    "# Evitar la división por cero y asignar 0 cuando denominador es cero\n",
    "df_resultados_models['productividad_operativa_carguio_tn_h_rforest'] = np.where(denominador_carguio_normal == 0, 0, df_resultados_models['tonelaje_segun_computadora_rf'] / denominador_carguio_normal)"
   ]
  },
  {
   "cell_type": "markdown",
   "metadata": {},
   "source": [
    "Random Forest + 1"
   ]
  },
  {
   "cell_type": "code",
   "execution_count": 47,
   "metadata": {},
   "outputs": [],
   "source": [
    "# Evitar la división por cero y asignar 0 cuando denominador es cero\n",
    "df_resultados_models['productividad_operativa_carguio_tn_h_rforest+1'] = np.where(denominador_carguio_mas1 == 0, 0, df_resultados_models['tonelaje_segun_computadora_rf+1'] / denominador_carguio_mas1)"
   ]
  },
  {
   "cell_type": "markdown",
   "metadata": {},
   "source": [
    "Random Forest - 1"
   ]
  },
  {
   "cell_type": "code",
   "execution_count": 48,
   "metadata": {},
   "outputs": [],
   "source": [
    "# Evitar la división por cero y asignar 0 cuando denominador es cero\n",
    "df_resultados_models['productividad_operativa_carguio_tn_h_rforest-1'] = np.where(denominador_carguio_menos1 == 0, 0, df_resultados_models['tonelaje_segun_computadora_rf-1'] / denominador_carguio_menos1)"
   ]
  },
  {
   "cell_type": "markdown",
   "metadata": {},
   "source": [
    "XGB"
   ]
  },
  {
   "cell_type": "code",
   "execution_count": 161,
   "metadata": {},
   "outputs": [],
   "source": [
    "# Evitar la división por cero y asignar 0 cuando denominador es cero\n",
    "df_resultados_models['productividad_operativa_carguio_tn_h_xgb'] = np.where(denominador_carguio_normal == 0, 0, df_resultados_models['tonelaje_segun_computadora_xgb'] / denominador_carguio_normal)"
   ]
  },
  {
   "cell_type": "markdown",
   "metadata": {},
   "source": [
    "XGB + 1"
   ]
  },
  {
   "cell_type": "code",
   "execution_count": 151,
   "metadata": {},
   "outputs": [],
   "source": [
    "# Evitar la división por cero y asignar 0 cuando denominador es cero\n",
    "df_resultados_models['productividad_operativa_carguio_tn_h_xgb+1'] = np.where(denominador_carguio_mas1 == 0, 0, df_resultados_models['tonelaje_segun_computadora_xgb+1'] / denominador_carguio_mas1)"
   ]
  },
  {
   "cell_type": "markdown",
   "metadata": {},
   "source": [
    "XGB - 1"
   ]
  },
  {
   "cell_type": "code",
   "execution_count": 152,
   "metadata": {},
   "outputs": [],
   "source": [
    "# Evitar la división por cero y asignar 0 cuando denominador es cero\n",
    "df_resultados_models['productividad_operativa_carguio_tn_h_xgb-1'] = np.where(denominador_carguio_menos1 == 0, 0, df_resultados_models['tonelaje_segun_computadora_xgb-1'] / denominador_carguio_menos1)"
   ]
  },
  {
   "cell_type": "markdown",
   "metadata": {},
   "source": [
    "RNN (Redes Neuronales LSTM)"
   ]
  },
  {
   "cell_type": "code",
   "execution_count": 84,
   "metadata": {},
   "outputs": [],
   "source": [
    "# Evitar la división por cero y asignar 0 cuando denominador es cero\n",
    "df_resultados_models['productividad_operativa_carguio_tn_h_rnn'] = np.where(denominador_carguio_normal == 0, 0, df_resultados_models['tonelaje_segun_computadora_rnn'] / denominador_carguio_normal)"
   ]
  },
  {
   "cell_type": "markdown",
   "metadata": {},
   "source": [
    "RNN + 1"
   ]
  },
  {
   "cell_type": "code",
   "execution_count": 53,
   "metadata": {},
   "outputs": [],
   "source": [
    "# Evitar la división por cero y asignar 0 cuando denominador es cero\n",
    "df_resultados_models['productividad_operativa_carguio_tn_h_rnn+1'] = np.where(denominador_carguio_mas1 == 0, 0, df_resultados_models['tonelaje_segun_computadora_rnn+1'] / denominador_carguio_mas1)"
   ]
  },
  {
   "cell_type": "markdown",
   "metadata": {},
   "source": [
    "RNN - 1"
   ]
  },
  {
   "cell_type": "code",
   "execution_count": 54,
   "metadata": {},
   "outputs": [],
   "source": [
    "# Evitar la división por cero y asignar 0 cuando denominador es cero\n",
    "df_resultados_models['productividad_operativa_carguio_tn_h_rnn-1'] = np.where(denominador_carguio_menos1 == 0, 0, df_resultados_models['tonelaje_segun_computadora_rnn-1'] / denominador_carguio_menos1)"
   ]
  },
  {
   "cell_type": "markdown",
   "metadata": {},
   "source": [
    "Agregamos las Productividades, si se hubiesen utilizados los Modelos con variaciones (+ 1, -1)"
   ]
  },
  {
   "cell_type": "markdown",
   "metadata": {},
   "source": [
    "NOTA Importante :  La productividad es matematicamente la division de toneladas movidas / tiempos readys, por ello a mayor tonelaje movidos (1 pase adicional)\n",
    "no necesariamente indicaria, mayor productividad, puesto que el tiempo podria aumentar, ya que por cada pase adicional se tendria mas tiempo, o viceversa en caso \n",
    "sea un pase menos. En el presente analisis, los tiempos readys estan siendo constantes, y lo que si estamos variando es los toneladas movidas, si se tiene + - 1 pase de\n",
    "lo recomendado por el modelo"
   ]
  },
  {
   "cell_type": "markdown",
   "metadata": {},
   "source": [
    "Si el modelo recomienda + 1 adicional, se esta considerando que haga con los mismo tiempos readys, y se obtendra la productividad\n",
    "Si el modelo recomienda - 1 adicional, se esta considerando que haga con los mismo tiempos readys, y se obtendra la productividad\n",
    "Si se aumenta + 1 adicional de lo recomendado por el modelo, se esta considerando que haga con los mismo tiempos readys, y se obtendra la productividad\n",
    "Si se aumenta + 1 adicional de lo recomendado por el modelo, se esta considerando que haga con los mismo tiempos readys, y se obtendra la productividad\n",
    "\n",
    "Para solucionar este seria conveniente crear un modelo:  Predecir tiempos readys, en base a los pases que se ejecutan(en carguio), porque eso repercute en todo el ciclo."
   ]
  },
  {
   "cell_type": "markdown",
   "metadata": {},
   "source": [
    "### 8. Resultados de Impacto en la productividades"
   ]
  },
  {
   "cell_type": "markdown",
   "metadata": {},
   "source": [
    "#### 8.1 Productividad Registro Por registro"
   ]
  },
  {
   "cell_type": "markdown",
   "metadata": {},
   "source": [
    "#### **Productividad Acarreo real**"
   ]
  },
  {
   "cell_type": "code",
   "execution_count": 85,
   "metadata": {},
   "outputs": [
    {
     "name": "stdout",
     "output_type": "stream",
     "text": [
      "34558819.7 - 876.6075295473529\n"
     ]
    }
   ],
   "source": [
    "print(df_resultados_models['tonelaje_segun_computadora'].sum() ,\"-\" ,df_resultados_models['productividad_operativa_acarreo_tn_h'].mean())"
   ]
  },
  {
   "cell_type": "markdown",
   "metadata": {},
   "source": [
    "Productividad Acarreo reglineal"
   ]
  },
  {
   "cell_type": "code",
   "execution_count": 86,
   "metadata": {},
   "outputs": [
    {
     "name": "stdout",
     "output_type": "stream",
     "text": [
      "37036239.38333333 - 930.8019190916331\n"
     ]
    }
   ],
   "source": [
    "print(df_resultados_models['tonelaje_segun_computadora_rl'].sum(), \"-\" , df_resultados_models['productividad_operativa_acarreo_tn_h_rl'].mean())"
   ]
  },
  {
   "cell_type": "markdown",
   "metadata": {},
   "source": [
    "Productividad Acarreo reglineal + 1"
   ]
  },
  {
   "cell_type": "code",
   "execution_count": 128,
   "metadata": {},
   "outputs": [
    {
     "name": "stdout",
     "output_type": "stream",
     "text": [
      "43239781.40833333 - 1090.9604765854806\n"
     ]
    }
   ],
   "source": [
    "print(df_resultados_models['tonelaje_segun_computadora_rl+1'].sum(), \"-\" , df_resultados_models['productividad_operativa_acarreo_tn_h_rl+1'].mean())"
   ]
  },
  {
   "cell_type": "markdown",
   "metadata": {},
   "source": [
    "Productividad Acarreo reglineal - 1"
   ]
  },
  {
   "cell_type": "code",
   "execution_count": 129,
   "metadata": {},
   "outputs": [
    {
     "name": "stdout",
     "output_type": "stream",
     "text": [
      "30846828.458333336 - 775.0649244919259\n"
     ]
    }
   ],
   "source": [
    "print(df_resultados_models['tonelaje_segun_computadora_rl-1'].sum(), \"-\" , df_resultados_models['productividad_operativa_acarreo_tn_h_rl-1'].mean())"
   ]
  },
  {
   "cell_type": "markdown",
   "metadata": {},
   "source": [
    "Productividad Acarreo arbol de decision"
   ]
  },
  {
   "cell_type": "code",
   "execution_count": 87,
   "metadata": {},
   "outputs": [
    {
     "name": "stdout",
     "output_type": "stream",
     "text": [
      "38029048.70833333 - 959.55239333172\n"
     ]
    }
   ],
   "source": [
    "print(df_resultados_models['tonelaje_segun_computadora_dt'].sum(), \"-\" , df_resultados_models['productividad_operativa_acarreo_tn_h_dt'].mean())"
   ]
  },
  {
   "cell_type": "markdown",
   "metadata": {},
   "source": [
    "Productividad Acarreo arbol de decision + 1"
   ]
  },
  {
   "cell_type": "code",
   "execution_count": 60,
   "metadata": {},
   "outputs": [
    {
     "name": "stdout",
     "output_type": "stream",
     "text": [
      "43063989.20833333 - 1087.296328585267\n"
     ]
    }
   ],
   "source": [
    "print(df_resultados_models['tonelaje_segun_computadora_dt+1'].sum(), \"-\" , df_resultados_models['productividad_operativa_acarreo_tn_h_dt+1'].mean())"
   ]
  },
  {
   "cell_type": "markdown",
   "metadata": {},
   "source": [
    "Productividad Acarreo arbol de decision - 1"
   ]
  },
  {
   "cell_type": "code",
   "execution_count": 61,
   "metadata": {},
   "outputs": [
    {
     "name": "stdout",
     "output_type": "stream",
     "text": [
      "30671036.258333337 - 771.4007764917125\n"
     ]
    }
   ],
   "source": [
    "print(df_resultados_models['tonelaje_segun_computadora_dt-1'].sum(), \"-\" , df_resultados_models['productividad_operativa_acarreo_tn_h_dt-1'].mean())"
   ]
  },
  {
   "cell_type": "markdown",
   "metadata": {},
   "source": [
    "Productividad Acarreo Random Forest"
   ]
  },
  {
   "cell_type": "code",
   "execution_count": 88,
   "metadata": {},
   "outputs": [
    {
     "name": "stdout",
     "output_type": "stream",
     "text": [
      "37900278.29166666 - 955.9916022575366\n"
     ]
    }
   ],
   "source": [
    "print(df_resultados_models['tonelaje_segun_computadora_rf'].sum(), \"-\" , df_resultados_models['productividad_operativa_acarreo_tn_h_rforest'].mean())"
   ]
  },
  {
   "cell_type": "markdown",
   "metadata": {},
   "source": [
    "Productividad Acarreo Random Forest + 1"
   ]
  },
  {
   "cell_type": "code",
   "execution_count": 63,
   "metadata": {},
   "outputs": [
    {
     "name": "stdout",
     "output_type": "stream",
     "text": [
      "43070115.0 - 1087.4333538180565\n"
     ]
    }
   ],
   "source": [
    "print(df_resultados_models['tonelaje_segun_computadora_rf+1'].sum(), \"-\" , df_resultados_models['productividad_operativa_acarreo_tn_h_rforest+1'].mean())"
   ]
  },
  {
   "cell_type": "markdown",
   "metadata": {},
   "source": [
    "Productividad Acarreo Random Forest - 1"
   ]
  },
  {
   "cell_type": "code",
   "execution_count": 64,
   "metadata": {},
   "outputs": [
    {
     "name": "stdout",
     "output_type": "stream",
     "text": [
      "30677162.05 - 771.5378017245017\n"
     ]
    }
   ],
   "source": [
    "print(df_resultados_models['tonelaje_segun_computadora_rf-1'].sum(), \"-\" , df_resultados_models['productividad_operativa_acarreo_tn_h_rforest-1'].mean())"
   ]
  },
  {
   "cell_type": "markdown",
   "metadata": {},
   "source": [
    "Productividad Acarreo XGB"
   ]
  },
  {
   "cell_type": "code",
   "execution_count": 162,
   "metadata": {},
   "outputs": [
    {
     "name": "stdout",
     "output_type": "stream",
     "text": [
      "36718764.88333333 - 926.706588394554\n"
     ]
    }
   ],
   "source": [
    "print(df_resultados_models['tonelaje_segun_computadora_xgb'].sum(), \"-\" , df_resultados_models['productividad_operativa_acarreo_tn_h_xgb'].mean())"
   ]
  },
  {
   "cell_type": "markdown",
   "metadata": {},
   "source": [
    "Productividad Acarreo XGB + 1"
   ]
  },
  {
   "cell_type": "code",
   "execution_count": 154,
   "metadata": {},
   "outputs": [
    {
     "name": "stdout",
     "output_type": "stream",
     "text": [
      "42915241.358333334 - 1084.6543644413316\n"
     ]
    }
   ],
   "source": [
    "print(df_resultados_models['tonelaje_segun_computadora_xgb+1'].sum(), \"-\" , df_resultados_models['productividad_operativa_acarreo_tn_h_xgb+1'].mean())"
   ]
  },
  {
   "cell_type": "markdown",
   "metadata": {},
   "source": [
    "Productividad Acarreo XGB - 1"
   ]
  },
  {
   "cell_type": "code",
   "execution_count": 67,
   "metadata": {},
   "outputs": [
    {
     "name": "stdout",
     "output_type": "stream",
     "text": [
      "30491663.625000007 - 767.1638600584974\n"
     ]
    }
   ],
   "source": [
    "print(df_resultados_models['tonelaje_segun_computadora_xgb-1'].sum(), \"-\" , df_resultados_models['productividad_operativa_acarreo_tn_h_xgb-1'].mean())"
   ]
  },
  {
   "cell_type": "markdown",
   "metadata": {},
   "source": [
    "Productividad Acarreo RNN (Redes Neuronales LSTM)"
   ]
  },
  {
   "cell_type": "code",
   "execution_count": 90,
   "metadata": {},
   "outputs": [
    {
     "name": "stdout",
     "output_type": "stream",
     "text": [
      "37494234.358333334 - 946.7391615107783\n"
     ]
    }
   ],
   "source": [
    "print(df_resultados_models['tonelaje_segun_computadora_rnn'].sum(), \"-\" , df_resultados_models['productividad_operativa_acarreo_tn_h_rnn'].mean())"
   ]
  },
  {
   "cell_type": "markdown",
   "metadata": {},
   "source": [
    "Productividad Acarreo RNN + 1"
   ]
  },
  {
   "cell_type": "code",
   "execution_count": 69,
   "metadata": {},
   "outputs": [
    {
     "name": "stdout",
     "output_type": "stream",
     "text": [
      "42647106.166666664 - 1076.934072266543\n"
     ]
    }
   ],
   "source": [
    "print(df_resultados_models['tonelaje_segun_computadora_rnn+1'].sum(), \"-\" , df_resultados_models['productividad_operativa_acarreo_tn_h_rnn+1'].mean())"
   ]
  },
  {
   "cell_type": "markdown",
   "metadata": {},
   "source": [
    "Productividad Acarreo RNN - 1"
   ]
  },
  {
   "cell_type": "code",
   "execution_count": 70,
   "metadata": {},
   "outputs": [
    {
     "name": "stdout",
     "output_type": "stream",
     "text": [
      "30254153.21666666 - 761.0385201729879\n"
     ]
    }
   ],
   "source": [
    "print(df_resultados_models['tonelaje_segun_computadora_rnn-1'].sum(), \"-\" , df_resultados_models['productividad_operativa_acarreo_tn_h_rnn-1'].mean())"
   ]
  },
  {
   "cell_type": "markdown",
   "metadata": {},
   "source": [
    "#### **Productividad Carguio real**"
   ]
  },
  {
   "cell_type": "code",
   "execution_count": 91,
   "metadata": {},
   "outputs": [
    {
     "name": "stdout",
     "output_type": "stream",
     "text": [
      "34558819.7 - 3465.1490004406432\n"
     ]
    }
   ],
   "source": [
    "print(df_resultados_models['tonelaje_segun_computadora'].sum() ,\"-\" ,df_resultados_models['productividad_operativa_carguio_tn_h'].mean())"
   ]
  },
  {
   "cell_type": "markdown",
   "metadata": {},
   "source": [
    "Productividad Carguio reglineal"
   ]
  },
  {
   "cell_type": "code",
   "execution_count": 92,
   "metadata": {},
   "outputs": [
    {
     "name": "stdout",
     "output_type": "stream",
     "text": [
      "37036239.38333333 - 4094.959667051186\n"
     ]
    }
   ],
   "source": [
    "print(df_resultados_models['tonelaje_segun_computadora_rl'].sum(), \"-\" , df_resultados_models['productividad_operativa_carguio_tn_h_rl'].mean())"
   ]
  },
  {
   "cell_type": "markdown",
   "metadata": {},
   "source": [
    "Productividad Carguio reglineal + 1"
   ]
  },
  {
   "cell_type": "code",
   "execution_count": 132,
   "metadata": {},
   "outputs": [
    {
     "name": "stdout",
     "output_type": "stream",
     "text": [
      "43239781.40833333 - 4245.585603572934\n"
     ]
    }
   ],
   "source": [
    "print(df_resultados_models['tonelaje_segun_computadora_rl+1'].sum(), \"-\" , df_resultados_models['productividad_operativa_carguio_tn_h_rl+1'].mean())"
   ]
  },
  {
   "cell_type": "markdown",
   "metadata": {},
   "source": [
    "Productividad Carguio reglineal - 1"
   ]
  },
  {
   "cell_type": "code",
   "execution_count": 133,
   "metadata": {},
   "outputs": [
    {
     "name": "stdout",
     "output_type": "stream",
     "text": [
      "30846828.458333336 - 4033.1817221125316\n"
     ]
    }
   ],
   "source": [
    "print(df_resultados_models['tonelaje_segun_computadora_rl-1'].sum(), \"-\" , df_resultados_models['productividad_operativa_carguio_tn_h_rl-1'].mean())"
   ]
  },
  {
   "cell_type": "markdown",
   "metadata": {},
   "source": [
    "Productividad Carguio arbol de decision"
   ]
  },
  {
   "cell_type": "code",
   "execution_count": 93,
   "metadata": {},
   "outputs": [
    {
     "name": "stdout",
     "output_type": "stream",
     "text": [
      "38029048.70833333 - 4045.5539418843705\n"
     ]
    }
   ],
   "source": [
    "print(df_resultados_models['tonelaje_segun_computadora_dt'].sum(), \"-\" , df_resultados_models['productividad_operativa_carguio_tn_h_dt'].mean())"
   ]
  },
  {
   "cell_type": "markdown",
   "metadata": {},
   "source": [
    "Productividad Carguio arbol de decision + 1"
   ]
  },
  {
   "cell_type": "code",
   "execution_count": 76,
   "metadata": {},
   "outputs": [
    {
     "name": "stdout",
     "output_type": "stream",
     "text": [
      "43063989.20833333 - 4146.737394270419\n"
     ]
    }
   ],
   "source": [
    "print(df_resultados_models['tonelaje_segun_computadora_dt+1'].sum(), \"-\" , df_resultados_models['productividad_operativa_carguio_tn_h_dt+1'].mean())"
   ]
  },
  {
   "cell_type": "markdown",
   "metadata": {},
   "source": [
    "Productividad Carguio arbol de decision - 1"
   ]
  },
  {
   "cell_type": "code",
   "execution_count": 77,
   "metadata": {},
   "outputs": [
    {
     "name": "stdout",
     "output_type": "stream",
     "text": [
      "30671036.258333337 - 3939.398581545325\n"
     ]
    }
   ],
   "source": [
    "print(df_resultados_models['tonelaje_segun_computadora_dt-1'].sum(), \"-\" , df_resultados_models['productividad_operativa_carguio_tn_h_dt-1'].mean())"
   ]
  },
  {
   "cell_type": "markdown",
   "metadata": {},
   "source": [
    "Productividad Carguio Random Forest"
   ]
  },
  {
   "cell_type": "code",
   "execution_count": 94,
   "metadata": {},
   "outputs": [
    {
     "name": "stdout",
     "output_type": "stream",
     "text": [
      "37900278.29166666 - 4035.2917276890425\n"
     ]
    }
   ],
   "source": [
    "print(df_resultados_models['tonelaje_segun_computadora_rf'].sum(), \"-\" , df_resultados_models['productividad_operativa_carguio_tn_h_rforest'].mean())"
   ]
  },
  {
   "cell_type": "markdown",
   "metadata": {},
   "source": [
    "Productividad Carguio Random Forest + 1"
   ]
  },
  {
   "cell_type": "code",
   "execution_count": 79,
   "metadata": {},
   "outputs": [
    {
     "name": "stdout",
     "output_type": "stream",
     "text": [
      "43070115.0 - 4147.310700717395\n"
     ]
    }
   ],
   "source": [
    "print(df_resultados_models['tonelaje_segun_computadora_rf+1'].sum(), \"-\" , df_resultados_models['productividad_operativa_carguio_tn_h_rforest+1'].mean())"
   ]
  },
  {
   "cell_type": "markdown",
   "metadata": {},
   "source": [
    "Productividad Carguio Random Forest - 1"
   ]
  },
  {
   "cell_type": "code",
   "execution_count": 80,
   "metadata": {},
   "outputs": [
    {
     "name": "stdout",
     "output_type": "stream",
     "text": [
      "30677162.05 - 3940.097931744574\n"
     ]
    }
   ],
   "source": [
    "print(df_resultados_models['tonelaje_segun_computadora_rf-1'].sum(), \"-\" , df_resultados_models['productividad_operativa_carguio_tn_h_rforest-1'].mean())"
   ]
  },
  {
   "cell_type": "markdown",
   "metadata": {},
   "source": [
    "Productividad Carguio XGB"
   ]
  },
  {
   "cell_type": "code",
   "execution_count": 163,
   "metadata": {},
   "outputs": [
    {
     "name": "stdout",
     "output_type": "stream",
     "text": [
      "36718764.88333333 - 3905.0054282011965\n"
     ]
    }
   ],
   "source": [
    "print(df_resultados_models['tonelaje_segun_computadora_xgb'].sum(), \"-\" , df_resultados_models['productividad_operativa_carguio_tn_h_xgb'].mean())"
   ]
  },
  {
   "cell_type": "markdown",
   "metadata": {},
   "source": [
    "Productividad Carguio XGB + 1"
   ]
  },
  {
   "cell_type": "code",
   "execution_count": 156,
   "metadata": {},
   "outputs": [
    {
     "name": "stdout",
     "output_type": "stream",
     "text": [
      "42915241.358333334 - 4117.344677305586\n"
     ]
    }
   ],
   "source": [
    "print(df_resultados_models['tonelaje_segun_computadora_xgb+1'].sum(), \"-\" , df_resultados_models['productividad_operativa_carguio_tn_h_xgb+1'].mean())"
   ]
  },
  {
   "cell_type": "markdown",
   "metadata": {},
   "source": [
    "Productividad Carguio XGB - 1"
   ]
  },
  {
   "cell_type": "code",
   "execution_count": 158,
   "metadata": {},
   "outputs": [
    {
     "name": "stdout",
     "output_type": "stream",
     "text": [
      "30522288.408333335 - 3881.264088824969\n"
     ]
    }
   ],
   "source": [
    "print(df_resultados_models['tonelaje_segun_computadora_xgb-1'].sum(), \"-\" , df_resultados_models['productividad_operativa_carguio_tn_h_xgb-1'].mean())"
   ]
  },
  {
   "cell_type": "markdown",
   "metadata": {},
   "source": [
    "Productividad Carguio RNN"
   ]
  },
  {
   "cell_type": "code",
   "execution_count": 96,
   "metadata": {},
   "outputs": [
    {
     "name": "stdout",
     "output_type": "stream",
     "text": [
      "37494234.358333334 - 3982.0618084991347\n"
     ]
    }
   ],
   "source": [
    "print(df_resultados_models['tonelaje_segun_computadora_rnn'].sum(), \"-\" , df_resultados_models['productividad_operativa_carguio_tn_h_rnn'].mean())"
   ]
  },
  {
   "cell_type": "markdown",
   "metadata": {},
   "source": [
    "Productividad Carguio RNN + 1"
   ]
  },
  {
   "cell_type": "code",
   "execution_count": 85,
   "metadata": {},
   "outputs": [
    {
     "name": "stdout",
     "output_type": "stream",
     "text": [
      "42647106.166666664 - 4101.08640127668\n"
     ]
    }
   ],
   "source": [
    "print(df_resultados_models['tonelaje_segun_computadora_rnn+1'].sum(), \"-\" , df_resultados_models['productividad_operativa_carguio_tn_h_rnn+1'].mean())"
   ]
  },
  {
   "cell_type": "markdown",
   "metadata": {},
   "source": [
    "Productividad Carguio RNN - 1"
   ]
  },
  {
   "cell_type": "code",
   "execution_count": 86,
   "metadata": {},
   "outputs": [
    {
     "name": "stdout",
     "output_type": "stream",
     "text": [
      "30254153.21666666 - 3866.18617116969\n"
     ]
    }
   ],
   "source": [
    "print(df_resultados_models['tonelaje_segun_computadora_rnn-1'].sum(), \"-\" , df_resultados_models['productividad_operativa_carguio_tn_h_rnn-1'].mean())"
   ]
  },
  {
   "cell_type": "markdown",
   "metadata": {},
   "source": [
    "#### 8.2 Productividad total (Sumatoria[toneladas]/Sumatoria[tiempos_readys])"
   ]
  },
  {
   "cell_type": "markdown",
   "metadata": {},
   "source": [
    "#### **Productividad Acarreo - Real**"
   ]
  },
  {
   "cell_type": "code",
   "execution_count": 164,
   "metadata": {},
   "outputs": [],
   "source": [
    "sumatoria_toneladas_real = df_resultados_models['tonelaje_segun_computadora'].sum()\n",
    "#--------------------------------------------------------------------------------------------------------------------------------------------------------------------------\n",
    "#sumatoria_toneladas_rl = df_resultados_models['tonelaje_segun_computadora_rl'].sum()\n",
    "\n",
    "# sumatoria_toneladas_rl_mas1 = df_resultados_models['tonelaje_segun_computadora_rl+1'].sum()\n",
    "\n",
    "# sumatoria_toneladas_rl_menos1 = df_resultados_models['tonelaje_segun_computadora_rl-1'].sum()\n",
    "#--------------------------------------------------------------------------------------------------------------------------------------------------------------------------\n",
    "# sumatoria_toneladas_dt = df_resultados_models['tonelaje_segun_computadora_dt'].sum()\n",
    "\n",
    "# # sumatoria_toneladas_dt_mas1 = df_resultados_models['tonelaje_segun_computadora_dt+1'].sum()\n",
    "\n",
    "# # sumatoria_toneladas_dt_menos1 = df_resultados_models['tonelaje_segun_computadora_dt-1'].sum()\n",
    "# #--------------------------------------------------------------------------------------------------------------------------------------------------------------------------\n",
    "# sumatoria_toneladas_rf = df_resultados_models['tonelaje_segun_computadora_rf'].sum()\n",
    "\n",
    "# sumatoria_toneladas_rf_mas1 = df_resultados_models['tonelaje_segun_computadora_rf+1'].sum()\n",
    "\n",
    "# sumatoria_toneladas_rf_menos1 = df_resultados_models['tonelaje_segun_computadora_rf-1'].sum()\n",
    "#--------------------------------------------------------------------------------------------------------------------------------------------------------------------------\n",
    "sumatoria_toneladas_xgb = df_resultados_models['tonelaje_segun_computadora_xgb'].sum()\n",
    "\n",
    "# sumatoria_toneladas_xgb_mas1 = df_resultados_models['tonelaje_segun_computadora_xgb+1'].sum()\n",
    "\n",
    "# sumatoria_toneladas_xgb_menos1 = df_resultados_models['tonelaje_segun_computadora_xgb-1'].sum()\n",
    "#--------------------------------------------------------------------------------------------------------------------------------------------------------------------------\n",
    "#sumatoria_toneladas_rnn = df_resultados_models['tonelaje_segun_computadora_rnn'].sum()\n",
    "\n",
    "# sumatoria_toneladas_rnn_mas1 = df_resultados_models['tonelaje_segun_computadora_rnn+1'].sum()\n",
    "\n",
    "# sumatoria_toneladas_rnn_menos1 = df_resultados_models['tonelaje_segun_computadora_rnn-1'].sum()"
   ]
  },
  {
   "cell_type": "code",
   "execution_count": 165,
   "metadata": {},
   "outputs": [],
   "source": [
    "# Calcula la sumatoria del denominador (tiempo)\n",
    "sumatoria_denominador_tiempos_readys_real = (\n",
    "    df_resultados_models['tiempo_ready_llegada_esperando'].sum() +\n",
    "    df_resultados_models['tiempo_ready_esperando_cuadra'].sum() +\n",
    "    df_resultados_models['tiempo_ready_cuadra_cuadrado'].sum() +\n",
    "    df_resultados_models['tiempo_ready_cuadrado_cargado'].sum() +\n",
    "    df_resultados_models['tiempo_ready_carga_acarreo'].sum() +\n",
    "    df_resultados_models['tiempo_ready_acarreo_cola'].sum() +\n",
    "    df_resultados_models['tiempo_ready_cola_retro'].sum() +\n",
    "    df_resultados_models['tiempo_ready_retro_listo'].sum() +\n",
    "    df_resultados_models['tiempo_ready_listo_descarga'].sum() +\n",
    "    df_resultados_models['tiempo_ready_descarga_viajandovacio'].sum()\n",
    ")\n",
    "\n",
    "# Convierte la sumatoria del denominador de segundos a horas\n",
    "sumatoria_denominador_tiempos_readys_real_horas = sumatoria_denominador_tiempos_readys_real / 3600"
   ]
  },
  {
   "cell_type": "markdown",
   "metadata": {},
   "source": [
    "Productividad Acarreo Real"
   ]
  },
  {
   "cell_type": "code",
   "execution_count": 166,
   "metadata": {},
   "outputs": [
    {
     "name": "stdout",
     "output_type": "stream",
     "text": [
      "Productividad Operativa Acarreo Real Total 783.4524594370185\n"
     ]
    }
   ],
   "source": [
    "# Calcula la productividad operativa acarreo real total\n",
    "productividad_operativa_acarreo_real_total = sumatoria_toneladas_real / sumatoria_denominador_tiempos_readys_real_horas\n",
    "\n",
    "print(\"Productividad Operativa Acarreo Real Total\", productividad_operativa_acarreo_real_total)"
   ]
  },
  {
   "cell_type": "markdown",
   "metadata": {},
   "source": [
    "Productividad Acarreo - Modelo RLineal"
   ]
  },
  {
   "cell_type": "code",
   "execution_count": 100,
   "metadata": {},
   "outputs": [
    {
     "name": "stdout",
     "output_type": "stream",
     "text": [
      "Productividad Operativa Acarreo RLineal Total 839.6158516134353\n"
     ]
    }
   ],
   "source": [
    "# Calcula la productividad operativa acarreo real total\n",
    "productividad_operativa_acarreo_rl_total = sumatoria_toneladas_rl / sumatoria_denominador_tiempos_readys_real_horas\n",
    "\n",
    "print(\"Productividad Operativa Acarreo RLineal Total\", productividad_operativa_acarreo_rl_total)"
   ]
  },
  {
   "cell_type": "markdown",
   "metadata": {},
   "source": [
    "Productividad Acarreo - Modelo RLineal + 1"
   ]
  },
  {
   "cell_type": "code",
   "execution_count": 139,
   "metadata": {},
   "outputs": [
    {
     "name": "stdout",
     "output_type": "stream",
     "text": [
      "Productividad Operativa Acarreo RLineal Total 980.2508703697949\n"
     ]
    }
   ],
   "source": [
    "# Calcula la productividad operativa acarreo real total\n",
    "productividad_operativa_acarreo_rl_mas1_total = sumatoria_toneladas_rl_mas1 / sumatoria_denominador_tiempos_readys_real_horas\n",
    "\n",
    "print(\"Productividad Operativa Acarreo RLineal Total\", productividad_operativa_acarreo_rl_mas1_total)"
   ]
  },
  {
   "cell_type": "markdown",
   "metadata": {},
   "source": [
    "Productividad Acarreo - Modelo RLineal - 1"
   ]
  },
  {
   "cell_type": "code",
   "execution_count": 140,
   "metadata": {},
   "outputs": [
    {
     "name": "stdout",
     "output_type": "stream",
     "text": [
      "Productividad Operativa Acarreo RLineal Total 699.3011865365606\n"
     ]
    }
   ],
   "source": [
    "# Calcula la productividad operativa acarreo real total\n",
    "productividad_operativa_acarreo_rl_menos1_total = sumatoria_toneladas_rl_menos1 / sumatoria_denominador_tiempos_readys_real_horas\n",
    "\n",
    "print(\"Productividad Operativa Acarreo RLineal Total\", productividad_operativa_acarreo_rl_menos1_total)"
   ]
  },
  {
   "cell_type": "markdown",
   "metadata": {},
   "source": [
    "Productividad Acarreo - Modelo Arbol de decision"
   ]
  },
  {
   "cell_type": "code",
   "execution_count": 101,
   "metadata": {},
   "outputs": [
    {
     "name": "stdout",
     "output_type": "stream",
     "text": [
      "Productividad Operativa Acarreo Arbol Decision Total 862.1229544073208\n"
     ]
    }
   ],
   "source": [
    "# Calcula la productividad operativa acarreo real total\n",
    "productividad_operativa_acarreo_dt_total = sumatoria_toneladas_dt / sumatoria_denominador_tiempos_readys_real_horas\n",
    "\n",
    "print(\"Productividad Operativa Acarreo Arbol Decision Total\", productividad_operativa_acarreo_dt_total)"
   ]
  },
  {
   "cell_type": "markdown",
   "metadata": {},
   "source": [
    "Productividad Acarreo - Modelo Arbol de decision + 1"
   ]
  },
  {
   "cell_type": "code",
   "execution_count": 94,
   "metadata": {},
   "outputs": [
    {
     "name": "stdout",
     "output_type": "stream",
     "text": [
      "Productividad Operativa Acarreo Arbol Decision Total 976.2656407631297\n"
     ]
    }
   ],
   "source": [
    "# Calcula la productividad operativa acarreo real total\n",
    "productividad_operativa_acarreo_dt_mas1_total = sumatoria_toneladas_dt_mas1 / sumatoria_denominador_tiempos_readys_real_horas\n",
    "\n",
    "print(\"Productividad Operativa Acarreo Arbol Decision Total\", productividad_operativa_acarreo_dt_mas1_total)"
   ]
  },
  {
   "cell_type": "markdown",
   "metadata": {},
   "source": [
    "Productividad Acarreo - Modelo Arbol de decision - 1"
   ]
  },
  {
   "cell_type": "code",
   "execution_count": 95,
   "metadata": {},
   "outputs": [
    {
     "name": "stdout",
     "output_type": "stream",
     "text": [
      "Productividad Operativa Acarreo Arbol Decision Total 695.3159569298955\n"
     ]
    }
   ],
   "source": [
    "# Calcula la productividad operativa acarreo real total\n",
    "productividad_operativa_acarreo_dt_menos1_total = sumatoria_toneladas_dt_menos1 / sumatoria_denominador_tiempos_readys_real_horas\n",
    "\n",
    "print(\"Productividad Operativa Acarreo Arbol Decision Total\", productividad_operativa_acarreo_dt_menos1_total)"
   ]
  },
  {
   "cell_type": "markdown",
   "metadata": {},
   "source": [
    "Productividad Acarreo - Random Forest"
   ]
  },
  {
   "cell_type": "code",
   "execution_count": 102,
   "metadata": {},
   "outputs": [
    {
     "name": "stdout",
     "output_type": "stream",
     "text": [
      "Productividad Operativa Acarreo Arbol Decision Total 859.2037140942543\n"
     ]
    }
   ],
   "source": [
    "# Calcula la productividad operativa acarreo real total\n",
    "productividad_operativa_acarreo_rf_total = sumatoria_toneladas_rf / sumatoria_denominador_tiempos_readys_real_horas\n",
    "\n",
    "print(\"Productividad Operativa Acarreo Arbol Decision Total\", productividad_operativa_acarreo_rf_total)"
   ]
  },
  {
   "cell_type": "markdown",
   "metadata": {},
   "source": [
    "Productividad Acarreo - Modelo Random Forest + 1"
   ]
  },
  {
   "cell_type": "code",
   "execution_count": 97,
   "metadata": {},
   "outputs": [
    {
     "name": "stdout",
     "output_type": "stream",
     "text": [
      "Productividad Operativa Acarreo Arbol Decision Total 976.4045131722257\n"
     ]
    }
   ],
   "source": [
    "# Calcula la productividad operativa acarreo real total\n",
    "productividad_operativa_acarreo_rf_mas1_total = sumatoria_toneladas_rf_mas1 / sumatoria_denominador_tiempos_readys_real_horas\n",
    "\n",
    "print(\"Productividad Operativa Acarreo Arbol Decision Total\", productividad_operativa_acarreo_rf_mas1_total)"
   ]
  },
  {
   "cell_type": "markdown",
   "metadata": {},
   "source": [
    "Productividad Acarreo - Modelo Random Forest - 1"
   ]
  },
  {
   "cell_type": "code",
   "execution_count": 98,
   "metadata": {},
   "outputs": [
    {
     "name": "stdout",
     "output_type": "stream",
     "text": [
      "Productividad Operativa Acarreo Arbol Decision Total 695.4548293389913\n"
     ]
    }
   ],
   "source": [
    "# Calcula la productividad operativa acarreo real total\n",
    "productividad_operativa_acarreo_rf_menos1_total = sumatoria_toneladas_rf_menos1 / sumatoria_denominador_tiempos_readys_real_horas\n",
    "\n",
    "print(\"Productividad Operativa Acarreo Arbol Decision Total\", productividad_operativa_acarreo_rf_menos1_total)"
   ]
  },
  {
   "cell_type": "markdown",
   "metadata": {},
   "source": [
    "Productividad Acarreo - XGB"
   ]
  },
  {
   "cell_type": "code",
   "execution_count": 167,
   "metadata": {},
   "outputs": [
    {
     "name": "stdout",
     "output_type": "stream",
     "text": [
      "Productividad Operativa Acarreo Arbol Decision Total 832.4186677977642\n"
     ]
    }
   ],
   "source": [
    "# Calcula la productividad operativa acarreo real total\n",
    "productividad_operativa_acarreo_xgb_total = sumatoria_toneladas_xgb / sumatoria_denominador_tiempos_readys_real_horas\n",
    "\n",
    "print(\"Productividad Operativa Acarreo Arbol Decision Total\", productividad_operativa_acarreo_xgb_total)"
   ]
  },
  {
   "cell_type": "markdown",
   "metadata": {},
   "source": [
    "Productividad Acarreo - Modelo XGB + 1"
   ]
  },
  {
   "cell_type": "code",
   "execution_count": 162,
   "metadata": {},
   "outputs": [
    {
     "name": "stdout",
     "output_type": "stream",
     "text": [
      "Productividad Operativa Acarreo Arbol Decision Total 972.8935097143814\n"
     ]
    }
   ],
   "source": [
    "# Calcula la productividad operativa acarreo real total\n",
    "productividad_operativa_acarreo_xgb_mas1_total = sumatoria_toneladas_xgb_mas1 / sumatoria_denominador_tiempos_readys_real_horas\n",
    "\n",
    "print(\"Productividad Operativa Acarreo Arbol Decision Total\", productividad_operativa_acarreo_xgb_mas1_total)"
   ]
  },
  {
   "cell_type": "markdown",
   "metadata": {},
   "source": [
    "Productividad Acarreo - Modelo XGB - 1"
   ]
  },
  {
   "cell_type": "code",
   "execution_count": 101,
   "metadata": {},
   "outputs": [
    {
     "name": "stdout",
     "output_type": "stream",
     "text": [
      "Productividad Operativa Acarreo Arbol Decision Total 691.249558483403\n"
     ]
    }
   ],
   "source": [
    "# Calcula la productividad operativa acarreo real total\n",
    "productividad_operativa_acarreo_xgb_menos1_total = sumatoria_toneladas_xgb_menos1 / sumatoria_denominador_tiempos_readys_real_horas\n",
    "\n",
    "print(\"Productividad Operativa Acarreo Arbol Decision Total\", productividad_operativa_acarreo_xgb_menos1_total)"
   ]
  },
  {
   "cell_type": "markdown",
   "metadata": {},
   "source": [
    "Productividad Acarreo - RNN (Redes Neuronales LSTM)"
   ]
  },
  {
   "cell_type": "code",
   "execution_count": 104,
   "metadata": {},
   "outputs": [
    {
     "name": "stdout",
     "output_type": "stream",
     "text": [
      "Productividad Operativa Acarreo Arbol Decision Total 849.9986509303213\n"
     ]
    }
   ],
   "source": [
    "# Calcula la productividad operativa acarreo real total\n",
    "productividad_operativa_acarreo_rnn_total = sumatoria_toneladas_rnn / sumatoria_denominador_tiempos_readys_real_horas\n",
    "\n",
    "print(\"Productividad Operativa Acarreo Arbol Decision Total\", productividad_operativa_acarreo_rnn_total)"
   ]
  },
  {
   "cell_type": "markdown",
   "metadata": {},
   "source": [
    "Productividad Acarreo - Modelo RNN + 1"
   ]
  },
  {
   "cell_type": "code",
   "execution_count": 103,
   "metadata": {},
   "outputs": [
    {
     "name": "stdout",
     "output_type": "stream",
     "text": [
      "Productividad Operativa Acarreo Arbol Decision Total 966.8148537534295\n"
     ]
    }
   ],
   "source": [
    "# Calcula la productividad operativa acarreo real total\n",
    "productividad_operativa_acarreo_rnn_mas1_total = sumatoria_toneladas_rnn_mas1 / sumatoria_denominador_tiempos_readys_real_horas\n",
    "\n",
    "print(\"Productividad Operativa Acarreo Arbol Decision Total\", productividad_operativa_acarreo_rnn_mas1_total)"
   ]
  },
  {
   "cell_type": "markdown",
   "metadata": {},
   "source": [
    "Productividad Acarreo - Modelo RNN - 1"
   ]
  },
  {
   "cell_type": "code",
   "execution_count": 104,
   "metadata": {},
   "outputs": [
    {
     "name": "stdout",
     "output_type": "stream",
     "text": [
      "Productividad Operativa Acarreo Arbol Decision Total 685.865169920195\n"
     ]
    }
   ],
   "source": [
    "# Calcula la productividad operativa acarreo real total\n",
    "productividad_operativa_acarreo_rnn_menos1_total = sumatoria_toneladas_rnn_menos1 / sumatoria_denominador_tiempos_readys_real_horas\n",
    "\n",
    "print(\"Productividad Operativa Acarreo Arbol Decision Total\", productividad_operativa_acarreo_rnn_menos1_total)"
   ]
  },
  {
   "cell_type": "markdown",
   "metadata": {},
   "source": [
    "### **Productividad Carguio - Real**"
   ]
  },
  {
   "cell_type": "code",
   "execution_count": 105,
   "metadata": {},
   "outputs": [],
   "source": [
    "# Calcula la sumatoria del denominador (tiempo)\n",
    "sumatoria_denominador_tiempos_readys_real_carguio = (\n",
    "    df_resultados_models['tiempo_ready_cargando_pala'].sum() +\n",
    "    df_resultados_models['tiempo_ready_esperando_pala'].sum()\n",
    ")\n",
    "\n",
    "# Convierte la sumatoria del denominador de segundos a horas\n",
    "sumatoria_denominador_tiempos_readys_real_carguio_horas = sumatoria_denominador_tiempos_readys_real_carguio / 3600\n",
    "\n",
    "\n",
    "# Calcula la sumatoria del denominador (tiempo)\n",
    "sumatoria_denominador_tiempos_readys_real_carguio_mas1 = (\n",
    "    df_resultados_models['tiempo_ready_cargando_pala_rl+1'].sum() +\n",
    "    df_resultados_models['tiempo_ready_esperando_pala'].sum()\n",
    ")\n",
    "\n",
    "# Convierte la sumatoria del denominador de segundos a horas\n",
    "sumatoria_denominador_tiempos_readys_real_carguio_horas_mas1 = sumatoria_denominador_tiempos_readys_real_carguio_mas1 / 3600\n",
    "\n",
    "# Calcula la sumatoria del denominador (tiempo)\n",
    "sumatoria_denominador_tiempos_readys_real_carguio_menos1 = (\n",
    "    df_resultados_models['tiempo_ready_cargando_pala_rl-1'].sum() +\n",
    "    df_resultados_models['tiempo_ready_esperando_pala'].sum()\n",
    ")\n",
    "\n",
    "# Convierte la sumatoria del denominador de segundos a horas\n",
    "sumatoria_denominador_tiempos_readys_real_carguio_horas_menos1 = sumatoria_denominador_tiempos_readys_real_carguio_menos1 / 3600"
   ]
  },
  {
   "cell_type": "markdown",
   "metadata": {},
   "source": [
    "Productividad Carguio - Real"
   ]
  },
  {
   "cell_type": "code",
   "execution_count": 106,
   "metadata": {},
   "outputs": [
    {
     "name": "stdout",
     "output_type": "stream",
     "text": [
      "Productividad Operativa Acarreo Real Total 2348.416845110477\n"
     ]
    }
   ],
   "source": [
    "# Calcula la productividad operativa acarreo real total\n",
    "productividad_operativa_carguio_real_total = sumatoria_toneladas_real / sumatoria_denominador_tiempos_readys_real_carguio_horas\n",
    "\n",
    "print(\"Productividad Operativa Acarreo Real Total\", productividad_operativa_carguio_real_total)"
   ]
  },
  {
   "cell_type": "markdown",
   "metadata": {},
   "source": [
    "Productividad Carguio - RegLineal"
   ]
  },
  {
   "cell_type": "code",
   "execution_count": 107,
   "metadata": {},
   "outputs": [
    {
     "name": "stdout",
     "output_type": "stream",
     "text": [
      "Productividad Operativa Carguio Real Total 2516.7679105477105\n"
     ]
    }
   ],
   "source": [
    "# Calcula la productividad operativa acarreo real total\n",
    "productividad_operativa_carguio_rl_total = sumatoria_toneladas_rl / sumatoria_denominador_tiempos_readys_real_carguio_horas\n",
    "\n",
    "print(\"Productividad Operativa Carguio Real Total\", productividad_operativa_carguio_rl_total)"
   ]
  },
  {
   "cell_type": "markdown",
   "metadata": {},
   "source": [
    "Productividad Carguio - RegLineal + 1"
   ]
  },
  {
   "cell_type": "code",
   "execution_count": 144,
   "metadata": {},
   "outputs": [
    {
     "name": "stdout",
     "output_type": "stream",
     "text": [
      "Productividad Operativa Carguio Real Total 2730.7723774756196\n"
     ]
    }
   ],
   "source": [
    "# Calcula la productividad operativa acarreo real total\n",
    "productividad_operativa_carguio_rl_mas1_total = sumatoria_toneladas_rl_mas1 / sumatoria_denominador_tiempos_readys_real_carguio_horas_mas1\n",
    "\n",
    "print(\"Productividad Operativa Carguio Real Total\", productividad_operativa_carguio_rl_mas1_total)"
   ]
  },
  {
   "cell_type": "markdown",
   "metadata": {},
   "source": [
    "Productividad Carguio - RegLineal - 1"
   ]
  },
  {
   "cell_type": "code",
   "execution_count": 145,
   "metadata": {},
   "outputs": [
    {
     "name": "stdout",
     "output_type": "stream",
     "text": [
      "Productividad Operativa Carguio Real Total 2268.596014301749\n"
     ]
    }
   ],
   "source": [
    "# Calcula la productividad operativa acarreo real total\n",
    "productividad_operativa_carguio_rl_menos1_total = sumatoria_toneladas_rl_menos1 / sumatoria_denominador_tiempos_readys_real_carguio_horas_menos1\n",
    "\n",
    "print(\"Productividad Operativa Carguio Real Total\", productividad_operativa_carguio_rl_menos1_total)"
   ]
  },
  {
   "cell_type": "markdown",
   "metadata": {},
   "source": [
    "Productividad Carguio - Arbol Decision"
   ]
  },
  {
   "cell_type": "code",
   "execution_count": 108,
   "metadata": {},
   "outputs": [
    {
     "name": "stdout",
     "output_type": "stream",
     "text": [
      "Productividad Operativa Carguio Real Total 2584.2334710920927\n"
     ]
    }
   ],
   "source": [
    "# Calcula la productividad operativa acarreo real total\n",
    "productividad_operativa_carguio_dt_total = sumatoria_toneladas_dt / sumatoria_denominador_tiempos_readys_real_carguio_horas\n",
    "\n",
    "print(\"Productividad Operativa Carguio Real Total\", productividad_operativa_carguio_dt_total)"
   ]
  },
  {
   "cell_type": "markdown",
   "metadata": {},
   "source": [
    "Productividad Carguio - Arbol Decision + 1"
   ]
  },
  {
   "cell_type": "code",
   "execution_count": 111,
   "metadata": {},
   "outputs": [
    {
     "name": "stdout",
     "output_type": "stream",
     "text": [
      "Productividad Operativa Carguio Real Total 2719.6703675139515\n"
     ]
    }
   ],
   "source": [
    "# Calcula la productividad operativa acarreo real total\n",
    "productividad_operativa_carguio_dt_mas1_total = sumatoria_toneladas_dt_mas1 / sumatoria_denominador_tiempos_readys_real_carguio_horas_mas1\n",
    "\n",
    "print(\"Productividad Operativa Carguio Real Total\", productividad_operativa_carguio_dt_mas1_total)"
   ]
  },
  {
   "cell_type": "markdown",
   "metadata": {},
   "source": [
    "Productividad Carguio - Arbol Decision - 1"
   ]
  },
  {
   "cell_type": "code",
   "execution_count": 112,
   "metadata": {},
   "outputs": [
    {
     "name": "stdout",
     "output_type": "stream",
     "text": [
      "Productividad Operativa Carguio Real Total 2255.6675706270935\n"
     ]
    }
   ],
   "source": [
    "# Calcula la productividad operativa acarreo real total\n",
    "productividad_operativa_carguio_dt_menos1_total = sumatoria_toneladas_dt_menos1 / sumatoria_denominador_tiempos_readys_real_carguio_horas_menos1\n",
    "\n",
    "print(\"Productividad Operativa Carguio Real Total\", productividad_operativa_carguio_dt_menos1_total)"
   ]
  },
  {
   "cell_type": "markdown",
   "metadata": {},
   "source": [
    "Productividad Carguio - Random Forest"
   ]
  },
  {
   "cell_type": "code",
   "execution_count": 109,
   "metadata": {},
   "outputs": [
    {
     "name": "stdout",
     "output_type": "stream",
     "text": [
      "Productividad Operativa Carguio Real Total 2575.482980818494\n"
     ]
    }
   ],
   "source": [
    "# Calcula la productividad operativa acarreo real total\n",
    "productividad_operativa_carguio_rf_total = sumatoria_toneladas_rf / sumatoria_denominador_tiempos_readys_real_carguio_horas\n",
    "\n",
    "print(\"Productividad Operativa Carguio Real Total\", productividad_operativa_carguio_rf_total)"
   ]
  },
  {
   "cell_type": "markdown",
   "metadata": {},
   "source": [
    "Productividad Carguio - Random Forest + 1"
   ]
  },
  {
   "cell_type": "code",
   "execution_count": 114,
   "metadata": {},
   "outputs": [
    {
     "name": "stdout",
     "output_type": "stream",
     "text": [
      "Productividad Operativa Carguio Real Total 2720.05723678407\n"
     ]
    }
   ],
   "source": [
    "# Calcula la productividad operativa acarreo real total\n",
    "productividad_operativa_carguio_rf_mas1_total = sumatoria_toneladas_rf_mas1 / sumatoria_denominador_tiempos_readys_real_carguio_horas_mas1\n",
    "\n",
    "print(\"Productividad Operativa Carguio Real Total\", productividad_operativa_carguio_rf_mas1_total)"
   ]
  },
  {
   "cell_type": "markdown",
   "metadata": {},
   "source": [
    "Productividad Carguio - Random Forest - 1"
   ]
  },
  {
   "cell_type": "code",
   "execution_count": 115,
   "metadata": {},
   "outputs": [
    {
     "name": "stdout",
     "output_type": "stream",
     "text": [
      "Productividad Operativa Carguio Real Total 2255.6675706270935\n"
     ]
    }
   ],
   "source": [
    "# Calcula la productividad operativa acarreo real total\n",
    "productividad_operativa_carguio_dt_menos1_total = sumatoria_toneladas_dt_menos1 / sumatoria_denominador_tiempos_readys_real_carguio_horas_menos1\n",
    "\n",
    "print(\"Productividad Operativa Carguio Real Total\", productividad_operativa_carguio_dt_menos1_total)"
   ]
  },
  {
   "cell_type": "markdown",
   "metadata": {},
   "source": [
    "Productividad Carguio - XGB"
   ]
  },
  {
   "cell_type": "code",
   "execution_count": 110,
   "metadata": {},
   "outputs": [
    {
     "name": "stdout",
     "output_type": "stream",
     "text": [
      "Productividad Operativa Carguio Real Total 2495.1941858034875\n"
     ]
    }
   ],
   "source": [
    "# Calcula la productividad operativa acarreo real total\n",
    "productividad_operativa_carguio_xgb_total = sumatoria_toneladas_xgb / sumatoria_denominador_tiempos_readys_real_carguio_horas\n",
    "\n",
    "print(\"Productividad Operativa Carguio Real Total\", productividad_operativa_carguio_xgb_total)"
   ]
  },
  {
   "cell_type": "markdown",
   "metadata": {},
   "source": [
    "Productividad Carguio - XGB + 1"
   ]
  },
  {
   "cell_type": "code",
   "execution_count": 165,
   "metadata": {},
   "outputs": [
    {
     "name": "stdout",
     "output_type": "stream",
     "text": [
      "Productividad Operativa Carguio Real Total 2710.2763209494474\n"
     ]
    }
   ],
   "source": [
    "# Calcula la productividad operativa acarreo real total\n",
    "productividad_operativa_carguio_xgb_mas1_total = sumatoria_toneladas_xgb_mas1 / sumatoria_denominador_tiempos_readys_real_carguio_horas_mas1\n",
    "\n",
    "print(\"Productividad Operativa Carguio Real Total\", productividad_operativa_carguio_xgb_mas1_total)"
   ]
  },
  {
   "cell_type": "markdown",
   "metadata": {},
   "source": [
    "Productividad Carguio - XGB - 1"
   ]
  },
  {
   "cell_type": "code",
   "execution_count": 166,
   "metadata": {},
   "outputs": [
    {
     "name": "stdout",
     "output_type": "stream",
     "text": [
      "Productividad Operativa Carguio Real Total 2244.7280738777995\n"
     ]
    }
   ],
   "source": [
    "# Calcula la productividad operativa acarreo real total\n",
    "productividad_operativa_carguio_xgb_menos1_total = sumatoria_toneladas_xgb_menos1 / sumatoria_denominador_tiempos_readys_real_carguio_horas_menos1\n",
    "\n",
    "print(\"Productividad Operativa Carguio Real Total\", productividad_operativa_carguio_xgb_menos1_total)"
   ]
  },
  {
   "cell_type": "markdown",
   "metadata": {},
   "source": [
    "Productividad Carguio - Redes Neuronales LSTM"
   ]
  },
  {
   "cell_type": "code",
   "execution_count": 111,
   "metadata": {},
   "outputs": [
    {
     "name": "stdout",
     "output_type": "stream",
     "text": [
      "Productividad Operativa Carguio Real Total 2547.8905913453405\n"
     ]
    }
   ],
   "source": [
    "# Calcula la productividad operativa acarreo real total\n",
    "productividad_operativa_carguio_rnn_total = sumatoria_toneladas_rnn / sumatoria_denominador_tiempos_readys_real_carguio_horas\n",
    "\n",
    "print(\"Productividad Operativa Carguio Real Total\", productividad_operativa_carguio_rnn_total)"
   ]
  },
  {
   "cell_type": "markdown",
   "metadata": {},
   "source": [
    "Productividad Carguio - RNN + 1"
   ]
  },
  {
   "cell_type": "code",
   "execution_count": 120,
   "metadata": {},
   "outputs": [
    {
     "name": "stdout",
     "output_type": "stream",
     "text": [
      "Productividad Operativa Carguio Real Total 2693.3424662678563\n"
     ]
    }
   ],
   "source": [
    "# Calcula la productividad operativa acarreo real total\n",
    "productividad_operativa_carguio_rnn_mas1_total = sumatoria_toneladas_rnn_mas1 / sumatoria_denominador_tiempos_readys_real_carguio_horas_mas1\n",
    "\n",
    "print(\"Productividad Operativa Carguio Real Total\", productividad_operativa_carguio_rnn_mas1_total)"
   ]
  },
  {
   "cell_type": "markdown",
   "metadata": {},
   "source": [
    "Productividad Carguio - RNN - 1"
   ]
  },
  {
   "cell_type": "code",
   "execution_count": 121,
   "metadata": {},
   "outputs": [
    {
     "name": "stdout",
     "output_type": "stream",
     "text": [
      "Productividad Operativa Carguio Real Total 2225.008366617434\n"
     ]
    }
   ],
   "source": [
    "# Calcula la productividad operativa acarreo real total\n",
    "productividad_operativa_carguio_rnn_menos1_total = sumatoria_toneladas_rnn_menos1 / sumatoria_denominador_tiempos_readys_real_carguio_horas_menos1\n",
    "\n",
    "print(\"Productividad Operativa Carguio Real Total\", productividad_operativa_carguio_rnn_menos1_total)"
   ]
  }
 ],
 "metadata": {
  "kernelspec": {
   "display_name": "envbryan",
   "language": "python",
   "name": "python3"
  },
  "language_info": {
   "codemirror_mode": {
    "name": "ipython",
    "version": 3
   },
   "file_extension": ".py",
   "mimetype": "text/x-python",
   "name": "python",
   "nbconvert_exporter": "python",
   "pygments_lexer": "ipython3",
   "version": "3.11.5"
  }
 },
 "nbformat": 4,
 "nbformat_minor": 2
}
